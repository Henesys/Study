{
 "cells": [
  {
   "cell_type": "markdown",
   "metadata": {},
   "source": [
    "# MP1: Marching Squares"
   ]
  },
  {
   "cell_type": "markdown",
   "metadata": {},
   "source": [
    "In this activity, you will implement marching squares to draw 2D contour lines. The algorithm is described in\n",
    "in the Week 3 Lesson enititled Contouring: Marching Squares. You can also refer to the\n",
    "Wikipedia article (http://en.wikipedia.org/wiki/Marching_squares) but you should be aware that article uses different conventions than the lecture.\n",
    "For example, in the Wikipedia page, cells above the threshold are seen as a '1', and cells below are seen as a '0'; and in the 16-case picture, and '1' cells are marked as white, and the '0' cells are marked as black.\n",
    "This is different than almost any textbook presentation on the algorithm, so we'll stick with the lecture conventions.\n",
    "\n",
    "You will also implement and apply a new colormap and interpolation function. \n",
    "\n",
    "By the end of this activity, you should be able to generate an interactive visualization that toggles between the presence of contour lines, the colormap, and the use of interpolation on your contour lines. Your visualization should be able to produce the following images:\n",
    "\n",
    "<table>\n",
    "    <tr>\n",
    "        <td><h3 align=\"center\">Grayscale</h3><img src='grayscale-rough.png' width='300'/></td>\n",
    "        <td><h3 align=\"center\">Plasma</h3><img src='plasma-rough.png' width='300'/></td>\n",
    "        <td><h3 align=\"center\">Plasma with Interpolation</h3><img src='plasma-interpolated.png' width='300'/></td>   \n",
    "    </tr>\n",
    "</table>\n",
    "\n",
    "To simplify the assignment, we have taken care of the plotting required to create the visualization. You are only responsible for implementing the placeholder functions that are defined in Parts 1, 2, 3, and 4."
   ]
  },
  {
   "cell_type": "markdown",
   "metadata": {},
   "source": [
    "Let's start by importing the libraries that we will use in this activity."
   ]
  },
  {
   "cell_type": "code",
   "execution_count": 1,
   "metadata": {},
   "outputs": [],
   "source": [
    "#grade (DO NOT DELETE THIS LINE)\n",
    "import random\n",
    "import numpy as np"
   ]
  },
  {
   "cell_type": "code",
   "execution_count": 2,
   "metadata": {},
   "outputs": [
    {
     "name": "stderr",
     "output_type": "stream",
     "text": [
      "Matplotlib created a temporary config/cache directory at /tmp/matplotlib-4afca__7 because the default path (/tmp/cache/matplotlib) is not a writable directory; it is highly recommended to set the MPLCONFIGDIR environment variable to a writable directory, in particular to speed up the import of Matplotlib and to better support multiprocessing.\n"
     ]
    }
   ],
   "source": [
    "import pylab as plt\n",
    "from matplotlib.widgets import Button\n",
    "from matplotlib.colors import ListedColormap, LinearSegmentedColormap\n",
    "%matplotlib widget"
   ]
  },
  {
   "cell_type": "markdown",
   "metadata": {},
   "source": [
    "We will use a 2-D Gaussian function to generate the grid that we will apply marching squares to."
   ]
  },
  {
   "cell_type": "code",
   "execution_count": 3,
   "metadata": {},
   "outputs": [],
   "source": [
    "def gauss_2d(mu, sigma, size=10):\n",
    "  x, y = np.meshgrid(np.linspace(-1,1,size), np.linspace(-1,1,size))\n",
    "  d    = np.sqrt(x*x+y*y)\n",
    "  g    = np.exp(-( (d-mu)**2 / ( 2.0 * sigma**2 ) ) )\n",
    "  return g"
   ]
  },
  {
   "cell_type": "markdown",
   "metadata": {},
   "source": [
    "The following code constructs the `March` class which uses the functions you will define later on to plot an interactive visualization. This class uses the `matplotlib` library to generate the grid, contour lines, and colormaps.\n",
    "\n",
    "**Do NOT edit this class.** You may read through it for your own edification to understand how the visualization is constructed, but it is not necessary to implement the other functions."
   ]
  },
  {
   "cell_type": "code",
   "execution_count": 4,
   "metadata": {
    "nbgrader": {
     "grade": false,
     "grade_id": "cell-a083618d127ba326",
     "locked": true,
     "schema_version": 3,
     "solution": false,
     "task": false
    }
   },
   "outputs": [],
   "source": [
    "class March(object):\n",
    "    def __init__(self,res=32,thres=0.5,size=320):\n",
    "\n",
    "        #Initialize variables\n",
    "        self.res      = res                      #Number of grid cells per axis\n",
    "        self.thres    = thres                    #Threshold for binarization\n",
    "        self.size     = size                     #Size of image (in pixels)\n",
    "        self.contours = 0                        #Whether we're showing contours (0 = off,  1 = normal, 2 = interpolated)\n",
    "        self.cmap     = self.colorMapGrayscale() #Default grayscale color map\n",
    "        self.cmapi    = 0                        #Index of color map (0 = gray, 1 = plasma, 2 = custom)\n",
    "\n",
    "        #Hardcode some cells to start with to test all cases\n",
    "        self.cells    = gauss_2d(0.5,0.4,self.res)\n",
    "\n",
    "        #Compute other useful variables from grid size\n",
    "        self.step     = self.size // self.res #Spacing between grid lines (in pixels)\n",
    "\n",
    "        #Set up axes\n",
    "        self.fig, self.axes = plt.subplots()\n",
    "        self.axes.set_aspect('equal')\n",
    "        plt.subplots_adjust(bottom=0.2)\n",
    "\n",
    "        #Set up buttons\n",
    "        self.btog = Button(plt.axes([0.61, 0.05, 0.2, 0.075]), 'No Contours')\n",
    "        self.btog.on_clicked(self.toggle_contours)\n",
    "        self.bmap = Button(plt.axes([0.41, 0.05, 0.2, 0.075]), 'Grayscale')\n",
    "        self.bmap.on_clicked(self.toggle_colormap)\n",
    "\n",
    "        #Perform initial drawing\n",
    "        self.redraw()\n",
    "\n",
    "    def show(self):\n",
    "        plt.show()\n",
    "\n",
    "    def update(self):\n",
    "        self.fig.canvas.draw()\n",
    "\n",
    "    def toggle_contours(self,event):\n",
    "        #Toggle whether we draw contours or not\n",
    "        self.contours = (self.contours + 1) % 3\n",
    "        self.redraw()\n",
    "\n",
    "    def toggle_colormap(self,event):\n",
    "        self.cmapi = (self.cmapi+1)%2\n",
    "        if self.cmapi == 0:\n",
    "          self.cmap = self.colorMapGrayscale()\n",
    "          self.bmap.label.set_text(\"Grayscale\")\n",
    "        elif self.cmapi == 1:\n",
    "          self.cmap = colorMapPlasma()\n",
    "          self.bmap.label.set_text(\"Plasma\")\n",
    "        self.redraw()\n",
    "\n",
    "    def redraw(self):\n",
    "        # Regenerate a blank white canvas withou axis lines or tick marks\n",
    "        self.axes.clear()\n",
    "        self.axes.set_yticks([])\n",
    "        self.axes.set_xticks([])\n",
    "        self.axes.set_yticklabels([])\n",
    "        self.axes.set_xticklabels([])\n",
    "\n",
    "        #Invert y axis to match up with array ordering\n",
    "        self.axes.invert_yaxis()\n",
    "\n",
    "        #Draw the image from our img matrix\n",
    "        self.drawImage()\n",
    "        if self.contours == 0:\n",
    "          for i in range(1,self.res): #Draw image grid\n",
    "            self.axes.plot([0,self.size-1], [self.step*i,self.step*i], color='black', linestyle='-', linewidth=1)\n",
    "            self.axes.plot([self.step*i,self.step*i], [0,self.size-1], color='black', linestyle='-', linewidth=1)\n",
    "          self.btog.label.set_text('No Contours')\n",
    "        else:  # Draw contours and contour grid\n",
    "          for i in range(self.res): #Draw contour grid\n",
    "            self.axes.plot([0,self.size-1], [self.step*(i+0.5),self.step*(i+0.5)], color='gray', linestyle='-', linewidth=1)\n",
    "            self.axes.plot([self.step*(i+0.5),self.step*(i+0.5)], [0,self.size-1], color='gray', linestyle='-', linewidth=1)\n",
    "          if self.contours == 1:\n",
    "            self.btog.label.set_text('Rough Contours')\n",
    "            self.drawTableLookupContours()\n",
    "          else:\n",
    "            self.btog.label.set_text('Interp. Contours')\n",
    "            self.drawInterpolatedContours()\n",
    "\n",
    "        #Update the underlying plot\n",
    "        self.update()\n",
    "\n",
    "    def colorMapGrayscale(self):\n",
    "        cdict = {'red':   [[0, 0, 0],\n",
    "                           [1, 1, 1]],\n",
    "                 'green': [[0, 0, 0],\n",
    "                           [1, 1, 1]],\n",
    "                 'blue':  [[0, 0, 0],\n",
    "                           [1, 1, 1]]}\n",
    "        return cdict\n",
    "\n",
    "    def drawImage(self):\n",
    "        newcmp = LinearSegmentedColormap('testCmap', segmentdata=self.cmap, N=256)\n",
    "        self.axes.imshow(gauss_2d(0.5,0.4,self.size),cmap=newcmp)\n",
    "\n",
    "    def drawTableLookupContours(self):\n",
    "        for y,row in enumerate(self.cells):\n",
    "          for x,cell in enumerate(row):\n",
    "            case = getContourCase(y,x,self.thres,self.cells)\n",
    "            self.drawCellContourByCase(y,x,case)\n",
    "\n",
    "    def drawInterpolatedContours(self):\n",
    "        segments = getContourSegments(self.thres,self.cells)\n",
    "        for s in segments:\n",
    "          x1 = self.step*(0.5+s[0][0])\n",
    "          x2 = self.step*(0.5+s[1][0])\n",
    "          y1 = self.step*(0.5+s[0][1])\n",
    "          y2 = self.step*(0.5+s[1][1])\n",
    "          self.axes.plot([x1,x2], [y1,y2], color='green', linestyle='-', linewidth=1)\n",
    "\n",
    "    def drawCellContourByCase(self,yrow,xcol,case):\n",
    "        if case in [0,15]:\n",
    "          return #Nothing to draw for empty cells, completely surrounded cells, or border cells\n",
    "\n",
    "        #Handle saddle points\n",
    "        if case in [5]:\n",
    "          if disambiguateSaddle(yrow,xcol,self.thres,self.cells):\n",
    "            self.drawCellContourByCase(yrow,xcol,2)\n",
    "            self.drawCellContourByCase(yrow,xcol,7)\n",
    "          else:\n",
    "            self.drawCellContourByCase(yrow,xcol,11)\n",
    "            self.drawCellContourByCase(yrow,xcol,14)\n",
    "          return\n",
    "        if case in [10]:\n",
    "          if disambiguateSaddle(yrow,xcol,self.thres,self.cells):\n",
    "            self.drawCellContourByCase(yrow,xcol,11)\n",
    "            self.drawCellContourByCase(yrow,xcol,14)\n",
    "          else:\n",
    "            self.drawCellContourByCase(yrow,xcol,2)\n",
    "            self.drawCellContourByCase(yrow,xcol,7)\n",
    "          return\n",
    "\n",
    "        #Compute coordinates based on case lookup table\n",
    "        s    = self.step\n",
    "        ymin = s*yrow + (0         if case in [4,6,7,8,9,11]   else s//2)\n",
    "        ymax = s*yrow + (self.step if case in [1,2,6,9,13,14]  else s//2)\n",
    "        xmin = s*xcol + (0         if case in [1,3,7,8,12,14]  else s//2)\n",
    "        xmax = s*xcol + (self.step if case in [2,3,4,11,12,13] else s//2)\n",
    "        if case in [2,7,8,13]: #Reverse direction for lines drawn up and right (i.e., x increases while y decreases)\n",
    "          xmin,xmax = xmax,xmin\n",
    "\n",
    "        #Contour lines should be drawn halfway between grid cells, so set an offset\n",
    "        off = s//2\n",
    "        #Smooth contours should have different color\n",
    "        color = 'red' if self.contours == 1 else 'green'\n",
    "        #Actually draw the contour lines\n",
    "        self.axes.plot([xmin+off, xmax+off], [ymin+off, ymax+off], color=color, linestyle='-', linewidth=1)\n",
    "        return"
   ]
  },
  {
   "cell_type": "markdown",
   "metadata": {},
   "source": [
    "## Part 1: Getting the Contour Case\n",
    "\n",
    "The basic idea of marching squares is to \"march\" from one cell to another and classify each cell into a specific contour case, using the values at the corners of the cell. \n",
    "\n",
    "These contour cases will be located in a lookup table consisting of 16 entries. Each entry represents a different contour case (the edges that the contour line intersects) and maps to a unique index. \n",
    "\n",
    "We have already implemented the lookup table in the `March` class, but you will need to build the index for the contouring cells. You can refer to https://en.wikipedia.org/wiki/Marching_squares for how to build a binary index.\n",
    "\n",
    "**Note**: In the Wikipedia page, cells above the threshold are seen as a '1', and cells below are seen as a '0'; and in the 16-case picture, and '1' cells are marked as white, and the '0' cells are marked as black. This mapping is somewhat counter-intuitive, so we will mark '1' cells with black and '0' cells with white. The way of matching colors to cases should be the same. "
   ]
  },
  {
   "cell_type": "markdown",
   "metadata": {},
   "source": [
    "Define the function `getContourCase()` to determine the contour lookup table index for a contouring cell corresponding to a 2x2 block of grid cells specified by `cells`.\n",
    "\n",
    "The parameters of the function are:\n",
    "- `top`: the y-index of the top-left grid cell relative to the contouring cell\n",
    "- `left`: the x-index of the top-left grid cell relative to the contouring cell\n",
    "- `thres`: the threshold/isovalue \n",
    "- `cells`: a 2-D array of grid cells/values\n",
    "\n",
    "This function should return an integer between `0` and `15` inclusive indicating the contouring cell's index in the contouring lookup table. Your function should return `0` any time an out-of-bounds access is encountered. You should not assume the size of the 2D array passed in the `cells` parameter, so your function should handle the general out of bounds case gracefully (don't forget to handle negative out-of-bounds).\n",
    "\n",
    "Note that grid cells are distinct from contouring cells. Contouring cells are denoted using the four surrounding grid cells and they share their index with the top-left grid cell. For example, the contouring cell at (0,2) as denoted by the parameters `top=0, left=2` uses the Gaussian `cells` at (0,2), (1,2), (0,3), and (1,3).  Equivalently, you can think about the 2D array of grid `cells` as a 2D array of vertices for the contouring cells.\n",
    "\n",
    "An illustration of the labeling of the cells is below:\n",
    "\n",
    "|       | Col 0      |Col 1     |Col 2      |Col 3      |\n",
    "| ------------- | ------------- | ------------- | ------------- | ------------- |\n",
    "| Row 0 | 0, 0 | 0, 1 | 0, 2 | 0, 3 |\n",
    "| Row 1 | 1, 0 | 1, 1 | 1, 2 | 1, 3 |\n",
    "| Row 2 | 2, 0 | 2, 1 | 2, 2 | 2, 3 |\n",
    "| Row 3 | 3, 0 | 3, 1 | 3, 2 | 3, 3 |"
   ]
  },
  {
   "cell_type": "code",
   "execution_count": 5,
   "metadata": {
    "nbgrader": {
     "grade": false,
     "grade_id": "getContourCase",
     "locked": false,
     "schema_version": 3,
     "solution": true,
     "task": false
    }
   },
   "outputs": [],
   "source": [
    "#grade (write your code in this cell and DO NOT DELETE THIS LINE)\n",
    "def getContourCase(top,left,thres,cells):\n",
    "    pass"
   ]
  },
  {
   "cell_type": "code",
   "execution_count": 6,
   "metadata": {
    "nbgrader": {
     "grade": true,
     "grade_id": "getContourCase_test",
     "locked": true,
     "points": 5,
     "schema_version": 3,
     "solution": false,
     "task": false
    }
   },
   "outputs": [
    {
     "ename": "AssertionError",
     "evalue": "",
     "output_type": "error",
     "traceback": [
      "\u001b[0;31m---------------------------------------------------------------------------\u001b[0m",
      "\u001b[0;31mAssertionError\u001b[0m                            Traceback (most recent call last)",
      "\u001b[0;32m<ipython-input-6-dde5457f76d6>\u001b[0m in \u001b[0;36m<module>\u001b[0;34m\u001b[0m\n\u001b[1;32m      6\u001b[0m                        \u001b[0;34m[\u001b[0m\u001b[0;36m0.5\u001b[0m\u001b[0;34m,\u001b[0m\u001b[0;36m0.7\u001b[0m\u001b[0;34m,\u001b[0m\u001b[0;36m0.7\u001b[0m\u001b[0;34m,\u001b[0m\u001b[0;36m0.4\u001b[0m\u001b[0;34m]\u001b[0m\u001b[0;34m,\u001b[0m\u001b[0;34m\u001b[0m\u001b[0;34m\u001b[0m\u001b[0m\n\u001b[1;32m      7\u001b[0m                        [0.5,0.7,0.7,0.4]])\n\u001b[0;32m----> 8\u001b[0;31m \u001b[0;32massert\u001b[0m \u001b[0mgetContourCase\u001b[0m\u001b[0;34m(\u001b[0m\u001b[0;36m0\u001b[0m\u001b[0;34m,\u001b[0m\u001b[0;36m0\u001b[0m\u001b[0;34m,\u001b[0m\u001b[0;36m0.5\u001b[0m\u001b[0;34m,\u001b[0m\u001b[0mtest_cases\u001b[0m\u001b[0;34m)\u001b[0m \u001b[0;34m==\u001b[0m \u001b[0;36m15\u001b[0m\u001b[0;34m\u001b[0m\u001b[0;34m\u001b[0m\u001b[0m\n\u001b[0m\u001b[1;32m      9\u001b[0m \u001b[0;32massert\u001b[0m \u001b[0mgetContourCase\u001b[0m\u001b[0;34m(\u001b[0m\u001b[0;36m0\u001b[0m\u001b[0;34m,\u001b[0m\u001b[0;36m2\u001b[0m\u001b[0;34m,\u001b[0m\u001b[0;36m0.5\u001b[0m\u001b[0;34m,\u001b[0m\u001b[0mtest_cases\u001b[0m\u001b[0;34m)\u001b[0m \u001b[0;34m==\u001b[0m \u001b[0;36m13\u001b[0m\u001b[0;34m\u001b[0m\u001b[0;34m\u001b[0m\u001b[0m\n\u001b[1;32m     10\u001b[0m \u001b[0;32massert\u001b[0m \u001b[0mgetContourCase\u001b[0m\u001b[0;34m(\u001b[0m\u001b[0;36m2\u001b[0m\u001b[0;34m,\u001b[0m\u001b[0;36m2\u001b[0m\u001b[0;34m,\u001b[0m\u001b[0;36m0.5\u001b[0m\u001b[0;34m,\u001b[0m\u001b[0mtest_cases\u001b[0m\u001b[0;34m)\u001b[0m \u001b[0;34m==\u001b[0m \u001b[0;36m9\u001b[0m\u001b[0;34m\u001b[0m\u001b[0;34m\u001b[0m\u001b[0m\n",
      "\u001b[0;31mAssertionError\u001b[0m: "
     ]
    }
   ],
   "source": [
    "## Tests for getContourCase() function. \n",
    "### Please DO NOT hard-code the answers as we will also be using hidden test cases when grading your submission.\n",
    "\n",
    "test_cases = np.array([[0.5,0.6,0.6,0.5],\n",
    "                       [0.5,0.7,0.7,0.4],\n",
    "                       [0.5,0.7,0.7,0.4],\n",
    "                       [0.5,0.7,0.7,0.4]])\n",
    "assert getContourCase(0,0,0.5,test_cases) == 15\n",
    "assert getContourCase(0,2,0.5,test_cases) == 13\n",
    "assert getContourCase(2,2,0.5,test_cases) == 9"
   ]
  },
  {
   "cell_type": "markdown",
   "metadata": {},
   "source": [
    "## Part 2: Disambiguating Saddle Points\n",
    "\n",
    "There are some cases, called saddle points, where the contour is ambiguous. In other words, there are multiple edges that can serve as a valid contour for that case. To resolve the ambiguous cases, you should average the function values at the corners of the contouring cell to generate a sample in the square center. For further information, see <https://en.wikipedia.org/wiki/Marching_squares#Disambiguation_of_saddle_points>.\n",
    "\n",
    "Define the Boolean function `disambiguateSaddle()` to determine the orientation of line segments in a contouring cell with ambiguous values in the surrounding 2x2 block of grid cells.\n",
    "\n",
    "The parameters of the function are:\n",
    "- `top`: the y-index of the top-left grid cell relative to the contouring cell\n",
    "- `left`: the x-index of the top-left grid cell relative to the contouring cell\n",
    "- `thres`: the threshold/isovalue \n",
    "- `cells`: a 2-D array of grid cells/values\n",
    "\n",
    "This function should return `True` if the averaged sample cell is greater than or equal to the threshold, and `False` otherwise."
   ]
  },
  {
   "cell_type": "code",
   "execution_count": 7,
   "metadata": {
    "nbgrader": {
     "grade": false,
     "grade_id": "disambiguateSaddle",
     "locked": false,
     "schema_version": 3,
     "solution": true,
     "task": false
    }
   },
   "outputs": [],
   "source": [
    "#grade (write your code in this cell and DO NOT DELETE THIS LINE)\n",
    "def disambiguateSaddle(top,left,thres,cells):\n",
    "    pass"
   ]
  },
  {
   "cell_type": "code",
   "execution_count": 8,
   "metadata": {
    "nbgrader": {
     "grade": true,
     "grade_id": "disambiguateSaddle_test",
     "locked": true,
     "points": 5,
     "schema_version": 3,
     "solution": false,
     "task": false
    }
   },
   "outputs": [
    {
     "ename": "AssertionError",
     "evalue": "",
     "output_type": "error",
     "traceback": [
      "\u001b[0;31m---------------------------------------------------------------------------\u001b[0m",
      "\u001b[0;31mAssertionError\u001b[0m                            Traceback (most recent call last)",
      "\u001b[0;32m<ipython-input-8-76d773b7c555>\u001b[0m in \u001b[0;36m<module>\u001b[0;34m\u001b[0m\n\u001b[1;32m      6\u001b[0m                        \u001b[0;34m[\u001b[0m\u001b[0;36m0.5\u001b[0m\u001b[0;34m,\u001b[0m\u001b[0;36m0.7\u001b[0m\u001b[0;34m,\u001b[0m\u001b[0;36m0.7\u001b[0m\u001b[0;34m,\u001b[0m\u001b[0;36m0.4\u001b[0m\u001b[0;34m]\u001b[0m\u001b[0;34m,\u001b[0m\u001b[0;34m\u001b[0m\u001b[0;34m\u001b[0m\u001b[0m\n\u001b[1;32m      7\u001b[0m                        [0.5,0.7,0.7,0.4]])\n\u001b[0;32m----> 8\u001b[0;31m \u001b[0;32massert\u001b[0m \u001b[0mdisambiguateSaddle\u001b[0m\u001b[0;34m(\u001b[0m\u001b[0;36m0\u001b[0m\u001b[0;34m,\u001b[0m\u001b[0;36m1\u001b[0m\u001b[0;34m,\u001b[0m\u001b[0;36m0.5\u001b[0m\u001b[0;34m,\u001b[0m\u001b[0mtest_cases\u001b[0m\u001b[0;34m)\u001b[0m \u001b[0;34m==\u001b[0m \u001b[0;32mTrue\u001b[0m\u001b[0;34m\u001b[0m\u001b[0;34m\u001b[0m\u001b[0m\n\u001b[0m\u001b[1;32m      9\u001b[0m \u001b[0;32massert\u001b[0m \u001b[0mdisambiguateSaddle\u001b[0m\u001b[0;34m(\u001b[0m\u001b[0;36m0\u001b[0m\u001b[0;34m,\u001b[0m\u001b[0;36m1\u001b[0m\u001b[0;34m,\u001b[0m\u001b[0;36m0.6\u001b[0m\u001b[0;34m,\u001b[0m\u001b[0mtest_cases\u001b[0m\u001b[0;34m)\u001b[0m \u001b[0;34m==\u001b[0m \u001b[0;32mTrue\u001b[0m\u001b[0;34m\u001b[0m\u001b[0;34m\u001b[0m\u001b[0m\n\u001b[1;32m     10\u001b[0m \u001b[0;32massert\u001b[0m \u001b[0mdisambiguateSaddle\u001b[0m\u001b[0;34m(\u001b[0m\u001b[0;36m0\u001b[0m\u001b[0;34m,\u001b[0m\u001b[0;36m1\u001b[0m\u001b[0;34m,\u001b[0m\u001b[0;36m0.7\u001b[0m\u001b[0;34m,\u001b[0m\u001b[0mtest_cases\u001b[0m\u001b[0;34m)\u001b[0m \u001b[0;34m==\u001b[0m \u001b[0;32mFalse\u001b[0m\u001b[0;34m\u001b[0m\u001b[0;34m\u001b[0m\u001b[0m\n",
      "\u001b[0;31mAssertionError\u001b[0m: "
     ]
    }
   ],
   "source": [
    "### Tests for disambiguateSaddle() function. \n",
    "### Please DO NOT hard-code the answers as we will also be using hidden test cases when grading your submission.\n",
    "\n",
    "test_cases = np.array([[0.5,0.6,0.6,0.5],\n",
    "                       [0.5,0.7,0.7,0.4],\n",
    "                       [0.5,0.7,0.7,0.4],\n",
    "                       [0.5,0.7,0.7,0.4]])\n",
    "assert disambiguateSaddle(0,1,0.5,test_cases) == True\n",
    "assert disambiguateSaddle(0,1,0.6,test_cases) == True\n",
    "assert disambiguateSaddle(0,1,0.7,test_cases) == False\n",
    "assert disambiguateSaddle(1,2,0.5,test_cases) == True\n",
    "assert disambiguateSaddle(1,2,0.6,test_cases) == False\n",
    "assert disambiguateSaddle(1,2,0.7,test_cases) == False"
   ]
  },
  {
   "cell_type": "markdown",
   "metadata": {},
   "source": [
    "## Part 3: Interpolating the Contour Lines\n",
    "\n",
    "Only using `getContourCase()` will default to intersecting the contour lines at the midpoints of each edge, resulting in \"rough\" contours. To smoothen the contours, we will use linear interpolation to find the exact position of the contour line along the edges of the cell."
   ]
  },
  {
   "cell_type": "markdown",
   "metadata": {},
   "source": [
    "First, define the function `interpolate()` to determine the relative position of a value `t` between two values `v1` and `v2`.\n",
    "\n",
    "The parameters of the function are:\n",
    "- `v1`: the first value to use for linear interpolation\n",
    "- `v2`: the second value to use for linear interpolation\n",
    "- `t`: the threshold for which to find the relative position between `v1` and `v2`.\n",
    "\n",
    "This function should return a float between 0 and 1 designating the relative position of `t` between `v1` and `v2`."
   ]
  },
  {
   "cell_type": "code",
   "execution_count": 9,
   "metadata": {
    "nbgrader": {
     "grade": false,
     "grade_id": "interpolate",
     "locked": false,
     "schema_version": 3,
     "solution": true,
     "task": false
    }
   },
   "outputs": [],
   "source": [
    "#grade (write your code in this cell and DO NOT DELETE THIS LINE)\n",
    "def interpolate(v1,v2,t):\n",
    "    pass"
   ]
  },
  {
   "cell_type": "code",
   "execution_count": 10,
   "metadata": {
    "nbgrader": {
     "grade": true,
     "grade_id": "interpolate_test",
     "locked": true,
     "points": 5,
     "schema_version": 3,
     "solution": false,
     "task": false
    }
   },
   "outputs": [
    {
     "ename": "AssertionError",
     "evalue": "",
     "output_type": "error",
     "traceback": [
      "\u001b[0;31m---------------------------------------------------------------------------\u001b[0m",
      "\u001b[0;31mAssertionError\u001b[0m                            Traceback (most recent call last)",
      "\u001b[0;32m<ipython-input-10-55c0d40db4de>\u001b[0m in \u001b[0;36m<module>\u001b[0;34m\u001b[0m\n\u001b[1;32m      2\u001b[0m \u001b[0;31m### Please DO NOT hard-code the answers as we will also be using hidden test cases when grading your submission.\u001b[0m\u001b[0;34m\u001b[0m\u001b[0;34m\u001b[0m\u001b[0;34m\u001b[0m\u001b[0m\n\u001b[1;32m      3\u001b[0m \u001b[0;34m\u001b[0m\u001b[0m\n\u001b[0;32m----> 4\u001b[0;31m \u001b[0;32massert\u001b[0m \u001b[0minterpolate\u001b[0m\u001b[0;34m(\u001b[0m\u001b[0;36m1.5\u001b[0m\u001b[0;34m,\u001b[0m\u001b[0;36m2.5\u001b[0m\u001b[0;34m,\u001b[0m\u001b[0;36m2.5\u001b[0m\u001b[0;34m)\u001b[0m \u001b[0;34m==\u001b[0m  \u001b[0;36m1\u001b[0m\u001b[0;34m/\u001b[0m\u001b[0;36m1\u001b[0m\u001b[0;34m\u001b[0m\u001b[0;34m\u001b[0m\u001b[0m\n\u001b[0m\u001b[1;32m      5\u001b[0m \u001b[0;32massert\u001b[0m \u001b[0minterpolate\u001b[0m\u001b[0;34m(\u001b[0m\u001b[0;36m1.5\u001b[0m\u001b[0;34m,\u001b[0m\u001b[0;36m2.5\u001b[0m\u001b[0;34m,\u001b[0m\u001b[0;36m2\u001b[0m\u001b[0;34m)\u001b[0m   \u001b[0;34m==\u001b[0m  \u001b[0;36m1\u001b[0m\u001b[0;34m/\u001b[0m\u001b[0;36m2\u001b[0m\u001b[0;34m\u001b[0m\u001b[0;34m\u001b[0m\u001b[0m\n\u001b[1;32m      6\u001b[0m \u001b[0;32massert\u001b[0m \u001b[0minterpolate\u001b[0m\u001b[0;34m(\u001b[0m\u001b[0;36m1.5\u001b[0m\u001b[0;34m,\u001b[0m\u001b[0;36m2.5\u001b[0m\u001b[0;34m,\u001b[0m\u001b[0;36m1.5\u001b[0m\u001b[0;34m)\u001b[0m \u001b[0;34m==\u001b[0m  \u001b[0;36m0\u001b[0m\u001b[0;34m/\u001b[0m\u001b[0;36m1\u001b[0m\u001b[0;34m\u001b[0m\u001b[0;34m\u001b[0m\u001b[0m\n",
      "\u001b[0;31mAssertionError\u001b[0m: "
     ]
    }
   ],
   "source": [
    "### Tests for interpolate() function. \n",
    "### Please DO NOT hard-code the answers as we will also be using hidden test cases when grading your submission.\n",
    "\n",
    "assert interpolate(1.5,2.5,2.5) ==  1/1\n",
    "assert interpolate(1.5,2.5,2)   ==  1/2\n",
    "assert interpolate(1.5,2.5,1.5) ==  0/1\n",
    "assert interpolate(1,4,2)       ==  1/3"
   ]
  },
  {
   "cell_type": "markdown",
   "metadata": {},
   "source": [
    "Now that we have defined our interpolation function, we can use it to obtain the exact coordinates of a contour line's endpoints.\n",
    "\n",
    "Define the function `getCellSegments()` to produce a list of line segments representing contour lines within a given contouring cell.\n",
    "\n",
    "The parameters of the function are:\n",
    "- `top`: the y-index of the top-left grid cell relative to the contouring cell\n",
    "- `left`: the x-index of the top-left grid cell relative to the contouring cell\n",
    "- `thres`: the threshold/isovalue \n",
    "- `cells`: a 2-D array of grid cells/values\n",
    "\n",
    "This function should return a list of pairs of (x, y) coordinates indicating contour segments within a cell e.g. [ [(x1,y1),(x2,y2)], [(x3,y3),(x4,y4)] ]. If any of the grid cells bordering a countouring cell are out of bounds, your function should just return an empty list `[]` (*note*: **be careful not to return the list containing the empty list** `[[]]`, as this is not equivalent and your tests will fail).\n",
    "\n",
    "**Notes**: \n",
    "- Coordinates assume an origin of (0,0) for the top left contouring cell. \n",
    "- Coordinates should be computed in terms of grid cell lengths, not pixel coordinates, e.g., the coordinate (5 ,7.5) indicates 5 grid cells right and 7.5 grid cells down from the origin.\n",
    "- For contouring cells with four intersection points, you will need to use the `disambiguateSaddle()` function to determine which two pairs of points form the contouring lines for the cell, and may need to reorder the pairs of points in your returned list accordingly."
   ]
  },
  {
   "cell_type": "code",
   "execution_count": 11,
   "metadata": {
    "nbgrader": {
     "grade": false,
     "grade_id": "getCellSegments",
     "locked": false,
     "schema_version": 3,
     "solution": true,
     "task": false
    }
   },
   "outputs": [],
   "source": [
    "#grade (write your code in this cell and DO NOT DELETE THIS LINE)\n",
    "def getCellSegments(top,left,thres,cells):\n",
    "    pass"
   ]
  },
  {
   "cell_type": "code",
   "execution_count": 12,
   "metadata": {
    "nbgrader": {
     "grade": true,
     "grade_id": "getCellSegments_test",
     "locked": true,
     "points": 5,
     "schema_version": 3,
     "solution": false,
     "task": false
    }
   },
   "outputs": [
    {
     "ename": "AssertionError",
     "evalue": "",
     "output_type": "error",
     "traceback": [
      "\u001b[0;31m---------------------------------------------------------------------------\u001b[0m",
      "\u001b[0;31mAssertionError\u001b[0m                            Traceback (most recent call last)",
      "\u001b[0;32m<ipython-input-12-69d07437a79c>\u001b[0m in \u001b[0;36m<module>\u001b[0;34m\u001b[0m\n\u001b[1;32m      6\u001b[0m                          \u001b[0;34m[\u001b[0m\u001b[0;36m0.5\u001b[0m\u001b[0;34m,\u001b[0m\u001b[0;36m0.7\u001b[0m\u001b[0;34m,\u001b[0m\u001b[0;36m0.7\u001b[0m\u001b[0;34m,\u001b[0m\u001b[0;36m0.4\u001b[0m\u001b[0;34m]\u001b[0m\u001b[0;34m,\u001b[0m\u001b[0;34m\u001b[0m\u001b[0;34m\u001b[0m\u001b[0m\n\u001b[1;32m      7\u001b[0m                          [0.5,0.7,0.7,0.4]])\n\u001b[0;32m----> 8\u001b[0;31m \u001b[0;32massert\u001b[0m \u001b[0mgetCellSegments\u001b[0m\u001b[0;34m(\u001b[0m\u001b[0;36m3\u001b[0m\u001b[0;34m,\u001b[0m\u001b[0;36m3\u001b[0m\u001b[0;34m,\u001b[0m\u001b[0;36m0.9\u001b[0m\u001b[0;34m,\u001b[0m\u001b[0mtest_cases_1\u001b[0m\u001b[0;34m)\u001b[0m \u001b[0;34m==\u001b[0m \u001b[0;34m[\u001b[0m\u001b[0;34m]\u001b[0m\u001b[0;34m\u001b[0m\u001b[0;34m\u001b[0m\u001b[0m\n\u001b[0m\u001b[1;32m      9\u001b[0m \u001b[0;34m\u001b[0m\u001b[0m\n\u001b[1;32m     10\u001b[0m test_cases_2 = np.array([[0.07339991, 0.38311005, 0.38311005, 0.07339991],\n",
      "\u001b[0;31mAssertionError\u001b[0m: "
     ]
    }
   ],
   "source": [
    "### Tests for getCellSegments() function. \n",
    "### Please DO NOT hard-code the answers as we will also be using hidden test cases when grading your submission.\n",
    "\n",
    "test_cases_1 = np.array([[0.5,0.6,0.6,0.5],\n",
    "                         [0.5,0.7,0.7,0.4],\n",
    "                         [0.5,0.7,0.7,0.4],\n",
    "                         [0.5,0.7,0.7,0.4]])\n",
    "assert getCellSegments(3,3,0.9,test_cases_1) == []\n",
    "\n",
    "test_cases_2 = np.array([[0.07339991, 0.38311005, 0.38311005, 0.07339991],\n",
    "                         [0.38311005, 0.99744795, 0.99744795, 0.38311005],\n",
    "                         [0.38311005, 0.99744795, 0.99744795, 0.38311005],\n",
    "                         [0.07339991, 0.38311005, 0.38311005, 0.07339991]])\n",
    "result = getCellSegments(0,0,0.2,test_cases_2)\n",
    "result[0].sort()\n",
    "try:\n",
    "    np.testing.assert_allclose(result, [[(0, 0.40876959985875827), (0.40876959985875827, 0)]], rtol=1e-5)\n",
    "except:\n",
    "    np.testing.assert_allclose(result, [[(0.40876959985875827, 0), (0, 0.40876959985875827)]], rtol=1e-5)\n",
    "\n",
    "\n",
    "test_cases_3 = np.array([[0.05,0.4,0.4,0.05],[0.4,0.9,0.9,0.4],[0.4,0.9,0.9,0.4],[0.05,0.4,0.4,0.05]])\n",
    "result = getCellSegments(2,2,0.2,test_cases_3)\n",
    "result[0].sort()\n",
    "try:\n",
    "    np.testing.assert_allclose(result, [[(2.571428571428571, 3), (3, 2.571428571428571)]], rtol=1e-5)\n",
    "except:\n",
    "    np.testing.assert_allclose(result, [[(3, 2.571428571428571), (2.571428571428571, 3)]], rtol=1e-5)"
   ]
  },
  {
   "cell_type": "markdown",
   "metadata": {},
   "source": [
    "We can now apply the above function to all of the contouring cells in our grid.\n",
    "\n",
    "Define the function `getContourSegments()` to produce a list of pairs of coordinates, where each pair of coordinates represents a line segment used for drawing the contours of a Marching Squares invocation.\n",
    "\n",
    "The parameters of the function are:\n",
    "- `thres`: the threshold/isovalue \n",
    "- `cells`: a 2-D array of grid cells/values\n",
    "\n",
    "This function should return a list of pairs of (x, y) coordinates indicating all contour segments for the grid e.g. [ [(x1,y1),(x2,y2)], [(x3,y3),(x4,y4)] ].\n",
    "\n",
    "**Note:** In the test cases, we will round your results to three decimal places. Do NOT implement any rounding within your functions."
   ]
  },
  {
   "cell_type": "code",
   "execution_count": 13,
   "metadata": {
    "nbgrader": {
     "grade": false,
     "grade_id": "getContourSegments",
     "locked": false,
     "schema_version": 3,
     "solution": true,
     "task": false
    }
   },
   "outputs": [],
   "source": [
    "#grade (write your code in this cell and DO NOT DELETE THIS LINE)\n",
    "def getContourSegments(thres,cells):\n",
    "    #Hint: this function should accumulate a list of line segments by looping\n",
    "    #      over each cell in \"cells\" and calling getCellSegments() on each cell\n",
    "    pass"
   ]
  },
  {
   "cell_type": "code",
   "execution_count": 14,
   "metadata": {
    "nbgrader": {
     "grade": true,
     "grade_id": "getContourSegments_test",
     "locked": true,
     "points": 5,
     "schema_version": 3,
     "solution": false,
     "task": false
    }
   },
   "outputs": [
    {
     "ename": "TypeError",
     "evalue": "'NoneType' object is not iterable",
     "output_type": "error",
     "traceback": [
      "\u001b[0;31m---------------------------------------------------------------------------\u001b[0m",
      "\u001b[0;31mTypeError\u001b[0m                                 Traceback (most recent call last)",
      "\u001b[0;32m<ipython-input-14-c076af21a18c>\u001b[0m in \u001b[0;36m<module>\u001b[0;34m\u001b[0m\n\u001b[1;32m      9\u001b[0m \u001b[0;34m\u001b[0m\u001b[0m\n\u001b[1;32m     10\u001b[0m \u001b[0mrounded_result\u001b[0m \u001b[0;34m=\u001b[0m \u001b[0;34m[\u001b[0m\u001b[0;34m]\u001b[0m\u001b[0;34m\u001b[0m\u001b[0;34m\u001b[0m\u001b[0m\n\u001b[0;32m---> 11\u001b[0;31m \u001b[0;32mfor\u001b[0m \u001b[0;34m[\u001b[0m\u001b[0;34m(\u001b[0m\u001b[0mx1\u001b[0m\u001b[0;34m,\u001b[0m \u001b[0my1\u001b[0m\u001b[0;34m)\u001b[0m\u001b[0;34m,\u001b[0m \u001b[0;34m(\u001b[0m\u001b[0mx2\u001b[0m\u001b[0;34m,\u001b[0m \u001b[0my2\u001b[0m\u001b[0;34m)\u001b[0m\u001b[0;34m]\u001b[0m \u001b[0;32min\u001b[0m \u001b[0mresult\u001b[0m\u001b[0;34m:\u001b[0m\u001b[0;34m\u001b[0m\u001b[0;34m\u001b[0m\u001b[0m\n\u001b[0m\u001b[1;32m     12\u001b[0m     \u001b[0mrounded_result\u001b[0m\u001b[0;34m.\u001b[0m\u001b[0mappend\u001b[0m\u001b[0;34m(\u001b[0m\u001b[0;34m[\u001b[0m\u001b[0;34m(\u001b[0m\u001b[0mround\u001b[0m\u001b[0;34m(\u001b[0m\u001b[0mx1\u001b[0m\u001b[0;34m,\u001b[0m \u001b[0;36m3\u001b[0m\u001b[0;34m)\u001b[0m\u001b[0;34m,\u001b[0m\u001b[0mround\u001b[0m\u001b[0;34m(\u001b[0m\u001b[0my1\u001b[0m\u001b[0;34m,\u001b[0m \u001b[0;36m3\u001b[0m\u001b[0;34m)\u001b[0m\u001b[0;34m)\u001b[0m\u001b[0;34m,\u001b[0m\u001b[0;34m(\u001b[0m\u001b[0mround\u001b[0m\u001b[0;34m(\u001b[0m\u001b[0mx2\u001b[0m\u001b[0;34m,\u001b[0m \u001b[0;36m3\u001b[0m\u001b[0;34m)\u001b[0m\u001b[0;34m,\u001b[0m\u001b[0mround\u001b[0m\u001b[0;34m(\u001b[0m\u001b[0my2\u001b[0m\u001b[0;34m,\u001b[0m \u001b[0;36m3\u001b[0m\u001b[0;34m)\u001b[0m\u001b[0;34m)\u001b[0m\u001b[0;34m]\u001b[0m\u001b[0;34m)\u001b[0m\u001b[0;34m\u001b[0m\u001b[0;34m\u001b[0m\u001b[0m\n\u001b[1;32m     13\u001b[0m \u001b[0;34m\u001b[0m\u001b[0m\n",
      "\u001b[0;31mTypeError\u001b[0m: 'NoneType' object is not iterable"
     ]
    }
   ],
   "source": [
    "### Tests for getContourSegments() function. \n",
    "### Please DO NOT hard-code the answers as we will also be using hidden test cases when grading your submission.\n",
    "\n",
    "test_cases = np.array([[0.07339991, 0.38311005, 0.38311005, 0.07339991],\n",
    "                       [0.38311005, 0.99744795, 0.99744795, 0.38311005],\n",
    "                       [0.38311005, 0.99744795, 0.99744795, 0.38311005],\n",
    "                       [0.07339991, 0.38311005, 0.38311005, 0.07339991]])\n",
    "result = getContourSegments(0.9,test_cases)\n",
    "\n",
    "rounded_result = []\n",
    "for [(x1, y1), (x2, y2)] in result:\n",
    "    rounded_result.append([(round(x1, 3),round(y1, 3)),(round(x2, 3),round(y2, 3))])\n",
    "\n",
    "answer = [[(0.841, 1), (0.841, 2)], [(0.841, 1), (1, 0.841)], [(0.841, 2), (1, 2.159)], [(1, 0.841), (2, 0.841)], [(1, 2.159), (2, 2.159)], [(2, 0.841), (2.159, 1)], [(2.159, 1), (2.159, 2)], [(2, 2.159), (2.159, 2)]]\n",
    "\n",
    "for [(x1,y1),(x2,y2)] in rounded_result:\n",
    "    assert [(x1,y1),(x2,y2)] in answer or  [(x2,y2),(x1,y1)] in answer\n",
    "\n",
    "for [(x1,y1),(x2,y2)] in answer:\n",
    "    assert [(x1,y1),(x2,y2)] in rounded_result or  [(x2,y2),(x1,y1)] in rounded_result"
   ]
  },
  {
   "cell_type": "markdown",
   "metadata": {},
   "source": [
    "## Part 4: Creating a Colormap\n",
    "\n",
    "In addition to rendering the contour lines, your code should display the function across the domain using the Plasma color map.\n",
    "\n",
    "Define the function `colorMapPlasma()` to create a Plasma color map for mapping scalar data to colors. \n",
    "\n",
    "The function should return a dictionary containing a Plasma color map usable by matplotlib's `LinearSegmentedColormap()` function. \n",
    "\n",
    "You should refer to documentation on LinearSegmentedColormap (https://matplotlib.org/3.3.1/api/_as_gen/matplotlib.colors.LinearSegmentedColormap.html) and on the Plasma color map (https://www.kennethmoreland.com/color-advice/). Use the byte representation of the color table with 8 anchor values.\n",
    "\n",
    "**Note:** Since the part is just reading the values from a file and copying the values, we will provide the results to you. "
   ]
  },
  {
   "cell_type": "code",
   "execution_count": 15,
   "metadata": {
    "nbgrader": {
     "grade": false,
     "grade_id": "colorMapPlasma",
     "locked": false,
     "schema_version": 3,
     "solution": true,
     "task": false
    }
   },
   "outputs": [],
   "source": [
    "def colorMapPlasma():\n",
    "    cdict = {'red': [[0.0,  13/255,  13/255],\n",
    "                     [0.142857142857142,  84/255,  84/255],\n",
    "                     [0.285714285714285, 139/255, 139/255],\n",
    "                     [0.428571428571428, 185/255, 185/255],\n",
    "                     [0.571428571428571, 219/255, 219/255],\n",
    "                     [0.714285714285714, 244/255, 244/255],\n",
    "                     [0.857142857142857, 254/255, 254/255],\n",
    "                     [1.0, 240/255, 240/255]],\n",
    "           'green': [[0.0,   8/255,   8/255],\n",
    "                     [0.142857142857142,   2/255,   2/255],\n",
    "                     [0.285714285714285,   10/255,   10/255],\n",
    "                     [0.428571428571428,  50/255,  50/255],\n",
    "                     [0.571428571428571,  92/255,  92/255],\n",
    "                     [0.714285714285714, 136/255, 136/255],\n",
    "                     [0.857142857142857, 188/255, 188/255],\n",
    "                     [1.0, 249/255, 249/255]],\n",
    "           'blue':  [[0.0, 135/255, 135/255],\n",
    "                     [0.142857142857142, 163/255, 163/255],\n",
    "                     [0.285714285714285, 165/255, 165/255],\n",
    "                     [0.428571428571428, 137/255, 137/255],\n",
    "                     [0.571428571428571, 104/255, 104/255],\n",
    "                     [0.714285714285714,  73/255,  73/255],\n",
    "                     [0.857142857142857,  43/255,  43/255],\n",
    "                     [1.0,  33/255,  33/255]]}\n",
    "    return cdict"
   ]
  },
  {
   "cell_type": "code",
   "execution_count": 16,
   "metadata": {
    "nbgrader": {
     "grade": true,
     "grade_id": "colorMapPlasma_test",
     "locked": true,
     "points": 5,
     "schema_version": 3,
     "solution": false,
     "task": false
    }
   },
   "outputs": [],
   "source": [
    "### Tests for colorMapPlasma() function. \n",
    "### Please DO NOT hard-code the answers as we will also be using hidden test cases when grading your submission.\n",
    "\n",
    "test_dict = colorMapPlasma()\n",
    "np.testing.assert_allclose(test_dict['red'][1], [0.142857142857142, 84/255, 84/255], rtol=1e-5)\n",
    "np.testing.assert_allclose(test_dict['green'][3], [0.428571428571428,  50/255,  50/255], rtol=1e-5)\n"
   ]
  },
  {
   "cell_type": "markdown",
   "metadata": {},
   "source": [
    "Now we can finally generate our 2-D interactive visualization! If your functions were defined correctly, you should be able to toggle the visualization to see the images from the beginning of this notebook.\n",
    "\n",
    "If the rough contour doesn't show up, one possible cause is your bounds checking in getContourCase is wrong.\n",
    "\n",
    "**Note:** If the image below is cut off, right click the cell and select \"Disable Scrolling for Outputs\""
   ]
  },
  {
   "cell_type": "code",
   "execution_count": 17,
   "metadata": {
    "scrolled": true
   },
   "outputs": [
    {
     "data": {
      "application/vnd.jupyter.widget-view+json": {
       "model_id": "4e1a16f112274789aabf99910a87859a",
       "version_major": 2,
       "version_minor": 0
      },
      "text/plain": [
       "Canvas(toolbar=Toolbar(toolitems=[('Home', 'Reset original view', 'home', 'home'), ('Back', 'Back to previous …"
      ]
     },
     "metadata": {},
     "output_type": "display_data"
    }
   ],
   "source": [
    "March(res=12,thres=0.9).show()"
   ]
  },
  {
   "cell_type": "code",
   "execution_count": null,
   "metadata": {},
   "outputs": [],
   "source": []
  }
 ],
 "metadata": {
  "celltoolbar": "Create Assignment",
  "coursera": {
   "schema_names": [
    "MP1"
   ]
  },
  "kernelspec": {
   "display_name": "Python 3",
   "language": "python",
   "name": "python3"
  },
  "language_info": {
   "codemirror_mode": {
    "name": "ipython",
    "version": 3
   },
   "file_extension": ".py",
   "mimetype": "text/x-python",
   "name": "python",
   "nbconvert_exporter": "python",
   "pygments_lexer": "ipython3",
   "version": "3.8.6"
  }
 },
 "nbformat": 4,
 "nbformat_minor": 4
}
