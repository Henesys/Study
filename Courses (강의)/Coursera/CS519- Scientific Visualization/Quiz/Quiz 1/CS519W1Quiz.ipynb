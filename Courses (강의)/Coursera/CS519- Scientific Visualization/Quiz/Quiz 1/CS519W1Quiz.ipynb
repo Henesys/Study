{
 "cells": [
  {
   "cell_type": "markdown",
   "metadata": {},
   "source": [
    "# Quiz 1\n",
    "\n",
    "## Question 7: sRGB to XYZ\n",
    "\n",
    "Given an sRGB color $c_{sRGB}$ specified as a NumPy array, compute $c_{XYZ}$.\n",
    "\n",
    "You should set up the conversion matrix $M_{sRGB}^{-1}$ by simply hardcoding the numeric values for the entries as seen in class."
   ]
  },
  {
   "cell_type": "markdown",
   "metadata": {},
   "source": [
    "![alt text](assets/1.7.png)"
   ]
  },
  {
   "cell_type": "code",
   "execution_count": 2,
   "metadata": {},
   "outputs": [
    {
     "data": {
      "text/plain": [
       "array([0.475228, 0.5     , 0.544529])"
      ]
     },
     "execution_count": 2,
     "metadata": {},
     "output_type": "execute_result"
    }
   ],
   "source": [
    "import numpy as np\n",
    "import numpy.linalg as la\n",
    "\n",
    "# cxyz = M_sRGB^-1 * c_sRGB\n",
    "# csrgb given\n",
    "\n",
    "test_csrgb = np.array([0.5, 0.5, 0.5])\n",
    "\n",
    "M_sRGB_inverse = np.array([[.412391, .357584, .180481], [.212639, .715169, .072192], [.019331, .119195, .950532]])\n",
    "\n",
    "# cxyz = np.dot(M_sRGB_inverse, csrgb)\n",
    "cxyz = np.dot(M_sRGB_inverse, test_csrgb)\n",
    "\n",
    "cxyz"
   ]
  },
  {
   "cell_type": "markdown",
   "metadata": {},
   "source": [
    "## Question 8: Turning Mario into Luigi\n",
    "\n",
    "In this question, we will get some practice using Python and NumPy. \n",
    "\n",
    "If you need some help with Python or NumPy, you can refer to the Week 1 course reading labeled \"Scientific Visualization Resources\". \n",
    "\n",
    "Near the bottom of that page is a section labeled \"Code Tutorials\".\n",
    "\n",
    "The image of Mario is given to you as the RGBA NumPy array ```mario```.\n",
    "\n",
    "This means that it is a 2D array in which every element is a 4D NumPy array specifying an RGBA value.\n",
    "\n",
    "As an example of how to work with this data, the following code sets the pixel at location $[x, y]$ to be green:\n",
    "\n",
    "```luigi[x, y] = [0.0, 1.0, 0.0, 1.0]```\n",
    "\n",
    "You can use the NumPy attribute ```shape``` to get the size of the image in pixels.\n",
    "\n",
    "The first two elements of that tuple will be the height and width, respectively.\n",
    "\n",
    "You should find and replace all pixels with the color red- $(1, 0, 0, 1)$- with the color green- (0, 1, 0, 1)- and then save this as a new NumPy array named ```luigi```.\n",
    "\n",
    "Note that Mario's hat and shirt may not be pure RGB red, so if you are finding that your colors are not changing, then you may need to loosen your tolerance check.\n",
    "\n",
    "Feel free to submit and grade your code as many times as you want. \n",
    "\n",
    "There is no limit and the best submission will count for your grade. \n",
    "\n",
    "The grading engine for this question has feedback suppressed, so you won't be able to debug by using ```print()``` or ```plt.imshow()``` and seeing output.\n",
    "\n",
    "You can download the image and work with it on a local Python installation and debug there.\n",
    "\n",
    "To do so, you can read in the image to NumPy array by using:\n",
    "\n",
    "```\n",
    "import matplotlib.image as mpimg\n",
    "mario = mpimg.imread(\"mario_big.png\")\n",
    "```\n",
    "\n",
    "Once you have gotten the code working, you can just copy and paste into the browser."
   ]
  },
  {
   "cell_type": "markdown",
   "metadata": {},
   "source": [
    "![alt text](assets/1.8.png)"
   ]
  },
  {
   "cell_type": "code",
   "execution_count": 10,
   "metadata": {},
   "outputs": [
    {
     "data": {
      "image/png": "[encoded data removed]",
      "text/plain": [
       "<Figure size 1000x500 with 2 Axes>"
      ]
     },
     "metadata": {},
     "output_type": "display_data"
    }
   ],
   "source": [
    "import numpy as np\n",
    "import matplotlib.pyplot as plt\n",
    "import numpy.linalg as la\n",
    "\n",
    "import matplotlib.image as mpimg\n",
    "\n",
    "file_path = r\"F:\\Study\\Courses (강의)\\Coursera\\CS519- Scientific Visualization\\Quiz\\Quiz 1\\assets\\mario_big.png\"\n",
    "mario = mpimg.imread(file_path)\n",
    "\n",
    "luigi = np.copy(mario)\n",
    "\n",
    "for i in range(luigi.shape[0]):\n",
    "    \n",
    "    for j in range(luigi.shape[1]):\n",
    "        \n",
    "        if luigi[i, j][0] == (1.0) and luigi[i, j][1] <= .5:\n",
    "            # print(luigi[i, j])\n",
    "            \n",
    "            luigi[i, j] = (0.0, 1.0, 0.0, 1.0)\n",
    "\n",
    "# plt.imshow(luigi)\n",
    "# plt.show()\n",
    "\n",
    "fig, axs = plt.subplots(1, 2, figsize=(10, 5))\n",
    "\n",
    "axs[0].imshow(mario)\n",
    "axs[0].set_title(\"Mario\")\n",
    "axs[0].axis(\"off\")\n",
    "\n",
    "axs[1].imshow(luigi)\n",
    "axs[1].set_title(\"Luigi\")\n",
    "axs[1].axis(\"off\")\n",
    "\n",
    "plt.show()"
   ]
  }
 ],
 "metadata": {
  "kernelspec": {
   "display_name": "base",
   "language": "python",
   "name": "python3"
  },
  "language_info": {
   "codemirror_mode": {
    "name": "ipython",
    "version": 3
   },
   "file_extension": ".py",
   "mimetype": "text/x-python",
   "name": "python",
   "nbconvert_exporter": "python",
   "pygments_lexer": "ipython3",
   "version": "3.8.8"
  }
 },
 "nbformat": 4,
 "nbformat_minor": 2
}
