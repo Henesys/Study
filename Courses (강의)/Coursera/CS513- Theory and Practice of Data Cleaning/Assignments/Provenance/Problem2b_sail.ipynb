{
 "cells": [
  {
   "cell_type": "markdown",
   "metadata": {
    "deletable": false,
    "editable": false,
    "nbgrader": {
     "cell_type": "markdown",
     "checksum": "81d92576c06ee1913d4771e8fc5e95db",
     "grade": false,
     "grade_id": "cell-9626fbe4254755a7",
     "locked": true,
     "schema_version": 3,
     "solution": false
    }
   },
   "source": [
    "# Provenance Queries Problem 2: Hamming Numbers"
   ]
  },
  {
   "cell_type": "markdown",
   "metadata": {
    "deletable": false,
    "editable": false,
    "nbgrader": {
     "cell_type": "markdown",
     "checksum": "153065eaf1feef687387a88485287455",
     "grade": false,
     "grade_id": "cell-6b2efd25bfdde520",
     "locked": true,
     "schema_version": 3,
     "solution": false
    }
   },
   "source": [
    "# Problem 2b: _Sail_\n",
    "\n",
    "**Hints**:\n",
    "- First do Problem 2a: _Fish_.\n",
    "- Your rules for the _Fish_ graph from the previous notebook should work here as well.\n",
    "\n",
    "![Fish and Sail](fish_sail.png \"Fish and Sail\")"
   ]
  },
  {
   "cell_type": "code",
   "execution_count": 1,
   "metadata": {
    "deletable": false,
    "editable": false,
    "nbgrader": {
     "cell_type": "code",
     "checksum": "67dff3adbd452fe21e7e63f13d32cdd3",
     "grade": false,
     "grade_id": "cell-1ac836b26aa0290f",
     "locked": true,
     "schema_version": 3,
     "solution": false
    }
   },
   "outputs": [],
   "source": [
    "%reload_ext lib.clingo.clingo_magic\n",
    "import os\n",
    "from lib.clingo.clingo_evaluate_util import clingo_evaluate"
   ]
  },
  {
   "cell_type": "code",
   "execution_count": 2,
   "metadata": {
    "deletable": false,
    "editable": false,
    "nbgrader": {
     "cell_type": "code",
     "checksum": "8404cdc03084e3a6f0c3ba9b358c2433",
     "grade": false,
     "grade_id": "cell-5df58cbac7dd1e85",
     "locked": true,
     "schema_version": 3,
     "solution": false
    }
   },
   "outputs": [
    {
     "data": {
      "text/html": [
       "\n",
       "      <style>\n",
       "      .highlight .hll { background-color: #ffffcc }\n",
       ".highlight  { background: #f8f8f8; }\n",
       ".highlight .c { color: #408080; font-style: italic } /* Comment */\n",
       ".highlight .err { border: 1px solid #FF0000 } /* Error */\n",
       ".highlight .k { color: #008000; font-weight: bold } /* Keyword */\n",
       ".highlight .o { color: #666666 } /* Operator */\n",
       ".highlight .ch { color: #408080; font-style: italic } /* Comment.Hashbang */\n",
       ".highlight .cm { color: #408080; font-style: italic } /* Comment.Multiline */\n",
       ".highlight .cp { color: #BC7A00 } /* Comment.Preproc */\n",
       ".highlight .cpf { color: #408080; font-style: italic } /* Comment.PreprocFile */\n",
       ".highlight .c1 { color: #408080; font-style: italic } /* Comment.Single */\n",
       ".highlight .cs { color: #408080; font-style: italic } /* Comment.Special */\n",
       ".highlight .gd { color: #A00000 } /* Generic.Deleted */\n",
       ".highlight .ge { font-style: italic } /* Generic.Emph */\n",
       ".highlight .gr { color: #FF0000 } /* Generic.Error */\n",
       ".highlight .gh { color: #000080; font-weight: bold } /* Generic.Heading */\n",
       ".highlight .gi { color: #00A000 } /* Generic.Inserted */\n",
       ".highlight .go { color: #888888 } /* Generic.Output */\n",
       ".highlight .gp { color: #000080; font-weight: bold } /* Generic.Prompt */\n",
       ".highlight .gs { font-weight: bold } /* Generic.Strong */\n",
       ".highlight .gu { color: #800080; font-weight: bold } /* Generic.Subheading */\n",
       ".highlight .gt { color: #0044DD } /* Generic.Traceback */\n",
       ".highlight .kc { color: #008000; font-weight: bold } /* Keyword.Constant */\n",
       ".highlight .kd { color: #008000; font-weight: bold } /* Keyword.Declaration */\n",
       ".highlight .kn { color: #008000; font-weight: bold } /* Keyword.Namespace */\n",
       ".highlight .kp { color: #008000 } /* Keyword.Pseudo */\n",
       ".highlight .kr { color: #008000; font-weight: bold } /* Keyword.Reserved */\n",
       ".highlight .kt { color: #B00040 } /* Keyword.Type */\n",
       ".highlight .m { color: #666666 } /* Literal.Number */\n",
       ".highlight .s { color: #BA2121 } /* Literal.String */\n",
       ".highlight .na { color: #7D9029 } /* Name.Attribute */\n",
       ".highlight .nb { color: #008000 } /* Name.Builtin */\n",
       ".highlight .nc { color: #0000FF; font-weight: bold } /* Name.Class */\n",
       ".highlight .no { color: #880000 } /* Name.Constant */\n",
       ".highlight .nd { color: #AA22FF } /* Name.Decorator */\n",
       ".highlight .ni { color: #999999; font-weight: bold } /* Name.Entity */\n",
       ".highlight .ne { color: #D2413A; font-weight: bold } /* Name.Exception */\n",
       ".highlight .nf { color: #0000FF } /* Name.Function */\n",
       ".highlight .nl { color: #A0A000 } /* Name.Label */\n",
       ".highlight .nn { color: #0000FF; font-weight: bold } /* Name.Namespace */\n",
       ".highlight .nt { color: #008000; font-weight: bold } /* Name.Tag */\n",
       ".highlight .nv { color: #19177C } /* Name.Variable */\n",
       ".highlight .ow { color: #AA22FF; font-weight: bold } /* Operator.Word */\n",
       ".highlight .w { color: #bbbbbb } /* Text.Whitespace */\n",
       ".highlight .mb { color: #666666 } /* Literal.Number.Bin */\n",
       ".highlight .mf { color: #666666 } /* Literal.Number.Float */\n",
       ".highlight .mh { color: #666666 } /* Literal.Number.Hex */\n",
       ".highlight .mi { color: #666666 } /* Literal.Number.Integer */\n",
       ".highlight .mo { color: #666666 } /* Literal.Number.Oct */\n",
       ".highlight .sa { color: #BA2121 } /* Literal.String.Affix */\n",
       ".highlight .sb { color: #BA2121 } /* Literal.String.Backtick */\n",
       ".highlight .sc { color: #BA2121 } /* Literal.String.Char */\n",
       ".highlight .dl { color: #BA2121 } /* Literal.String.Delimiter */\n",
       ".highlight .sd { color: #BA2121; font-style: italic } /* Literal.String.Doc */\n",
       ".highlight .s2 { color: #BA2121 } /* Literal.String.Double */\n",
       ".highlight .se { color: #BB6622; font-weight: bold } /* Literal.String.Escape */\n",
       ".highlight .sh { color: #BA2121 } /* Literal.String.Heredoc */\n",
       ".highlight .si { color: #BB6688; font-weight: bold } /* Literal.String.Interpol */\n",
       ".highlight .sx { color: #008000 } /* Literal.String.Other */\n",
       ".highlight .sr { color: #BB6688 } /* Literal.String.Regex */\n",
       ".highlight .s1 { color: #BA2121 } /* Literal.String.Single */\n",
       ".highlight .ss { color: #19177C } /* Literal.String.Symbol */\n",
       ".highlight .bp { color: #008000 } /* Name.Builtin.Pseudo */\n",
       ".highlight .fm { color: #0000FF } /* Name.Function.Magic */\n",
       ".highlight .vc { color: #19177C } /* Name.Variable.Class */\n",
       ".highlight .vg { color: #19177C } /* Name.Variable.Global */\n",
       ".highlight .vi { color: #19177C } /* Name.Variable.Instance */\n",
       ".highlight .vm { color: #19177C } /* Name.Variable.Magic */\n",
       ".highlight .il { color: #666666 } /* Literal.Number.Integer.Long */\n",
       "      </style>\n",
       "      "
      ],
      "text/plain": [
       "<IPython.core.display.HTML object>"
      ]
     },
     "metadata": {},
     "output_type": "display_data"
    },
    {
     "data": {
      "text/html": [
       "<div class=\"highlight\"><pre><span></span><span class=\"lineno\"> 1 </span><span class=\"c1\">% Below, we need the sets {1,2}, {1,2,3}, {1,2,3,5}, so let&#39;s define them: </span>\n",
       "<span class=\"lineno\"> 2 </span><span class=\"nf\">in_12</span><span class=\"p\">(</span><span class=\"mi\">1</span><span class=\"p\">).</span>\n",
       "<span class=\"lineno\"> 3 </span><span class=\"nf\">in_12</span><span class=\"p\">(</span><span class=\"mi\">2</span><span class=\"p\">).</span>\n",
       "<span class=\"lineno\"> 4 </span>\n",
       "<span class=\"lineno\"> 5 </span><span class=\"nf\">in_123</span><span class=\"p\">(</span><span class=\"nv\">X</span><span class=\"p\">)</span> <span class=\"p\">:-</span> <span class=\"nf\">in_12</span><span class=\"p\">(</span><span class=\"nv\">X</span><span class=\"p\">).</span>\n",
       "<span class=\"lineno\"> 6 </span><span class=\"nf\">in_123</span><span class=\"p\">(</span><span class=\"mi\">3</span><span class=\"p\">).</span>\n",
       "<span class=\"lineno\"> 7 </span>\n",
       "<span class=\"lineno\"> 8 </span><span class=\"nf\">in_1235</span><span class=\"p\">(</span><span class=\"nv\">X</span><span class=\"p\">)</span> <span class=\"p\">:-</span> <span class=\"nf\">in_123</span><span class=\"p\">(</span><span class=\"nv\">X</span><span class=\"p\">).</span>\n",
       "<span class=\"lineno\"> 9 </span><span class=\"nf\">in_1235</span><span class=\"p\">(</span><span class=\"mi\">5</span><span class=\"p\">).</span>\n",
       "<span class=\"lineno\">10 </span>\n",
       "<span class=\"lineno\">11 </span><span class=\"c1\">% hamming(Output, Input, Factor)</span>\n",
       "<span class=\"lineno\">12 </span><span class=\"c1\">% Generates Hamming numbers by simple multiplication:</span>\n",
       "<span class=\"lineno\">13 </span><span class=\"c1\">%    Output := Input * Factor</span>\n",
       "<span class=\"lineno\">14 </span><span class=\"c1\">% The third argument (Factor) also acts as a *provenance annotation*,</span>\n",
       "<span class=\"lineno\">15 </span><span class=\"c1\">% which can be used to create labeled edges: Input --Factor--&gt; Output</span>\n",
       "<span class=\"lineno\">16 </span>\n",
       "<span class=\"lineno\">17 </span><span class=\"c1\">% The first rule (rather: fact) gets us started and adds &quot;1&quot; as a Hamming number.</span>\n",
       "<span class=\"lineno\">18 </span><span class=\"c1\">% The second rule generates multiples of 2 from numbers that have 1 or 2 as a factor.</span>\n",
       "<span class=\"lineno\">19 </span><span class=\"c1\">% The third rule generates multiples of 3 from numbers that have 1,2, or 3 as a factor.</span>\n",
       "<span class=\"lineno\">20 </span><span class=\"c1\">% The fourth rule generates multiples of 5 from numbers that have 1,2, 3, or 5 as a factor.</span>\n",
       "<span class=\"lineno\">21 </span><span class=\"c1\">% limit set to Y &lt; 1000</span>\n",
       "<span class=\"lineno\">22 </span><span class=\"nf\">hamming</span><span class=\"p\">(</span><span class=\"mi\">1</span><span class=\"p\">,</span><span class=\"mi\">1</span><span class=\"p\">,</span> <span class=\"mi\">1</span><span class=\"p\">).</span>\n",
       "<span class=\"lineno\">23 </span><span class=\"nf\">hamming</span><span class=\"p\">(</span><span class=\"nv\">Y</span><span class=\"p\">,</span><span class=\"nv\">X</span><span class=\"p\">,</span> <span class=\"mi\">2</span><span class=\"p\">)</span> <span class=\"p\">:-</span> <span class=\"nf\">hamming</span><span class=\"p\">(</span><span class=\"nv\">X</span><span class=\"p\">,</span><span class=\"k\">_</span><span class=\"p\">,</span> <span class=\"nv\">F</span><span class=\"p\">),</span> <span class=\"nf\">in_12</span><span class=\"p\">(</span><span class=\"nv\">F</span><span class=\"p\">),</span>   <span class=\"nv\">Y</span> <span class=\"o\">=</span> <span class=\"mi\">2</span><span class=\"o\">*</span><span class=\"nv\">X</span> <span class=\"p\">,</span> <span class=\"nv\">Y</span><span class=\"o\">&lt;</span><span class=\"mf\">1000.</span>\n",
       "<span class=\"lineno\">24 </span><span class=\"nf\">hamming</span><span class=\"p\">(</span><span class=\"nv\">Y</span><span class=\"p\">,</span><span class=\"nv\">X</span><span class=\"p\">,</span> <span class=\"mi\">3</span><span class=\"p\">)</span> <span class=\"p\">:-</span> <span class=\"nf\">hamming</span><span class=\"p\">(</span><span class=\"nv\">X</span><span class=\"p\">,</span><span class=\"k\">_</span><span class=\"p\">,</span> <span class=\"nv\">F</span><span class=\"p\">),</span> <span class=\"nf\">in_123</span><span class=\"p\">(</span><span class=\"nv\">F</span><span class=\"p\">),</span>  <span class=\"nv\">Y</span> <span class=\"o\">=</span> <span class=\"mi\">3</span><span class=\"o\">*</span><span class=\"nv\">X</span> <span class=\"p\">,</span> <span class=\"nv\">Y</span><span class=\"o\">&lt;</span><span class=\"mf\">1000.</span>\n",
       "<span class=\"lineno\">25 </span><span class=\"nf\">hamming</span><span class=\"p\">(</span><span class=\"nv\">Y</span><span class=\"p\">,</span><span class=\"nv\">X</span><span class=\"p\">,</span> <span class=\"mi\">5</span><span class=\"p\">)</span> <span class=\"p\">:-</span> <span class=\"nf\">hamming</span><span class=\"p\">(</span><span class=\"nv\">X</span><span class=\"p\">,</span><span class=\"k\">_</span><span class=\"p\">,</span> <span class=\"nv\">F</span><span class=\"p\">),</span> <span class=\"nf\">in_1235</span><span class=\"p\">(</span><span class=\"nv\">F</span><span class=\"p\">),</span> <span class=\"nv\">Y</span> <span class=\"o\">=</span> <span class=\"mi\">5</span><span class=\"o\">*</span><span class=\"nv\">X</span> <span class=\"p\">,</span> <span class=\"nv\">Y</span><span class=\"o\">&lt;</span><span class=\"mf\">1000.</span>\n",
       "</pre></div>\n"
      ],
      "text/plain": [
       "'% Below, we need the sets {1,2}, {1,2,3}, {1,2,3,5}, so let\\'s define them: \\nin_12(1).\\nin_12(2).\\n\\nin_123(X) :- in_12(X).\\nin_123(3).\\n\\nin_1235(X) :- in_123(X).\\nin_1235(5).\\n\\n% hamming(Output, Input, Factor)\\n% Generates Hamming numbers by simple multiplication:\\n%    Output := Input * Factor\\n% The third argument (Factor) also acts as a *provenance annotation*,\\n% which can be used to create labeled edges: Input --Factor--> Output\\n\\n% The first rule (rather: fact) gets us started and adds \"1\" as a Hamming number.\\n% The second rule generates multiples of 2 from numbers that have 1 or 2 as a factor.\\n% The third rule generates multiples of 3 from numbers that have 1,2, or 3 as a factor.\\n% The fourth rule generates multiples of 5 from numbers that have 1,2, 3, or 5 as a factor.\\n% limit set to Y < 1000\\nhamming(1,1, 1).\\nhamming(Y,X, 2) :- hamming(X,_, F), in_12(F),   Y = 2*X , Y<1000.\\nhamming(Y,X, 3) :- hamming(X,_, F), in_123(F),  Y = 3*X , Y<1000.\\nhamming(Y,X, 5) :- hamming(X,_, F), in_1235(F), Y = 5*X , Y<1000.'"
      ]
     },
     "metadata": {},
     "output_type": "display_data"
    }
   ],
   "source": [
    "family_base_facts_and_rules_file = os.path.expanduser('~/data_readonly/provenance/problem2-sail.lp')\n",
    "%set_db_file $family_base_facts_and_rules_file"
   ]
  },
  {
   "cell_type": "markdown",
   "metadata": {
    "deletable": false,
    "editable": false,
    "nbgrader": {
     "cell_type": "markdown",
     "checksum": "a98e6fd51ecc6c0ae76e8e23e70e5c52",
     "grade": false,
     "grade_id": "cell-1fb2450cb3f558dc",
     "locked": true,
     "schema_version": 3,
     "solution": false
    }
   },
   "source": [
    "See the Hamming Rules Output"
   ]
  },
  {
   "cell_type": "code",
   "execution_count": 3,
   "metadata": {
    "deletable": false,
    "editable": false,
    "nbgrader": {
     "cell_type": "code",
     "checksum": "2f04bb6d82a784462d664e971781d2eb",
     "grade": false,
     "grade_id": "cell-9a253338d0f5be68",
     "locked": true,
     "schema_version": 3,
     "solution": false
    }
   },
   "outputs": [
    {
     "name": "stdout",
     "output_type": "stream",
     "text": [
      "Saving output to local variable Hamming_test['result']\n",
      "Saving code snippet to local variable Hamming_test['code']\n"
     ]
    },
    {
     "data": {
      "text/html": [
       "\n",
       "      <style>\n",
       "      .highlight .hll { background-color: #ffffcc }\n",
       ".highlight  { background: #f8f8f8; }\n",
       ".highlight .c { color: #408080; font-style: italic } /* Comment */\n",
       ".highlight .err { border: 1px solid #FF0000 } /* Error */\n",
       ".highlight .k { color: #008000; font-weight: bold } /* Keyword */\n",
       ".highlight .o { color: #666666 } /* Operator */\n",
       ".highlight .ch { color: #408080; font-style: italic } /* Comment.Hashbang */\n",
       ".highlight .cm { color: #408080; font-style: italic } /* Comment.Multiline */\n",
       ".highlight .cp { color: #BC7A00 } /* Comment.Preproc */\n",
       ".highlight .cpf { color: #408080; font-style: italic } /* Comment.PreprocFile */\n",
       ".highlight .c1 { color: #408080; font-style: italic } /* Comment.Single */\n",
       ".highlight .cs { color: #408080; font-style: italic } /* Comment.Special */\n",
       ".highlight .gd { color: #A00000 } /* Generic.Deleted */\n",
       ".highlight .ge { font-style: italic } /* Generic.Emph */\n",
       ".highlight .gr { color: #FF0000 } /* Generic.Error */\n",
       ".highlight .gh { color: #000080; font-weight: bold } /* Generic.Heading */\n",
       ".highlight .gi { color: #00A000 } /* Generic.Inserted */\n",
       ".highlight .go { color: #888888 } /* Generic.Output */\n",
       ".highlight .gp { color: #000080; font-weight: bold } /* Generic.Prompt */\n",
       ".highlight .gs { font-weight: bold } /* Generic.Strong */\n",
       ".highlight .gu { color: #800080; font-weight: bold } /* Generic.Subheading */\n",
       ".highlight .gt { color: #0044DD } /* Generic.Traceback */\n",
       ".highlight .kc { color: #008000; font-weight: bold } /* Keyword.Constant */\n",
       ".highlight .kd { color: #008000; font-weight: bold } /* Keyword.Declaration */\n",
       ".highlight .kn { color: #008000; font-weight: bold } /* Keyword.Namespace */\n",
       ".highlight .kp { color: #008000 } /* Keyword.Pseudo */\n",
       ".highlight .kr { color: #008000; font-weight: bold } /* Keyword.Reserved */\n",
       ".highlight .kt { color: #B00040 } /* Keyword.Type */\n",
       ".highlight .m { color: #666666 } /* Literal.Number */\n",
       ".highlight .s { color: #BA2121 } /* Literal.String */\n",
       ".highlight .na { color: #7D9029 } /* Name.Attribute */\n",
       ".highlight .nb { color: #008000 } /* Name.Builtin */\n",
       ".highlight .nc { color: #0000FF; font-weight: bold } /* Name.Class */\n",
       ".highlight .no { color: #880000 } /* Name.Constant */\n",
       ".highlight .nd { color: #AA22FF } /* Name.Decorator */\n",
       ".highlight .ni { color: #999999; font-weight: bold } /* Name.Entity */\n",
       ".highlight .ne { color: #D2413A; font-weight: bold } /* Name.Exception */\n",
       ".highlight .nf { color: #0000FF } /* Name.Function */\n",
       ".highlight .nl { color: #A0A000 } /* Name.Label */\n",
       ".highlight .nn { color: #0000FF; font-weight: bold } /* Name.Namespace */\n",
       ".highlight .nt { color: #008000; font-weight: bold } /* Name.Tag */\n",
       ".highlight .nv { color: #19177C } /* Name.Variable */\n",
       ".highlight .ow { color: #AA22FF; font-weight: bold } /* Operator.Word */\n",
       ".highlight .w { color: #bbbbbb } /* Text.Whitespace */\n",
       ".highlight .mb { color: #666666 } /* Literal.Number.Bin */\n",
       ".highlight .mf { color: #666666 } /* Literal.Number.Float */\n",
       ".highlight .mh { color: #666666 } /* Literal.Number.Hex */\n",
       ".highlight .mi { color: #666666 } /* Literal.Number.Integer */\n",
       ".highlight .mo { color: #666666 } /* Literal.Number.Oct */\n",
       ".highlight .sa { color: #BA2121 } /* Literal.String.Affix */\n",
       ".highlight .sb { color: #BA2121 } /* Literal.String.Backtick */\n",
       ".highlight .sc { color: #BA2121 } /* Literal.String.Char */\n",
       ".highlight .dl { color: #BA2121 } /* Literal.String.Delimiter */\n",
       ".highlight .sd { color: #BA2121; font-style: italic } /* Literal.String.Doc */\n",
       ".highlight .s2 { color: #BA2121 } /* Literal.String.Double */\n",
       ".highlight .se { color: #BB6622; font-weight: bold } /* Literal.String.Escape */\n",
       ".highlight .sh { color: #BA2121 } /* Literal.String.Heredoc */\n",
       ".highlight .si { color: #BB6688; font-weight: bold } /* Literal.String.Interpol */\n",
       ".highlight .sx { color: #008000 } /* Literal.String.Other */\n",
       ".highlight .sr { color: #BB6688 } /* Literal.String.Regex */\n",
       ".highlight .s1 { color: #BA2121 } /* Literal.String.Single */\n",
       ".highlight .ss { color: #19177C } /* Literal.String.Symbol */\n",
       ".highlight .bp { color: #008000 } /* Name.Builtin.Pseudo */\n",
       ".highlight .fm { color: #0000FF } /* Name.Function.Magic */\n",
       ".highlight .vc { color: #19177C } /* Name.Variable.Class */\n",
       ".highlight .vg { color: #19177C } /* Name.Variable.Global */\n",
       ".highlight .vi { color: #19177C } /* Name.Variable.Instance */\n",
       ".highlight .vm { color: #19177C } /* Name.Variable.Magic */\n",
       ".highlight .il { color: #666666 } /* Literal.Number.Integer.Long */\n",
       "      </style>\n",
       "      "
      ],
      "text/plain": [
       "<IPython.core.display.HTML object>"
      ]
     },
     "metadata": {},
     "output_type": "display_data"
    },
    {
     "data": {
      "text/html": [
       "<div class=\"highlight\"><pre><span></span><span class=\"nf\">hamming</span><span class=\"p\">(</span><span class=\"mi\">1</span><span class=\"p\">,</span><span class=\"mi\">1</span><span class=\"p\">,</span><span class=\"mi\">1</span><span class=\"p\">)</span> <span class=\"nf\">hamming</span><span class=\"p\">(</span><span class=\"mi\">5</span><span class=\"p\">,</span><span class=\"mi\">1</span><span class=\"p\">,</span><span class=\"mi\">5</span><span class=\"p\">)</span> <span class=\"nf\">hamming</span><span class=\"p\">(</span><span class=\"mi\">3</span><span class=\"p\">,</span><span class=\"mi\">1</span><span class=\"p\">,</span><span class=\"mi\">3</span><span class=\"p\">)</span> <span class=\"nf\">hamming</span><span class=\"p\">(</span><span class=\"mi\">2</span><span class=\"p\">,</span><span class=\"mi\">1</span><span class=\"p\">,</span><span class=\"mi\">2</span><span class=\"p\">)</span> <span class=\"nf\">hamming</span><span class=\"p\">(</span><span class=\"mi\">25</span><span class=\"p\">,</span><span class=\"mi\">5</span><span class=\"p\">,</span><span class=\"mi\">5</span><span class=\"p\">)</span> <span class=\"nf\">hamming</span><span class=\"p\">(</span><span class=\"mi\">15</span><span class=\"p\">,</span><span class=\"mi\">3</span><span class=\"p\">,</span><span class=\"mi\">5</span><span class=\"p\">)</span> <span class=\"nf\">hamming</span><span class=\"p\">(</span><span class=\"mi\">10</span><span class=\"p\">,</span><span class=\"mi\">2</span><span class=\"p\">,</span><span class=\"mi\">5</span><span class=\"p\">)</span> <span class=\"nf\">hamming</span><span class=\"p\">(</span><span class=\"mi\">9</span><span class=\"p\">,</span><span class=\"mi\">3</span><span class=\"p\">,</span><span class=\"mi\">3</span><span class=\"p\">)</span> <span class=\"nf\">hamming</span><span class=\"p\">(</span><span class=\"mi\">6</span><span class=\"p\">,</span><span class=\"mi\">2</span><span class=\"p\">,</span><span class=\"mi\">3</span><span class=\"p\">)</span> <span class=\"nf\">hamming</span><span class=\"p\">(</span><span class=\"mi\">4</span><span class=\"p\">,</span><span class=\"mi\">2</span><span class=\"p\">,</span><span class=\"mi\">2</span><span class=\"p\">)</span> <span class=\"nf\">hamming</span><span class=\"p\">(</span><span class=\"mi\">125</span><span class=\"p\">,</span><span class=\"mi\">25</span><span class=\"p\">,</span><span class=\"mi\">5</span><span class=\"p\">)</span> <span class=\"nf\">hamming</span><span class=\"p\">(</span><span class=\"mi\">75</span><span class=\"p\">,</span><span class=\"mi\">15</span><span class=\"p\">,</span><span class=\"mi\">5</span><span class=\"p\">)</span> <span class=\"nf\">hamming</span><span class=\"p\">(</span><span class=\"mi\">50</span><span class=\"p\">,</span><span class=\"mi\">10</span><span class=\"p\">,</span><span class=\"mi\">5</span><span class=\"p\">)</span> <span class=\"nf\">hamming</span><span class=\"p\">(</span><span class=\"mi\">45</span><span class=\"p\">,</span><span class=\"mi\">9</span><span class=\"p\">,</span><span class=\"mi\">5</span><span class=\"p\">)</span> <span class=\"nf\">hamming</span><span class=\"p\">(</span><span class=\"mi\">30</span><span class=\"p\">,</span><span class=\"mi\">6</span><span class=\"p\">,</span><span class=\"mi\">5</span><span class=\"p\">)</span> <span class=\"nf\">hamming</span><span class=\"p\">(</span><span class=\"mi\">20</span><span class=\"p\">,</span><span class=\"mi\">4</span><span class=\"p\">,</span><span class=\"mi\">5</span><span class=\"p\">)</span> <span class=\"nf\">hamming</span><span class=\"p\">(</span><span class=\"mi\">27</span><span class=\"p\">,</span><span class=\"mi\">9</span><span class=\"p\">,</span><span class=\"mi\">3</span><span class=\"p\">)</span> <span class=\"nf\">hamming</span><span class=\"p\">(</span><span class=\"mi\">18</span><span class=\"p\">,</span><span class=\"mi\">6</span><span class=\"p\">,</span><span class=\"mi\">3</span><span class=\"p\">)</span> <span class=\"nf\">hamming</span><span class=\"p\">(</span><span class=\"mi\">12</span><span class=\"p\">,</span><span class=\"mi\">4</span><span class=\"p\">,</span><span class=\"mi\">3</span><span class=\"p\">)</span> <span class=\"nf\">hamming</span><span class=\"p\">(</span><span class=\"mi\">8</span><span class=\"p\">,</span><span class=\"mi\">4</span><span class=\"p\">,</span><span class=\"mi\">2</span><span class=\"p\">)</span> <span class=\"nf\">hamming</span><span class=\"p\">(</span><span class=\"mi\">625</span><span class=\"p\">,</span><span class=\"mi\">125</span><span class=\"p\">,</span><span class=\"mi\">5</span><span class=\"p\">)</span> <span class=\"nf\">hamming</span><span class=\"p\">(</span><span class=\"mi\">375</span><span class=\"p\">,</span><span class=\"mi\">75</span><span class=\"p\">,</span><span class=\"mi\">5</span><span class=\"p\">)</span> <span class=\"nf\">hamming</span><span class=\"p\">(</span><span class=\"mi\">250</span><span class=\"p\">,</span><span class=\"mi\">50</span><span class=\"p\">,</span><span class=\"mi\">5</span><span class=\"p\">)</span> <span class=\"nf\">hamming</span><span class=\"p\">(</span><span class=\"mi\">225</span><span class=\"p\">,</span><span class=\"mi\">45</span><span class=\"p\">,</span><span class=\"mi\">5</span><span class=\"p\">)</span> <span class=\"nf\">hamming</span><span class=\"p\">(</span><span class=\"mi\">150</span><span class=\"p\">,</span><span class=\"mi\">30</span><span class=\"p\">,</span><span class=\"mi\">5</span><span class=\"p\">)</span> <span class=\"nf\">hamming</span><span class=\"p\">(</span><span class=\"mi\">100</span><span class=\"p\">,</span><span class=\"mi\">20</span><span class=\"p\">,</span><span class=\"mi\">5</span><span class=\"p\">)</span> <span class=\"nf\">hamming</span><span class=\"p\">(</span><span class=\"mi\">135</span><span class=\"p\">,</span><span class=\"mi\">27</span><span class=\"p\">,</span><span class=\"mi\">5</span><span class=\"p\">)</span> <span class=\"nf\">hamming</span><span class=\"p\">(</span><span class=\"mi\">90</span><span class=\"p\">,</span><span class=\"mi\">18</span><span class=\"p\">,</span><span class=\"mi\">5</span><span class=\"p\">)</span> <span class=\"nf\">hamming</span><span class=\"p\">(</span><span class=\"mi\">60</span><span class=\"p\">,</span><span class=\"mi\">12</span><span class=\"p\">,</span><span class=\"mi\">5</span><span class=\"p\">)</span> <span class=\"nf\">hamming</span><span class=\"p\">(</span><span class=\"mi\">40</span><span class=\"p\">,</span><span class=\"mi\">8</span><span class=\"p\">,</span><span class=\"mi\">5</span><span class=\"p\">)</span> <span class=\"nf\">hamming</span><span class=\"p\">(</span><span class=\"mi\">81</span><span class=\"p\">,</span><span class=\"mi\">27</span><span class=\"p\">,</span><span class=\"mi\">3</span><span class=\"p\">)</span> <span class=\"nf\">hamming</span><span class=\"p\">(</span><span class=\"mi\">54</span><span class=\"p\">,</span><span class=\"mi\">18</span><span class=\"p\">,</span><span class=\"mi\">3</span><span class=\"p\">)</span> <span class=\"nf\">hamming</span><span class=\"p\">(</span><span class=\"mi\">36</span><span class=\"p\">,</span><span class=\"mi\">12</span><span class=\"p\">,</span><span class=\"mi\">3</span><span class=\"p\">)</span> <span class=\"nf\">hamming</span><span class=\"p\">(</span><span class=\"mi\">24</span><span class=\"p\">,</span><span class=\"mi\">8</span><span class=\"p\">,</span><span class=\"mi\">3</span><span class=\"p\">)</span> <span class=\"nf\">hamming</span><span class=\"p\">(</span><span class=\"mi\">16</span><span class=\"p\">,</span><span class=\"mi\">8</span><span class=\"p\">,</span><span class=\"mi\">2</span><span class=\"p\">)</span> <span class=\"nf\">hamming</span><span class=\"p\">(</span><span class=\"mi\">750</span><span class=\"p\">,</span><span class=\"mi\">150</span><span class=\"p\">,</span><span class=\"mi\">5</span><span class=\"p\">)</span> <span class=\"nf\">hamming</span><span class=\"p\">(</span><span class=\"mi\">500</span><span class=\"p\">,</span><span class=\"mi\">100</span><span class=\"p\">,</span><span class=\"mi\">5</span><span class=\"p\">)</span> <span class=\"nf\">hamming</span><span class=\"p\">(</span><span class=\"mi\">675</span><span class=\"p\">,</span><span class=\"mi\">135</span><span class=\"p\">,</span><span class=\"mi\">5</span><span class=\"p\">)</span> <span class=\"nf\">hamming</span><span class=\"p\">(</span><span class=\"mi\">450</span><span class=\"p\">,</span><span class=\"mi\">90</span><span class=\"p\">,</span><span class=\"mi\">5</span><span class=\"p\">)</span> <span class=\"nf\">hamming</span><span class=\"p\">(</span><span class=\"mi\">300</span><span class=\"p\">,</span><span class=\"mi\">60</span><span class=\"p\">,</span><span class=\"mi\">5</span><span class=\"p\">)</span> <span class=\"nf\">hamming</span><span class=\"p\">(</span><span class=\"mi\">200</span><span class=\"p\">,</span><span class=\"mi\">40</span><span class=\"p\">,</span><span class=\"mi\">5</span><span class=\"p\">)</span> <span class=\"nf\">hamming</span><span class=\"p\">(</span><span class=\"mi\">405</span><span class=\"p\">,</span><span class=\"mi\">81</span><span class=\"p\">,</span><span class=\"mi\">5</span><span class=\"p\">)</span> <span class=\"nf\">hamming</span><span class=\"p\">(</span><span class=\"mi\">270</span><span class=\"p\">,</span><span class=\"mi\">54</span><span class=\"p\">,</span><span class=\"mi\">5</span><span class=\"p\">)</span> <span class=\"nf\">hamming</span><span class=\"p\">(</span><span class=\"mi\">180</span><span class=\"p\">,</span><span class=\"mi\">36</span><span class=\"p\">,</span><span class=\"mi\">5</span><span class=\"p\">)</span> <span class=\"nf\">hamming</span><span class=\"p\">(</span><span class=\"mi\">120</span><span class=\"p\">,</span><span class=\"mi\">24</span><span class=\"p\">,</span><span class=\"mi\">5</span><span class=\"p\">)</span> <span class=\"nf\">hamming</span><span class=\"p\">(</span><span class=\"mi\">80</span><span class=\"p\">,</span><span class=\"mi\">16</span><span class=\"p\">,</span><span class=\"mi\">5</span><span class=\"p\">)</span> <span class=\"nf\">hamming</span><span class=\"p\">(</span><span class=\"mi\">243</span><span class=\"p\">,</span><span class=\"mi\">81</span><span class=\"p\">,</span><span class=\"mi\">3</span><span class=\"p\">)</span> <span class=\"nf\">hamming</span><span class=\"p\">(</span><span class=\"mi\">162</span><span class=\"p\">,</span><span class=\"mi\">54</span><span class=\"p\">,</span><span class=\"mi\">3</span><span class=\"p\">)</span> <span class=\"nf\">hamming</span><span class=\"p\">(</span><span class=\"mi\">108</span><span class=\"p\">,</span><span class=\"mi\">36</span><span class=\"p\">,</span><span class=\"mi\">3</span><span class=\"p\">)</span> <span class=\"nf\">hamming</span><span class=\"p\">(</span><span class=\"mi\">72</span><span class=\"p\">,</span><span class=\"mi\">24</span><span class=\"p\">,</span><span class=\"mi\">3</span><span class=\"p\">)</span> <span class=\"nf\">hamming</span><span class=\"p\">(</span><span class=\"mi\">48</span><span class=\"p\">,</span><span class=\"mi\">16</span><span class=\"p\">,</span><span class=\"mi\">3</span><span class=\"p\">)</span> <span class=\"nf\">hamming</span><span class=\"p\">(</span><span class=\"mi\">32</span><span class=\"p\">,</span><span class=\"mi\">16</span><span class=\"p\">,</span><span class=\"mi\">2</span><span class=\"p\">)</span> <span class=\"nf\">hamming</span><span class=\"p\">(</span><span class=\"mi\">900</span><span class=\"p\">,</span><span class=\"mi\">180</span><span class=\"p\">,</span><span class=\"mi\">5</span><span class=\"p\">)</span> <span class=\"nf\">hamming</span><span class=\"p\">(</span><span class=\"mi\">600</span><span class=\"p\">,</span><span class=\"mi\">120</span><span class=\"p\">,</span><span class=\"mi\">5</span><span class=\"p\">)</span> <span class=\"nf\">hamming</span><span class=\"p\">(</span><span class=\"mi\">400</span><span class=\"p\">,</span><span class=\"mi\">80</span><span class=\"p\">,</span><span class=\"mi\">5</span><span class=\"p\">)</span> <span class=\"nf\">hamming</span><span class=\"p\">(</span><span class=\"mi\">810</span><span class=\"p\">,</span><span class=\"mi\">162</span><span class=\"p\">,</span><span class=\"mi\">5</span><span class=\"p\">)</span> <span class=\"nf\">hamming</span><span class=\"p\">(</span><span class=\"mi\">540</span><span class=\"p\">,</span><span class=\"mi\">108</span><span class=\"p\">,</span><span class=\"mi\">5</span><span class=\"p\">)</span> <span class=\"nf\">hamming</span><span class=\"p\">(</span><span class=\"mi\">360</span><span class=\"p\">,</span><span class=\"mi\">72</span><span class=\"p\">,</span><span class=\"mi\">5</span><span class=\"p\">)</span> <span class=\"nf\">hamming</span><span class=\"p\">(</span><span class=\"mi\">240</span><span class=\"p\">,</span><span class=\"mi\">48</span><span class=\"p\">,</span><span class=\"mi\">5</span><span class=\"p\">)</span> <span class=\"nf\">hamming</span><span class=\"p\">(</span><span class=\"mi\">160</span><span class=\"p\">,</span><span class=\"mi\">32</span><span class=\"p\">,</span><span class=\"mi\">5</span><span class=\"p\">)</span> <span class=\"nf\">hamming</span><span class=\"p\">(</span><span class=\"mi\">729</span><span class=\"p\">,</span><span class=\"mi\">243</span><span class=\"p\">,</span><span class=\"mi\">3</span><span class=\"p\">)</span> <span class=\"nf\">hamming</span><span class=\"p\">(</span><span class=\"mi\">486</span><span class=\"p\">,</span><span class=\"mi\">162</span><span class=\"p\">,</span><span class=\"mi\">3</span><span class=\"p\">)</span> <span class=\"nf\">hamming</span><span class=\"p\">(</span><span class=\"mi\">324</span><span class=\"p\">,</span><span class=\"mi\">108</span><span class=\"p\">,</span><span class=\"mi\">3</span><span class=\"p\">)</span> <span class=\"nf\">hamming</span><span class=\"p\">(</span><span class=\"mi\">216</span><span class=\"p\">,</span><span class=\"mi\">72</span><span class=\"p\">,</span><span class=\"mi\">3</span><span class=\"p\">)</span> <span class=\"nf\">hamming</span><span class=\"p\">(</span><span class=\"mi\">144</span><span class=\"p\">,</span><span class=\"mi\">48</span><span class=\"p\">,</span><span class=\"mi\">3</span><span class=\"p\">)</span> <span class=\"nf\">hamming</span><span class=\"p\">(</span><span class=\"mi\">96</span><span class=\"p\">,</span><span class=\"mi\">32</span><span class=\"p\">,</span><span class=\"mi\">3</span><span class=\"p\">)</span> <span class=\"nf\">hamming</span><span class=\"p\">(</span><span class=\"mi\">64</span><span class=\"p\">,</span><span class=\"mi\">32</span><span class=\"p\">,</span><span class=\"mi\">2</span><span class=\"p\">)</span> <span class=\"nf\">hamming</span><span class=\"p\">(</span><span class=\"mi\">800</span><span class=\"p\">,</span><span class=\"mi\">160</span><span class=\"p\">,</span><span class=\"mi\">5</span><span class=\"p\">)</span> <span class=\"nf\">hamming</span><span class=\"p\">(</span><span class=\"mi\">720</span><span class=\"p\">,</span><span class=\"mi\">144</span><span class=\"p\">,</span><span class=\"mi\">5</span><span class=\"p\">)</span> <span class=\"nf\">hamming</span><span class=\"p\">(</span><span class=\"mi\">480</span><span class=\"p\">,</span><span class=\"mi\">96</span><span class=\"p\">,</span><span class=\"mi\">5</span><span class=\"p\">)</span> <span class=\"nf\">hamming</span><span class=\"p\">(</span><span class=\"mi\">320</span><span class=\"p\">,</span><span class=\"mi\">64</span><span class=\"p\">,</span><span class=\"mi\">5</span><span class=\"p\">)</span> <span class=\"nf\">hamming</span><span class=\"p\">(</span><span class=\"mi\">972</span><span class=\"p\">,</span><span class=\"mi\">324</span><span class=\"p\">,</span><span class=\"mi\">3</span><span class=\"p\">)</span> <span class=\"nf\">hamming</span><span class=\"p\">(</span><span class=\"mi\">648</span><span class=\"p\">,</span><span class=\"mi\">216</span><span class=\"p\">,</span><span class=\"mi\">3</span><span class=\"p\">)</span> <span class=\"nf\">hamming</span><span class=\"p\">(</span><span class=\"mi\">432</span><span class=\"p\">,</span><span class=\"mi\">144</span><span class=\"p\">,</span><span class=\"mi\">3</span><span class=\"p\">)</span> <span class=\"nf\">hamming</span><span class=\"p\">(</span><span class=\"mi\">288</span><span class=\"p\">,</span><span class=\"mi\">96</span><span class=\"p\">,</span><span class=\"mi\">3</span><span class=\"p\">)</span> <span class=\"nf\">hamming</span><span class=\"p\">(</span><span class=\"mi\">192</span><span class=\"p\">,</span><span class=\"mi\">64</span><span class=\"p\">,</span><span class=\"mi\">3</span><span class=\"p\">)</span> <span class=\"nf\">hamming</span><span class=\"p\">(</span><span class=\"mi\">128</span><span class=\"p\">,</span><span class=\"mi\">64</span><span class=\"p\">,</span><span class=\"mi\">2</span><span class=\"p\">)</span> <span class=\"nf\">hamming</span><span class=\"p\">(</span><span class=\"mi\">960</span><span class=\"p\">,</span><span class=\"mi\">192</span><span class=\"p\">,</span><span class=\"mi\">5</span><span class=\"p\">)</span> <span class=\"nf\">hamming</span><span class=\"p\">(</span><span class=\"mi\">640</span><span class=\"p\">,</span><span class=\"mi\">128</span><span class=\"p\">,</span><span class=\"mi\">5</span><span class=\"p\">)</span> <span class=\"nf\">hamming</span><span class=\"p\">(</span><span class=\"mi\">864</span><span class=\"p\">,</span><span class=\"mi\">288</span><span class=\"p\">,</span><span class=\"mi\">3</span><span class=\"p\">)</span> <span class=\"nf\">hamming</span><span class=\"p\">(</span><span class=\"mi\">576</span><span class=\"p\">,</span><span class=\"mi\">192</span><span class=\"p\">,</span><span class=\"mi\">3</span><span class=\"p\">)</span> <span class=\"nf\">hamming</span><span class=\"p\">(</span><span class=\"mi\">384</span><span class=\"p\">,</span><span class=\"mi\">128</span><span class=\"p\">,</span><span class=\"mi\">3</span><span class=\"p\">)</span> <span class=\"nf\">hamming</span><span class=\"p\">(</span><span class=\"mi\">256</span><span class=\"p\">,</span><span class=\"mi\">128</span><span class=\"p\">,</span><span class=\"mi\">2</span><span class=\"p\">)</span> <span class=\"nf\">hamming</span><span class=\"p\">(</span><span class=\"mi\">768</span><span class=\"p\">,</span><span class=\"mi\">256</span><span class=\"p\">,</span><span class=\"mi\">3</span><span class=\"p\">)</span> <span class=\"nf\">hamming</span><span class=\"p\">(</span><span class=\"mi\">512</span><span class=\"p\">,</span><span class=\"mi\">256</span><span class=\"p\">,</span><span class=\"mi\">2</span><span class=\"p\">)</span>\n",
       "</pre></div>\n"
      ],
      "text/plain": [
       "'hamming(1,1,1) hamming(5,1,5) hamming(3,1,3) hamming(2,1,2) hamming(25,5,5) hamming(15,3,5) hamming(10,2,5) hamming(9,3,3) hamming(6,2,3) hamming(4,2,2) hamming(125,25,5) hamming(75,15,5) hamming(50,10,5) hamming(45,9,5) hamming(30,6,5) hamming(20,4,5) hamming(27,9,3) hamming(18,6,3) hamming(12,4,3) hamming(8,4,2) hamming(625,125,5) hamming(375,75,5) hamming(250,50,5) hamming(225,45,5) hamming(150,30,5) hamming(100,20,5) hamming(135,27,5) hamming(90,18,5) hamming(60,12,5) hamming(40,8,5) hamming(81,27,3) hamming(54,18,3) hamming(36,12,3) hamming(24,8,3) hamming(16,8,2) hamming(750,150,5) hamming(500,100,5) hamming(675,135,5) hamming(450,90,5) hamming(300,60,5) hamming(200,40,5) hamming(405,81,5) hamming(270,54,5) hamming(180,36,5) hamming(120,24,5) hamming(80,16,5) hamming(243,81,3) hamming(162,54,3) hamming(108,36,3) hamming(72,24,3) hamming(48,16,3) hamming(32,16,2) hamming(900,180,5) hamming(600,120,5) hamming(400,80,5) hamming(810,162,5) hamming(540,108,5) hamming(360,72,5) hamming(240,48,5) hamming(160,32,5) hamming(729,243,3) hamming(486,162,3) hamming(324,108,3) hamming(216,72,3) hamming(144,48,3) hamming(96,32,3) hamming(64,32,2) hamming(800,160,5) hamming(720,144,5) hamming(480,96,5) hamming(320,64,5) hamming(972,324,3) hamming(648,216,3) hamming(432,144,3) hamming(288,96,3) hamming(192,64,3) hamming(128,64,2) hamming(960,192,5) hamming(640,128,5) hamming(864,288,3) hamming(576,192,3) hamming(384,128,3) hamming(256,128,2) hamming(768,256,3) hamming(512,256,2)'"
      ]
     },
     "execution_count": 3,
     "metadata": {},
     "output_type": "execute_result"
    }
   ],
   "source": [
    "%%clingo {\"predicate\" : \"hamming\", \"predicate_arity\" : 3, \"result_var\": \"Hamming_test\"}\n",
    "% Hamming Test"
   ]
  },
  {
   "cell_type": "markdown",
   "metadata": {
    "deletable": false,
    "editable": false,
    "nbgrader": {
     "cell_type": "markdown",
     "checksum": "a5ef9fbccd39a676b8390d816abb45c5",
     "grade": false,
     "grade_id": "cell-c849268584ac952a",
     "locked": true,
     "schema_version": 3,
     "solution": false
    }
   },
   "source": [
    "### 1. [10 points]  Ancestors: _Sail_\n",
    "Compute the lineage of 360 in the _Sail_ provenance graph, i.e., all nodes for which there is a path that leads to 360. Compare the output of the same rules on the _Fish_ graph. Note whether/how the lineage of 360 differs in the two graphs."
   ]
  },
  {
   "cell_type": "code",
   "execution_count": 4,
   "metadata": {
    "deletable": false,
    "nbgrader": {
     "cell_type": "code",
     "checksum": "b876d3c7365b0a1042e755981288d16b",
     "grade": false,
     "grade_id": "cell-afe5616b936b2cb6",
     "locked": false,
     "schema_version": 3,
     "solution": true
    }
   },
   "outputs": [
    {
     "name": "stdout",
     "output_type": "stream",
     "text": [
      "Saving output to local variable Anc_360['result']\n",
      "Saving code snippet to local variable Anc_360['code']\n"
     ]
    },
    {
     "data": {
      "text/html": [
       "\n",
       "      <style>\n",
       "      .highlight .hll { background-color: #ffffcc }\n",
       ".highlight  { background: #f8f8f8; }\n",
       ".highlight .c { color: #408080; font-style: italic } /* Comment */\n",
       ".highlight .err { border: 1px solid #FF0000 } /* Error */\n",
       ".highlight .k { color: #008000; font-weight: bold } /* Keyword */\n",
       ".highlight .o { color: #666666 } /* Operator */\n",
       ".highlight .ch { color: #408080; font-style: italic } /* Comment.Hashbang */\n",
       ".highlight .cm { color: #408080; font-style: italic } /* Comment.Multiline */\n",
       ".highlight .cp { color: #BC7A00 } /* Comment.Preproc */\n",
       ".highlight .cpf { color: #408080; font-style: italic } /* Comment.PreprocFile */\n",
       ".highlight .c1 { color: #408080; font-style: italic } /* Comment.Single */\n",
       ".highlight .cs { color: #408080; font-style: italic } /* Comment.Special */\n",
       ".highlight .gd { color: #A00000 } /* Generic.Deleted */\n",
       ".highlight .ge { font-style: italic } /* Generic.Emph */\n",
       ".highlight .gr { color: #FF0000 } /* Generic.Error */\n",
       ".highlight .gh { color: #000080; font-weight: bold } /* Generic.Heading */\n",
       ".highlight .gi { color: #00A000 } /* Generic.Inserted */\n",
       ".highlight .go { color: #888888 } /* Generic.Output */\n",
       ".highlight .gp { color: #000080; font-weight: bold } /* Generic.Prompt */\n",
       ".highlight .gs { font-weight: bold } /* Generic.Strong */\n",
       ".highlight .gu { color: #800080; font-weight: bold } /* Generic.Subheading */\n",
       ".highlight .gt { color: #0044DD } /* Generic.Traceback */\n",
       ".highlight .kc { color: #008000; font-weight: bold } /* Keyword.Constant */\n",
       ".highlight .kd { color: #008000; font-weight: bold } /* Keyword.Declaration */\n",
       ".highlight .kn { color: #008000; font-weight: bold } /* Keyword.Namespace */\n",
       ".highlight .kp { color: #008000 } /* Keyword.Pseudo */\n",
       ".highlight .kr { color: #008000; font-weight: bold } /* Keyword.Reserved */\n",
       ".highlight .kt { color: #B00040 } /* Keyword.Type */\n",
       ".highlight .m { color: #666666 } /* Literal.Number */\n",
       ".highlight .s { color: #BA2121 } /* Literal.String */\n",
       ".highlight .na { color: #7D9029 } /* Name.Attribute */\n",
       ".highlight .nb { color: #008000 } /* Name.Builtin */\n",
       ".highlight .nc { color: #0000FF; font-weight: bold } /* Name.Class */\n",
       ".highlight .no { color: #880000 } /* Name.Constant */\n",
       ".highlight .nd { color: #AA22FF } /* Name.Decorator */\n",
       ".highlight .ni { color: #999999; font-weight: bold } /* Name.Entity */\n",
       ".highlight .ne { color: #D2413A; font-weight: bold } /* Name.Exception */\n",
       ".highlight .nf { color: #0000FF } /* Name.Function */\n",
       ".highlight .nl { color: #A0A000 } /* Name.Label */\n",
       ".highlight .nn { color: #0000FF; font-weight: bold } /* Name.Namespace */\n",
       ".highlight .nt { color: #008000; font-weight: bold } /* Name.Tag */\n",
       ".highlight .nv { color: #19177C } /* Name.Variable */\n",
       ".highlight .ow { color: #AA22FF; font-weight: bold } /* Operator.Word */\n",
       ".highlight .w { color: #bbbbbb } /* Text.Whitespace */\n",
       ".highlight .mb { color: #666666 } /* Literal.Number.Bin */\n",
       ".highlight .mf { color: #666666 } /* Literal.Number.Float */\n",
       ".highlight .mh { color: #666666 } /* Literal.Number.Hex */\n",
       ".highlight .mi { color: #666666 } /* Literal.Number.Integer */\n",
       ".highlight .mo { color: #666666 } /* Literal.Number.Oct */\n",
       ".highlight .sa { color: #BA2121 } /* Literal.String.Affix */\n",
       ".highlight .sb { color: #BA2121 } /* Literal.String.Backtick */\n",
       ".highlight .sc { color: #BA2121 } /* Literal.String.Char */\n",
       ".highlight .dl { color: #BA2121 } /* Literal.String.Delimiter */\n",
       ".highlight .sd { color: #BA2121; font-style: italic } /* Literal.String.Doc */\n",
       ".highlight .s2 { color: #BA2121 } /* Literal.String.Double */\n",
       ".highlight .se { color: #BB6622; font-weight: bold } /* Literal.String.Escape */\n",
       ".highlight .sh { color: #BA2121 } /* Literal.String.Heredoc */\n",
       ".highlight .si { color: #BB6688; font-weight: bold } /* Literal.String.Interpol */\n",
       ".highlight .sx { color: #008000 } /* Literal.String.Other */\n",
       ".highlight .sr { color: #BB6688 } /* Literal.String.Regex */\n",
       ".highlight .s1 { color: #BA2121 } /* Literal.String.Single */\n",
       ".highlight .ss { color: #19177C } /* Literal.String.Symbol */\n",
       ".highlight .bp { color: #008000 } /* Name.Builtin.Pseudo */\n",
       ".highlight .fm { color: #0000FF } /* Name.Function.Magic */\n",
       ".highlight .vc { color: #19177C } /* Name.Variable.Class */\n",
       ".highlight .vg { color: #19177C } /* Name.Variable.Global */\n",
       ".highlight .vi { color: #19177C } /* Name.Variable.Instance */\n",
       ".highlight .vm { color: #19177C } /* Name.Variable.Magic */\n",
       ".highlight .il { color: #666666 } /* Literal.Number.Integer.Long */\n",
       "      </style>\n",
       "      "
      ],
      "text/plain": [
       "<IPython.core.display.HTML object>"
      ]
     },
     "metadata": {},
     "output_type": "display_data"
    },
    {
     "data": {
      "text/html": [
       "<div class=\"highlight\"><pre><span></span><span class=\"nf\">anc_360</span><span class=\"p\">(</span><span class=\"mi\">72</span><span class=\"p\">)</span> <span class=\"nf\">anc_360</span><span class=\"p\">(</span><span class=\"mi\">24</span><span class=\"p\">)</span> <span class=\"nf\">anc_360</span><span class=\"p\">(</span><span class=\"mi\">8</span><span class=\"p\">)</span> <span class=\"nf\">anc_360</span><span class=\"p\">(</span><span class=\"mi\">4</span><span class=\"p\">)</span> <span class=\"nf\">anc_360</span><span class=\"p\">(</span><span class=\"mi\">2</span><span class=\"p\">)</span> <span class=\"nf\">anc_360</span><span class=\"p\">(</span><span class=\"mi\">1</span><span class=\"p\">)</span>\n",
       "</pre></div>\n"
      ],
      "text/plain": [
       "'anc_360(72) anc_360(24) anc_360(8) anc_360(4) anc_360(2) anc_360(1)'"
      ]
     },
     "execution_count": 4,
     "metadata": {},
     "output_type": "execute_result"
    }
   ],
   "source": [
    "%%clingo {\"predicate\" : \"anc_360\", \"predicate_arity\" : 1, \"result_var\": \"Anc_360\"}\n",
    "% Don't change the clingo magic command above. The header of this cell will determine how the datalog rules are saved for evaluation.\n",
    "\n",
    "% Change following expression.\n",
    "% add additional rules if necessary\n",
    "\n",
    "par(Y, X) :- hamming(Y, X, _).\n",
    "\n",
    "anc(X, Y) :- par(X, Y).\n",
    "anc(X, Y) :- par(X, Z), anc(Z, Y).\n",
    "\n",
    "anc_360(X) :- anc(360, X)."
   ]
  },
  {
   "cell_type": "markdown",
   "metadata": {
    "deletable": false,
    "editable": false,
    "nbgrader": {
     "cell_type": "markdown",
     "checksum": "05e578ac8b3139bebf9406e6fa1b3d90",
     "grade": false,
     "grade_id": "cell-9544bf36eff94e10",
     "locked": true,
     "schema_version": 3,
     "solution": false
    }
   },
   "source": [
    "### Test 1 for Ancestors of 360."
   ]
  },
  {
   "cell_type": "code",
   "execution_count": 5,
   "metadata": {
    "deletable": false,
    "editable": false,
    "nbgrader": {
     "cell_type": "code",
     "checksum": "6716e030562e17d3a4269f6e60ddf656",
     "grade": true,
     "grade_id": "cell-ce5a077866751446",
     "locked": true,
     "points": 1,
     "schema_version": 3,
     "solution": false
    }
   },
   "outputs": [
    {
     "data": {
      "text/html": [
       "<p><font color=\"green\">Test passed.</font></p>"
      ],
      "text/plain": [
       "<IPython.core.display.HTML object>"
      ]
     },
     "metadata": {},
     "output_type": "display_data"
    },
    {
     "data": {
      "text/html": [
       "<p><font color=\"green\">Your output matched with following expected output:</font></p>"
      ],
      "text/plain": [
       "<IPython.core.display.HTML object>"
      ]
     },
     "metadata": {},
     "output_type": "display_data"
    },
    {
     "data": {
      "text/html": [
       "\n",
       "      <style>\n",
       "      .highlight .hll { background-color: #ffffcc }\n",
       ".highlight  { background: #f8f8f8; }\n",
       ".highlight .c { color: #408080; font-style: italic } /* Comment */\n",
       ".highlight .err { border: 1px solid #FF0000 } /* Error */\n",
       ".highlight .k { color: #008000; font-weight: bold } /* Keyword */\n",
       ".highlight .o { color: #666666 } /* Operator */\n",
       ".highlight .ch { color: #408080; font-style: italic } /* Comment.Hashbang */\n",
       ".highlight .cm { color: #408080; font-style: italic } /* Comment.Multiline */\n",
       ".highlight .cp { color: #BC7A00 } /* Comment.Preproc */\n",
       ".highlight .cpf { color: #408080; font-style: italic } /* Comment.PreprocFile */\n",
       ".highlight .c1 { color: #408080; font-style: italic } /* Comment.Single */\n",
       ".highlight .cs { color: #408080; font-style: italic } /* Comment.Special */\n",
       ".highlight .gd { color: #A00000 } /* Generic.Deleted */\n",
       ".highlight .ge { font-style: italic } /* Generic.Emph */\n",
       ".highlight .gr { color: #FF0000 } /* Generic.Error */\n",
       ".highlight .gh { color: #000080; font-weight: bold } /* Generic.Heading */\n",
       ".highlight .gi { color: #00A000 } /* Generic.Inserted */\n",
       ".highlight .go { color: #888888 } /* Generic.Output */\n",
       ".highlight .gp { color: #000080; font-weight: bold } /* Generic.Prompt */\n",
       ".highlight .gs { font-weight: bold } /* Generic.Strong */\n",
       ".highlight .gu { color: #800080; font-weight: bold } /* Generic.Subheading */\n",
       ".highlight .gt { color: #0044DD } /* Generic.Traceback */\n",
       ".highlight .kc { color: #008000; font-weight: bold } /* Keyword.Constant */\n",
       ".highlight .kd { color: #008000; font-weight: bold } /* Keyword.Declaration */\n",
       ".highlight .kn { color: #008000; font-weight: bold } /* Keyword.Namespace */\n",
       ".highlight .kp { color: #008000 } /* Keyword.Pseudo */\n",
       ".highlight .kr { color: #008000; font-weight: bold } /* Keyword.Reserved */\n",
       ".highlight .kt { color: #B00040 } /* Keyword.Type */\n",
       ".highlight .m { color: #666666 } /* Literal.Number */\n",
       ".highlight .s { color: #BA2121 } /* Literal.String */\n",
       ".highlight .na { color: #7D9029 } /* Name.Attribute */\n",
       ".highlight .nb { color: #008000 } /* Name.Builtin */\n",
       ".highlight .nc { color: #0000FF; font-weight: bold } /* Name.Class */\n",
       ".highlight .no { color: #880000 } /* Name.Constant */\n",
       ".highlight .nd { color: #AA22FF } /* Name.Decorator */\n",
       ".highlight .ni { color: #999999; font-weight: bold } /* Name.Entity */\n",
       ".highlight .ne { color: #D2413A; font-weight: bold } /* Name.Exception */\n",
       ".highlight .nf { color: #0000FF } /* Name.Function */\n",
       ".highlight .nl { color: #A0A000 } /* Name.Label */\n",
       ".highlight .nn { color: #0000FF; font-weight: bold } /* Name.Namespace */\n",
       ".highlight .nt { color: #008000; font-weight: bold } /* Name.Tag */\n",
       ".highlight .nv { color: #19177C } /* Name.Variable */\n",
       ".highlight .ow { color: #AA22FF; font-weight: bold } /* Operator.Word */\n",
       ".highlight .w { color: #bbbbbb } /* Text.Whitespace */\n",
       ".highlight .mb { color: #666666 } /* Literal.Number.Bin */\n",
       ".highlight .mf { color: #666666 } /* Literal.Number.Float */\n",
       ".highlight .mh { color: #666666 } /* Literal.Number.Hex */\n",
       ".highlight .mi { color: #666666 } /* Literal.Number.Integer */\n",
       ".highlight .mo { color: #666666 } /* Literal.Number.Oct */\n",
       ".highlight .sa { color: #BA2121 } /* Literal.String.Affix */\n",
       ".highlight .sb { color: #BA2121 } /* Literal.String.Backtick */\n",
       ".highlight .sc { color: #BA2121 } /* Literal.String.Char */\n",
       ".highlight .dl { color: #BA2121 } /* Literal.String.Delimiter */\n",
       ".highlight .sd { color: #BA2121; font-style: italic } /* Literal.String.Doc */\n",
       ".highlight .s2 { color: #BA2121 } /* Literal.String.Double */\n",
       ".highlight .se { color: #BB6622; font-weight: bold } /* Literal.String.Escape */\n",
       ".highlight .sh { color: #BA2121 } /* Literal.String.Heredoc */\n",
       ".highlight .si { color: #BB6688; font-weight: bold } /* Literal.String.Interpol */\n",
       ".highlight .sx { color: #008000 } /* Literal.String.Other */\n",
       ".highlight .sr { color: #BB6688 } /* Literal.String.Regex */\n",
       ".highlight .s1 { color: #BA2121 } /* Literal.String.Single */\n",
       ".highlight .ss { color: #19177C } /* Literal.String.Symbol */\n",
       ".highlight .bp { color: #008000 } /* Name.Builtin.Pseudo */\n",
       ".highlight .fm { color: #0000FF } /* Name.Function.Magic */\n",
       ".highlight .vc { color: #19177C } /* Name.Variable.Class */\n",
       ".highlight .vg { color: #19177C } /* Name.Variable.Global */\n",
       ".highlight .vi { color: #19177C } /* Name.Variable.Instance */\n",
       ".highlight .vm { color: #19177C } /* Name.Variable.Magic */\n",
       ".highlight .il { color: #666666 } /* Literal.Number.Integer.Long */\n",
       "      </style>\n",
       "      "
      ],
      "text/plain": [
       "<IPython.core.display.HTML object>"
      ]
     },
     "metadata": {},
     "output_type": "display_data"
    },
    {
     "data": {
      "text/html": [
       "<div class=\"highlight\"><pre><span></span><span class=\"nf\">anc_360</span><span class=\"p\">(</span><span class=\"mi\">72</span><span class=\"p\">)</span> <span class=\"nf\">anc_360</span><span class=\"p\">(</span><span class=\"mi\">24</span><span class=\"p\">)</span> <span class=\"nf\">anc_360</span><span class=\"p\">(</span><span class=\"mi\">8</span><span class=\"p\">)</span> <span class=\"nf\">anc_360</span><span class=\"p\">(</span><span class=\"mi\">4</span><span class=\"p\">)</span> <span class=\"nf\">anc_360</span><span class=\"p\">(</span><span class=\"mi\">2</span><span class=\"p\">)</span> <span class=\"nf\">anc_360</span><span class=\"p\">(</span><span class=\"mi\">1</span><span class=\"p\">)</span>\n",
       "</pre></div>\n"
      ],
      "text/plain": [
       "'anc_360(72) anc_360(24) anc_360(8) anc_360(4) anc_360(2) anc_360(1)'"
      ]
     },
     "metadata": {},
     "output_type": "display_data"
    }
   ],
   "source": [
    "expected_output = '''\n",
    "anc_360(72) anc_360(24) anc_360(8) anc_360(4) anc_360(2) anc_360(1)\n",
    "'''\n",
    "db_file = os.path.expanduser('~/data_readonly/provenance/problem2-sail.lp')\n",
    "clingo_evaluate(db_file, Anc_360['code'], 'anc_360', 1, expected_output)"
   ]
  },
  {
   "cell_type": "code",
   "execution_count": 6,
   "metadata": {
    "deletable": false,
    "editable": false,
    "nbgrader": {
     "cell_type": "code",
     "checksum": "7281e6be883cda138b0d38868186eff9",
     "grade": true,
     "grade_id": "cell-05dab4d8baef1c99",
     "locked": true,
     "points": 9,
     "schema_version": 3,
     "solution": false
    }
   },
   "outputs": [],
   "source": [
    "# Hidden Test for anc/2\n",
    "# anc/2 is the anc rule you used to generate your anc_360.\n",
    "# refer back to the Family problem (Problem 1):\n",
    "# anc(X,Y) is true if one can reach from X an ancestor Y via a chain of parent edges.\n"
   ]
  },
  {
   "cell_type": "markdown",
   "metadata": {
    "deletable": false,
    "editable": false,
    "nbgrader": {
     "cell_type": "markdown",
     "checksum": "2cf5a68c90e30a2c8c8b251e1a57b3a3",
     "grade": false,
     "grade_id": "cell-d04550f0cad26927",
     "locked": true,
     "schema_version": 3,
     "solution": false
    }
   },
   "source": [
    "### 2. [20 points] Lowest Common Ancestor\n",
    "Compute `lca(360,600,a)`, i.e., the lowest common ancestor of 360 and 600 for the _Sail_ graph, i.e., all nodes for which there is a path that leads to 360. Note whether/how the lineage of 360 differs between the _Fish_ and _Sail_ provenance graphs."
   ]
  },
  {
   "cell_type": "code",
   "execution_count": 7,
   "metadata": {
    "deletable": false,
    "nbgrader": {
     "cell_type": "code",
     "checksum": "3ce71e32d78748a142d4e67bca519ca6",
     "grade": false,
     "grade_id": "cell-6e5820b7f20c3b0e",
     "locked": false,
     "schema_version": 3,
     "solution": true
    }
   },
   "outputs": [
    {
     "name": "stdout",
     "output_type": "stream",
     "text": [
      "Saving output to local variable Lca_360_600['result']\n",
      "Saving code snippet to local variable Lca_360_600['code']\n"
     ]
    },
    {
     "data": {
      "text/html": [
       "\n",
       "      <style>\n",
       "      .highlight .hll { background-color: #ffffcc }\n",
       ".highlight  { background: #f8f8f8; }\n",
       ".highlight .c { color: #408080; font-style: italic } /* Comment */\n",
       ".highlight .err { border: 1px solid #FF0000 } /* Error */\n",
       ".highlight .k { color: #008000; font-weight: bold } /* Keyword */\n",
       ".highlight .o { color: #666666 } /* Operator */\n",
       ".highlight .ch { color: #408080; font-style: italic } /* Comment.Hashbang */\n",
       ".highlight .cm { color: #408080; font-style: italic } /* Comment.Multiline */\n",
       ".highlight .cp { color: #BC7A00 } /* Comment.Preproc */\n",
       ".highlight .cpf { color: #408080; font-style: italic } /* Comment.PreprocFile */\n",
       ".highlight .c1 { color: #408080; font-style: italic } /* Comment.Single */\n",
       ".highlight .cs { color: #408080; font-style: italic } /* Comment.Special */\n",
       ".highlight .gd { color: #A00000 } /* Generic.Deleted */\n",
       ".highlight .ge { font-style: italic } /* Generic.Emph */\n",
       ".highlight .gr { color: #FF0000 } /* Generic.Error */\n",
       ".highlight .gh { color: #000080; font-weight: bold } /* Generic.Heading */\n",
       ".highlight .gi { color: #00A000 } /* Generic.Inserted */\n",
       ".highlight .go { color: #888888 } /* Generic.Output */\n",
       ".highlight .gp { color: #000080; font-weight: bold } /* Generic.Prompt */\n",
       ".highlight .gs { font-weight: bold } /* Generic.Strong */\n",
       ".highlight .gu { color: #800080; font-weight: bold } /* Generic.Subheading */\n",
       ".highlight .gt { color: #0044DD } /* Generic.Traceback */\n",
       ".highlight .kc { color: #008000; font-weight: bold } /* Keyword.Constant */\n",
       ".highlight .kd { color: #008000; font-weight: bold } /* Keyword.Declaration */\n",
       ".highlight .kn { color: #008000; font-weight: bold } /* Keyword.Namespace */\n",
       ".highlight .kp { color: #008000 } /* Keyword.Pseudo */\n",
       ".highlight .kr { color: #008000; font-weight: bold } /* Keyword.Reserved */\n",
       ".highlight .kt { color: #B00040 } /* Keyword.Type */\n",
       ".highlight .m { color: #666666 } /* Literal.Number */\n",
       ".highlight .s { color: #BA2121 } /* Literal.String */\n",
       ".highlight .na { color: #7D9029 } /* Name.Attribute */\n",
       ".highlight .nb { color: #008000 } /* Name.Builtin */\n",
       ".highlight .nc { color: #0000FF; font-weight: bold } /* Name.Class */\n",
       ".highlight .no { color: #880000 } /* Name.Constant */\n",
       ".highlight .nd { color: #AA22FF } /* Name.Decorator */\n",
       ".highlight .ni { color: #999999; font-weight: bold } /* Name.Entity */\n",
       ".highlight .ne { color: #D2413A; font-weight: bold } /* Name.Exception */\n",
       ".highlight .nf { color: #0000FF } /* Name.Function */\n",
       ".highlight .nl { color: #A0A000 } /* Name.Label */\n",
       ".highlight .nn { color: #0000FF; font-weight: bold } /* Name.Namespace */\n",
       ".highlight .nt { color: #008000; font-weight: bold } /* Name.Tag */\n",
       ".highlight .nv { color: #19177C } /* Name.Variable */\n",
       ".highlight .ow { color: #AA22FF; font-weight: bold } /* Operator.Word */\n",
       ".highlight .w { color: #bbbbbb } /* Text.Whitespace */\n",
       ".highlight .mb { color: #666666 } /* Literal.Number.Bin */\n",
       ".highlight .mf { color: #666666 } /* Literal.Number.Float */\n",
       ".highlight .mh { color: #666666 } /* Literal.Number.Hex */\n",
       ".highlight .mi { color: #666666 } /* Literal.Number.Integer */\n",
       ".highlight .mo { color: #666666 } /* Literal.Number.Oct */\n",
       ".highlight .sa { color: #BA2121 } /* Literal.String.Affix */\n",
       ".highlight .sb { color: #BA2121 } /* Literal.String.Backtick */\n",
       ".highlight .sc { color: #BA2121 } /* Literal.String.Char */\n",
       ".highlight .dl { color: #BA2121 } /* Literal.String.Delimiter */\n",
       ".highlight .sd { color: #BA2121; font-style: italic } /* Literal.String.Doc */\n",
       ".highlight .s2 { color: #BA2121 } /* Literal.String.Double */\n",
       ".highlight .se { color: #BB6622; font-weight: bold } /* Literal.String.Escape */\n",
       ".highlight .sh { color: #BA2121 } /* Literal.String.Heredoc */\n",
       ".highlight .si { color: #BB6688; font-weight: bold } /* Literal.String.Interpol */\n",
       ".highlight .sx { color: #008000 } /* Literal.String.Other */\n",
       ".highlight .sr { color: #BB6688 } /* Literal.String.Regex */\n",
       ".highlight .s1 { color: #BA2121 } /* Literal.String.Single */\n",
       ".highlight .ss { color: #19177C } /* Literal.String.Symbol */\n",
       ".highlight .bp { color: #008000 } /* Name.Builtin.Pseudo */\n",
       ".highlight .fm { color: #0000FF } /* Name.Function.Magic */\n",
       ".highlight .vc { color: #19177C } /* Name.Variable.Class */\n",
       ".highlight .vg { color: #19177C } /* Name.Variable.Global */\n",
       ".highlight .vi { color: #19177C } /* Name.Variable.Instance */\n",
       ".highlight .vm { color: #19177C } /* Name.Variable.Magic */\n",
       ".highlight .il { color: #666666 } /* Literal.Number.Integer.Long */\n",
       "      </style>\n",
       "      "
      ],
      "text/plain": [
       "<IPython.core.display.HTML object>"
      ]
     },
     "metadata": {},
     "output_type": "display_data"
    },
    {
     "data": {
      "text/html": [
       "<div class=\"highlight\"><pre><span></span><span class=\"nf\">lca_360_600</span><span class=\"p\">(</span><span class=\"mi\">24</span><span class=\"p\">)</span>\n",
       "</pre></div>\n"
      ],
      "text/plain": [
       "'lca_360_600(24)'"
      ]
     },
     "execution_count": 7,
     "metadata": {},
     "output_type": "execute_result"
    }
   ],
   "source": [
    "%%clingo {\"predicate\" : \"lca_360_600\", \"predicate_arity\" : 1, \"result_var\": \"Lca_360_600\"}\n",
    "% Don't change the clingo magic command above. The header of this cell will determine how the datalog rules are saved for evaluation.\n",
    "\n",
    "% Change the following expressions (add additional rules if necessary):\n",
    "\n",
    "lca_360_600(X) :- lca(360,600,X).\n",
    "\n",
    "par(X,Y) :- hamming(Y,X,F).\n",
    "    \n",
    "anc(X,Y) :- par(X,Y).\n",
    "anc(X,Y) :- par(X,Z), anc(Z,Y).\n",
    "\n",
    "ca(X,A,A) :- anc(A,X).\n",
    "ca(A,X,A) :- anc(A,X).\n",
    "    \n",
    "ca(X,Y,A) :- anc(A,Y), anc(A,X), X != Y. \n",
    "\n",
    "not_lca(X,Y,A) :- ca(X,Y,A), ca(X,Y,A1), anc(A,A1).\n",
    "\n",
    "lca(X,Y,A) :- ca(X,Y,A), not not_lca(X,Y,A)."
   ]
  },
  {
   "cell_type": "code",
   "execution_count": 8,
   "metadata": {
    "deletable": false,
    "editable": false,
    "nbgrader": {
     "cell_type": "code",
     "checksum": "70c563e20cdaa770023557879bbcb831",
     "grade": true,
     "grade_id": "cell-425251d8cc7c16e8",
     "locked": true,
     "points": 20,
     "schema_version": 3,
     "solution": false
    }
   },
   "outputs": [
    {
     "data": {
      "text/html": [
       "<p><font color=\"green\">Test passed.</font></p>"
      ],
      "text/plain": [
       "<IPython.core.display.HTML object>"
      ]
     },
     "metadata": {},
     "output_type": "display_data"
    },
    {
     "data": {
      "text/html": [
       "<p><font color=\"green\">Your output matched with following expected output:</font></p>"
      ],
      "text/plain": [
       "<IPython.core.display.HTML object>"
      ]
     },
     "metadata": {},
     "output_type": "display_data"
    },
    {
     "data": {
      "text/html": [
       "\n",
       "      <style>\n",
       "      .highlight .hll { background-color: #ffffcc }\n",
       ".highlight  { background: #f8f8f8; }\n",
       ".highlight .c { color: #408080; font-style: italic } /* Comment */\n",
       ".highlight .err { border: 1px solid #FF0000 } /* Error */\n",
       ".highlight .k { color: #008000; font-weight: bold } /* Keyword */\n",
       ".highlight .o { color: #666666 } /* Operator */\n",
       ".highlight .ch { color: #408080; font-style: italic } /* Comment.Hashbang */\n",
       ".highlight .cm { color: #408080; font-style: italic } /* Comment.Multiline */\n",
       ".highlight .cp { color: #BC7A00 } /* Comment.Preproc */\n",
       ".highlight .cpf { color: #408080; font-style: italic } /* Comment.PreprocFile */\n",
       ".highlight .c1 { color: #408080; font-style: italic } /* Comment.Single */\n",
       ".highlight .cs { color: #408080; font-style: italic } /* Comment.Special */\n",
       ".highlight .gd { color: #A00000 } /* Generic.Deleted */\n",
       ".highlight .ge { font-style: italic } /* Generic.Emph */\n",
       ".highlight .gr { color: #FF0000 } /* Generic.Error */\n",
       ".highlight .gh { color: #000080; font-weight: bold } /* Generic.Heading */\n",
       ".highlight .gi { color: #00A000 } /* Generic.Inserted */\n",
       ".highlight .go { color: #888888 } /* Generic.Output */\n",
       ".highlight .gp { color: #000080; font-weight: bold } /* Generic.Prompt */\n",
       ".highlight .gs { font-weight: bold } /* Generic.Strong */\n",
       ".highlight .gu { color: #800080; font-weight: bold } /* Generic.Subheading */\n",
       ".highlight .gt { color: #0044DD } /* Generic.Traceback */\n",
       ".highlight .kc { color: #008000; font-weight: bold } /* Keyword.Constant */\n",
       ".highlight .kd { color: #008000; font-weight: bold } /* Keyword.Declaration */\n",
       ".highlight .kn { color: #008000; font-weight: bold } /* Keyword.Namespace */\n",
       ".highlight .kp { color: #008000 } /* Keyword.Pseudo */\n",
       ".highlight .kr { color: #008000; font-weight: bold } /* Keyword.Reserved */\n",
       ".highlight .kt { color: #B00040 } /* Keyword.Type */\n",
       ".highlight .m { color: #666666 } /* Literal.Number */\n",
       ".highlight .s { color: #BA2121 } /* Literal.String */\n",
       ".highlight .na { color: #7D9029 } /* Name.Attribute */\n",
       ".highlight .nb { color: #008000 } /* Name.Builtin */\n",
       ".highlight .nc { color: #0000FF; font-weight: bold } /* Name.Class */\n",
       ".highlight .no { color: #880000 } /* Name.Constant */\n",
       ".highlight .nd { color: #AA22FF } /* Name.Decorator */\n",
       ".highlight .ni { color: #999999; font-weight: bold } /* Name.Entity */\n",
       ".highlight .ne { color: #D2413A; font-weight: bold } /* Name.Exception */\n",
       ".highlight .nf { color: #0000FF } /* Name.Function */\n",
       ".highlight .nl { color: #A0A000 } /* Name.Label */\n",
       ".highlight .nn { color: #0000FF; font-weight: bold } /* Name.Namespace */\n",
       ".highlight .nt { color: #008000; font-weight: bold } /* Name.Tag */\n",
       ".highlight .nv { color: #19177C } /* Name.Variable */\n",
       ".highlight .ow { color: #AA22FF; font-weight: bold } /* Operator.Word */\n",
       ".highlight .w { color: #bbbbbb } /* Text.Whitespace */\n",
       ".highlight .mb { color: #666666 } /* Literal.Number.Bin */\n",
       ".highlight .mf { color: #666666 } /* Literal.Number.Float */\n",
       ".highlight .mh { color: #666666 } /* Literal.Number.Hex */\n",
       ".highlight .mi { color: #666666 } /* Literal.Number.Integer */\n",
       ".highlight .mo { color: #666666 } /* Literal.Number.Oct */\n",
       ".highlight .sa { color: #BA2121 } /* Literal.String.Affix */\n",
       ".highlight .sb { color: #BA2121 } /* Literal.String.Backtick */\n",
       ".highlight .sc { color: #BA2121 } /* Literal.String.Char */\n",
       ".highlight .dl { color: #BA2121 } /* Literal.String.Delimiter */\n",
       ".highlight .sd { color: #BA2121; font-style: italic } /* Literal.String.Doc */\n",
       ".highlight .s2 { color: #BA2121 } /* Literal.String.Double */\n",
       ".highlight .se { color: #BB6622; font-weight: bold } /* Literal.String.Escape */\n",
       ".highlight .sh { color: #BA2121 } /* Literal.String.Heredoc */\n",
       ".highlight .si { color: #BB6688; font-weight: bold } /* Literal.String.Interpol */\n",
       ".highlight .sx { color: #008000 } /* Literal.String.Other */\n",
       ".highlight .sr { color: #BB6688 } /* Literal.String.Regex */\n",
       ".highlight .s1 { color: #BA2121 } /* Literal.String.Single */\n",
       ".highlight .ss { color: #19177C } /* Literal.String.Symbol */\n",
       ".highlight .bp { color: #008000 } /* Name.Builtin.Pseudo */\n",
       ".highlight .fm { color: #0000FF } /* Name.Function.Magic */\n",
       ".highlight .vc { color: #19177C } /* Name.Variable.Class */\n",
       ".highlight .vg { color: #19177C } /* Name.Variable.Global */\n",
       ".highlight .vi { color: #19177C } /* Name.Variable.Instance */\n",
       ".highlight .vm { color: #19177C } /* Name.Variable.Magic */\n",
       ".highlight .il { color: #666666 } /* Literal.Number.Integer.Long */\n",
       "      </style>\n",
       "      "
      ],
      "text/plain": [
       "<IPython.core.display.HTML object>"
      ]
     },
     "metadata": {},
     "output_type": "display_data"
    },
    {
     "data": {
      "text/html": [
       "<div class=\"highlight\"><pre><span></span><span class=\"nf\">lca_360_600</span><span class=\"p\">(</span><span class=\"mi\">24</span><span class=\"p\">)</span>\n",
       "</pre></div>\n"
      ],
      "text/plain": [
       "'lca_360_600(24)'"
      ]
     },
     "metadata": {},
     "output_type": "display_data"
    }
   ],
   "source": [
    "expected_output = '''\n",
    "lca_360_600(24)\n",
    "'''\n",
    "db_file = os.path.expanduser('~/data_readonly/provenance/problem2-sail.lp')\n",
    "clingo_evaluate(db_file, Lca_360_600['code'], 'lca_360_600', 1, expected_output)"
   ]
  },
  {
   "cell_type": "code",
   "execution_count": null,
   "metadata": {},
   "outputs": [],
   "source": []
  },
  {
   "cell_type": "code",
   "execution_count": null,
   "metadata": {},
   "outputs": [],
   "source": []
  }
 ],
 "metadata": {
  "kernelspec": {
   "display_name": "Python 3",
   "language": "python",
   "name": "python3"
  },
  "language_info": {
   "codemirror_mode": {
    "name": "ipython",
    "version": 3
   },
   "file_extension": ".py",
   "mimetype": "text/x-python",
   "name": "python",
   "nbconvert_exporter": "python",
   "pygments_lexer": "ipython3",
   "version": "3.7.6"
  }
 },
 "nbformat": 4,
 "nbformat_minor": 2
}
