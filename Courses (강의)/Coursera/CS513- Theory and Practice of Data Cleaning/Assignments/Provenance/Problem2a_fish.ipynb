{
 "cells": [
  {
   "cell_type": "markdown",
   "metadata": {
    "deletable": false,
    "editable": false,
    "nbgrader": {
     "cell_type": "markdown",
     "checksum": "f677ca0558592da9dccea2d0a0f69719",
     "grade": false,
     "grade_id": "cell-c31b0281ede8d436",
     "locked": true,
     "schema_version": 3,
     "solution": false
    }
   },
   "source": [
    "# Provenance Queries Problem 2: Hamming Numbers"
   ]
  },
  {
   "cell_type": "markdown",
   "metadata": {
    "deletable": false,
    "editable": false,
    "nbgrader": {
     "cell_type": "markdown",
     "checksum": "2fc1fddd944314ea54def4ae60a806c3",
     "grade": false,
     "grade_id": "cell-bc9900a18ac87255",
     "locked": true,
     "schema_version": 3,
     "solution": false
    }
   },
   "source": [
    "We study _retrospective_ provenance graphs resulting from  similar but different executable workflows graphs (_prospective_ provenance). While the resulting outputs (Hamming numbers)  are the same, the graphs reveal differences in the underlying workflow executions, resulting in two different provenance graphs: \n",
    "- (a) H1: _Fish_ and \n",
    "- (b) H3: _Sail_.\n",
    "\n",
    "If you'd like to know more about Hamming numbers, see https://en.wikipedia.org/wiki/Regular_number. This [paper and presentation](https://www.usenix.org/conference/tapp12/workshop-program/presentation/dey) on _Datalog as a Lingua Franca for Provenance Querying and Reasoning_ is also relevant and uses the _Fish_ and _Sail_ provenance graphs in the appendix.\n",
    "\n",
    "![Fish and Sail](fish_sail.png \"Fish and Sail\")\n",
    "\n",
    "\n",
    "## Problem 2a: _Fish_\n",
    "\n",
    "**Hints**. To solve Problem 2, you can reuse the rules from Problem 1: use the relation `hamming(Y,X,F)` to define a new “parent” relation `par(X,Y)`. Using this new parent relation (obtained from the Hamming edges), you can reuse the rules for `anc(X,Y)`, `ca(X,Y,A)`, `not_lca(X,Y,A)`, and `lca(X,Y,A)` to solve Problem 2!\n"
   ]
  },
  {
   "cell_type": "code",
   "execution_count": 1,
   "metadata": {
    "deletable": false,
    "editable": false,
    "nbgrader": {
     "cell_type": "code",
     "checksum": "875cee3adf4a9850107e54f9b3324399",
     "grade": false,
     "grade_id": "cell-aa25281cdb72aebe",
     "locked": true,
     "schema_version": 3,
     "solution": false
    }
   },
   "outputs": [],
   "source": [
    "%reload_ext lib.clingo.clingo_magic\n",
    "import os\n",
    "from lib.clingo.clingo_evaluate_util import clingo_evaluate"
   ]
  },
  {
   "cell_type": "code",
   "execution_count": 2,
   "metadata": {
    "deletable": false,
    "editable": false,
    "nbgrader": {
     "cell_type": "code",
     "checksum": "a0944c894e8d41109ea0a3371654553a",
     "grade": false,
     "grade_id": "cell-90dafc5e64354463",
     "locked": true,
     "schema_version": 3,
     "solution": false
    }
   },
   "outputs": [
    {
     "data": {
      "text/html": [
       "\n",
       "      <style>\n",
       "      .highlight .hll { background-color: #ffffcc }\n",
       ".highlight  { background: #f8f8f8; }\n",
       ".highlight .c { color: #408080; font-style: italic } /* Comment */\n",
       ".highlight .err { border: 1px solid #FF0000 } /* Error */\n",
       ".highlight .k { color: #008000; font-weight: bold } /* Keyword */\n",
       ".highlight .o { color: #666666 } /* Operator */\n",
       ".highlight .ch { color: #408080; font-style: italic } /* Comment.Hashbang */\n",
       ".highlight .cm { color: #408080; font-style: italic } /* Comment.Multiline */\n",
       ".highlight .cp { color: #BC7A00 } /* Comment.Preproc */\n",
       ".highlight .cpf { color: #408080; font-style: italic } /* Comment.PreprocFile */\n",
       ".highlight .c1 { color: #408080; font-style: italic } /* Comment.Single */\n",
       ".highlight .cs { color: #408080; font-style: italic } /* Comment.Special */\n",
       ".highlight .gd { color: #A00000 } /* Generic.Deleted */\n",
       ".highlight .ge { font-style: italic } /* Generic.Emph */\n",
       ".highlight .gr { color: #FF0000 } /* Generic.Error */\n",
       ".highlight .gh { color: #000080; font-weight: bold } /* Generic.Heading */\n",
       ".highlight .gi { color: #00A000 } /* Generic.Inserted */\n",
       ".highlight .go { color: #888888 } /* Generic.Output */\n",
       ".highlight .gp { color: #000080; font-weight: bold } /* Generic.Prompt */\n",
       ".highlight .gs { font-weight: bold } /* Generic.Strong */\n",
       ".highlight .gu { color: #800080; font-weight: bold } /* Generic.Subheading */\n",
       ".highlight .gt { color: #0044DD } /* Generic.Traceback */\n",
       ".highlight .kc { color: #008000; font-weight: bold } /* Keyword.Constant */\n",
       ".highlight .kd { color: #008000; font-weight: bold } /* Keyword.Declaration */\n",
       ".highlight .kn { color: #008000; font-weight: bold } /* Keyword.Namespace */\n",
       ".highlight .kp { color: #008000 } /* Keyword.Pseudo */\n",
       ".highlight .kr { color: #008000; font-weight: bold } /* Keyword.Reserved */\n",
       ".highlight .kt { color: #B00040 } /* Keyword.Type */\n",
       ".highlight .m { color: #666666 } /* Literal.Number */\n",
       ".highlight .s { color: #BA2121 } /* Literal.String */\n",
       ".highlight .na { color: #7D9029 } /* Name.Attribute */\n",
       ".highlight .nb { color: #008000 } /* Name.Builtin */\n",
       ".highlight .nc { color: #0000FF; font-weight: bold } /* Name.Class */\n",
       ".highlight .no { color: #880000 } /* Name.Constant */\n",
       ".highlight .nd { color: #AA22FF } /* Name.Decorator */\n",
       ".highlight .ni { color: #999999; font-weight: bold } /* Name.Entity */\n",
       ".highlight .ne { color: #D2413A; font-weight: bold } /* Name.Exception */\n",
       ".highlight .nf { color: #0000FF } /* Name.Function */\n",
       ".highlight .nl { color: #A0A000 } /* Name.Label */\n",
       ".highlight .nn { color: #0000FF; font-weight: bold } /* Name.Namespace */\n",
       ".highlight .nt { color: #008000; font-weight: bold } /* Name.Tag */\n",
       ".highlight .nv { color: #19177C } /* Name.Variable */\n",
       ".highlight .ow { color: #AA22FF; font-weight: bold } /* Operator.Word */\n",
       ".highlight .w { color: #bbbbbb } /* Text.Whitespace */\n",
       ".highlight .mb { color: #666666 } /* Literal.Number.Bin */\n",
       ".highlight .mf { color: #666666 } /* Literal.Number.Float */\n",
       ".highlight .mh { color: #666666 } /* Literal.Number.Hex */\n",
       ".highlight .mi { color: #666666 } /* Literal.Number.Integer */\n",
       ".highlight .mo { color: #666666 } /* Literal.Number.Oct */\n",
       ".highlight .sa { color: #BA2121 } /* Literal.String.Affix */\n",
       ".highlight .sb { color: #BA2121 } /* Literal.String.Backtick */\n",
       ".highlight .sc { color: #BA2121 } /* Literal.String.Char */\n",
       ".highlight .dl { color: #BA2121 } /* Literal.String.Delimiter */\n",
       ".highlight .sd { color: #BA2121; font-style: italic } /* Literal.String.Doc */\n",
       ".highlight .s2 { color: #BA2121 } /* Literal.String.Double */\n",
       ".highlight .se { color: #BB6622; font-weight: bold } /* Literal.String.Escape */\n",
       ".highlight .sh { color: #BA2121 } /* Literal.String.Heredoc */\n",
       ".highlight .si { color: #BB6688; font-weight: bold } /* Literal.String.Interpol */\n",
       ".highlight .sx { color: #008000 } /* Literal.String.Other */\n",
       ".highlight .sr { color: #BB6688 } /* Literal.String.Regex */\n",
       ".highlight .s1 { color: #BA2121 } /* Literal.String.Single */\n",
       ".highlight .ss { color: #19177C } /* Literal.String.Symbol */\n",
       ".highlight .bp { color: #008000 } /* Name.Builtin.Pseudo */\n",
       ".highlight .fm { color: #0000FF } /* Name.Function.Magic */\n",
       ".highlight .vc { color: #19177C } /* Name.Variable.Class */\n",
       ".highlight .vg { color: #19177C } /* Name.Variable.Global */\n",
       ".highlight .vi { color: #19177C } /* Name.Variable.Instance */\n",
       ".highlight .vm { color: #19177C } /* Name.Variable.Magic */\n",
       ".highlight .il { color: #666666 } /* Literal.Number.Integer.Long */\n",
       "      </style>\n",
       "      "
      ],
      "text/plain": [
       "<IPython.core.display.HTML object>"
      ]
     },
     "metadata": {},
     "output_type": "display_data"
    },
    {
     "data": {
      "text/html": [
       "<div class=\"highlight\"><pre><span></span><span class=\"lineno\"> 1 </span><span class=\"c1\">% hamming(Output, Input, Factor)</span>\n",
       "<span class=\"lineno\"> 2 </span><span class=\"c1\">% Generates Hamming numbers by simple multiplication:</span>\n",
       "<span class=\"lineno\"> 3 </span><span class=\"c1\">%    Output := Input * Factor</span>\n",
       "<span class=\"lineno\"> 4 </span><span class=\"c1\">% The third argument (Factor) also acts as a *provenance annotation*,</span>\n",
       "<span class=\"lineno\"> 5 </span><span class=\"c1\">% which can be used to create labeled edges: Input --Factor--&gt; Output</span>\n",
       "<span class=\"lineno\"> 6 </span>\n",
       "<span class=\"lineno\"> 7 </span><span class=\"c1\">% Getting started - add Hamming number 1:</span>\n",
       "<span class=\"lineno\"> 8 </span><span class=\"nf\">hamming</span><span class=\"p\">(</span><span class=\"mi\">1</span><span class=\"p\">,</span><span class=\"mi\">1</span><span class=\"p\">,</span> <span class=\"mi\">1</span><span class=\"p\">).</span> \n",
       "<span class=\"lineno\"> 9 </span>\n",
       "<span class=\"lineno\">10 </span><span class=\"c1\">% If X is a Hamming number, so is Y = F*X (also record F in 3rd &quot;annotation&quot; column):</span>\n",
       "<span class=\"lineno\">11 </span><span class=\"c1\">% limit set to Y &lt; 1000</span>\n",
       "<span class=\"lineno\">12 </span><span class=\"nf\">hamming</span><span class=\"p\">(</span><span class=\"nv\">Y</span><span class=\"p\">,</span><span class=\"nv\">X</span><span class=\"p\">,</span> <span class=\"mi\">2</span><span class=\"p\">)</span> <span class=\"p\">:-</span> <span class=\"nf\">hamming</span><span class=\"p\">(</span><span class=\"nv\">X</span><span class=\"p\">,</span><span class=\"k\">_</span><span class=\"p\">,</span> <span class=\"k\">_</span><span class=\"p\">),</span> <span class=\"nv\">Y</span> <span class=\"o\">=</span> <span class=\"mi\">2</span><span class=\"o\">*</span><span class=\"nv\">X</span><span class=\"p\">,</span> <span class=\"nv\">Y</span> <span class=\"o\">&lt;</span> <span class=\"mf\">1000.</span>\n",
       "<span class=\"lineno\">13 </span><span class=\"nf\">hamming</span><span class=\"p\">(</span><span class=\"nv\">Y</span><span class=\"p\">,</span><span class=\"nv\">X</span><span class=\"p\">,</span> <span class=\"mi\">3</span><span class=\"p\">)</span> <span class=\"p\">:-</span> <span class=\"nf\">hamming</span><span class=\"p\">(</span><span class=\"nv\">X</span><span class=\"p\">,</span><span class=\"k\">_</span><span class=\"p\">,</span> <span class=\"k\">_</span><span class=\"p\">),</span> <span class=\"nv\">Y</span> <span class=\"o\">=</span> <span class=\"mi\">3</span><span class=\"o\">*</span><span class=\"nv\">X</span><span class=\"p\">,</span> <span class=\"nv\">Y</span> <span class=\"o\">&lt;</span> <span class=\"mf\">1000.</span>\n",
       "<span class=\"lineno\">14 </span><span class=\"nf\">hamming</span><span class=\"p\">(</span><span class=\"nv\">Y</span><span class=\"p\">,</span><span class=\"nv\">X</span><span class=\"p\">,</span> <span class=\"mi\">5</span><span class=\"p\">)</span> <span class=\"p\">:-</span> <span class=\"nf\">hamming</span><span class=\"p\">(</span><span class=\"nv\">X</span><span class=\"p\">,</span><span class=\"k\">_</span><span class=\"p\">,</span> <span class=\"k\">_</span><span class=\"p\">),</span> <span class=\"nv\">Y</span> <span class=\"o\">=</span> <span class=\"mi\">5</span><span class=\"o\">*</span><span class=\"nv\">X</span><span class=\"p\">,</span> <span class=\"nv\">Y</span> <span class=\"o\">&lt;</span> <span class=\"mf\">1000.</span>\n",
       "</pre></div>\n"
      ],
      "text/plain": [
       "'% hamming(Output, Input, Factor)\\n% Generates Hamming numbers by simple multiplication:\\n%    Output := Input * Factor\\n% The third argument (Factor) also acts as a *provenance annotation*,\\n% which can be used to create labeled edges: Input --Factor--> Output\\n\\n% Getting started - add Hamming number 1:\\nhamming(1,1, 1). \\n\\n% If X is a Hamming number, so is Y = F*X (also record F in 3rd \"annotation\" column):\\n% limit set to Y < 1000\\nhamming(Y,X, 2) :- hamming(X,_, _), Y = 2*X, Y < 1000.\\nhamming(Y,X, 3) :- hamming(X,_, _), Y = 3*X, Y < 1000.\\nhamming(Y,X, 5) :- hamming(X,_, _), Y = 5*X, Y < 1000.'"
      ]
     },
     "metadata": {},
     "output_type": "display_data"
    }
   ],
   "source": [
    "family_base_facts_and_rules_file = os.path.expanduser('~/data_readonly/provenance/problem2-fish.lp')\n",
    "%set_db_file $family_base_facts_and_rules_file"
   ]
  },
  {
   "cell_type": "markdown",
   "metadata": {
    "deletable": false,
    "editable": false,
    "nbgrader": {
     "cell_type": "markdown",
     "checksum": "725c8f020d50f9a2c1dc58c09a5a9ae7",
     "grade": false,
     "grade_id": "cell-27a969070875ed17",
     "locked": true,
     "schema_version": 3,
     "solution": false
    }
   },
   "source": [
    "See the Hamming Rules Output"
   ]
  },
  {
   "cell_type": "code",
   "execution_count": 3,
   "metadata": {
    "deletable": false,
    "editable": false,
    "nbgrader": {
     "cell_type": "code",
     "checksum": "f88dea9e329ed086af1ac4cf2744f427",
     "grade": false,
     "grade_id": "cell-cf09aa49db2cfe32",
     "locked": true,
     "schema_version": 3,
     "solution": false
    }
   },
   "outputs": [
    {
     "name": "stdout",
     "output_type": "stream",
     "text": [
      "Saving output to local variable Hamming_test['result']\n",
      "Saving code snippet to local variable Hamming_test['code']\n"
     ]
    },
    {
     "data": {
      "text/html": [
       "\n",
       "      <style>\n",
       "      .highlight .hll { background-color: #ffffcc }\n",
       ".highlight  { background: #f8f8f8; }\n",
       ".highlight .c { color: #408080; font-style: italic } /* Comment */\n",
       ".highlight .err { border: 1px solid #FF0000 } /* Error */\n",
       ".highlight .k { color: #008000; font-weight: bold } /* Keyword */\n",
       ".highlight .o { color: #666666 } /* Operator */\n",
       ".highlight .ch { color: #408080; font-style: italic } /* Comment.Hashbang */\n",
       ".highlight .cm { color: #408080; font-style: italic } /* Comment.Multiline */\n",
       ".highlight .cp { color: #BC7A00 } /* Comment.Preproc */\n",
       ".highlight .cpf { color: #408080; font-style: italic } /* Comment.PreprocFile */\n",
       ".highlight .c1 { color: #408080; font-style: italic } /* Comment.Single */\n",
       ".highlight .cs { color: #408080; font-style: italic } /* Comment.Special */\n",
       ".highlight .gd { color: #A00000 } /* Generic.Deleted */\n",
       ".highlight .ge { font-style: italic } /* Generic.Emph */\n",
       ".highlight .gr { color: #FF0000 } /* Generic.Error */\n",
       ".highlight .gh { color: #000080; font-weight: bold } /* Generic.Heading */\n",
       ".highlight .gi { color: #00A000 } /* Generic.Inserted */\n",
       ".highlight .go { color: #888888 } /* Generic.Output */\n",
       ".highlight .gp { color: #000080; font-weight: bold } /* Generic.Prompt */\n",
       ".highlight .gs { font-weight: bold } /* Generic.Strong */\n",
       ".highlight .gu { color: #800080; font-weight: bold } /* Generic.Subheading */\n",
       ".highlight .gt { color: #0044DD } /* Generic.Traceback */\n",
       ".highlight .kc { color: #008000; font-weight: bold } /* Keyword.Constant */\n",
       ".highlight .kd { color: #008000; font-weight: bold } /* Keyword.Declaration */\n",
       ".highlight .kn { color: #008000; font-weight: bold } /* Keyword.Namespace */\n",
       ".highlight .kp { color: #008000 } /* Keyword.Pseudo */\n",
       ".highlight .kr { color: #008000; font-weight: bold } /* Keyword.Reserved */\n",
       ".highlight .kt { color: #B00040 } /* Keyword.Type */\n",
       ".highlight .m { color: #666666 } /* Literal.Number */\n",
       ".highlight .s { color: #BA2121 } /* Literal.String */\n",
       ".highlight .na { color: #7D9029 } /* Name.Attribute */\n",
       ".highlight .nb { color: #008000 } /* Name.Builtin */\n",
       ".highlight .nc { color: #0000FF; font-weight: bold } /* Name.Class */\n",
       ".highlight .no { color: #880000 } /* Name.Constant */\n",
       ".highlight .nd { color: #AA22FF } /* Name.Decorator */\n",
       ".highlight .ni { color: #999999; font-weight: bold } /* Name.Entity */\n",
       ".highlight .ne { color: #D2413A; font-weight: bold } /* Name.Exception */\n",
       ".highlight .nf { color: #0000FF } /* Name.Function */\n",
       ".highlight .nl { color: #A0A000 } /* Name.Label */\n",
       ".highlight .nn { color: #0000FF; font-weight: bold } /* Name.Namespace */\n",
       ".highlight .nt { color: #008000; font-weight: bold } /* Name.Tag */\n",
       ".highlight .nv { color: #19177C } /* Name.Variable */\n",
       ".highlight .ow { color: #AA22FF; font-weight: bold } /* Operator.Word */\n",
       ".highlight .w { color: #bbbbbb } /* Text.Whitespace */\n",
       ".highlight .mb { color: #666666 } /* Literal.Number.Bin */\n",
       ".highlight .mf { color: #666666 } /* Literal.Number.Float */\n",
       ".highlight .mh { color: #666666 } /* Literal.Number.Hex */\n",
       ".highlight .mi { color: #666666 } /* Literal.Number.Integer */\n",
       ".highlight .mo { color: #666666 } /* Literal.Number.Oct */\n",
       ".highlight .sa { color: #BA2121 } /* Literal.String.Affix */\n",
       ".highlight .sb { color: #BA2121 } /* Literal.String.Backtick */\n",
       ".highlight .sc { color: #BA2121 } /* Literal.String.Char */\n",
       ".highlight .dl { color: #BA2121 } /* Literal.String.Delimiter */\n",
       ".highlight .sd { color: #BA2121; font-style: italic } /* Literal.String.Doc */\n",
       ".highlight .s2 { color: #BA2121 } /* Literal.String.Double */\n",
       ".highlight .se { color: #BB6622; font-weight: bold } /* Literal.String.Escape */\n",
       ".highlight .sh { color: #BA2121 } /* Literal.String.Heredoc */\n",
       ".highlight .si { color: #BB6688; font-weight: bold } /* Literal.String.Interpol */\n",
       ".highlight .sx { color: #008000 } /* Literal.String.Other */\n",
       ".highlight .sr { color: #BB6688 } /* Literal.String.Regex */\n",
       ".highlight .s1 { color: #BA2121 } /* Literal.String.Single */\n",
       ".highlight .ss { color: #19177C } /* Literal.String.Symbol */\n",
       ".highlight .bp { color: #008000 } /* Name.Builtin.Pseudo */\n",
       ".highlight .fm { color: #0000FF } /* Name.Function.Magic */\n",
       ".highlight .vc { color: #19177C } /* Name.Variable.Class */\n",
       ".highlight .vg { color: #19177C } /* Name.Variable.Global */\n",
       ".highlight .vi { color: #19177C } /* Name.Variable.Instance */\n",
       ".highlight .vm { color: #19177C } /* Name.Variable.Magic */\n",
       ".highlight .il { color: #666666 } /* Literal.Number.Integer.Long */\n",
       "      </style>\n",
       "      "
      ],
      "text/plain": [
       "<IPython.core.display.HTML object>"
      ]
     },
     "metadata": {},
     "output_type": "display_data"
    },
    {
     "data": {
      "text/html": [
       "<div class=\"highlight\"><pre><span></span><span class=\"nf\">hamming</span><span class=\"p\">(</span><span class=\"mi\">1</span><span class=\"p\">,</span><span class=\"mi\">1</span><span class=\"p\">,</span><span class=\"mi\">1</span><span class=\"p\">)</span> <span class=\"nf\">hamming</span><span class=\"p\">(</span><span class=\"mi\">5</span><span class=\"p\">,</span><span class=\"mi\">1</span><span class=\"p\">,</span><span class=\"mi\">5</span><span class=\"p\">)</span> <span class=\"nf\">hamming</span><span class=\"p\">(</span><span class=\"mi\">3</span><span class=\"p\">,</span><span class=\"mi\">1</span><span class=\"p\">,</span><span class=\"mi\">3</span><span class=\"p\">)</span> <span class=\"nf\">hamming</span><span class=\"p\">(</span><span class=\"mi\">2</span><span class=\"p\">,</span><span class=\"mi\">1</span><span class=\"p\">,</span><span class=\"mi\">2</span><span class=\"p\">)</span> <span class=\"nf\">hamming</span><span class=\"p\">(</span><span class=\"mi\">10</span><span class=\"p\">,</span><span class=\"mi\">2</span><span class=\"p\">,</span><span class=\"mi\">5</span><span class=\"p\">)</span> <span class=\"nf\">hamming</span><span class=\"p\">(</span><span class=\"mi\">15</span><span class=\"p\">,</span><span class=\"mi\">3</span><span class=\"p\">,</span><span class=\"mi\">5</span><span class=\"p\">)</span> <span class=\"nf\">hamming</span><span class=\"p\">(</span><span class=\"mi\">25</span><span class=\"p\">,</span><span class=\"mi\">5</span><span class=\"p\">,</span><span class=\"mi\">5</span><span class=\"p\">)</span> <span class=\"nf\">hamming</span><span class=\"p\">(</span><span class=\"mi\">6</span><span class=\"p\">,</span><span class=\"mi\">2</span><span class=\"p\">,</span><span class=\"mi\">3</span><span class=\"p\">)</span> <span class=\"nf\">hamming</span><span class=\"p\">(</span><span class=\"mi\">9</span><span class=\"p\">,</span><span class=\"mi\">3</span><span class=\"p\">,</span><span class=\"mi\">3</span><span class=\"p\">)</span> <span class=\"nf\">hamming</span><span class=\"p\">(</span><span class=\"mi\">15</span><span class=\"p\">,</span><span class=\"mi\">5</span><span class=\"p\">,</span><span class=\"mi\">3</span><span class=\"p\">)</span> <span class=\"nf\">hamming</span><span class=\"p\">(</span><span class=\"mi\">4</span><span class=\"p\">,</span><span class=\"mi\">2</span><span class=\"p\">,</span><span class=\"mi\">2</span><span class=\"p\">)</span> <span class=\"nf\">hamming</span><span class=\"p\">(</span><span class=\"mi\">6</span><span class=\"p\">,</span><span class=\"mi\">3</span><span class=\"p\">,</span><span class=\"mi\">2</span><span class=\"p\">)</span> <span class=\"nf\">hamming</span><span class=\"p\">(</span><span class=\"mi\">10</span><span class=\"p\">,</span><span class=\"mi\">5</span><span class=\"p\">,</span><span class=\"mi\">2</span><span class=\"p\">)</span> <span class=\"nf\">hamming</span><span class=\"p\">(</span><span class=\"mi\">50</span><span class=\"p\">,</span><span class=\"mi\">10</span><span class=\"p\">,</span><span class=\"mi\">5</span><span class=\"p\">)</span> <span class=\"nf\">hamming</span><span class=\"p\">(</span><span class=\"mi\">30</span><span class=\"p\">,</span><span class=\"mi\">6</span><span class=\"p\">,</span><span class=\"mi\">5</span><span class=\"p\">)</span> <span class=\"nf\">hamming</span><span class=\"p\">(</span><span class=\"mi\">20</span><span class=\"p\">,</span><span class=\"mi\">4</span><span class=\"p\">,</span><span class=\"mi\">5</span><span class=\"p\">)</span> <span class=\"nf\">hamming</span><span class=\"p\">(</span><span class=\"mi\">75</span><span class=\"p\">,</span><span class=\"mi\">15</span><span class=\"p\">,</span><span class=\"mi\">5</span><span class=\"p\">)</span> <span class=\"nf\">hamming</span><span class=\"p\">(</span><span class=\"mi\">45</span><span class=\"p\">,</span><span class=\"mi\">9</span><span class=\"p\">,</span><span class=\"mi\">5</span><span class=\"p\">)</span> <span class=\"nf\">hamming</span><span class=\"p\">(</span><span class=\"mi\">125</span><span class=\"p\">,</span><span class=\"mi\">25</span><span class=\"p\">,</span><span class=\"mi\">5</span><span class=\"p\">)</span> <span class=\"nf\">hamming</span><span class=\"p\">(</span><span class=\"mi\">30</span><span class=\"p\">,</span><span class=\"mi\">10</span><span class=\"p\">,</span><span class=\"mi\">3</span><span class=\"p\">)</span> <span class=\"nf\">hamming</span><span class=\"p\">(</span><span class=\"mi\">18</span><span class=\"p\">,</span><span class=\"mi\">6</span><span class=\"p\">,</span><span class=\"mi\">3</span><span class=\"p\">)</span> <span class=\"nf\">hamming</span><span class=\"p\">(</span><span class=\"mi\">12</span><span class=\"p\">,</span><span class=\"mi\">4</span><span class=\"p\">,</span><span class=\"mi\">3</span><span class=\"p\">)</span> <span class=\"nf\">hamming</span><span class=\"p\">(</span><span class=\"mi\">45</span><span class=\"p\">,</span><span class=\"mi\">15</span><span class=\"p\">,</span><span class=\"mi\">3</span><span class=\"p\">)</span> <span class=\"nf\">hamming</span><span class=\"p\">(</span><span class=\"mi\">27</span><span class=\"p\">,</span><span class=\"mi\">9</span><span class=\"p\">,</span><span class=\"mi\">3</span><span class=\"p\">)</span> <span class=\"nf\">hamming</span><span class=\"p\">(</span><span class=\"mi\">75</span><span class=\"p\">,</span><span class=\"mi\">25</span><span class=\"p\">,</span><span class=\"mi\">3</span><span class=\"p\">)</span> <span class=\"nf\">hamming</span><span class=\"p\">(</span><span class=\"mi\">20</span><span class=\"p\">,</span><span class=\"mi\">10</span><span class=\"p\">,</span><span class=\"mi\">2</span><span class=\"p\">)</span> <span class=\"nf\">hamming</span><span class=\"p\">(</span><span class=\"mi\">12</span><span class=\"p\">,</span><span class=\"mi\">6</span><span class=\"p\">,</span><span class=\"mi\">2</span><span class=\"p\">)</span> <span class=\"nf\">hamming</span><span class=\"p\">(</span><span class=\"mi\">8</span><span class=\"p\">,</span><span class=\"mi\">4</span><span class=\"p\">,</span><span class=\"mi\">2</span><span class=\"p\">)</span> <span class=\"nf\">hamming</span><span class=\"p\">(</span><span class=\"mi\">30</span><span class=\"p\">,</span><span class=\"mi\">15</span><span class=\"p\">,</span><span class=\"mi\">2</span><span class=\"p\">)</span> <span class=\"nf\">hamming</span><span class=\"p\">(</span><span class=\"mi\">18</span><span class=\"p\">,</span><span class=\"mi\">9</span><span class=\"p\">,</span><span class=\"mi\">2</span><span class=\"p\">)</span> <span class=\"nf\">hamming</span><span class=\"p\">(</span><span class=\"mi\">50</span><span class=\"p\">,</span><span class=\"mi\">25</span><span class=\"p\">,</span><span class=\"mi\">2</span><span class=\"p\">)</span> <span class=\"nf\">hamming</span><span class=\"p\">(</span><span class=\"mi\">250</span><span class=\"p\">,</span><span class=\"mi\">50</span><span class=\"p\">,</span><span class=\"mi\">5</span><span class=\"p\">)</span> <span class=\"nf\">hamming</span><span class=\"p\">(</span><span class=\"mi\">90</span><span class=\"p\">,</span><span class=\"mi\">18</span><span class=\"p\">,</span><span class=\"mi\">5</span><span class=\"p\">)</span> <span class=\"nf\">hamming</span><span class=\"p\">(</span><span class=\"mi\">150</span><span class=\"p\">,</span><span class=\"mi\">30</span><span class=\"p\">,</span><span class=\"mi\">5</span><span class=\"p\">)</span> <span class=\"nf\">hamming</span><span class=\"p\">(</span><span class=\"mi\">40</span><span class=\"p\">,</span><span class=\"mi\">8</span><span class=\"p\">,</span><span class=\"mi\">5</span><span class=\"p\">)</span> <span class=\"nf\">hamming</span><span class=\"p\">(</span><span class=\"mi\">60</span><span class=\"p\">,</span><span class=\"mi\">12</span><span class=\"p\">,</span><span class=\"mi\">5</span><span class=\"p\">)</span> <span class=\"nf\">hamming</span><span class=\"p\">(</span><span class=\"mi\">100</span><span class=\"p\">,</span><span class=\"mi\">20</span><span class=\"p\">,</span><span class=\"mi\">5</span><span class=\"p\">)</span> <span class=\"nf\">hamming</span><span class=\"p\">(</span><span class=\"mi\">375</span><span class=\"p\">,</span><span class=\"mi\">75</span><span class=\"p\">,</span><span class=\"mi\">5</span><span class=\"p\">)</span> <span class=\"nf\">hamming</span><span class=\"p\">(</span><span class=\"mi\">135</span><span class=\"p\">,</span><span class=\"mi\">27</span><span class=\"p\">,</span><span class=\"mi\">5</span><span class=\"p\">)</span> <span class=\"nf\">hamming</span><span class=\"p\">(</span><span class=\"mi\">225</span><span class=\"p\">,</span><span class=\"mi\">45</span><span class=\"p\">,</span><span class=\"mi\">5</span><span class=\"p\">)</span> <span class=\"nf\">hamming</span><span class=\"p\">(</span><span class=\"mi\">625</span><span class=\"p\">,</span><span class=\"mi\">125</span><span class=\"p\">,</span><span class=\"mi\">5</span><span class=\"p\">)</span> <span class=\"nf\">hamming</span><span class=\"p\">(</span><span class=\"mi\">150</span><span class=\"p\">,</span><span class=\"mi\">50</span><span class=\"p\">,</span><span class=\"mi\">3</span><span class=\"p\">)</span> <span class=\"nf\">hamming</span><span class=\"p\">(</span><span class=\"mi\">54</span><span class=\"p\">,</span><span class=\"mi\">18</span><span class=\"p\">,</span><span class=\"mi\">3</span><span class=\"p\">)</span> <span class=\"nf\">hamming</span><span class=\"p\">(</span><span class=\"mi\">90</span><span class=\"p\">,</span><span class=\"mi\">30</span><span class=\"p\">,</span><span class=\"mi\">3</span><span class=\"p\">)</span> <span class=\"nf\">hamming</span><span class=\"p\">(</span><span class=\"mi\">24</span><span class=\"p\">,</span><span class=\"mi\">8</span><span class=\"p\">,</span><span class=\"mi\">3</span><span class=\"p\">)</span> <span class=\"nf\">hamming</span><span class=\"p\">(</span><span class=\"mi\">36</span><span class=\"p\">,</span><span class=\"mi\">12</span><span class=\"p\">,</span><span class=\"mi\">3</span><span class=\"p\">)</span> <span class=\"nf\">hamming</span><span class=\"p\">(</span><span class=\"mi\">60</span><span class=\"p\">,</span><span class=\"mi\">20</span><span class=\"p\">,</span><span class=\"mi\">3</span><span class=\"p\">)</span> <span class=\"nf\">hamming</span><span class=\"p\">(</span><span class=\"mi\">225</span><span class=\"p\">,</span><span class=\"mi\">75</span><span class=\"p\">,</span><span class=\"mi\">3</span><span class=\"p\">)</span> <span class=\"nf\">hamming</span><span class=\"p\">(</span><span class=\"mi\">81</span><span class=\"p\">,</span><span class=\"mi\">27</span><span class=\"p\">,</span><span class=\"mi\">3</span><span class=\"p\">)</span> <span class=\"nf\">hamming</span><span class=\"p\">(</span><span class=\"mi\">135</span><span class=\"p\">,</span><span class=\"mi\">45</span><span class=\"p\">,</span><span class=\"mi\">3</span><span class=\"p\">)</span> <span class=\"nf\">hamming</span><span class=\"p\">(</span><span class=\"mi\">375</span><span class=\"p\">,</span><span class=\"mi\">125</span><span class=\"p\">,</span><span class=\"mi\">3</span><span class=\"p\">)</span> <span class=\"nf\">hamming</span><span class=\"p\">(</span><span class=\"mi\">100</span><span class=\"p\">,</span><span class=\"mi\">50</span><span class=\"p\">,</span><span class=\"mi\">2</span><span class=\"p\">)</span> <span class=\"nf\">hamming</span><span class=\"p\">(</span><span class=\"mi\">36</span><span class=\"p\">,</span><span class=\"mi\">18</span><span class=\"p\">,</span><span class=\"mi\">2</span><span class=\"p\">)</span> <span class=\"nf\">hamming</span><span class=\"p\">(</span><span class=\"mi\">60</span><span class=\"p\">,</span><span class=\"mi\">30</span><span class=\"p\">,</span><span class=\"mi\">2</span><span class=\"p\">)</span> <span class=\"nf\">hamming</span><span class=\"p\">(</span><span class=\"mi\">16</span><span class=\"p\">,</span><span class=\"mi\">8</span><span class=\"p\">,</span><span class=\"mi\">2</span><span class=\"p\">)</span> <span class=\"nf\">hamming</span><span class=\"p\">(</span><span class=\"mi\">24</span><span class=\"p\">,</span><span class=\"mi\">12</span><span class=\"p\">,</span><span class=\"mi\">2</span><span class=\"p\">)</span> <span class=\"nf\">hamming</span><span class=\"p\">(</span><span class=\"mi\">40</span><span class=\"p\">,</span><span class=\"mi\">20</span><span class=\"p\">,</span><span class=\"mi\">2</span><span class=\"p\">)</span> <span class=\"nf\">hamming</span><span class=\"p\">(</span><span class=\"mi\">150</span><span class=\"p\">,</span><span class=\"mi\">75</span><span class=\"p\">,</span><span class=\"mi\">2</span><span class=\"p\">)</span> <span class=\"nf\">hamming</span><span class=\"p\">(</span><span class=\"mi\">54</span><span class=\"p\">,</span><span class=\"mi\">27</span><span class=\"p\">,</span><span class=\"mi\">2</span><span class=\"p\">)</span> <span class=\"nf\">hamming</span><span class=\"p\">(</span><span class=\"mi\">90</span><span class=\"p\">,</span><span class=\"mi\">45</span><span class=\"p\">,</span><span class=\"mi\">2</span><span class=\"p\">)</span> <span class=\"nf\">hamming</span><span class=\"p\">(</span><span class=\"mi\">250</span><span class=\"p\">,</span><span class=\"mi\">125</span><span class=\"p\">,</span><span class=\"mi\">2</span><span class=\"p\">)</span> <span class=\"nf\">hamming</span><span class=\"p\">(</span><span class=\"mi\">450</span><span class=\"p\">,</span><span class=\"mi\">90</span><span class=\"p\">,</span><span class=\"mi\">5</span><span class=\"p\">)</span> <span class=\"nf\">hamming</span><span class=\"p\">(</span><span class=\"mi\">270</span><span class=\"p\">,</span><span class=\"mi\">54</span><span class=\"p\">,</span><span class=\"mi\">5</span><span class=\"p\">)</span> <span class=\"nf\">hamming</span><span class=\"p\">(</span><span class=\"mi\">750</span><span class=\"p\">,</span><span class=\"mi\">150</span><span class=\"p\">,</span><span class=\"mi\">5</span><span class=\"p\">)</span> <span class=\"nf\">hamming</span><span class=\"p\">(</span><span class=\"mi\">200</span><span class=\"p\">,</span><span class=\"mi\">40</span><span class=\"p\">,</span><span class=\"mi\">5</span><span class=\"p\">)</span> <span class=\"nf\">hamming</span><span class=\"p\">(</span><span class=\"mi\">120</span><span class=\"p\">,</span><span class=\"mi\">24</span><span class=\"p\">,</span><span class=\"mi\">5</span><span class=\"p\">)</span> <span class=\"nf\">hamming</span><span class=\"p\">(</span><span class=\"mi\">80</span><span class=\"p\">,</span><span class=\"mi\">16</span><span class=\"p\">,</span><span class=\"mi\">5</span><span class=\"p\">)</span> <span class=\"nf\">hamming</span><span class=\"p\">(</span><span class=\"mi\">300</span><span class=\"p\">,</span><span class=\"mi\">60</span><span class=\"p\">,</span><span class=\"mi\">5</span><span class=\"p\">)</span> <span class=\"nf\">hamming</span><span class=\"p\">(</span><span class=\"mi\">180</span><span class=\"p\">,</span><span class=\"mi\">36</span><span class=\"p\">,</span><span class=\"mi\">5</span><span class=\"p\">)</span> <span class=\"nf\">hamming</span><span class=\"p\">(</span><span class=\"mi\">500</span><span class=\"p\">,</span><span class=\"mi\">100</span><span class=\"p\">,</span><span class=\"mi\">5</span><span class=\"p\">)</span> <span class=\"nf\">hamming</span><span class=\"p\">(</span><span class=\"mi\">675</span><span class=\"p\">,</span><span class=\"mi\">135</span><span class=\"p\">,</span><span class=\"mi\">5</span><span class=\"p\">)</span> <span class=\"nf\">hamming</span><span class=\"p\">(</span><span class=\"mi\">405</span><span class=\"p\">,</span><span class=\"mi\">81</span><span class=\"p\">,</span><span class=\"mi\">5</span><span class=\"p\">)</span> <span class=\"nf\">hamming</span><span class=\"p\">(</span><span class=\"mi\">750</span><span class=\"p\">,</span><span class=\"mi\">250</span><span class=\"p\">,</span><span class=\"mi\">3</span><span class=\"p\">)</span> <span class=\"nf\">hamming</span><span class=\"p\">(</span><span class=\"mi\">270</span><span class=\"p\">,</span><span class=\"mi\">90</span><span class=\"p\">,</span><span class=\"mi\">3</span><span class=\"p\">)</span> <span class=\"nf\">hamming</span><span class=\"p\">(</span><span class=\"mi\">162</span><span class=\"p\">,</span><span class=\"mi\">54</span><span class=\"p\">,</span><span class=\"mi\">3</span><span class=\"p\">)</span> <span class=\"nf\">hamming</span><span class=\"p\">(</span><span class=\"mi\">450</span><span class=\"p\">,</span><span class=\"mi\">150</span><span class=\"p\">,</span><span class=\"mi\">3</span><span class=\"p\">)</span> <span class=\"nf\">hamming</span><span class=\"p\">(</span><span class=\"mi\">120</span><span class=\"p\">,</span><span class=\"mi\">40</span><span class=\"p\">,</span><span class=\"mi\">3</span><span class=\"p\">)</span> <span class=\"nf\">hamming</span><span class=\"p\">(</span><span class=\"mi\">72</span><span class=\"p\">,</span><span class=\"mi\">24</span><span class=\"p\">,</span><span class=\"mi\">3</span><span class=\"p\">)</span> <span class=\"nf\">hamming</span><span class=\"p\">(</span><span class=\"mi\">48</span><span class=\"p\">,</span><span class=\"mi\">16</span><span class=\"p\">,</span><span class=\"mi\">3</span><span class=\"p\">)</span> <span class=\"nf\">hamming</span><span class=\"p\">(</span><span class=\"mi\">180</span><span class=\"p\">,</span><span class=\"mi\">60</span><span class=\"p\">,</span><span class=\"mi\">3</span><span class=\"p\">)</span> <span class=\"nf\">hamming</span><span class=\"p\">(</span><span class=\"mi\">108</span><span class=\"p\">,</span><span class=\"mi\">36</span><span class=\"p\">,</span><span class=\"mi\">3</span><span class=\"p\">)</span> <span class=\"nf\">hamming</span><span class=\"p\">(</span><span class=\"mi\">300</span><span class=\"p\">,</span><span class=\"mi\">100</span><span class=\"p\">,</span><span class=\"mi\">3</span><span class=\"p\">)</span> <span class=\"nf\">hamming</span><span class=\"p\">(</span><span class=\"mi\">405</span><span class=\"p\">,</span><span class=\"mi\">135</span><span class=\"p\">,</span><span class=\"mi\">3</span><span class=\"p\">)</span> <span class=\"nf\">hamming</span><span class=\"p\">(</span><span class=\"mi\">243</span><span class=\"p\">,</span><span class=\"mi\">81</span><span class=\"p\">,</span><span class=\"mi\">3</span><span class=\"p\">)</span> <span class=\"nf\">hamming</span><span class=\"p\">(</span><span class=\"mi\">675</span><span class=\"p\">,</span><span class=\"mi\">225</span><span class=\"p\">,</span><span class=\"mi\">3</span><span class=\"p\">)</span> <span class=\"nf\">hamming</span><span class=\"p\">(</span><span class=\"mi\">500</span><span class=\"p\">,</span><span class=\"mi\">250</span><span class=\"p\">,</span><span class=\"mi\">2</span><span class=\"p\">)</span> <span class=\"nf\">hamming</span><span class=\"p\">(</span><span class=\"mi\">180</span><span class=\"p\">,</span><span class=\"mi\">90</span><span class=\"p\">,</span><span class=\"mi\">2</span><span class=\"p\">)</span> <span class=\"nf\">hamming</span><span class=\"p\">(</span><span class=\"mi\">108</span><span class=\"p\">,</span><span class=\"mi\">54</span><span class=\"p\">,</span><span class=\"mi\">2</span><span class=\"p\">)</span> <span class=\"nf\">hamming</span><span class=\"p\">(</span><span class=\"mi\">300</span><span class=\"p\">,</span><span class=\"mi\">150</span><span class=\"p\">,</span><span class=\"mi\">2</span><span class=\"p\">)</span> <span class=\"nf\">hamming</span><span class=\"p\">(</span><span class=\"mi\">80</span><span class=\"p\">,</span><span class=\"mi\">40</span><span class=\"p\">,</span><span class=\"mi\">2</span><span class=\"p\">)</span> <span class=\"nf\">hamming</span><span class=\"p\">(</span><span class=\"mi\">48</span><span class=\"p\">,</span><span class=\"mi\">24</span><span class=\"p\">,</span><span class=\"mi\">2</span><span class=\"p\">)</span> <span class=\"nf\">hamming</span><span class=\"p\">(</span><span class=\"mi\">32</span><span class=\"p\">,</span><span class=\"mi\">16</span><span class=\"p\">,</span><span class=\"mi\">2</span><span class=\"p\">)</span> <span class=\"nf\">hamming</span><span class=\"p\">(</span><span class=\"mi\">120</span><span class=\"p\">,</span><span class=\"mi\">60</span><span class=\"p\">,</span><span class=\"mi\">2</span><span class=\"p\">)</span> <span class=\"nf\">hamming</span><span class=\"p\">(</span><span class=\"mi\">72</span><span class=\"p\">,</span><span class=\"mi\">36</span><span class=\"p\">,</span><span class=\"mi\">2</span><span class=\"p\">)</span> <span class=\"nf\">hamming</span><span class=\"p\">(</span><span class=\"mi\">200</span><span class=\"p\">,</span><span class=\"mi\">100</span><span class=\"p\">,</span><span class=\"mi\">2</span><span class=\"p\">)</span> <span class=\"nf\">hamming</span><span class=\"p\">(</span><span class=\"mi\">750</span><span class=\"p\">,</span><span class=\"mi\">375</span><span class=\"p\">,</span><span class=\"mi\">2</span><span class=\"p\">)</span> <span class=\"nf\">hamming</span><span class=\"p\">(</span><span class=\"mi\">270</span><span class=\"p\">,</span><span class=\"mi\">135</span><span class=\"p\">,</span><span class=\"mi\">2</span><span class=\"p\">)</span> <span class=\"nf\">hamming</span><span class=\"p\">(</span><span class=\"mi\">162</span><span class=\"p\">,</span><span class=\"mi\">81</span><span class=\"p\">,</span><span class=\"mi\">2</span><span class=\"p\">)</span> <span class=\"nf\">hamming</span><span class=\"p\">(</span><span class=\"mi\">450</span><span class=\"p\">,</span><span class=\"mi\">225</span><span class=\"p\">,</span><span class=\"mi\">2</span><span class=\"p\">)</span> <span class=\"nf\">hamming</span><span class=\"p\">(</span><span class=\"mi\">810</span><span class=\"p\">,</span><span class=\"mi\">162</span><span class=\"p\">,</span><span class=\"mi\">5</span><span class=\"p\">)</span> <span class=\"nf\">hamming</span><span class=\"p\">(</span><span class=\"mi\">360</span><span class=\"p\">,</span><span class=\"mi\">72</span><span class=\"p\">,</span><span class=\"mi\">5</span><span class=\"p\">)</span> <span class=\"nf\">hamming</span><span class=\"p\">(</span><span class=\"mi\">600</span><span class=\"p\">,</span><span class=\"mi\">120</span><span class=\"p\">,</span><span class=\"mi\">5</span><span class=\"p\">)</span> <span class=\"nf\">hamming</span><span class=\"p\">(</span><span class=\"mi\">160</span><span class=\"p\">,</span><span class=\"mi\">32</span><span class=\"p\">,</span><span class=\"mi\">5</span><span class=\"p\">)</span> <span class=\"nf\">hamming</span><span class=\"p\">(</span><span class=\"mi\">240</span><span class=\"p\">,</span><span class=\"mi\">48</span><span class=\"p\">,</span><span class=\"mi\">5</span><span class=\"p\">)</span> <span class=\"nf\">hamming</span><span class=\"p\">(</span><span class=\"mi\">400</span><span class=\"p\">,</span><span class=\"mi\">80</span><span class=\"p\">,</span><span class=\"mi\">5</span><span class=\"p\">)</span> <span class=\"nf\">hamming</span><span class=\"p\">(</span><span class=\"mi\">540</span><span class=\"p\">,</span><span class=\"mi\">108</span><span class=\"p\">,</span><span class=\"mi\">5</span><span class=\"p\">)</span> <span class=\"nf\">hamming</span><span class=\"p\">(</span><span class=\"mi\">900</span><span class=\"p\">,</span><span class=\"mi\">180</span><span class=\"p\">,</span><span class=\"mi\">5</span><span class=\"p\">)</span> <span class=\"nf\">hamming</span><span class=\"p\">(</span><span class=\"mi\">486</span><span class=\"p\">,</span><span class=\"mi\">162</span><span class=\"p\">,</span><span class=\"mi\">3</span><span class=\"p\">)</span> <span class=\"nf\">hamming</span><span class=\"p\">(</span><span class=\"mi\">810</span><span class=\"p\">,</span><span class=\"mi\">270</span><span class=\"p\">,</span><span class=\"mi\">3</span><span class=\"p\">)</span> <span class=\"nf\">hamming</span><span class=\"p\">(</span><span class=\"mi\">600</span><span class=\"p\">,</span><span class=\"mi\">200</span><span class=\"p\">,</span><span class=\"mi\">3</span><span class=\"p\">)</span> <span class=\"nf\">hamming</span><span class=\"p\">(</span><span class=\"mi\">216</span><span class=\"p\">,</span><span class=\"mi\">72</span><span class=\"p\">,</span><span class=\"mi\">3</span><span class=\"p\">)</span> <span class=\"nf\">hamming</span><span class=\"p\">(</span><span class=\"mi\">360</span><span class=\"p\">,</span><span class=\"mi\">120</span><span class=\"p\">,</span><span class=\"mi\">3</span><span class=\"p\">)</span> <span class=\"nf\">hamming</span><span class=\"p\">(</span><span class=\"mi\">96</span><span class=\"p\">,</span><span class=\"mi\">32</span><span class=\"p\">,</span><span class=\"mi\">3</span><span class=\"p\">)</span> <span class=\"nf\">hamming</span><span class=\"p\">(</span><span class=\"mi\">144</span><span class=\"p\">,</span><span class=\"mi\">48</span><span class=\"p\">,</span><span class=\"mi\">3</span><span class=\"p\">)</span> <span class=\"nf\">hamming</span><span class=\"p\">(</span><span class=\"mi\">240</span><span class=\"p\">,</span><span class=\"mi\">80</span><span class=\"p\">,</span><span class=\"mi\">3</span><span class=\"p\">)</span> <span class=\"nf\">hamming</span><span class=\"p\">(</span><span class=\"mi\">900</span><span class=\"p\">,</span><span class=\"mi\">300</span><span class=\"p\">,</span><span class=\"mi\">3</span><span class=\"p\">)</span> <span class=\"nf\">hamming</span><span class=\"p\">(</span><span class=\"mi\">324</span><span class=\"p\">,</span><span class=\"mi\">108</span><span class=\"p\">,</span><span class=\"mi\">3</span><span class=\"p\">)</span> <span class=\"nf\">hamming</span><span class=\"p\">(</span><span class=\"mi\">540</span><span class=\"p\">,</span><span class=\"mi\">180</span><span class=\"p\">,</span><span class=\"mi\">3</span><span class=\"p\">)</span> <span class=\"nf\">hamming</span><span class=\"p\">(</span><span class=\"mi\">729</span><span class=\"p\">,</span><span class=\"mi\">243</span><span class=\"p\">,</span><span class=\"mi\">3</span><span class=\"p\">)</span> <span class=\"nf\">hamming</span><span class=\"p\">(</span><span class=\"mi\">900</span><span class=\"p\">,</span><span class=\"mi\">450</span><span class=\"p\">,</span><span class=\"mi\">2</span><span class=\"p\">)</span> <span class=\"nf\">hamming</span><span class=\"p\">(</span><span class=\"mi\">324</span><span class=\"p\">,</span><span class=\"mi\">162</span><span class=\"p\">,</span><span class=\"mi\">2</span><span class=\"p\">)</span> <span class=\"nf\">hamming</span><span class=\"p\">(</span><span class=\"mi\">540</span><span class=\"p\">,</span><span class=\"mi\">270</span><span class=\"p\">,</span><span class=\"mi\">2</span><span class=\"p\">)</span> <span class=\"nf\">hamming</span><span class=\"p\">(</span><span class=\"mi\">400</span><span class=\"p\">,</span><span class=\"mi\">200</span><span class=\"p\">,</span><span class=\"mi\">2</span><span class=\"p\">)</span> <span class=\"nf\">hamming</span><span class=\"p\">(</span><span class=\"mi\">144</span><span class=\"p\">,</span><span class=\"mi\">72</span><span class=\"p\">,</span><span class=\"mi\">2</span><span class=\"p\">)</span> <span class=\"nf\">hamming</span><span class=\"p\">(</span><span class=\"mi\">240</span><span class=\"p\">,</span><span class=\"mi\">120</span><span class=\"p\">,</span><span class=\"mi\">2</span><span class=\"p\">)</span> <span class=\"nf\">hamming</span><span class=\"p\">(</span><span class=\"mi\">64</span><span class=\"p\">,</span><span class=\"mi\">32</span><span class=\"p\">,</span><span class=\"mi\">2</span><span class=\"p\">)</span> <span class=\"nf\">hamming</span><span class=\"p\">(</span><span class=\"mi\">96</span><span class=\"p\">,</span><span class=\"mi\">48</span><span class=\"p\">,</span><span class=\"mi\">2</span><span class=\"p\">)</span> <span class=\"nf\">hamming</span><span class=\"p\">(</span><span class=\"mi\">160</span><span class=\"p\">,</span><span class=\"mi\">80</span><span class=\"p\">,</span><span class=\"mi\">2</span><span class=\"p\">)</span> <span class=\"nf\">hamming</span><span class=\"p\">(</span><span class=\"mi\">600</span><span class=\"p\">,</span><span class=\"mi\">300</span><span class=\"p\">,</span><span class=\"mi\">2</span><span class=\"p\">)</span> <span class=\"nf\">hamming</span><span class=\"p\">(</span><span class=\"mi\">216</span><span class=\"p\">,</span><span class=\"mi\">108</span><span class=\"p\">,</span><span class=\"mi\">2</span><span class=\"p\">)</span> <span class=\"nf\">hamming</span><span class=\"p\">(</span><span class=\"mi\">360</span><span class=\"p\">,</span><span class=\"mi\">180</span><span class=\"p\">,</span><span class=\"mi\">2</span><span class=\"p\">)</span> <span class=\"nf\">hamming</span><span class=\"p\">(</span><span class=\"mi\">486</span><span class=\"p\">,</span><span class=\"mi\">243</span><span class=\"p\">,</span><span class=\"mi\">2</span><span class=\"p\">)</span> <span class=\"nf\">hamming</span><span class=\"p\">(</span><span class=\"mi\">810</span><span class=\"p\">,</span><span class=\"mi\">405</span><span class=\"p\">,</span><span class=\"mi\">2</span><span class=\"p\">)</span> <span class=\"nf\">hamming</span><span class=\"p\">(</span><span class=\"mi\">800</span><span class=\"p\">,</span><span class=\"mi\">160</span><span class=\"p\">,</span><span class=\"mi\">5</span><span class=\"p\">)</span> <span class=\"nf\">hamming</span><span class=\"p\">(</span><span class=\"mi\">480</span><span class=\"p\">,</span><span class=\"mi\">96</span><span class=\"p\">,</span><span class=\"mi\">5</span><span class=\"p\">)</span> <span class=\"nf\">hamming</span><span class=\"p\">(</span><span class=\"mi\">320</span><span class=\"p\">,</span><span class=\"mi\">64</span><span class=\"p\">,</span><span class=\"mi\">5</span><span class=\"p\">)</span> <span class=\"nf\">hamming</span><span class=\"p\">(</span><span class=\"mi\">720</span><span class=\"p\">,</span><span class=\"mi\">144</span><span class=\"p\">,</span><span class=\"mi\">5</span><span class=\"p\">)</span> <span class=\"nf\">hamming</span><span class=\"p\">(</span><span class=\"mi\">648</span><span class=\"p\">,</span><span class=\"mi\">216</span><span class=\"p\">,</span><span class=\"mi\">3</span><span class=\"p\">)</span> <span class=\"nf\">hamming</span><span class=\"p\">(</span><span class=\"mi\">480</span><span class=\"p\">,</span><span class=\"mi\">160</span><span class=\"p\">,</span><span class=\"mi\">3</span><span class=\"p\">)</span> <span class=\"nf\">hamming</span><span class=\"p\">(</span><span class=\"mi\">288</span><span class=\"p\">,</span><span class=\"mi\">96</span><span class=\"p\">,</span><span class=\"mi\">3</span><span class=\"p\">)</span> <span class=\"nf\">hamming</span><span class=\"p\">(</span><span class=\"mi\">192</span><span class=\"p\">,</span><span class=\"mi\">64</span><span class=\"p\">,</span><span class=\"mi\">3</span><span class=\"p\">)</span> <span class=\"nf\">hamming</span><span class=\"p\">(</span><span class=\"mi\">720</span><span class=\"p\">,</span><span class=\"mi\">240</span><span class=\"p\">,</span><span class=\"mi\">3</span><span class=\"p\">)</span> <span class=\"nf\">hamming</span><span class=\"p\">(</span><span class=\"mi\">432</span><span class=\"p\">,</span><span class=\"mi\">144</span><span class=\"p\">,</span><span class=\"mi\">3</span><span class=\"p\">)</span> <span class=\"nf\">hamming</span><span class=\"p\">(</span><span class=\"mi\">972</span><span class=\"p\">,</span><span class=\"mi\">324</span><span class=\"p\">,</span><span class=\"mi\">3</span><span class=\"p\">)</span> <span class=\"nf\">hamming</span><span class=\"p\">(</span><span class=\"mi\">972</span><span class=\"p\">,</span><span class=\"mi\">486</span><span class=\"p\">,</span><span class=\"mi\">2</span><span class=\"p\">)</span> <span class=\"nf\">hamming</span><span class=\"p\">(</span><span class=\"mi\">720</span><span class=\"p\">,</span><span class=\"mi\">360</span><span class=\"p\">,</span><span class=\"mi\">2</span><span class=\"p\">)</span> <span class=\"nf\">hamming</span><span class=\"p\">(</span><span class=\"mi\">432</span><span class=\"p\">,</span><span class=\"mi\">216</span><span class=\"p\">,</span><span class=\"mi\">2</span><span class=\"p\">)</span> <span class=\"nf\">hamming</span><span class=\"p\">(</span><span class=\"mi\">320</span><span class=\"p\">,</span><span class=\"mi\">160</span><span class=\"p\">,</span><span class=\"mi\">2</span><span class=\"p\">)</span> <span class=\"nf\">hamming</span><span class=\"p\">(</span><span class=\"mi\">192</span><span class=\"p\">,</span><span class=\"mi\">96</span><span class=\"p\">,</span><span class=\"mi\">2</span><span class=\"p\">)</span> <span class=\"nf\">hamming</span><span class=\"p\">(</span><span class=\"mi\">128</span><span class=\"p\">,</span><span class=\"mi\">64</span><span class=\"p\">,</span><span class=\"mi\">2</span><span class=\"p\">)</span> <span class=\"nf\">hamming</span><span class=\"p\">(</span><span class=\"mi\">480</span><span class=\"p\">,</span><span class=\"mi\">240</span><span class=\"p\">,</span><span class=\"mi\">2</span><span class=\"p\">)</span> <span class=\"nf\">hamming</span><span class=\"p\">(</span><span class=\"mi\">288</span><span class=\"p\">,</span><span class=\"mi\">144</span><span class=\"p\">,</span><span class=\"mi\">2</span><span class=\"p\">)</span> <span class=\"nf\">hamming</span><span class=\"p\">(</span><span class=\"mi\">800</span><span class=\"p\">,</span><span class=\"mi\">400</span><span class=\"p\">,</span><span class=\"mi\">2</span><span class=\"p\">)</span> <span class=\"nf\">hamming</span><span class=\"p\">(</span><span class=\"mi\">648</span><span class=\"p\">,</span><span class=\"mi\">324</span><span class=\"p\">,</span><span class=\"mi\">2</span><span class=\"p\">)</span> <span class=\"nf\">hamming</span><span class=\"p\">(</span><span class=\"mi\">640</span><span class=\"p\">,</span><span class=\"mi\">128</span><span class=\"p\">,</span><span class=\"mi\">5</span><span class=\"p\">)</span> <span class=\"nf\">hamming</span><span class=\"p\">(</span><span class=\"mi\">960</span><span class=\"p\">,</span><span class=\"mi\">192</span><span class=\"p\">,</span><span class=\"mi\">5</span><span class=\"p\">)</span> <span class=\"nf\">hamming</span><span class=\"p\">(</span><span class=\"mi\">864</span><span class=\"p\">,</span><span class=\"mi\">288</span><span class=\"p\">,</span><span class=\"mi\">3</span><span class=\"p\">)</span> <span class=\"nf\">hamming</span><span class=\"p\">(</span><span class=\"mi\">384</span><span class=\"p\">,</span><span class=\"mi\">128</span><span class=\"p\">,</span><span class=\"mi\">3</span><span class=\"p\">)</span> <span class=\"nf\">hamming</span><span class=\"p\">(</span><span class=\"mi\">576</span><span class=\"p\">,</span><span class=\"mi\">192</span><span class=\"p\">,</span><span class=\"mi\">3</span><span class=\"p\">)</span> <span class=\"nf\">hamming</span><span class=\"p\">(</span><span class=\"mi\">960</span><span class=\"p\">,</span><span class=\"mi\">320</span><span class=\"p\">,</span><span class=\"mi\">3</span><span class=\"p\">)</span> <span class=\"nf\">hamming</span><span class=\"p\">(</span><span class=\"mi\">576</span><span class=\"p\">,</span><span class=\"mi\">288</span><span class=\"p\">,</span><span class=\"mi\">2</span><span class=\"p\">)</span> <span class=\"nf\">hamming</span><span class=\"p\">(</span><span class=\"mi\">960</span><span class=\"p\">,</span><span class=\"mi\">480</span><span class=\"p\">,</span><span class=\"mi\">2</span><span class=\"p\">)</span> <span class=\"nf\">hamming</span><span class=\"p\">(</span><span class=\"mi\">256</span><span class=\"p\">,</span><span class=\"mi\">128</span><span class=\"p\">,</span><span class=\"mi\">2</span><span class=\"p\">)</span> <span class=\"nf\">hamming</span><span class=\"p\">(</span><span class=\"mi\">384</span><span class=\"p\">,</span><span class=\"mi\">192</span><span class=\"p\">,</span><span class=\"mi\">2</span><span class=\"p\">)</span> <span class=\"nf\">hamming</span><span class=\"p\">(</span><span class=\"mi\">640</span><span class=\"p\">,</span><span class=\"mi\">320</span><span class=\"p\">,</span><span class=\"mi\">2</span><span class=\"p\">)</span> <span class=\"nf\">hamming</span><span class=\"p\">(</span><span class=\"mi\">864</span><span class=\"p\">,</span><span class=\"mi\">432</span><span class=\"p\">,</span><span class=\"mi\">2</span><span class=\"p\">)</span> <span class=\"nf\">hamming</span><span class=\"p\">(</span><span class=\"mi\">768</span><span class=\"p\">,</span><span class=\"mi\">256</span><span class=\"p\">,</span><span class=\"mi\">3</span><span class=\"p\">)</span> <span class=\"nf\">hamming</span><span class=\"p\">(</span><span class=\"mi\">768</span><span class=\"p\">,</span><span class=\"mi\">384</span><span class=\"p\">,</span><span class=\"mi\">2</span><span class=\"p\">)</span> <span class=\"nf\">hamming</span><span class=\"p\">(</span><span class=\"mi\">512</span><span class=\"p\">,</span><span class=\"mi\">256</span><span class=\"p\">,</span><span class=\"mi\">2</span><span class=\"p\">)</span>\n",
       "</pre></div>\n"
      ],
      "text/plain": [
       "'hamming(1,1,1) hamming(5,1,5) hamming(3,1,3) hamming(2,1,2) hamming(10,2,5) hamming(15,3,5) hamming(25,5,5) hamming(6,2,3) hamming(9,3,3) hamming(15,5,3) hamming(4,2,2) hamming(6,3,2) hamming(10,5,2) hamming(50,10,5) hamming(30,6,5) hamming(20,4,5) hamming(75,15,5) hamming(45,9,5) hamming(125,25,5) hamming(30,10,3) hamming(18,6,3) hamming(12,4,3) hamming(45,15,3) hamming(27,9,3) hamming(75,25,3) hamming(20,10,2) hamming(12,6,2) hamming(8,4,2) hamming(30,15,2) hamming(18,9,2) hamming(50,25,2) hamming(250,50,5) hamming(90,18,5) hamming(150,30,5) hamming(40,8,5) hamming(60,12,5) hamming(100,20,5) hamming(375,75,5) hamming(135,27,5) hamming(225,45,5) hamming(625,125,5) hamming(150,50,3) hamming(54,18,3) hamming(90,30,3) hamming(24,8,3) hamming(36,12,3) hamming(60,20,3) hamming(225,75,3) hamming(81,27,3) hamming(135,45,3) hamming(375,125,3) hamming(100,50,2) hamming(36,18,2) hamming(60,30,2) hamming(16,8,2) hamming(24,12,2) hamming(40,20,2) hamming(150,75,2) hamming(54,27,2) hamming(90,45,2) hamming(250,125,2) hamming(450,90,5) hamming(270,54,5) hamming(750,150,5) hamming(200,40,5) hamming(120,24,5) hamming(80,16,5) hamming(300,60,5) hamming(180,36,5) hamming(500,100,5) hamming(675,135,5) hamming(405,81,5) hamming(750,250,3) hamming(270,90,3) hamming(162,54,3) hamming(450,150,3) hamming(120,40,3) hamming(72,24,3) hamming(48,16,3) hamming(180,60,3) hamming(108,36,3) hamming(300,100,3) hamming(405,135,3) hamming(243,81,3) hamming(675,225,3) hamming(500,250,2) hamming(180,90,2) hamming(108,54,2) hamming(300,150,2) hamming(80,40,2) hamming(48,24,2) hamming(32,16,2) hamming(120,60,2) hamming(72,36,2) hamming(200,100,2) hamming(750,375,2) hamming(270,135,2) hamming(162,81,2) hamming(450,225,2) hamming(810,162,5) hamming(360,72,5) hamming(600,120,5) hamming(160,32,5) hamming(240,48,5) hamming(400,80,5) hamming(540,108,5) hamming(900,180,5) hamming(486,162,3) hamming(810,270,3) hamming(600,200,3) hamming(216,72,3) hamming(360,120,3) hamming(96,32,3) hamming(144,48,3) hamming(240,80,3) hamming(900,300,3) hamming(324,108,3) hamming(540,180,3) hamming(729,243,3) hamming(900,450,2) hamming(324,162,2) hamming(540,270,2) hamming(400,200,2) hamming(144,72,2) hamming(240,120,2) hamming(64,32,2) hamming(96,48,2) hamming(160,80,2) hamming(600,300,2) hamming(216,108,2) hamming(360,180,2) hamming(486,243,2) hamming(810,405,2) hamming(800,160,5) hamming(480,96,5) hamming(320,64,5) hamming(720,144,5) hamming(648,216,3) hamming(480,160,3) hamming(288,96,3) hamming(192,64,3) hamming(720,240,3) hamming(432,144,3) hamming(972,324,3) hamming(972,486,2) hamming(720,360,2) hamming(432,216,2) hamming(320,160,2) hamming(192,96,2) hamming(128,64,2) hamming(480,240,2) hamming(288,144,2) hamming(800,400,2) hamming(648,324,2) hamming(640,128,5) hamming(960,192,5) hamming(864,288,3) hamming(384,128,3) hamming(576,192,3) hamming(960,320,3) hamming(576,288,2) hamming(960,480,2) hamming(256,128,2) hamming(384,192,2) hamming(640,320,2) hamming(864,432,2) hamming(768,256,3) hamming(768,384,2) hamming(512,256,2)'"
      ]
     },
     "execution_count": 3,
     "metadata": {},
     "output_type": "execute_result"
    }
   ],
   "source": [
    "%%clingo {\"predicate\" : \"hamming\", \"predicate_arity\" : 3, \"result_var\": \"Hamming_test\"}\n",
    "% Hamming Test"
   ]
  },
  {
   "cell_type": "markdown",
   "metadata": {
    "deletable": false,
    "editable": false,
    "nbgrader": {
     "cell_type": "markdown",
     "checksum": "37615ed3189e0f91c2ce1c677b63c6c4",
     "grade": false,
     "grade_id": "cell-c0c35d6badba74e8",
     "locked": true,
     "schema_version": 3,
     "solution": false
    }
   },
   "source": [
    "## 1. [10 points] Ancestors (_Fish_)\n",
    "Compute the lineage of 360 in the _Fish_ provenance graph, i.e., all nodes for which there is a path that leads to 360. You will do same for the _Sail_ graph in the next notebook."
   ]
  },
  {
   "cell_type": "code",
   "execution_count": 21,
   "metadata": {
    "deletable": false,
    "nbgrader": {
     "cell_type": "code",
     "checksum": "3431dad56ba899145b39796e9192c14c",
     "grade": false,
     "grade_id": "cell-c28e3a4e7d953697",
     "locked": false,
     "schema_version": 3,
     "solution": true
    }
   },
   "outputs": [
    {
     "name": "stdout",
     "output_type": "stream",
     "text": [
      "Saving output to local variable Anc_360['result']\n",
      "Saving code snippet to local variable Anc_360['code']\n"
     ]
    },
    {
     "data": {
      "text/html": [
       "\n",
       "      <style>\n",
       "      .highlight .hll { background-color: #ffffcc }\n",
       ".highlight  { background: #f8f8f8; }\n",
       ".highlight .c { color: #408080; font-style: italic } /* Comment */\n",
       ".highlight .err { border: 1px solid #FF0000 } /* Error */\n",
       ".highlight .k { color: #008000; font-weight: bold } /* Keyword */\n",
       ".highlight .o { color: #666666 } /* Operator */\n",
       ".highlight .ch { color: #408080; font-style: italic } /* Comment.Hashbang */\n",
       ".highlight .cm { color: #408080; font-style: italic } /* Comment.Multiline */\n",
       ".highlight .cp { color: #BC7A00 } /* Comment.Preproc */\n",
       ".highlight .cpf { color: #408080; font-style: italic } /* Comment.PreprocFile */\n",
       ".highlight .c1 { color: #408080; font-style: italic } /* Comment.Single */\n",
       ".highlight .cs { color: #408080; font-style: italic } /* Comment.Special */\n",
       ".highlight .gd { color: #A00000 } /* Generic.Deleted */\n",
       ".highlight .ge { font-style: italic } /* Generic.Emph */\n",
       ".highlight .gr { color: #FF0000 } /* Generic.Error */\n",
       ".highlight .gh { color: #000080; font-weight: bold } /* Generic.Heading */\n",
       ".highlight .gi { color: #00A000 } /* Generic.Inserted */\n",
       ".highlight .go { color: #888888 } /* Generic.Output */\n",
       ".highlight .gp { color: #000080; font-weight: bold } /* Generic.Prompt */\n",
       ".highlight .gs { font-weight: bold } /* Generic.Strong */\n",
       ".highlight .gu { color: #800080; font-weight: bold } /* Generic.Subheading */\n",
       ".highlight .gt { color: #0044DD } /* Generic.Traceback */\n",
       ".highlight .kc { color: #008000; font-weight: bold } /* Keyword.Constant */\n",
       ".highlight .kd { color: #008000; font-weight: bold } /* Keyword.Declaration */\n",
       ".highlight .kn { color: #008000; font-weight: bold } /* Keyword.Namespace */\n",
       ".highlight .kp { color: #008000 } /* Keyword.Pseudo */\n",
       ".highlight .kr { color: #008000; font-weight: bold } /* Keyword.Reserved */\n",
       ".highlight .kt { color: #B00040 } /* Keyword.Type */\n",
       ".highlight .m { color: #666666 } /* Literal.Number */\n",
       ".highlight .s { color: #BA2121 } /* Literal.String */\n",
       ".highlight .na { color: #7D9029 } /* Name.Attribute */\n",
       ".highlight .nb { color: #008000 } /* Name.Builtin */\n",
       ".highlight .nc { color: #0000FF; font-weight: bold } /* Name.Class */\n",
       ".highlight .no { color: #880000 } /* Name.Constant */\n",
       ".highlight .nd { color: #AA22FF } /* Name.Decorator */\n",
       ".highlight .ni { color: #999999; font-weight: bold } /* Name.Entity */\n",
       ".highlight .ne { color: #D2413A; font-weight: bold } /* Name.Exception */\n",
       ".highlight .nf { color: #0000FF } /* Name.Function */\n",
       ".highlight .nl { color: #A0A000 } /* Name.Label */\n",
       ".highlight .nn { color: #0000FF; font-weight: bold } /* Name.Namespace */\n",
       ".highlight .nt { color: #008000; font-weight: bold } /* Name.Tag */\n",
       ".highlight .nv { color: #19177C } /* Name.Variable */\n",
       ".highlight .ow { color: #AA22FF; font-weight: bold } /* Operator.Word */\n",
       ".highlight .w { color: #bbbbbb } /* Text.Whitespace */\n",
       ".highlight .mb { color: #666666 } /* Literal.Number.Bin */\n",
       ".highlight .mf { color: #666666 } /* Literal.Number.Float */\n",
       ".highlight .mh { color: #666666 } /* Literal.Number.Hex */\n",
       ".highlight .mi { color: #666666 } /* Literal.Number.Integer */\n",
       ".highlight .mo { color: #666666 } /* Literal.Number.Oct */\n",
       ".highlight .sa { color: #BA2121 } /* Literal.String.Affix */\n",
       ".highlight .sb { color: #BA2121 } /* Literal.String.Backtick */\n",
       ".highlight .sc { color: #BA2121 } /* Literal.String.Char */\n",
       ".highlight .dl { color: #BA2121 } /* Literal.String.Delimiter */\n",
       ".highlight .sd { color: #BA2121; font-style: italic } /* Literal.String.Doc */\n",
       ".highlight .s2 { color: #BA2121 } /* Literal.String.Double */\n",
       ".highlight .se { color: #BB6622; font-weight: bold } /* Literal.String.Escape */\n",
       ".highlight .sh { color: #BA2121 } /* Literal.String.Heredoc */\n",
       ".highlight .si { color: #BB6688; font-weight: bold } /* Literal.String.Interpol */\n",
       ".highlight .sx { color: #008000 } /* Literal.String.Other */\n",
       ".highlight .sr { color: #BB6688 } /* Literal.String.Regex */\n",
       ".highlight .s1 { color: #BA2121 } /* Literal.String.Single */\n",
       ".highlight .ss { color: #19177C } /* Literal.String.Symbol */\n",
       ".highlight .bp { color: #008000 } /* Name.Builtin.Pseudo */\n",
       ".highlight .fm { color: #0000FF } /* Name.Function.Magic */\n",
       ".highlight .vc { color: #19177C } /* Name.Variable.Class */\n",
       ".highlight .vg { color: #19177C } /* Name.Variable.Global */\n",
       ".highlight .vi { color: #19177C } /* Name.Variable.Instance */\n",
       ".highlight .vm { color: #19177C } /* Name.Variable.Magic */\n",
       ".highlight .il { color: #666666 } /* Literal.Number.Integer.Long */\n",
       "      </style>\n",
       "      "
      ],
      "text/plain": [
       "<IPython.core.display.HTML object>"
      ]
     },
     "metadata": {},
     "output_type": "display_data"
    },
    {
     "data": {
      "text/html": [
       "<div class=\"highlight\"><pre><span></span><span class=\"nf\">anc_360</span><span class=\"p\">(</span><span class=\"mi\">72</span><span class=\"p\">)</span> <span class=\"nf\">anc_360</span><span class=\"p\">(</span><span class=\"mi\">120</span><span class=\"p\">)</span> <span class=\"nf\">anc_360</span><span class=\"p\">(</span><span class=\"mi\">180</span><span class=\"p\">)</span> <span class=\"nf\">anc_360</span><span class=\"p\">(</span><span class=\"mi\">36</span><span class=\"p\">)</span> <span class=\"nf\">anc_360</span><span class=\"p\">(</span><span class=\"mi\">60</span><span class=\"p\">)</span> <span class=\"nf\">anc_360</span><span class=\"p\">(</span><span class=\"mi\">90</span><span class=\"p\">)</span> <span class=\"nf\">anc_360</span><span class=\"p\">(</span><span class=\"mi\">24</span><span class=\"p\">)</span> <span class=\"nf\">anc_360</span><span class=\"p\">(</span><span class=\"mi\">40</span><span class=\"p\">)</span> <span class=\"nf\">anc_360</span><span class=\"p\">(</span><span class=\"mi\">8</span><span class=\"p\">)</span> <span class=\"nf\">anc_360</span><span class=\"p\">(</span><span class=\"mi\">12</span><span class=\"p\">)</span> <span class=\"nf\">anc_360</span><span class=\"p\">(</span><span class=\"mi\">20</span><span class=\"p\">)</span> <span class=\"nf\">anc_360</span><span class=\"p\">(</span><span class=\"mi\">18</span><span class=\"p\">)</span> <span class=\"nf\">anc_360</span><span class=\"p\">(</span><span class=\"mi\">30</span><span class=\"p\">)</span> <span class=\"nf\">anc_360</span><span class=\"p\">(</span><span class=\"mi\">45</span><span class=\"p\">)</span> <span class=\"nf\">anc_360</span><span class=\"p\">(</span><span class=\"mi\">9</span><span class=\"p\">)</span> <span class=\"nf\">anc_360</span><span class=\"p\">(</span><span class=\"mi\">15</span><span class=\"p\">)</span> <span class=\"nf\">anc_360</span><span class=\"p\">(</span><span class=\"mi\">6</span><span class=\"p\">)</span> <span class=\"nf\">anc_360</span><span class=\"p\">(</span><span class=\"mi\">10</span><span class=\"p\">)</span> <span class=\"nf\">anc_360</span><span class=\"p\">(</span><span class=\"mi\">4</span><span class=\"p\">)</span> <span class=\"nf\">anc_360</span><span class=\"p\">(</span><span class=\"mi\">2</span><span class=\"p\">)</span> <span class=\"nf\">anc_360</span><span class=\"p\">(</span><span class=\"mi\">3</span><span class=\"p\">)</span> <span class=\"nf\">anc_360</span><span class=\"p\">(</span><span class=\"mi\">5</span><span class=\"p\">)</span> <span class=\"nf\">anc_360</span><span class=\"p\">(</span><span class=\"mi\">1</span><span class=\"p\">)</span>\n",
       "</pre></div>\n"
      ],
      "text/plain": [
       "'anc_360(72) anc_360(120) anc_360(180) anc_360(36) anc_360(60) anc_360(90) anc_360(24) anc_360(40) anc_360(8) anc_360(12) anc_360(20) anc_360(18) anc_360(30) anc_360(45) anc_360(9) anc_360(15) anc_360(6) anc_360(10) anc_360(4) anc_360(2) anc_360(3) anc_360(5) anc_360(1)'"
      ]
     },
     "execution_count": 21,
     "metadata": {},
     "output_type": "execute_result"
    }
   ],
   "source": [
    "%%clingo {\"predicate\" : \"anc_360\", \"predicate_arity\" : 1, \"result_var\": \"Anc_360\"}\n",
    "% Don't change the clingo magic command above. The header of this cell will determine how the datalog rules are saved for evaluation.\n",
    "\n",
    "%# Change the following expression, and add additional rules if necessary\n",
    "      \n",
    "par(Y, X) :- hamming(Y, X, _).\n",
    "\n",
    "anc(X, Y) :- par(X, Y).\n",
    "anc(X, Y) :- par(X, Z), anc(Z, Y).\n",
    "\n",
    "anc_360(X) :- anc(360, X)."
   ]
  },
  {
   "cell_type": "markdown",
   "metadata": {
    "deletable": false,
    "editable": false,
    "nbgrader": {
     "cell_type": "markdown",
     "checksum": "a42aea2537640c7b8893ec529679304d",
     "grade": false,
     "grade_id": "cell-71f232fc9c8d8c40",
     "locked": true,
     "schema_version": 3,
     "solution": false
    }
   },
   "source": [
    "### Test 1 for Ancestors of 360"
   ]
  },
  {
   "cell_type": "code",
   "execution_count": 22,
   "metadata": {
    "deletable": false,
    "editable": false,
    "nbgrader": {
     "cell_type": "code",
     "checksum": "9de231d801608e3d0407473018444cca",
     "grade": true,
     "grade_id": "cell-2d9923fdfe7a31c5",
     "locked": true,
     "points": 1,
     "schema_version": 3,
     "solution": false
    }
   },
   "outputs": [
    {
     "data": {
      "text/html": [
       "<p><font color=\"green\">Test passed.</font></p>"
      ],
      "text/plain": [
       "<IPython.core.display.HTML object>"
      ]
     },
     "metadata": {},
     "output_type": "display_data"
    },
    {
     "data": {
      "text/html": [
       "<p><font color=\"green\">Your output matched with following expected output:</font></p>"
      ],
      "text/plain": [
       "<IPython.core.display.HTML object>"
      ]
     },
     "metadata": {},
     "output_type": "display_data"
    },
    {
     "data": {
      "text/html": [
       "\n",
       "      <style>\n",
       "      .highlight .hll { background-color: #ffffcc }\n",
       ".highlight  { background: #f8f8f8; }\n",
       ".highlight .c { color: #408080; font-style: italic } /* Comment */\n",
       ".highlight .err { border: 1px solid #FF0000 } /* Error */\n",
       ".highlight .k { color: #008000; font-weight: bold } /* Keyword */\n",
       ".highlight .o { color: #666666 } /* Operator */\n",
       ".highlight .ch { color: #408080; font-style: italic } /* Comment.Hashbang */\n",
       ".highlight .cm { color: #408080; font-style: italic } /* Comment.Multiline */\n",
       ".highlight .cp { color: #BC7A00 } /* Comment.Preproc */\n",
       ".highlight .cpf { color: #408080; font-style: italic } /* Comment.PreprocFile */\n",
       ".highlight .c1 { color: #408080; font-style: italic } /* Comment.Single */\n",
       ".highlight .cs { color: #408080; font-style: italic } /* Comment.Special */\n",
       ".highlight .gd { color: #A00000 } /* Generic.Deleted */\n",
       ".highlight .ge { font-style: italic } /* Generic.Emph */\n",
       ".highlight .gr { color: #FF0000 } /* Generic.Error */\n",
       ".highlight .gh { color: #000080; font-weight: bold } /* Generic.Heading */\n",
       ".highlight .gi { color: #00A000 } /* Generic.Inserted */\n",
       ".highlight .go { color: #888888 } /* Generic.Output */\n",
       ".highlight .gp { color: #000080; font-weight: bold } /* Generic.Prompt */\n",
       ".highlight .gs { font-weight: bold } /* Generic.Strong */\n",
       ".highlight .gu { color: #800080; font-weight: bold } /* Generic.Subheading */\n",
       ".highlight .gt { color: #0044DD } /* Generic.Traceback */\n",
       ".highlight .kc { color: #008000; font-weight: bold } /* Keyword.Constant */\n",
       ".highlight .kd { color: #008000; font-weight: bold } /* Keyword.Declaration */\n",
       ".highlight .kn { color: #008000; font-weight: bold } /* Keyword.Namespace */\n",
       ".highlight .kp { color: #008000 } /* Keyword.Pseudo */\n",
       ".highlight .kr { color: #008000; font-weight: bold } /* Keyword.Reserved */\n",
       ".highlight .kt { color: #B00040 } /* Keyword.Type */\n",
       ".highlight .m { color: #666666 } /* Literal.Number */\n",
       ".highlight .s { color: #BA2121 } /* Literal.String */\n",
       ".highlight .na { color: #7D9029 } /* Name.Attribute */\n",
       ".highlight .nb { color: #008000 } /* Name.Builtin */\n",
       ".highlight .nc { color: #0000FF; font-weight: bold } /* Name.Class */\n",
       ".highlight .no { color: #880000 } /* Name.Constant */\n",
       ".highlight .nd { color: #AA22FF } /* Name.Decorator */\n",
       ".highlight .ni { color: #999999; font-weight: bold } /* Name.Entity */\n",
       ".highlight .ne { color: #D2413A; font-weight: bold } /* Name.Exception */\n",
       ".highlight .nf { color: #0000FF } /* Name.Function */\n",
       ".highlight .nl { color: #A0A000 } /* Name.Label */\n",
       ".highlight .nn { color: #0000FF; font-weight: bold } /* Name.Namespace */\n",
       ".highlight .nt { color: #008000; font-weight: bold } /* Name.Tag */\n",
       ".highlight .nv { color: #19177C } /* Name.Variable */\n",
       ".highlight .ow { color: #AA22FF; font-weight: bold } /* Operator.Word */\n",
       ".highlight .w { color: #bbbbbb } /* Text.Whitespace */\n",
       ".highlight .mb { color: #666666 } /* Literal.Number.Bin */\n",
       ".highlight .mf { color: #666666 } /* Literal.Number.Float */\n",
       ".highlight .mh { color: #666666 } /* Literal.Number.Hex */\n",
       ".highlight .mi { color: #666666 } /* Literal.Number.Integer */\n",
       ".highlight .mo { color: #666666 } /* Literal.Number.Oct */\n",
       ".highlight .sa { color: #BA2121 } /* Literal.String.Affix */\n",
       ".highlight .sb { color: #BA2121 } /* Literal.String.Backtick */\n",
       ".highlight .sc { color: #BA2121 } /* Literal.String.Char */\n",
       ".highlight .dl { color: #BA2121 } /* Literal.String.Delimiter */\n",
       ".highlight .sd { color: #BA2121; font-style: italic } /* Literal.String.Doc */\n",
       ".highlight .s2 { color: #BA2121 } /* Literal.String.Double */\n",
       ".highlight .se { color: #BB6622; font-weight: bold } /* Literal.String.Escape */\n",
       ".highlight .sh { color: #BA2121 } /* Literal.String.Heredoc */\n",
       ".highlight .si { color: #BB6688; font-weight: bold } /* Literal.String.Interpol */\n",
       ".highlight .sx { color: #008000 } /* Literal.String.Other */\n",
       ".highlight .sr { color: #BB6688 } /* Literal.String.Regex */\n",
       ".highlight .s1 { color: #BA2121 } /* Literal.String.Single */\n",
       ".highlight .ss { color: #19177C } /* Literal.String.Symbol */\n",
       ".highlight .bp { color: #008000 } /* Name.Builtin.Pseudo */\n",
       ".highlight .fm { color: #0000FF } /* Name.Function.Magic */\n",
       ".highlight .vc { color: #19177C } /* Name.Variable.Class */\n",
       ".highlight .vg { color: #19177C } /* Name.Variable.Global */\n",
       ".highlight .vi { color: #19177C } /* Name.Variable.Instance */\n",
       ".highlight .vm { color: #19177C } /* Name.Variable.Magic */\n",
       ".highlight .il { color: #666666 } /* Literal.Number.Integer.Long */\n",
       "      </style>\n",
       "      "
      ],
      "text/plain": [
       "<IPython.core.display.HTML object>"
      ]
     },
     "metadata": {},
     "output_type": "display_data"
    },
    {
     "data": {
      "text/html": [
       "<div class=\"highlight\"><pre><span></span><span class=\"nf\">anc_360</span><span class=\"p\">(</span><span class=\"mi\">72</span><span class=\"p\">)</span> <span class=\"nf\">anc_360</span><span class=\"p\">(</span><span class=\"mi\">120</span><span class=\"p\">)</span> <span class=\"nf\">anc_360</span><span class=\"p\">(</span><span class=\"mi\">180</span><span class=\"p\">)</span> <span class=\"nf\">anc_360</span><span class=\"p\">(</span><span class=\"mi\">36</span><span class=\"p\">)</span> <span class=\"nf\">anc_360</span><span class=\"p\">(</span><span class=\"mi\">60</span><span class=\"p\">)</span> <span class=\"nf\">anc_360</span><span class=\"p\">(</span><span class=\"mi\">90</span><span class=\"p\">)</span> <span class=\"nf\">anc_360</span><span class=\"p\">(</span><span class=\"mi\">24</span><span class=\"p\">)</span> <span class=\"nf\">anc_360</span><span class=\"p\">(</span><span class=\"mi\">40</span><span class=\"p\">)</span> <span class=\"nf\">anc_360</span><span class=\"p\">(</span><span class=\"mi\">8</span><span class=\"p\">)</span> <span class=\"nf\">anc_360</span><span class=\"p\">(</span><span class=\"mi\">12</span><span class=\"p\">)</span> <span class=\"nf\">anc_360</span><span class=\"p\">(</span><span class=\"mi\">20</span><span class=\"p\">)</span> <span class=\"nf\">anc_360</span><span class=\"p\">(</span><span class=\"mi\">18</span><span class=\"p\">)</span> <span class=\"nf\">anc_360</span><span class=\"p\">(</span><span class=\"mi\">30</span><span class=\"p\">)</span> <span class=\"nf\">anc_360</span><span class=\"p\">(</span><span class=\"mi\">45</span><span class=\"p\">)</span> <span class=\"nf\">anc_360</span><span class=\"p\">(</span><span class=\"mi\">9</span><span class=\"p\">)</span> <span class=\"nf\">anc_360</span><span class=\"p\">(</span><span class=\"mi\">15</span><span class=\"p\">)</span> <span class=\"nf\">anc_360</span><span class=\"p\">(</span><span class=\"mi\">6</span><span class=\"p\">)</span> <span class=\"nf\">anc_360</span><span class=\"p\">(</span><span class=\"mi\">10</span><span class=\"p\">)</span> <span class=\"nf\">anc_360</span><span class=\"p\">(</span><span class=\"mi\">4</span><span class=\"p\">)</span> <span class=\"nf\">anc_360</span><span class=\"p\">(</span><span class=\"mi\">2</span><span class=\"p\">)</span> <span class=\"nf\">anc_360</span><span class=\"p\">(</span><span class=\"mi\">3</span><span class=\"p\">)</span> <span class=\"nf\">anc_360</span><span class=\"p\">(</span><span class=\"mi\">5</span><span class=\"p\">)</span> <span class=\"nf\">anc_360</span><span class=\"p\">(</span><span class=\"mi\">1</span><span class=\"p\">)</span>\n",
       "</pre></div>\n"
      ],
      "text/plain": [
       "'anc_360(72) anc_360(120) anc_360(180) anc_360(36) anc_360(60) anc_360(90) anc_360(24) anc_360(40) anc_360(8) anc_360(12) anc_360(20) anc_360(18) anc_360(30) anc_360(45) anc_360(9) anc_360(15) anc_360(6) anc_360(10) anc_360(4) anc_360(2) anc_360(3) anc_360(5) anc_360(1)'"
      ]
     },
     "metadata": {},
     "output_type": "display_data"
    }
   ],
   "source": [
    "expected_output = '''\n",
    "anc_360(72) anc_360(120) anc_360(180) anc_360(36) anc_360(60) anc_360(90) anc_360(24) anc_360(40) anc_360(8) anc_360(12) anc_360(20) anc_360(18) anc_360(30) anc_360(45) anc_360(9) anc_360(15) anc_360(6) anc_360(10) anc_360(4) anc_360(2) anc_360(3) anc_360(5) anc_360(1)\n",
    "'''\n",
    "db_file = os.path.expanduser('~/data_readonly/provenance/problem2-fish.lp')\n",
    "clingo_evaluate(db_file, Anc_360['code'], 'anc_360', 1, expected_output)"
   ]
  },
  {
   "cell_type": "code",
   "execution_count": 23,
   "metadata": {
    "deletable": false,
    "editable": false,
    "nbgrader": {
     "cell_type": "code",
     "checksum": "d32f67076a749853b5e5a6c5149613ca",
     "grade": true,
     "grade_id": "cell-fc514433701a27d9",
     "locked": true,
     "points": 9,
     "schema_version": 3,
     "solution": false
    }
   },
   "outputs": [],
   "source": [
    "# Hidden Test for anc/2.\n",
    "# anc/2 is the anc rule you used to generate your anc_360.\n",
    "# refer back to the Family problem (Problem 1):\n",
    "# anc(X,Y) is true if one can reach from X an ancestor Y via a chain of parent edges.\n"
   ]
  },
  {
   "cell_type": "markdown",
   "metadata": {
    "deletable": false,
    "editable": false,
    "nbgrader": {
     "cell_type": "markdown",
     "checksum": "0c884c804cc34b73297868c8b8ffa619",
     "grade": false,
     "grade_id": "cell-73ed4729ada20adf",
     "locked": true,
     "schema_version": 3,
     "solution": false
    }
   },
   "source": [
    "## 2. [20 points] Lowest Common Ancestors\n",
    "Compute `lca(360,600,a)`, i.e., the lowest common ancestor of 360 and 600 for the _Fish_ graph.\n",
    "You will do the same for the _Sail_ graph in the next notebook."
   ]
  },
  {
   "cell_type": "code",
   "execution_count": 10,
   "metadata": {
    "deletable": false,
    "nbgrader": {
     "cell_type": "code",
     "checksum": "53fa71a560da80e272f2c98a0c36a432",
     "grade": false,
     "grade_id": "cell-cc45da44a11882c1",
     "locked": false,
     "schema_version": 3,
     "solution": true
    }
   },
   "outputs": [
    {
     "name": "stdout",
     "output_type": "stream",
     "text": [
      "Saving output to local variable Lca_360_600['result']\n",
      "Saving code snippet to local variable Lca_360_600['code']\n"
     ]
    },
    {
     "data": {
      "text/html": [
       "\n",
       "      <style>\n",
       "      .highlight .hll { background-color: #ffffcc }\n",
       ".highlight  { background: #f8f8f8; }\n",
       ".highlight .c { color: #408080; font-style: italic } /* Comment */\n",
       ".highlight .err { border: 1px solid #FF0000 } /* Error */\n",
       ".highlight .k { color: #008000; font-weight: bold } /* Keyword */\n",
       ".highlight .o { color: #666666 } /* Operator */\n",
       ".highlight .ch { color: #408080; font-style: italic } /* Comment.Hashbang */\n",
       ".highlight .cm { color: #408080; font-style: italic } /* Comment.Multiline */\n",
       ".highlight .cp { color: #BC7A00 } /* Comment.Preproc */\n",
       ".highlight .cpf { color: #408080; font-style: italic } /* Comment.PreprocFile */\n",
       ".highlight .c1 { color: #408080; font-style: italic } /* Comment.Single */\n",
       ".highlight .cs { color: #408080; font-style: italic } /* Comment.Special */\n",
       ".highlight .gd { color: #A00000 } /* Generic.Deleted */\n",
       ".highlight .ge { font-style: italic } /* Generic.Emph */\n",
       ".highlight .gr { color: #FF0000 } /* Generic.Error */\n",
       ".highlight .gh { color: #000080; font-weight: bold } /* Generic.Heading */\n",
       ".highlight .gi { color: #00A000 } /* Generic.Inserted */\n",
       ".highlight .go { color: #888888 } /* Generic.Output */\n",
       ".highlight .gp { color: #000080; font-weight: bold } /* Generic.Prompt */\n",
       ".highlight .gs { font-weight: bold } /* Generic.Strong */\n",
       ".highlight .gu { color: #800080; font-weight: bold } /* Generic.Subheading */\n",
       ".highlight .gt { color: #0044DD } /* Generic.Traceback */\n",
       ".highlight .kc { color: #008000; font-weight: bold } /* Keyword.Constant */\n",
       ".highlight .kd { color: #008000; font-weight: bold } /* Keyword.Declaration */\n",
       ".highlight .kn { color: #008000; font-weight: bold } /* Keyword.Namespace */\n",
       ".highlight .kp { color: #008000 } /* Keyword.Pseudo */\n",
       ".highlight .kr { color: #008000; font-weight: bold } /* Keyword.Reserved */\n",
       ".highlight .kt { color: #B00040 } /* Keyword.Type */\n",
       ".highlight .m { color: #666666 } /* Literal.Number */\n",
       ".highlight .s { color: #BA2121 } /* Literal.String */\n",
       ".highlight .na { color: #7D9029 } /* Name.Attribute */\n",
       ".highlight .nb { color: #008000 } /* Name.Builtin */\n",
       ".highlight .nc { color: #0000FF; font-weight: bold } /* Name.Class */\n",
       ".highlight .no { color: #880000 } /* Name.Constant */\n",
       ".highlight .nd { color: #AA22FF } /* Name.Decorator */\n",
       ".highlight .ni { color: #999999; font-weight: bold } /* Name.Entity */\n",
       ".highlight .ne { color: #D2413A; font-weight: bold } /* Name.Exception */\n",
       ".highlight .nf { color: #0000FF } /* Name.Function */\n",
       ".highlight .nl { color: #A0A000 } /* Name.Label */\n",
       ".highlight .nn { color: #0000FF; font-weight: bold } /* Name.Namespace */\n",
       ".highlight .nt { color: #008000; font-weight: bold } /* Name.Tag */\n",
       ".highlight .nv { color: #19177C } /* Name.Variable */\n",
       ".highlight .ow { color: #AA22FF; font-weight: bold } /* Operator.Word */\n",
       ".highlight .w { color: #bbbbbb } /* Text.Whitespace */\n",
       ".highlight .mb { color: #666666 } /* Literal.Number.Bin */\n",
       ".highlight .mf { color: #666666 } /* Literal.Number.Float */\n",
       ".highlight .mh { color: #666666 } /* Literal.Number.Hex */\n",
       ".highlight .mi { color: #666666 } /* Literal.Number.Integer */\n",
       ".highlight .mo { color: #666666 } /* Literal.Number.Oct */\n",
       ".highlight .sa { color: #BA2121 } /* Literal.String.Affix */\n",
       ".highlight .sb { color: #BA2121 } /* Literal.String.Backtick */\n",
       ".highlight .sc { color: #BA2121 } /* Literal.String.Char */\n",
       ".highlight .dl { color: #BA2121 } /* Literal.String.Delimiter */\n",
       ".highlight .sd { color: #BA2121; font-style: italic } /* Literal.String.Doc */\n",
       ".highlight .s2 { color: #BA2121 } /* Literal.String.Double */\n",
       ".highlight .se { color: #BB6622; font-weight: bold } /* Literal.String.Escape */\n",
       ".highlight .sh { color: #BA2121 } /* Literal.String.Heredoc */\n",
       ".highlight .si { color: #BB6688; font-weight: bold } /* Literal.String.Interpol */\n",
       ".highlight .sx { color: #008000 } /* Literal.String.Other */\n",
       ".highlight .sr { color: #BB6688 } /* Literal.String.Regex */\n",
       ".highlight .s1 { color: #BA2121 } /* Literal.String.Single */\n",
       ".highlight .ss { color: #19177C } /* Literal.String.Symbol */\n",
       ".highlight .bp { color: #008000 } /* Name.Builtin.Pseudo */\n",
       ".highlight .fm { color: #0000FF } /* Name.Function.Magic */\n",
       ".highlight .vc { color: #19177C } /* Name.Variable.Class */\n",
       ".highlight .vg { color: #19177C } /* Name.Variable.Global */\n",
       ".highlight .vi { color: #19177C } /* Name.Variable.Instance */\n",
       ".highlight .vm { color: #19177C } /* Name.Variable.Magic */\n",
       ".highlight .il { color: #666666 } /* Literal.Number.Integer.Long */\n",
       "      </style>\n",
       "      "
      ],
      "text/plain": [
       "<IPython.core.display.HTML object>"
      ]
     },
     "metadata": {},
     "output_type": "display_data"
    },
    {
     "data": {
      "text/html": [
       "<div class=\"highlight\"><pre><span></span><span class=\"nf\">lca_360_600</span><span class=\"p\">(</span><span class=\"mi\">120</span><span class=\"p\">)</span>\n",
       "</pre></div>\n"
      ],
      "text/plain": [
       "'lca_360_600(120)'"
      ]
     },
     "execution_count": 10,
     "metadata": {},
     "output_type": "execute_result"
    }
   ],
   "source": [
    "%%clingo {\"predicate\" : \"lca_360_600\", \"predicate_arity\" : 1, \"result_var\": \"Lca_360_600\"}\n",
    "% Don't change the clingo magic command above. The header of this cell will determine how the datalog rules are saved for evaluation.\n",
    "\n",
    "% Change the following expressions (add additional rules if necessary):\n",
    "    \n",
    "lca_360_600(X) :- lca(360,600,X).\n",
    "\n",
    "par(X,Y) :- hamming(Y,X,F).\n",
    "    \n",
    "anc(X,Y) :- par(X,Y).\n",
    "anc(X,Y) :- par(X,Z), anc(Z,Y).\n",
    "\n",
    "ca(X,A,A) :- anc(A,X).\n",
    "ca(A,X,A) :- anc(A,X).\n",
    "    \n",
    "ca(X,Y,A) :- anc(A,Y), anc(A,X), X != Y. \n",
    "\n",
    "not_lca(X,Y,A) :- ca(X,Y,A), ca(X,Y,A1), anc(A,A1).\n",
    "\n",
    "lca(X,Y,A) :- ca(X,Y,A), not not_lca(X,Y,A)."
   ]
  },
  {
   "cell_type": "code",
   "execution_count": 11,
   "metadata": {
    "deletable": false,
    "editable": false,
    "nbgrader": {
     "cell_type": "code",
     "checksum": "91364b9ef1abb2a9b197ced6a1485e31",
     "grade": true,
     "grade_id": "cell-9e42a2a2701c374b",
     "locked": true,
     "points": 5,
     "schema_version": 3,
     "solution": false
    }
   },
   "outputs": [
    {
     "data": {
      "text/html": [
       "<p><font color=\"green\">Test passed.</font></p>"
      ],
      "text/plain": [
       "<IPython.core.display.HTML object>"
      ]
     },
     "metadata": {},
     "output_type": "display_data"
    },
    {
     "data": {
      "text/html": [
       "<p><font color=\"green\">Your output matched with following expected output:</font></p>"
      ],
      "text/plain": [
       "<IPython.core.display.HTML object>"
      ]
     },
     "metadata": {},
     "output_type": "display_data"
    },
    {
     "data": {
      "text/html": [
       "\n",
       "      <style>\n",
       "      .highlight .hll { background-color: #ffffcc }\n",
       ".highlight  { background: #f8f8f8; }\n",
       ".highlight .c { color: #408080; font-style: italic } /* Comment */\n",
       ".highlight .err { border: 1px solid #FF0000 } /* Error */\n",
       ".highlight .k { color: #008000; font-weight: bold } /* Keyword */\n",
       ".highlight .o { color: #666666 } /* Operator */\n",
       ".highlight .ch { color: #408080; font-style: italic } /* Comment.Hashbang */\n",
       ".highlight .cm { color: #408080; font-style: italic } /* Comment.Multiline */\n",
       ".highlight .cp { color: #BC7A00 } /* Comment.Preproc */\n",
       ".highlight .cpf { color: #408080; font-style: italic } /* Comment.PreprocFile */\n",
       ".highlight .c1 { color: #408080; font-style: italic } /* Comment.Single */\n",
       ".highlight .cs { color: #408080; font-style: italic } /* Comment.Special */\n",
       ".highlight .gd { color: #A00000 } /* Generic.Deleted */\n",
       ".highlight .ge { font-style: italic } /* Generic.Emph */\n",
       ".highlight .gr { color: #FF0000 } /* Generic.Error */\n",
       ".highlight .gh { color: #000080; font-weight: bold } /* Generic.Heading */\n",
       ".highlight .gi { color: #00A000 } /* Generic.Inserted */\n",
       ".highlight .go { color: #888888 } /* Generic.Output */\n",
       ".highlight .gp { color: #000080; font-weight: bold } /* Generic.Prompt */\n",
       ".highlight .gs { font-weight: bold } /* Generic.Strong */\n",
       ".highlight .gu { color: #800080; font-weight: bold } /* Generic.Subheading */\n",
       ".highlight .gt { color: #0044DD } /* Generic.Traceback */\n",
       ".highlight .kc { color: #008000; font-weight: bold } /* Keyword.Constant */\n",
       ".highlight .kd { color: #008000; font-weight: bold } /* Keyword.Declaration */\n",
       ".highlight .kn { color: #008000; font-weight: bold } /* Keyword.Namespace */\n",
       ".highlight .kp { color: #008000 } /* Keyword.Pseudo */\n",
       ".highlight .kr { color: #008000; font-weight: bold } /* Keyword.Reserved */\n",
       ".highlight .kt { color: #B00040 } /* Keyword.Type */\n",
       ".highlight .m { color: #666666 } /* Literal.Number */\n",
       ".highlight .s { color: #BA2121 } /* Literal.String */\n",
       ".highlight .na { color: #7D9029 } /* Name.Attribute */\n",
       ".highlight .nb { color: #008000 } /* Name.Builtin */\n",
       ".highlight .nc { color: #0000FF; font-weight: bold } /* Name.Class */\n",
       ".highlight .no { color: #880000 } /* Name.Constant */\n",
       ".highlight .nd { color: #AA22FF } /* Name.Decorator */\n",
       ".highlight .ni { color: #999999; font-weight: bold } /* Name.Entity */\n",
       ".highlight .ne { color: #D2413A; font-weight: bold } /* Name.Exception */\n",
       ".highlight .nf { color: #0000FF } /* Name.Function */\n",
       ".highlight .nl { color: #A0A000 } /* Name.Label */\n",
       ".highlight .nn { color: #0000FF; font-weight: bold } /* Name.Namespace */\n",
       ".highlight .nt { color: #008000; font-weight: bold } /* Name.Tag */\n",
       ".highlight .nv { color: #19177C } /* Name.Variable */\n",
       ".highlight .ow { color: #AA22FF; font-weight: bold } /* Operator.Word */\n",
       ".highlight .w { color: #bbbbbb } /* Text.Whitespace */\n",
       ".highlight .mb { color: #666666 } /* Literal.Number.Bin */\n",
       ".highlight .mf { color: #666666 } /* Literal.Number.Float */\n",
       ".highlight .mh { color: #666666 } /* Literal.Number.Hex */\n",
       ".highlight .mi { color: #666666 } /* Literal.Number.Integer */\n",
       ".highlight .mo { color: #666666 } /* Literal.Number.Oct */\n",
       ".highlight .sa { color: #BA2121 } /* Literal.String.Affix */\n",
       ".highlight .sb { color: #BA2121 } /* Literal.String.Backtick */\n",
       ".highlight .sc { color: #BA2121 } /* Literal.String.Char */\n",
       ".highlight .dl { color: #BA2121 } /* Literal.String.Delimiter */\n",
       ".highlight .sd { color: #BA2121; font-style: italic } /* Literal.String.Doc */\n",
       ".highlight .s2 { color: #BA2121 } /* Literal.String.Double */\n",
       ".highlight .se { color: #BB6622; font-weight: bold } /* Literal.String.Escape */\n",
       ".highlight .sh { color: #BA2121 } /* Literal.String.Heredoc */\n",
       ".highlight .si { color: #BB6688; font-weight: bold } /* Literal.String.Interpol */\n",
       ".highlight .sx { color: #008000 } /* Literal.String.Other */\n",
       ".highlight .sr { color: #BB6688 } /* Literal.String.Regex */\n",
       ".highlight .s1 { color: #BA2121 } /* Literal.String.Single */\n",
       ".highlight .ss { color: #19177C } /* Literal.String.Symbol */\n",
       ".highlight .bp { color: #008000 } /* Name.Builtin.Pseudo */\n",
       ".highlight .fm { color: #0000FF } /* Name.Function.Magic */\n",
       ".highlight .vc { color: #19177C } /* Name.Variable.Class */\n",
       ".highlight .vg { color: #19177C } /* Name.Variable.Global */\n",
       ".highlight .vi { color: #19177C } /* Name.Variable.Instance */\n",
       ".highlight .vm { color: #19177C } /* Name.Variable.Magic */\n",
       ".highlight .il { color: #666666 } /* Literal.Number.Integer.Long */\n",
       "      </style>\n",
       "      "
      ],
      "text/plain": [
       "<IPython.core.display.HTML object>"
      ]
     },
     "metadata": {},
     "output_type": "display_data"
    },
    {
     "data": {
      "text/html": [
       "<div class=\"highlight\"><pre><span></span><span class=\"nf\">lca_360_600</span><span class=\"p\">(</span><span class=\"mi\">120</span><span class=\"p\">)</span>\n",
       "</pre></div>\n"
      ],
      "text/plain": [
       "'lca_360_600(120)'"
      ]
     },
     "metadata": {},
     "output_type": "display_data"
    }
   ],
   "source": [
    "expected_output = '''\n",
    "lca_360_600(120)\n",
    "'''\n",
    "db_file = os.path.expanduser('~/data_readonly/provenance/problem2-fish.lp')\n",
    "clingo_evaluate(db_file, Lca_360_600['code'], 'lca_360_600', 1, expected_output)"
   ]
  },
  {
   "cell_type": "code",
   "execution_count": 10,
   "metadata": {
    "deletable": false,
    "editable": false,
    "nbgrader": {
     "cell_type": "code",
     "checksum": "b8b0ebdd43772542ce1006e782c5f6f0",
     "grade": true,
     "grade_id": "cell-13b154541ea4fcbb",
     "locked": true,
     "points": 15,
     "schema_version": 3,
     "solution": false
    }
   },
   "outputs": [],
   "source": [
    "# Hidden Test for lca/3.\n"
   ]
  },
  {
   "cell_type": "code",
   "execution_count": null,
   "metadata": {},
   "outputs": [],
   "source": []
  }
 ],
 "metadata": {
  "kernelspec": {
   "display_name": "Python 3",
   "language": "python",
   "name": "python3"
  },
  "language_info": {
   "codemirror_mode": {
    "name": "ipython",
    "version": 3
   },
   "file_extension": ".py",
   "mimetype": "text/x-python",
   "name": "python",
   "nbconvert_exporter": "python",
   "pygments_lexer": "ipython3",
   "version": "3.7.6"
  }
 },
 "nbformat": 4,
 "nbformat_minor": 2
}
