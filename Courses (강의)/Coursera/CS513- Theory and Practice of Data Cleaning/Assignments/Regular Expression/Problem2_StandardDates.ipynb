{
 "cells": [
  {
   "cell_type": "markdown",
   "metadata": {
    "deletable": false,
    "editable": false,
    "nbgrader": {
     "cell_type": "markdown",
     "checksum": "6177599d7db2326a6033a65716e333d6",
     "grade": false,
     "grade_id": "cell-f26dfa4a80c90478",
     "locked": true,
     "schema_version": 3,
     "solution": false
    }
   },
   "source": [
    "# About Test Cases and Grading\n",
    "* You have to write two regexes (Part a, Part b), each worth 12.5 points, so this problem is worth 25 points total.\n",
    "* Each regex will be checked against 10 test cases for correctness (each test case is worth 1.25 points).\n",
    "* Note that we test your regular expressions against positive and negative examples, i.e., we check that your regex is indeed matching the positive examples, but that it is not matching the negative examples.\n",
    "* To check whether you're on the right path, we provide two positive and two negative test cases. (You can also make up more test cases of your own.) The four test cases are worth 1.25 * 4 = 5 points.\n",
    "* After submission, we  run each of your regexes against three positive and three negative examples. Together these six test cases are worth 1.25 * 6 = 7.5 points. Thus the total points for each regex part is 5 + 7.5 = 12.5 points.\n",
    "\n",
    "\n",
    "# Regex to Match ISO-8601 Dates\n",
    "\n",
    "There is an international standard called [ISO 8601](https://en.wikipedia.org/wiki/ISO_8601) for date and time-related date. Develop regular expressions for the following:  \n",
    "\n",
    "* (a) Simple standard dates, e.g., **2017-02-14** and similar.  \n",
    "\n",
    "* (b) Date [combined with time](https://en.wikipedia.org/wiki/ISO_8601#Combined_date_and_time_representations) but without [time zone designators](https://en.wikipedia.org/wiki/ISO_8601#Time_zone_designators), e.g., **2007-02-14T14:30**.\n",
    "\n",
    "Treat all months **as if they have 31 days**. You do not have to differentiate 28, 29, 30, 31 days of different months! Similarly, you do not need to consider leap years in any of the questions.\n"
   ]
  },
  {
   "cell_type": "code",
   "execution_count": 3,
   "metadata": {
    "deletable": false,
    "editable": false,
    "nbgrader": {
     "cell_type": "code",
     "checksum": "d118ffde4c8fd72c7caff195a59123f6",
     "grade": false,
     "grade_id": "cell-901b455cc3381387",
     "locked": true,
     "schema_version": 3,
     "solution": false
    }
   },
   "outputs": [],
   "source": [
    "import re\n",
    "from lib.regex.regex_test import test_positive, test_negative"
   ]
  },
  {
   "cell_type": "markdown",
   "metadata": {
    "deletable": false,
    "editable": false,
    "nbgrader": {
     "cell_type": "markdown",
     "checksum": "26e82679205027157550a92ada812989",
     "grade": false,
     "grade_id": "cell-ec9085c5dd7cb1b2",
     "locked": true,
     "schema_version": 3,
     "solution": false
    }
   },
   "source": [
    "### [12.5 points] Part (a) \n",
    "* Develop a regular expression to match simple standard dates, e.g., 2021-05-18 and similar."
   ]
  },
  {
   "cell_type": "code",
   "execution_count": 4,
   "metadata": {
    "deletable": false,
    "nbgrader": {
     "cell_type": "code",
     "checksum": "1e70663c23673b89853a5671969b9a52",
     "grade": false,
     "grade_id": "cell-c0086d1ff8149b6d",
     "locked": false,
     "schema_version": 3,
     "solution": true
    }
   },
   "outputs": [],
   "source": [
    "# Modify your regex below\n",
    "date_regex1 = r'\\d{4}-\\d{2}-\\d{2}'"
   ]
  },
  {
   "cell_type": "code",
   "execution_count": 5,
   "metadata": {
    "deletable": false,
    "editable": false,
    "nbgrader": {
     "cell_type": "code",
     "checksum": "3f22476b82c1f4cfe376bea8fdbb6d74",
     "grade": true,
     "grade_id": "cell-3e5560fd043334f1",
     "locked": true,
     "points": 1.25,
     "schema_version": 3,
     "solution": false
    }
   },
   "outputs": [
    {
     "name": "stdout",
     "output_type": "stream",
     "text": [
      "Test passed.\n"
     ]
    }
   ],
   "source": [
    "# [1.25 points] Part a. Positive test case 1.\n",
    "positive_test_case = r'1809-02-12'\n",
    "\n",
    "test_positive(date_regex1, positive_test_case)\n",
    "del positive_test_case"
   ]
  },
  {
   "cell_type": "code",
   "execution_count": 6,
   "metadata": {
    "deletable": false,
    "editable": false,
    "nbgrader": {
     "cell_type": "code",
     "checksum": "4d698812ccfb36542269419f4af773d7",
     "grade": true,
     "grade_id": "cell-3d14f886d26adad2",
     "locked": true,
     "points": 1.25,
     "schema_version": 3,
     "solution": false
    }
   },
   "outputs": [
    {
     "name": "stdout",
     "output_type": "stream",
     "text": [
      "Test passed.\n"
     ]
    }
   ],
   "source": [
    "# [1.25 points] Part a. Positive test case 2.\n",
    "positive_test_case = r'1879-03-14'\n",
    "\n",
    "test_positive(date_regex1, positive_test_case)\n",
    "del positive_test_case"
   ]
  },
  {
   "cell_type": "code",
   "execution_count": 7,
   "metadata": {
    "deletable": false,
    "editable": false,
    "nbgrader": {
     "cell_type": "code",
     "checksum": "e0042ca292e86f492e8e0949da5fabec",
     "grade": true,
     "grade_id": "cell-96c0a18166d76bd9",
     "locked": true,
     "points": 1.25,
     "schema_version": 3,
     "solution": false
    }
   },
   "outputs": [
    {
     "name": "stdout",
     "output_type": "stream",
     "text": [
      "Test passed.\n"
     ]
    }
   ],
   "source": [
    "# [1.25 points] Part a. Negative test case 1.\n",
    "negative_test_case = r'02-12-1809'\n",
    "\n",
    "test_negative(date_regex1, negative_test_case)\n",
    "del negative_test_case"
   ]
  },
  {
   "cell_type": "code",
   "execution_count": 8,
   "metadata": {
    "deletable": false,
    "editable": false,
    "nbgrader": {
     "cell_type": "code",
     "checksum": "2417e1926c2e3a36c25774cdd9ae5486",
     "grade": true,
     "grade_id": "cell-cf81f0591c5b3f74",
     "locked": true,
     "points": 1.25,
     "schema_version": 3,
     "solution": false
    }
   },
   "outputs": [
    {
     "name": "stdout",
     "output_type": "stream",
     "text": [
      "Test passed.\n"
     ]
    }
   ],
   "source": [
    "# [1.25 points] Part a. Negative test case 2.\n",
    "negative_test_case = r'1879.03.14'\n",
    "\n",
    "test_negative(date_regex1, negative_test_case)\n",
    "del negative_test_case"
   ]
  },
  {
   "cell_type": "markdown",
   "metadata": {
    "deletable": false,
    "editable": false,
    "nbgrader": {
     "cell_type": "markdown",
     "checksum": "44fd560de28d323dc235882abd038622",
     "grade": false,
     "grade_id": "cell-625edb57ac4388e6",
     "locked": true,
     "schema_version": 3,
     "solution": false
    }
   },
   "source": [
    "### [12.5 points] Part (b) \n",
    "* Develop a regular expression to match date **[combined with time](https://en.wikipedia.org/wiki/ISO_8601#Combined_date_and_time_representations)** but **without** [time zone designators](https://en.wikipedia.org/wiki/ISO_8601#Time_zone_designators), e.g., **2007-02-14T14:30**"
   ]
  },
  {
   "cell_type": "code",
   "execution_count": 10,
   "metadata": {
    "deletable": false,
    "nbgrader": {
     "cell_type": "code",
     "checksum": "8cc94be8693077d9e058b7bdb470f18d",
     "grade": false,
     "grade_id": "cell-8ffc79f4c26aa71e",
     "locked": false,
     "schema_version": 3,
     "solution": true
    }
   },
   "outputs": [],
   "source": [
    "# Modify your regex below\n",
    "date_regex2 = r'\\d{4}-\\d{2}-\\d{2}T\\d{2}:\\d{2}'\n",
    "\n"
   ]
  },
  {
   "cell_type": "code",
   "execution_count": 11,
   "metadata": {
    "deletable": false,
    "editable": false,
    "nbgrader": {
     "cell_type": "code",
     "checksum": "2abb0afda664ce6e5bc6f92d1c251287",
     "grade": true,
     "grade_id": "cell-f313c2d8df3e6b36",
     "locked": true,
     "points": 1.25,
     "schema_version": 3,
     "solution": false
    }
   },
   "outputs": [
    {
     "name": "stdout",
     "output_type": "stream",
     "text": [
      "Test passed.\n"
     ]
    }
   ],
   "source": [
    "# [1.25 points] Part b. Positive test case 1.\n",
    "positive_test_case = r'1809-02-12T01:01'\n",
    "\n",
    "test_positive(date_regex2, positive_test_case)\n",
    "del positive_test_case"
   ]
  },
  {
   "cell_type": "code",
   "execution_count": 12,
   "metadata": {
    "deletable": false,
    "editable": false,
    "nbgrader": {
     "cell_type": "code",
     "checksum": "7e90895257307bed5293a6581c8e3008",
     "grade": true,
     "grade_id": "cell-a6fc86f7414405f4",
     "locked": true,
     "points": 1.25,
     "schema_version": 3,
     "solution": false
    }
   },
   "outputs": [
    {
     "name": "stdout",
     "output_type": "stream",
     "text": [
      "Test passed.\n"
     ]
    }
   ],
   "source": [
    "# [1.25 points] Part b. Positive test case 2.\n",
    "positive_test_case = r'1879-03-14T12:59'\n",
    "\n",
    "test_positive(date_regex2, positive_test_case)\n",
    "del positive_test_case"
   ]
  },
  {
   "cell_type": "code",
   "execution_count": 13,
   "metadata": {
    "deletable": false,
    "editable": false,
    "nbgrader": {
     "cell_type": "code",
     "checksum": "eaf41b957b3563563e50d0122ed955e8",
     "grade": true,
     "grade_id": "cell-a05ec0188d17dc6e",
     "locked": true,
     "points": 1.25,
     "schema_version": 3,
     "solution": false
    }
   },
   "outputs": [
    {
     "name": "stdout",
     "output_type": "stream",
     "text": [
      "Test passed.\n"
     ]
    }
   ],
   "source": [
    "# [1.25 points] Part b. Negative test case 1.\n",
    "negative_test_case = r'1809.02.12T01:01'\n",
    "\n",
    "test_negative(date_regex2, negative_test_case)\n",
    "del negative_test_case"
   ]
  },
  {
   "cell_type": "code",
   "execution_count": 14,
   "metadata": {
    "deletable": false,
    "editable": false,
    "nbgrader": {
     "cell_type": "code",
     "checksum": "97ca8c4779bc392ec55c2f8d3b04f6af",
     "grade": true,
     "grade_id": "cell-dac6998cc08a1cd4",
     "locked": true,
     "points": 1.25,
     "schema_version": 3,
     "solution": false
    }
   },
   "outputs": [
    {
     "name": "stdout",
     "output_type": "stream",
     "text": [
      "Test passed.\n"
     ]
    }
   ],
   "source": [
    "# [1.25 points] Part b. Negative test case 2.\n",
    "negative_test_case = r'1879/03/14T12:59'\n",
    "\n",
    "test_negative(date_regex2, negative_test_case)\n",
    "del negative_test_case"
   ]
  },
  {
   "cell_type": "markdown",
   "metadata": {
    "deletable": false,
    "editable": false,
    "nbgrader": {
     "cell_type": "markdown",
     "checksum": "61bd2be68bf636403f70b8af085ce824",
     "grade": false,
     "grade_id": "cell-5e472347f7018f44",
     "locked": true,
     "schema_version": 3,
     "solution": false
    }
   },
   "source": [
    "### Hidden Test Cases\n",
    "The rest of the notebook contains hidden test cases for both regular expressions. These test cases will be omitted from the student's version of the notebook. The following cells will always pass for students and will only be evaluated after they have submitted their solution."
   ]
  },
  {
   "cell_type": "code",
   "execution_count": 15,
   "metadata": {
    "deletable": false,
    "editable": false,
    "nbgrader": {
     "cell_type": "code",
     "checksum": "624c3b5b5ca992c03cfcdc2491f840d8",
     "grade": true,
     "grade_id": "cell-3c0042640d255b2e",
     "locked": true,
     "points": 1.25,
     "schema_version": 3,
     "solution": false
    }
   },
   "outputs": [],
   "source": [
    "# [1.25 points] Part a. Positive test case 3.\n",
    "# Omitted from student's version of notebook.\n"
   ]
  },
  {
   "cell_type": "code",
   "execution_count": 16,
   "metadata": {
    "deletable": false,
    "editable": false,
    "nbgrader": {
     "cell_type": "code",
     "checksum": "457ec58662ba62bb926c9a6faa6aa89a",
     "grade": true,
     "grade_id": "cell-5f4bebc160a27193",
     "locked": true,
     "points": 1.25,
     "schema_version": 3,
     "solution": false
    }
   },
   "outputs": [],
   "source": [
    "# [1.25 points] Part a. Positive test case 4.\n",
    "# Omitted from student's version of notebook.\n"
   ]
  },
  {
   "cell_type": "code",
   "execution_count": 17,
   "metadata": {
    "deletable": false,
    "editable": false,
    "nbgrader": {
     "cell_type": "code",
     "checksum": "42e3a7b6e27edddfeb89b61ce5e15510",
     "grade": true,
     "grade_id": "cell-cab18548725d5892",
     "locked": true,
     "points": 1.25,
     "schema_version": 3,
     "solution": false
    }
   },
   "outputs": [],
   "source": [
    "# [1.25 points] Part a. Positive test case 5.\n",
    "# Omitted from student's version of notebook.\n"
   ]
  },
  {
   "cell_type": "code",
   "execution_count": 18,
   "metadata": {
    "deletable": false,
    "editable": false,
    "nbgrader": {
     "cell_type": "code",
     "checksum": "12642f379af33c0d8ccc952683eb164a",
     "grade": true,
     "grade_id": "cell-a9ab642a58f47af1",
     "locked": true,
     "points": 1.25,
     "schema_version": 3,
     "solution": false
    }
   },
   "outputs": [],
   "source": [
    "# [1.25 points] Part a. Negative test case 3.\n",
    "# Omitted from student's version of notebook.\n"
   ]
  },
  {
   "cell_type": "code",
   "execution_count": 19,
   "metadata": {
    "deletable": false,
    "editable": false,
    "nbgrader": {
     "cell_type": "code",
     "checksum": "8707a5517b93f63c48e616a1e303b77b",
     "grade": true,
     "grade_id": "cell-56780119e214a1d0",
     "locked": true,
     "points": 1.25,
     "schema_version": 3,
     "solution": false
    }
   },
   "outputs": [],
   "source": [
    "# [1.25 points] Part a. Negative test case 4.\n",
    "# Omitted from student's version of notebook.\n"
   ]
  },
  {
   "cell_type": "code",
   "execution_count": 20,
   "metadata": {
    "deletable": false,
    "editable": false,
    "nbgrader": {
     "cell_type": "code",
     "checksum": "ac7390ee4d796f9c0cd8c62a5cbf0693",
     "grade": true,
     "grade_id": "cell-a1be32b3c327b84c",
     "locked": true,
     "points": 1.25,
     "schema_version": 3,
     "solution": false
    }
   },
   "outputs": [],
   "source": [
    "# [1.25 points] Part a. Negative test case 5.\n",
    "# Omitted from student's version of notebook.\n"
   ]
  },
  {
   "cell_type": "code",
   "execution_count": 21,
   "metadata": {
    "deletable": false,
    "editable": false,
    "nbgrader": {
     "cell_type": "code",
     "checksum": "619e620881d007aa6c2946ab5e7c72d6",
     "grade": true,
     "grade_id": "cell-a8fe54ff1ec11ae4",
     "locked": true,
     "points": 1.25,
     "schema_version": 3,
     "solution": false
    }
   },
   "outputs": [],
   "source": [
    "# [1.25 points] Part b. Positive test case 3.\n",
    "# Omitted from student's version of notebook.\n"
   ]
  },
  {
   "cell_type": "code",
   "execution_count": 22,
   "metadata": {
    "deletable": false,
    "editable": false,
    "nbgrader": {
     "cell_type": "code",
     "checksum": "948f5506c598ba69c60eced39cda3a3b",
     "grade": true,
     "grade_id": "cell-e014a381834c17dc",
     "locked": true,
     "points": 1.25,
     "schema_version": 3,
     "solution": false
    }
   },
   "outputs": [],
   "source": [
    "# [1.25 points] Part b. Positive test case 4.\n",
    "# Omitted from student's version of notebook.\n"
   ]
  },
  {
   "cell_type": "code",
   "execution_count": 23,
   "metadata": {
    "deletable": false,
    "editable": false,
    "nbgrader": {
     "cell_type": "code",
     "checksum": "6e2df8a7f050acf54751c39ac4ee5f34",
     "grade": true,
     "grade_id": "cell-eb3472e45856778a",
     "locked": true,
     "points": 1.25,
     "schema_version": 3,
     "solution": false
    }
   },
   "outputs": [],
   "source": [
    "# [1.25 points] Part b. Positive test case 5.\n",
    "# Omitted from student's version of notebook.\n"
   ]
  },
  {
   "cell_type": "code",
   "execution_count": 24,
   "metadata": {
    "deletable": false,
    "editable": false,
    "nbgrader": {
     "cell_type": "code",
     "checksum": "5f31c78518c987078d9a7c0248e5e91b",
     "grade": true,
     "grade_id": "cell-b45d5b5639f7228c",
     "locked": true,
     "points": 1.25,
     "schema_version": 3,
     "solution": false
    }
   },
   "outputs": [],
   "source": [
    "# [1.25 points] Part b. Negative test case 3.\n",
    "# Omitted from student's version of notebook.\n"
   ]
  },
  {
   "cell_type": "code",
   "execution_count": 25,
   "metadata": {
    "deletable": false,
    "editable": false,
    "nbgrader": {
     "cell_type": "code",
     "checksum": "4a7bbe0cec9486e6e171b408e9d227b4",
     "grade": true,
     "grade_id": "cell-3dd57ac1fba4f7ea",
     "locked": true,
     "points": 1.25,
     "schema_version": 3,
     "solution": false
    }
   },
   "outputs": [],
   "source": [
    "# [1.25 points] Part b. Negative test case 4.\n",
    "# Omitted from student's version of notebook.\n"
   ]
  },
  {
   "cell_type": "code",
   "execution_count": 26,
   "metadata": {
    "deletable": false,
    "editable": false,
    "nbgrader": {
     "cell_type": "code",
     "checksum": "3c496597ba2945c1e799dc3354292d23",
     "grade": true,
     "grade_id": "cell-cf5934ced43c5e8e",
     "locked": true,
     "points": 1.25,
     "schema_version": 3,
     "solution": false
    }
   },
   "outputs": [],
   "source": [
    "# [1.25 points] Part b. Negative test case 5.\n",
    "# Omitted from student's version of notebook.\n"
   ]
  },
  {
   "cell_type": "code",
   "execution_count": null,
   "metadata": {},
   "outputs": [],
   "source": []
  }
 ],
 "metadata": {
  "kernelspec": {
   "display_name": "Python 3",
   "language": "python",
   "name": "python3"
  },
  "language_info": {
   "codemirror_mode": {
    "name": "ipython",
    "version": 3
   },
   "file_extension": ".py",
   "mimetype": "text/x-python",
   "name": "python",
   "nbconvert_exporter": "python",
   "pygments_lexer": "ipython3",
   "version": "3.7.6"
  }
 },
 "nbformat": 4,
 "nbformat_minor": 2
}
