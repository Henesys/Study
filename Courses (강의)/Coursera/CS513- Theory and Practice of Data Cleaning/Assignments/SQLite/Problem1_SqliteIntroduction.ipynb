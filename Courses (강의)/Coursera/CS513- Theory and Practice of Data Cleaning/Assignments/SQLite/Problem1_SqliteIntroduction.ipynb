{
 "cells": [
  {
   "cell_type": "markdown",
   "metadata": {
    "deletable": false,
    "editable": false,
    "nbgrader": {
     "cell_type": "markdown",
     "checksum": "11e54f726a7f7fd2c147c7522afc97e2",
     "grade": false,
     "grade_id": "cell-3ce8624281a785f8",
     "locked": true,
     "schema_version": 3,
     "solution": false
    }
   },
   "source": [
    "# Getting started with SQLite in Jupyter\n",
    "There are two steps when using the SQLite Database connector in this Jupyter notebook:  \n",
    "1. Connect to a SQLite database.\n",
    "2. Execute queries.\n",
    "\n",
    "We will demonstrate these two steps and some other additional information for this assignment."
   ]
  },
  {
   "cell_type": "code",
   "execution_count": 1,
   "metadata": {
    "deletable": false,
    "editable": false,
    "nbgrader": {
     "cell_type": "code",
     "checksum": "fb5bcd2df03cc0f323e88e4b3017d2a3",
     "grade": false,
     "grade_id": "cell-f38e969889d65cb3",
     "locked": true,
     "schema_version": 3,
     "solution": false
    }
   },
   "outputs": [],
   "source": [
    "%reload_ext sql\n",
    "%reload_ext lib.sqlite.sqlite_evaluate_magic\n",
    "import os"
   ]
  },
  {
   "cell_type": "markdown",
   "metadata": {
    "deletable": false,
    "editable": false,
    "nbgrader": {
     "cell_type": "markdown",
     "checksum": "e4c9f1ff04e29da29bd6966620aa79a8",
     "grade": false,
     "grade_id": "cell-a6eeb0f19f9eeb1e",
     "locked": true,
     "schema_version": 3,
     "solution": false
    }
   },
   "source": [
    "### Connecting to the database"
   ]
  },
  {
   "cell_type": "code",
   "execution_count": 2,
   "metadata": {
    "deletable": false,
    "editable": false,
    "nbgrader": {
     "cell_type": "code",
     "checksum": "fbb2768a0bf0a5712b0ec2f3fc809b7c",
     "grade": false,
     "grade_id": "cell-91fa22fc618ddf9c",
     "locked": true,
     "schema_version": 3,
     "solution": false,
     "task": false
    }
   },
   "outputs": [
    {
     "data": {
      "text/plain": [
       "'Connected: @/home/jovyan/data_readonly/sqlite/databases/survey.db'"
      ]
     },
     "execution_count": 2,
     "metadata": {},
     "output_type": "execute_result"
    }
   ],
   "source": [
    "# The following command will connect you to the database.\n",
    "# Any query that you run after this cell will be run on the survey.db database instance.\n",
    "survey_db_url = 'sqlite:///' + os.path.expanduser('~/data_readonly/sqlite/databases/survey.db')\n",
    "%sql $survey_db_url"
   ]
  },
  {
   "cell_type": "markdown",
   "metadata": {
    "deletable": false,
    "editable": false,
    "nbgrader": {
     "cell_type": "markdown",
     "checksum": "739eb0b0e98dafad5fa8cf4a471b5ccd",
     "grade": false,
     "grade_id": "cell-ccb7dd16eac80b45",
     "locked": true,
     "schema_version": 3,
     "solution": false
    }
   },
   "source": [
    "### Execute the first query\n",
    "To execute a SQL query with the last connected database, start the cell with a magic line `%%sql` followed by the name of a Python variable used to store the query. After these magic commands, the rest of your text should be compatible with SQL language commands that the existing database connection will process. For this assignment, please do not change the Python variable names because we will use it for evaluation."
   ]
  },
  {
   "cell_type": "code",
   "execution_count": 3,
   "metadata": {
    "deletable": false,
    "editable": false,
    "nbgrader": {
     "cell_type": "code",
     "checksum": "0441daf9306c269badeea4ae3537c76d",
     "grade": false,
     "grade_id": "cell-330a6239c5afc368",
     "locked": true,
     "schema_version": 3,
     "solution": false,
     "task": false
    }
   },
   "outputs": [
    {
     "name": "stdout",
     "output_type": "stream",
     "text": [
      " * @/home/jovyan/data_readonly/sqlite/databases/survey.db\n",
      " * sqlite:////home/jovyan/data_readonly/sqlite/databases/survey.db\n",
      "Done.\n",
      "Saving data to local variable survey['result']\n",
      "Saving query to local variable survey['query']\n"
     ]
    },
    {
     "data": {
      "text/html": [
       "<table>\n",
       "    <thead>\n",
       "        <tr>\n",
       "            <th>taken</th>\n",
       "            <th>person</th>\n",
       "            <th>quant</th>\n",
       "            <th>reading</th>\n",
       "        </tr>\n",
       "    </thead>\n",
       "    <tbody>\n",
       "        <tr>\n",
       "            <td>619</td>\n",
       "            <td>dyer</td>\n",
       "            <td>rad</td>\n",
       "            <td>9.82</td>\n",
       "        </tr>\n",
       "        <tr>\n",
       "            <td>619</td>\n",
       "            <td>dyer</td>\n",
       "            <td>sal</td>\n",
       "            <td>0.13</td>\n",
       "        </tr>\n",
       "        <tr>\n",
       "            <td>622</td>\n",
       "            <td>dyer</td>\n",
       "            <td>rad</td>\n",
       "            <td>7.8</td>\n",
       "        </tr>\n",
       "        <tr>\n",
       "            <td>622</td>\n",
       "            <td>dyer</td>\n",
       "            <td>sal</td>\n",
       "            <td>0.09</td>\n",
       "        </tr>\n",
       "        <tr>\n",
       "            <td>734</td>\n",
       "            <td>pb</td>\n",
       "            <td>rad</td>\n",
       "            <td>8.41</td>\n",
       "        </tr>\n",
       "        <tr>\n",
       "            <td>734</td>\n",
       "            <td>lake</td>\n",
       "            <td>sal</td>\n",
       "            <td>0.05</td>\n",
       "        </tr>\n",
       "        <tr>\n",
       "            <td>734</td>\n",
       "            <td>pb</td>\n",
       "            <td>temp</td>\n",
       "            <td>-21.5</td>\n",
       "        </tr>\n",
       "        <tr>\n",
       "            <td>735</td>\n",
       "            <td>pb</td>\n",
       "            <td>rad</td>\n",
       "            <td>7.22</td>\n",
       "        </tr>\n",
       "        <tr>\n",
       "            <td>735</td>\n",
       "            <td>None</td>\n",
       "            <td>sal</td>\n",
       "            <td>0.06</td>\n",
       "        </tr>\n",
       "        <tr>\n",
       "            <td>735</td>\n",
       "            <td>None</td>\n",
       "            <td>temp</td>\n",
       "            <td>-26.0</td>\n",
       "        </tr>\n",
       "        <tr>\n",
       "            <td>751</td>\n",
       "            <td>pb</td>\n",
       "            <td>rad</td>\n",
       "            <td>4.35</td>\n",
       "        </tr>\n",
       "        <tr>\n",
       "            <td>751</td>\n",
       "            <td>pb</td>\n",
       "            <td>temp</td>\n",
       "            <td>-18.5</td>\n",
       "        </tr>\n",
       "        <tr>\n",
       "            <td>751</td>\n",
       "            <td>lake</td>\n",
       "            <td>sal</td>\n",
       "            <td>0.1</td>\n",
       "        </tr>\n",
       "        <tr>\n",
       "            <td>752</td>\n",
       "            <td>lake</td>\n",
       "            <td>rad</td>\n",
       "            <td>2.19</td>\n",
       "        </tr>\n",
       "        <tr>\n",
       "            <td>752</td>\n",
       "            <td>lake</td>\n",
       "            <td>sal</td>\n",
       "            <td>0.09</td>\n",
       "        </tr>\n",
       "        <tr>\n",
       "            <td>752</td>\n",
       "            <td>lake</td>\n",
       "            <td>temp</td>\n",
       "            <td>-16.0</td>\n",
       "        </tr>\n",
       "        <tr>\n",
       "            <td>752</td>\n",
       "            <td>roe</td>\n",
       "            <td>sal</td>\n",
       "            <td>41.6</td>\n",
       "        </tr>\n",
       "        <tr>\n",
       "            <td>837</td>\n",
       "            <td>lake</td>\n",
       "            <td>rad</td>\n",
       "            <td>1.46</td>\n",
       "        </tr>\n",
       "        <tr>\n",
       "            <td>837</td>\n",
       "            <td>lake</td>\n",
       "            <td>sal</td>\n",
       "            <td>0.21</td>\n",
       "        </tr>\n",
       "        <tr>\n",
       "            <td>837</td>\n",
       "            <td>roe</td>\n",
       "            <td>sal</td>\n",
       "            <td>22.5</td>\n",
       "        </tr>\n",
       "        <tr>\n",
       "            <td>844</td>\n",
       "            <td>roe</td>\n",
       "            <td>rad</td>\n",
       "            <td>11.25</td>\n",
       "        </tr>\n",
       "    </tbody>\n",
       "</table>"
      ],
      "text/plain": [
       "[(619, 'dyer', 'rad', 9.82),\n",
       " (619, 'dyer', 'sal', 0.13),\n",
       " (622, 'dyer', 'rad', 7.8),\n",
       " (622, 'dyer', 'sal', 0.09),\n",
       " (734, 'pb', 'rad', 8.41),\n",
       " (734, 'lake', 'sal', 0.05),\n",
       " (734, 'pb', 'temp', -21.5),\n",
       " (735, 'pb', 'rad', 7.22),\n",
       " (735, None, 'sal', 0.06),\n",
       " (735, None, 'temp', -26.0),\n",
       " (751, 'pb', 'rad', 4.35),\n",
       " (751, 'pb', 'temp', -18.5),\n",
       " (751, 'lake', 'sal', 0.1),\n",
       " (752, 'lake', 'rad', 2.19),\n",
       " (752, 'lake', 'sal', 0.09),\n",
       " (752, 'lake', 'temp', -16.0),\n",
       " (752, 'roe', 'sal', 41.6),\n",
       " (837, 'lake', 'rad', 1.46),\n",
       " (837, 'lake', 'sal', 0.21),\n",
       " (837, 'roe', 'sal', 22.5),\n",
       " (844, 'roe', 'rad', 11.25)]"
      ]
     },
     "execution_count": 3,
     "metadata": {},
     "output_type": "execute_result"
    }
   ],
   "source": [
    "%%sql \n",
    "-- The query and results of the query will be saved to a variable named survey\n",
    "survey << \n",
    "SELECT *\n",
    "FROM survey;"
   ]
  },
  {
   "cell_type": "code",
   "execution_count": 4,
   "metadata": {
    "deletable": false,
    "editable": false,
    "nbgrader": {
     "cell_type": "code",
     "checksum": "9be0b31afa7ad14383736d93a779cb04",
     "grade": false,
     "grade_id": "cell-8087e962c052274f",
     "locked": true,
     "schema_version": 3,
     "solution": false,
     "task": false
    }
   },
   "outputs": [
    {
     "name": "stdout",
     "output_type": "stream",
     "text": [
      "SELECT *\n",
      "FROM survey;\n"
     ]
    }
   ],
   "source": [
    "# print your query\n",
    "print(survey['query'])"
   ]
  },
  {
   "cell_type": "code",
   "execution_count": 5,
   "metadata": {},
   "outputs": [
    {
     "data": {
      "text/html": [
       "<table>\n",
       "    <thead>\n",
       "        <tr>\n",
       "            <th>taken</th>\n",
       "            <th>person</th>\n",
       "            <th>quant</th>\n",
       "            <th>reading</th>\n",
       "        </tr>\n",
       "    </thead>\n",
       "    <tbody>\n",
       "        <tr>\n",
       "            <td>619</td>\n",
       "            <td>dyer</td>\n",
       "            <td>rad</td>\n",
       "            <td>9.82</td>\n",
       "        </tr>\n",
       "        <tr>\n",
       "            <td>619</td>\n",
       "            <td>dyer</td>\n",
       "            <td>sal</td>\n",
       "            <td>0.13</td>\n",
       "        </tr>\n",
       "        <tr>\n",
       "            <td>622</td>\n",
       "            <td>dyer</td>\n",
       "            <td>rad</td>\n",
       "            <td>7.8</td>\n",
       "        </tr>\n",
       "        <tr>\n",
       "            <td>622</td>\n",
       "            <td>dyer</td>\n",
       "            <td>sal</td>\n",
       "            <td>0.09</td>\n",
       "        </tr>\n",
       "        <tr>\n",
       "            <td>734</td>\n",
       "            <td>pb</td>\n",
       "            <td>rad</td>\n",
       "            <td>8.41</td>\n",
       "        </tr>\n",
       "        <tr>\n",
       "            <td>734</td>\n",
       "            <td>lake</td>\n",
       "            <td>sal</td>\n",
       "            <td>0.05</td>\n",
       "        </tr>\n",
       "        <tr>\n",
       "            <td>734</td>\n",
       "            <td>pb</td>\n",
       "            <td>temp</td>\n",
       "            <td>-21.5</td>\n",
       "        </tr>\n",
       "        <tr>\n",
       "            <td>735</td>\n",
       "            <td>pb</td>\n",
       "            <td>rad</td>\n",
       "            <td>7.22</td>\n",
       "        </tr>\n",
       "        <tr>\n",
       "            <td>735</td>\n",
       "            <td>None</td>\n",
       "            <td>sal</td>\n",
       "            <td>0.06</td>\n",
       "        </tr>\n",
       "        <tr>\n",
       "            <td>735</td>\n",
       "            <td>None</td>\n",
       "            <td>temp</td>\n",
       "            <td>-26.0</td>\n",
       "        </tr>\n",
       "        <tr>\n",
       "            <td>751</td>\n",
       "            <td>pb</td>\n",
       "            <td>rad</td>\n",
       "            <td>4.35</td>\n",
       "        </tr>\n",
       "        <tr>\n",
       "            <td>751</td>\n",
       "            <td>pb</td>\n",
       "            <td>temp</td>\n",
       "            <td>-18.5</td>\n",
       "        </tr>\n",
       "        <tr>\n",
       "            <td>751</td>\n",
       "            <td>lake</td>\n",
       "            <td>sal</td>\n",
       "            <td>0.1</td>\n",
       "        </tr>\n",
       "        <tr>\n",
       "            <td>752</td>\n",
       "            <td>lake</td>\n",
       "            <td>rad</td>\n",
       "            <td>2.19</td>\n",
       "        </tr>\n",
       "        <tr>\n",
       "            <td>752</td>\n",
       "            <td>lake</td>\n",
       "            <td>sal</td>\n",
       "            <td>0.09</td>\n",
       "        </tr>\n",
       "        <tr>\n",
       "            <td>752</td>\n",
       "            <td>lake</td>\n",
       "            <td>temp</td>\n",
       "            <td>-16.0</td>\n",
       "        </tr>\n",
       "        <tr>\n",
       "            <td>752</td>\n",
       "            <td>roe</td>\n",
       "            <td>sal</td>\n",
       "            <td>41.6</td>\n",
       "        </tr>\n",
       "        <tr>\n",
       "            <td>837</td>\n",
       "            <td>lake</td>\n",
       "            <td>rad</td>\n",
       "            <td>1.46</td>\n",
       "        </tr>\n",
       "        <tr>\n",
       "            <td>837</td>\n",
       "            <td>lake</td>\n",
       "            <td>sal</td>\n",
       "            <td>0.21</td>\n",
       "        </tr>\n",
       "        <tr>\n",
       "            <td>837</td>\n",
       "            <td>roe</td>\n",
       "            <td>sal</td>\n",
       "            <td>22.5</td>\n",
       "        </tr>\n",
       "        <tr>\n",
       "            <td>844</td>\n",
       "            <td>roe</td>\n",
       "            <td>rad</td>\n",
       "            <td>11.25</td>\n",
       "        </tr>\n",
       "    </tbody>\n",
       "</table>"
      ],
      "text/plain": [
       "[(619, 'dyer', 'rad', 9.82),\n",
       " (619, 'dyer', 'sal', 0.13),\n",
       " (622, 'dyer', 'rad', 7.8),\n",
       " (622, 'dyer', 'sal', 0.09),\n",
       " (734, 'pb', 'rad', 8.41),\n",
       " (734, 'lake', 'sal', 0.05),\n",
       " (734, 'pb', 'temp', -21.5),\n",
       " (735, 'pb', 'rad', 7.22),\n",
       " (735, None, 'sal', 0.06),\n",
       " (735, None, 'temp', -26.0),\n",
       " (751, 'pb', 'rad', 4.35),\n",
       " (751, 'pb', 'temp', -18.5),\n",
       " (751, 'lake', 'sal', 0.1),\n",
       " (752, 'lake', 'rad', 2.19),\n",
       " (752, 'lake', 'sal', 0.09),\n",
       " (752, 'lake', 'temp', -16.0),\n",
       " (752, 'roe', 'sal', 41.6),\n",
       " (837, 'lake', 'rad', 1.46),\n",
       " (837, 'lake', 'sal', 0.21),\n",
       " (837, 'roe', 'sal', 22.5),\n",
       " (844, 'roe', 'rad', 11.25)]"
      ]
     },
     "execution_count": 5,
     "metadata": {},
     "output_type": "execute_result"
    }
   ],
   "source": [
    "# print the result of your query as dataframe\n",
    "survey['result']"
   ]
  },
  {
   "cell_type": "markdown",
   "metadata": {
    "deletable": false,
    "editable": false,
    "nbgrader": {
     "cell_type": "markdown",
     "checksum": "111cf3c4728bfda01dfbc17d7b914b1c",
     "grade": false,
     "grade_id": "cell-6169b18aea6b967d",
     "locked": true,
     "schema_version": 3,
     "solution": false
    }
   },
   "source": [
    "The database that we used above is read-only for students.\n",
    "\n",
    "In this assignment, you will write queries that satisfy the questions and assign them to variables, and the automatic grader will read your queries from these variables and test them."
   ]
  },
  {
   "cell_type": "markdown",
   "metadata": {
    "deletable": false,
    "editable": false,
    "nbgrader": {
     "cell_type": "markdown",
     "checksum": "54abf525f49cbfa736606e9ad2f3d2db",
     "grade": false,
     "grade_id": "cell-a4f034f2a29da552",
     "locked": true,
     "schema_version": 3,
     "solution": false
    }
   },
   "source": [
    "# Hands on SQLite!\n",
    "The goal of this assignment is to acquire some basic hands-on skills for SQLite, using the Software Carpentry lessons at [http://swcarpentry.github.io/sql-novice-survey/](http://swcarpentry.github.io/sql-novice-survey/)  \n",
    "\n",
    "Read and walk through the [10 Topics of the SQL novice tutorial](http://swcarpentry.github.io/sql-novice-survey/). Take notes as you go through the material; in particular, write down your questions if you run into problems or don't understand something. Post questions on Campuswire as needed. Student answers, discussions, and interactions will always be appreciated!"
   ]
  },
  {
   "cell_type": "markdown",
   "metadata": {
    "deletable": false,
    "editable": false,
    "nbgrader": {
     "cell_type": "markdown",
     "checksum": "216353faa447d1645efa22457cdef117",
     "grade": false,
     "grade_id": "cell-c8663050acea0103",
     "locked": true,
     "schema_version": 3,
     "solution": false
    }
   },
   "source": [
    "## [2 points] Question 1: Selecting Data\n",
    "\n",
    "* **Write a query that selects the site names from the `Site` table.** \n",
    "\n",
    "If you're not sure about the exact names of tables and/or attributes for the survey database, then check the schema carefully--it's on the Software Carpentry page.\n",
    "\n",
    "A template cell is provided for you. Don't change the variable name, or automated tests won't be able to read your query."
   ]
  },
  {
   "cell_type": "code",
   "execution_count": 6,
   "metadata": {
    "deletable": false,
    "nbgrader": {
     "cell_type": "code",
     "checksum": "2b7546b873bd72396e8c2c1cedcae3be",
     "grade": false,
     "grade_id": "cell-c7f9ba7443a94c0e",
     "locked": false,
     "schema_version": 3,
     "solution": true
    }
   },
   "outputs": [
    {
     "name": "stdout",
     "output_type": "stream",
     "text": [
      " * @/home/jovyan/data_readonly/sqlite/databases/survey.db\n",
      " * sqlite:////home/jovyan/data_readonly/sqlite/databases/survey.db\n",
      "Done.\n",
      "Saving data to local variable Problem1c_1['result']\n",
      "Saving query to local variable Problem1c_1['query']\n"
     ]
    },
    {
     "data": {
      "text/html": [
       "<table>\n",
       "    <thead>\n",
       "        <tr>\n",
       "            <th>name</th>\n",
       "        </tr>\n",
       "    </thead>\n",
       "    <tbody>\n",
       "        <tr>\n",
       "            <td>DR-1</td>\n",
       "        </tr>\n",
       "        <tr>\n",
       "            <td>DR-3</td>\n",
       "        </tr>\n",
       "        <tr>\n",
       "            <td>MSK-4</td>\n",
       "        </tr>\n",
       "    </tbody>\n",
       "</table>"
      ],
      "text/plain": [
       "[('DR-1',), ('DR-3',), ('MSK-4',)]"
      ]
     },
     "execution_count": 6,
     "metadata": {},
     "output_type": "execute_result"
    }
   ],
   "source": [
    "%%sql\n",
    "Problem1c_1 <<\n",
    "-- Replace this comment with your query here and don't change variable name!\n",
    "select name from Site ; "
   ]
  },
  {
   "cell_type": "code",
   "execution_count": 7,
   "metadata": {
    "deletable": false,
    "editable": false,
    "nbgrader": {
     "cell_type": "code",
     "checksum": "e812a5513f4b2eca4a28b556fd4bc35c",
     "grade": false,
     "grade_id": "cell-4db04470c68aeb78",
     "locked": true,
     "schema_version": 3,
     "solution": false
    }
   },
   "outputs": [
    {
     "data": {
      "text/html": [
       "<table>\n",
       "    <thead>\n",
       "        <tr>\n",
       "            <th>name</th>\n",
       "        </tr>\n",
       "    </thead>\n",
       "    <tbody>\n",
       "        <tr>\n",
       "            <td>DR-1</td>\n",
       "        </tr>\n",
       "        <tr>\n",
       "            <td>DR-3</td>\n",
       "        </tr>\n",
       "        <tr>\n",
       "            <td>MSK-4</td>\n",
       "        </tr>\n",
       "    </tbody>\n",
       "</table>"
      ],
      "text/plain": [
       "[['DR-1'], ['DR-3'], ['MSK-4']]"
      ]
     },
     "execution_count": 7,
     "metadata": {},
     "output_type": "execute_result"
    }
   ],
   "source": [
    "# Run this cell to see the expected output of previous query\n",
    "%sql_expected_output Problem1c_1"
   ]
  },
  {
   "cell_type": "code",
   "execution_count": 8,
   "metadata": {
    "deletable": false,
    "editable": false,
    "nbgrader": {
     "cell_type": "code",
     "checksum": "c2769251f35adb01884f583b706349fe",
     "grade": true,
     "grade_id": "cell-8e157c5710a05323",
     "locked": true,
     "points": 2,
     "schema_version": 3,
     "solution": false
    }
   },
   "outputs": [
    {
     "data": {
      "text/html": [
       "<p><font color=\"green\">Test passed.</font></p>"
      ],
      "text/plain": [
       "<IPython.core.display.HTML object>"
      ]
     },
     "metadata": {},
     "output_type": "display_data"
    }
   ],
   "source": [
    "# Test Q1\n",
    "# We evaluate your query to see if it yields the expected output.\n",
    "%sql_evaluate Problem1c_1"
   ]
  },
  {
   "cell_type": "markdown",
   "metadata": {
    "deletable": false,
    "editable": false,
    "nbgrader": {
     "cell_type": "markdown",
     "checksum": "0a7d82cf2c4d37e5d46306cefce185c8",
     "grade": false,
     "grade_id": "cell-abb4f29c17a0b7ea",
     "locked": true,
     "schema_version": 3,
     "solution": false
    }
   },
   "source": [
    "## [10 points] Question 2: Sorting and Removing Duplicates \n",
    "\n",
    "* **(a) Write a query that selects distinct dates from the `visited` table.**\n",
    "* **(b) Write a query that displays the full names of the scientists in the `Person` table, ordered by family name.**"
   ]
  },
  {
   "cell_type": "markdown",
   "metadata": {
    "deletable": false,
    "editable": false,
    "nbgrader": {
     "cell_type": "markdown",
     "checksum": "4b138666dd8192b93333da2d720e8159",
     "grade": false,
     "grade_id": "cell-9eb01eaffac374b2",
     "locked": true,
     "schema_version": 3,
     "solution": false
    }
   },
   "source": [
    "### [5 points] Question (2a): \n",
    "* **Write a query that selects distinct dates from the `visited` table.** \n",
    "\n",
    "Filter out null values to make sure you only get actual dates."
   ]
  },
  {
   "cell_type": "code",
   "execution_count": 9,
   "metadata": {
    "deletable": false,
    "nbgrader": {
     "cell_type": "code",
     "checksum": "f6d5d72af721007a9be2e47c444dfa3e",
     "grade": false,
     "grade_id": "cell-77e0bcf8b78f2560",
     "locked": false,
     "schema_version": 3,
     "solution": true
    }
   },
   "outputs": [
    {
     "name": "stdout",
     "output_type": "stream",
     "text": [
      " * @/home/jovyan/data_readonly/sqlite/databases/survey.db\n",
      " * sqlite:////home/jovyan/data_readonly/sqlite/databases/survey.db\n",
      "Done.\n",
      "Saving data to local variable Problem1c_2a['result']\n",
      "Saving query to local variable Problem1c_2a['query']\n"
     ]
    },
    {
     "data": {
      "text/html": [
       "<table>\n",
       "    <thead>\n",
       "        <tr>\n",
       "            <th>dated</th>\n",
       "        </tr>\n",
       "    </thead>\n",
       "    <tbody>\n",
       "        <tr>\n",
       "            <td>1927-02-08</td>\n",
       "        </tr>\n",
       "        <tr>\n",
       "            <td>1927-02-10</td>\n",
       "        </tr>\n",
       "        <tr>\n",
       "            <td>1930-01-07</td>\n",
       "        </tr>\n",
       "        <tr>\n",
       "            <td>1930-01-12</td>\n",
       "        </tr>\n",
       "        <tr>\n",
       "            <td>1930-02-26</td>\n",
       "        </tr>\n",
       "        <tr>\n",
       "            <td>1932-01-14</td>\n",
       "        </tr>\n",
       "        <tr>\n",
       "            <td>1932-03-22</td>\n",
       "        </tr>\n",
       "    </tbody>\n",
       "</table>"
      ],
      "text/plain": [
       "[('1927-02-08',),\n",
       " ('1927-02-10',),\n",
       " ('1930-01-07',),\n",
       " ('1930-01-12',),\n",
       " ('1930-02-26',),\n",
       " ('1932-01-14',),\n",
       " ('1932-03-22',)]"
      ]
     },
     "execution_count": 9,
     "metadata": {},
     "output_type": "execute_result"
    }
   ],
   "source": [
    "%%sql\n",
    "Problem1c_2a <<\n",
    "-- Your query goes here. Don't change variable name.\n",
    "select DISTINCT dated from visited where dated is not null"
   ]
  },
  {
   "cell_type": "code",
   "execution_count": 10,
   "metadata": {
    "deletable": false,
    "editable": false,
    "nbgrader": {
     "cell_type": "code",
     "checksum": "7c0907e8e4571eb6f5817ea7d2f45833",
     "grade": false,
     "grade_id": "cell-01d49b91d5705fb8",
     "locked": true,
     "schema_version": 3,
     "solution": false
    }
   },
   "outputs": [
    {
     "data": {
      "text/html": [
       "<table>\n",
       "    <thead>\n",
       "        <tr>\n",
       "            <th>dated</th>\n",
       "        </tr>\n",
       "    </thead>\n",
       "    <tbody>\n",
       "        <tr>\n",
       "            <td>1927-02-08</td>\n",
       "        </tr>\n",
       "        <tr>\n",
       "            <td>1927-02-10</td>\n",
       "        </tr>\n",
       "        <tr>\n",
       "            <td>1930-01-07</td>\n",
       "        </tr>\n",
       "        <tr>\n",
       "            <td>1930-01-12</td>\n",
       "        </tr>\n",
       "        <tr>\n",
       "            <td>1930-02-26</td>\n",
       "        </tr>\n",
       "        <tr>\n",
       "            <td>1932-01-14</td>\n",
       "        </tr>\n",
       "        <tr>\n",
       "            <td>1932-03-22</td>\n",
       "        </tr>\n",
       "    </tbody>\n",
       "</table>"
      ],
      "text/plain": [
       "[['1927-02-08'],\n",
       " ['1927-02-10'],\n",
       " ['1930-01-07'],\n",
       " ['1930-01-12'],\n",
       " ['1930-02-26'],\n",
       " ['1932-01-14'],\n",
       " ['1932-03-22']]"
      ]
     },
     "execution_count": 10,
     "metadata": {},
     "output_type": "execute_result"
    }
   ],
   "source": [
    "# Run this cell to see expected output of previous query\n",
    "%sql_expected_output Problem1c_2a"
   ]
  },
  {
   "cell_type": "code",
   "execution_count": 11,
   "metadata": {
    "deletable": false,
    "editable": false,
    "nbgrader": {
     "cell_type": "code",
     "checksum": "ad43ed21dd12edf1bc5b74d8f66157e9",
     "grade": true,
     "grade_id": "cell-46c0a735da46b99b",
     "locked": true,
     "points": 5,
     "schema_version": 3,
     "solution": false
    }
   },
   "outputs": [
    {
     "data": {
      "text/html": [
       "<p><font color=\"green\">Test passed.</font></p>"
      ],
      "text/plain": [
       "<IPython.core.display.HTML object>"
      ]
     },
     "metadata": {},
     "output_type": "display_data"
    }
   ],
   "source": [
    "# Test Q2a\n",
    "%sql_evaluate Problem1c_2a"
   ]
  },
  {
   "cell_type": "markdown",
   "metadata": {
    "deletable": false,
    "editable": false,
    "nbgrader": {
     "cell_type": "markdown",
     "checksum": "278d0c0d136215e553b2e9083e667858",
     "grade": false,
     "grade_id": "cell-517bc6cd7c9efdfd",
     "locked": true,
     "schema_version": 3,
     "solution": false
    }
   },
   "source": [
    "### [5 points] Question (2b): \n",
    "\n",
    "* **Write a query that displays the full names of the scientists in the `Person` table, ordered by family name.**"
   ]
  },
  {
   "cell_type": "code",
   "execution_count": 12,
   "metadata": {
    "deletable": false,
    "nbgrader": {
     "cell_type": "code",
     "checksum": "7edad82f43b319905fda81aabc5cd7fa",
     "grade": false,
     "grade_id": "cell-013d1fec703ca192",
     "locked": false,
     "schema_version": 3,
     "solution": true
    }
   },
   "outputs": [
    {
     "name": "stdout",
     "output_type": "stream",
     "text": [
      " * @/home/jovyan/data_readonly/sqlite/databases/survey.db\n",
      " * sqlite:////home/jovyan/data_readonly/sqlite/databases/survey.db\n",
      "Done.\n",
      "Saving data to local variable Problem1c_2b['result']\n",
      "Saving query to local variable Problem1c_2b['query']\n"
     ]
    },
    {
     "data": {
      "text/html": [
       "<table>\n",
       "    <thead>\n",
       "        <tr>\n",
       "            <th>full_name</th>\n",
       "        </tr>\n",
       "    </thead>\n",
       "    <tbody>\n",
       "        <tr>\n",
       "            <td>Frank Danforth</td>\n",
       "        </tr>\n",
       "        <tr>\n",
       "            <td>William Dyer</td>\n",
       "        </tr>\n",
       "        <tr>\n",
       "            <td>Anderson Lake</td>\n",
       "        </tr>\n",
       "        <tr>\n",
       "            <td>Frank Pabodie</td>\n",
       "        </tr>\n",
       "        <tr>\n",
       "            <td>Valentina Roerich</td>\n",
       "        </tr>\n",
       "    </tbody>\n",
       "</table>"
      ],
      "text/plain": [
       "[('Frank Danforth',),\n",
       " ('William Dyer',),\n",
       " ('Anderson Lake',),\n",
       " ('Frank Pabodie',),\n",
       " ('Valentina Roerich',)]"
      ]
     },
     "execution_count": 12,
     "metadata": {},
     "output_type": "execute_result"
    }
   ],
   "source": [
    "%%sql\n",
    "Problem1c_2b <<\n",
    "-- Your query goes here. Don't change the variable name.\n",
    "select personal || \" \" || family as full_name from Person ORDER BY family"
   ]
  },
  {
   "cell_type": "code",
   "execution_count": 13,
   "metadata": {
    "deletable": false,
    "editable": false,
    "nbgrader": {
     "cell_type": "code",
     "checksum": "9438aff93c2892fdd4961adfa2a6f5a8",
     "grade": false,
     "grade_id": "cell-4b530df7b29b4e06",
     "locked": true,
     "schema_version": 3,
     "solution": false
    }
   },
   "outputs": [
    {
     "data": {
      "text/html": [
       "<table>\n",
       "    <thead>\n",
       "        <tr>\n",
       "            <th>Full_Name</th>\n",
       "        </tr>\n",
       "    </thead>\n",
       "    <tbody>\n",
       "        <tr>\n",
       "            <td>Frank Danforth</td>\n",
       "        </tr>\n",
       "        <tr>\n",
       "            <td>William Dyer</td>\n",
       "        </tr>\n",
       "        <tr>\n",
       "            <td>Anderson Lake</td>\n",
       "        </tr>\n",
       "        <tr>\n",
       "            <td>Frank Pabodie</td>\n",
       "        </tr>\n",
       "        <tr>\n",
       "            <td>Valentina Roerich</td>\n",
       "        </tr>\n",
       "    </tbody>\n",
       "</table>"
      ],
      "text/plain": [
       "[['Frank Danforth'],\n",
       " ['William Dyer'],\n",
       " ['Anderson Lake'],\n",
       " ['Frank Pabodie'],\n",
       " ['Valentina Roerich']]"
      ]
     },
     "execution_count": 13,
     "metadata": {},
     "output_type": "execute_result"
    }
   ],
   "source": [
    "# Run this cell to see the expected output of previous query\n",
    "%sql_expected_output Problem1c_2b"
   ]
  },
  {
   "cell_type": "code",
   "execution_count": 14,
   "metadata": {
    "deletable": false,
    "editable": false,
    "nbgrader": {
     "cell_type": "code",
     "checksum": "df6edcde73dce93a558915f837d2989b",
     "grade": true,
     "grade_id": "cell-ae64eaecc8c12012",
     "locked": true,
     "points": 5,
     "schema_version": 3,
     "solution": false
    }
   },
   "outputs": [
    {
     "data": {
      "text/html": [
       "<p><font color=\"green\">Test passed.</font></p>"
      ],
      "text/plain": [
       "<IPython.core.display.HTML object>"
      ]
     },
     "metadata": {},
     "output_type": "display_data"
    }
   ],
   "source": [
    "# Test Q2b\n",
    "%sql_evaluate Problem1c_2b"
   ]
  },
  {
   "cell_type": "markdown",
   "metadata": {
    "deletable": false,
    "editable": false,
    "nbgrader": {
     "cell_type": "markdown",
     "checksum": "8e99fed194877c9125f99db94d3a5ef6",
     "grade": false,
     "grade_id": "cell-38c36efcca158c3d",
     "locked": true,
     "schema_version": 3,
     "solution": false
    }
   },
   "source": [
    "## [5 points] Question 3: Filtering  \n",
    "Normalized salinity readings are supposed to be between 0.0 and 1.0. \n",
    "* **Write a query that selects all records from Survey with salinity values outside this range.**\n",
    "\n",
    "Such “outlier” queries are similar in spirit to our IC denial rules in the Datalog assignment."
   ]
  },
  {
   "cell_type": "code",
   "execution_count": 15,
   "metadata": {
    "deletable": false,
    "nbgrader": {
     "cell_type": "code",
     "checksum": "9820acc4b800a93e43037dc04b8bf9a3",
     "grade": false,
     "grade_id": "cell-48f33304c57b879a",
     "locked": false,
     "schema_version": 3,
     "solution": true
    }
   },
   "outputs": [
    {
     "name": "stdout",
     "output_type": "stream",
     "text": [
      " * @/home/jovyan/data_readonly/sqlite/databases/survey.db\n",
      " * sqlite:////home/jovyan/data_readonly/sqlite/databases/survey.db\n",
      "Done.\n",
      "Saving data to local variable Problem1c_3['result']\n",
      "Saving query to local variable Problem1c_3['query']\n"
     ]
    },
    {
     "data": {
      "text/html": [
       "<table>\n",
       "    <thead>\n",
       "        <tr>\n",
       "            <th>taken</th>\n",
       "            <th>person</th>\n",
       "            <th>quant</th>\n",
       "            <th>reading</th>\n",
       "        </tr>\n",
       "    </thead>\n",
       "    <tbody>\n",
       "        <tr>\n",
       "            <td>752</td>\n",
       "            <td>roe</td>\n",
       "            <td>sal</td>\n",
       "            <td>41.6</td>\n",
       "        </tr>\n",
       "        <tr>\n",
       "            <td>837</td>\n",
       "            <td>roe</td>\n",
       "            <td>sal</td>\n",
       "            <td>22.5</td>\n",
       "        </tr>\n",
       "    </tbody>\n",
       "</table>"
      ],
      "text/plain": [
       "[(752, 'roe', 'sal', 41.6), (837, 'roe', 'sal', 22.5)]"
      ]
     },
     "execution_count": 15,
     "metadata": {},
     "output_type": "execute_result"
    }
   ],
   "source": [
    "%%sql\n",
    "Problem1c_3 <<\n",
    "-- Your query goes here. Don't change the variable name.\n",
    "select * from Survey where quant = \"sal\" and (reading < 0.0 or reading > 1.0)"
   ]
  },
  {
   "cell_type": "code",
   "execution_count": 16,
   "metadata": {
    "deletable": false,
    "editable": false,
    "nbgrader": {
     "cell_type": "code",
     "checksum": "f03b3bb3ef3b64bc7275286cb84dc5a1",
     "grade": false,
     "grade_id": "cell-65687462d164f175",
     "locked": true,
     "schema_version": 3,
     "solution": false
    }
   },
   "outputs": [
    {
     "data": {
      "text/html": [
       "<table>\n",
       "    <thead>\n",
       "        <tr>\n",
       "            <th>taken</th>\n",
       "            <th>person</th>\n",
       "            <th>quant</th>\n",
       "            <th>reading</th>\n",
       "        </tr>\n",
       "    </thead>\n",
       "    <tbody>\n",
       "        <tr>\n",
       "            <td>752</td>\n",
       "            <td>roe</td>\n",
       "            <td>sal</td>\n",
       "            <td>41.6</td>\n",
       "        </tr>\n",
       "        <tr>\n",
       "            <td>837</td>\n",
       "            <td>roe</td>\n",
       "            <td>sal</td>\n",
       "            <td>22.5</td>\n",
       "        </tr>\n",
       "    </tbody>\n",
       "</table>"
      ],
      "text/plain": [
       "[['752', 'roe', 'sal', '41.6'], ['837', 'roe', 'sal', '22.5']]"
      ]
     },
     "execution_count": 16,
     "metadata": {},
     "output_type": "execute_result"
    }
   ],
   "source": [
    "# Run this cell to see the expected output of the previous query\n",
    "%sql_expected_output Problem1c_3"
   ]
  },
  {
   "cell_type": "code",
   "execution_count": 17,
   "metadata": {
    "deletable": false,
    "editable": false,
    "nbgrader": {
     "cell_type": "code",
     "checksum": "9d0ce64360a8eef196084e1b9d1fbd2c",
     "grade": true,
     "grade_id": "cell-d72214197f83573a",
     "locked": true,
     "points": 5,
     "schema_version": 3,
     "solution": false
    }
   },
   "outputs": [
    {
     "data": {
      "text/html": [
       "<p><font color=\"green\">Test passed.</font></p>"
      ],
      "text/plain": [
       "<IPython.core.display.HTML object>"
      ]
     },
     "metadata": {},
     "output_type": "display_data"
    }
   ],
   "source": [
    "# Test Q3\n",
    "%sql_evaluate Problem1c_3"
   ]
  },
  {
   "cell_type": "markdown",
   "metadata": {
    "deletable": false,
    "editable": false,
    "nbgrader": {
     "cell_type": "markdown",
     "checksum": "25a417f28f5ca0ca5fad52b90e6c0ce0",
     "grade": false,
     "grade_id": "cell-429830fc15ab0b95",
     "locked": true,
     "schema_version": 3,
     "solution": false
    }
   },
   "source": [
    "## [10 points] Question 4: Calculating New Values  \n",
    "We note that Valentina Roerich was reporting salinity as percentages, instead of values between 0 and 1!\n",
    "* **(a) Write a query that returns all of her salinity measurements from the Survey table with the values divided by 100.**  \n",
    "* **(b) Use UNION to create a consolidated list of salinity measurements in which Roerich’s have been corrected.**"
   ]
  },
  {
   "cell_type": "markdown",
   "metadata": {
    "deletable": false,
    "editable": false,
    "nbgrader": {
     "cell_type": "markdown",
     "checksum": "57dc61f7bf177b9794633f13334107eb",
     "grade": false,
     "grade_id": "cell-a6b31124534519db",
     "locked": true,
     "schema_version": 3,
     "solution": false
    }
   },
   "source": [
    "### [5 points] Question (4a)\n",
    "* **Write a query that returns all of her salinity measurements from the Survey table with the values divided by 100.**"
   ]
  },
  {
   "cell_type": "code",
   "execution_count": 18,
   "metadata": {
    "deletable": false,
    "nbgrader": {
     "cell_type": "code",
     "checksum": "24d40545819c899e833eefcee2cb2205",
     "grade": false,
     "grade_id": "cell-08da7525d5934fbb",
     "locked": false,
     "schema_version": 3,
     "solution": true
    }
   },
   "outputs": [
    {
     "name": "stdout",
     "output_type": "stream",
     "text": [
      " * @/home/jovyan/data_readonly/sqlite/databases/survey.db\n",
      " * sqlite:////home/jovyan/data_readonly/sqlite/databases/survey.db\n",
      "Done.\n",
      "Saving data to local variable Problem1c_4a['result']\n",
      "Saving query to local variable Problem1c_4a['query']\n"
     ]
    },
    {
     "data": {
      "text/html": [
       "<table>\n",
       "    <thead>\n",
       "        <tr>\n",
       "            <th>taken</th>\n",
       "            <th>person</th>\n",
       "            <th>quant</th>\n",
       "            <th>corrected_reading</th>\n",
       "        </tr>\n",
       "    </thead>\n",
       "    <tbody>\n",
       "        <tr>\n",
       "            <td>752</td>\n",
       "            <td>roe</td>\n",
       "            <td>sal</td>\n",
       "            <td>0.41600000000000004</td>\n",
       "        </tr>\n",
       "        <tr>\n",
       "            <td>837</td>\n",
       "            <td>roe</td>\n",
       "            <td>sal</td>\n",
       "            <td>0.225</td>\n",
       "        </tr>\n",
       "    </tbody>\n",
       "</table>"
      ],
      "text/plain": [
       "[(752, 'roe', 'sal', 0.41600000000000004), (837, 'roe', 'sal', 0.225)]"
      ]
     },
     "execution_count": 18,
     "metadata": {},
     "output_type": "execute_result"
    }
   ],
   "source": [
    "%%sql\n",
    "Problem1c_4a <<\n",
    "-- Your query goes here. Don't change the variable name.\n",
    "SELECT taken, person, quant, reading / 100.00 as corrected_reading from Survey where quant = \"sal\" and person = \"roe\""
   ]
  },
  {
   "cell_type": "code",
   "execution_count": 19,
   "metadata": {
    "deletable": false,
    "editable": false,
    "nbgrader": {
     "cell_type": "code",
     "checksum": "c7d46832433006b5aee717ac314e8c3c",
     "grade": false,
     "grade_id": "cell-4e49ff79fbd3a53a",
     "locked": true,
     "schema_version": 3,
     "solution": false
    }
   },
   "outputs": [
    {
     "data": {
      "text/html": [
       "<table>\n",
       "    <thead>\n",
       "        <tr>\n",
       "            <th>taken</th>\n",
       "            <th>person</th>\n",
       "            <th>quant</th>\n",
       "            <th>corrected_reading</th>\n",
       "        </tr>\n",
       "    </thead>\n",
       "    <tbody>\n",
       "        <tr>\n",
       "            <td>752</td>\n",
       "            <td>roe</td>\n",
       "            <td>sal</td>\n",
       "            <td>0.41600000000000004</td>\n",
       "        </tr>\n",
       "        <tr>\n",
       "            <td>837</td>\n",
       "            <td>roe</td>\n",
       "            <td>sal</td>\n",
       "            <td>0.225</td>\n",
       "        </tr>\n",
       "    </tbody>\n",
       "</table>"
      ],
      "text/plain": [
       "[['752', 'roe', 'sal', '0.41600000000000004'], ['837', 'roe', 'sal', '0.225']]"
      ]
     },
     "execution_count": 19,
     "metadata": {},
     "output_type": "execute_result"
    }
   ],
   "source": [
    "# Run this cell to see expected output of previous query\n",
    "# Don't worry about floating points not exactly matching. \n",
    "# As long as they match upto 3 decimal places, you will get credit.\n",
    "%sql_expected_output Problem1c_4a"
   ]
  },
  {
   "cell_type": "code",
   "execution_count": 20,
   "metadata": {
    "deletable": false,
    "editable": false,
    "nbgrader": {
     "cell_type": "code",
     "checksum": "ba96de009add6a308805e03fa6268b2f",
     "grade": true,
     "grade_id": "cell-a0d6a80125605bc7",
     "locked": true,
     "points": 5,
     "schema_version": 3,
     "solution": false,
     "task": false
    }
   },
   "outputs": [
    {
     "data": {
      "text/html": [
       "<p><font color=\"green\">Test passed.</font></p>"
      ],
      "text/plain": [
       "<IPython.core.display.HTML object>"
      ]
     },
     "metadata": {},
     "output_type": "display_data"
    }
   ],
   "source": [
    "# Test Q4a\n",
    "%sql_evaluate Problem1c_4a"
   ]
  },
  {
   "cell_type": "markdown",
   "metadata": {
    "deletable": false,
    "editable": false,
    "nbgrader": {
     "cell_type": "markdown",
     "checksum": "3308e323a1ecf8248c4930163715f21f",
     "grade": false,
     "grade_id": "cell-5864eb36086c4265",
     "locked": true,
     "schema_version": 3,
     "solution": false
    }
   },
   "source": [
    "### [5 points] Question (4b)\n",
    "* **Use UNION to combine the corrected records with the existing ones in the Survey table.**"
   ]
  },
  {
   "cell_type": "code",
   "execution_count": 30,
   "metadata": {},
   "outputs": [],
   "source": [
    "# select taken, person, quant, reading as corrected_reading \n",
    "# from Survey \n",
    "# where person != \"roe\" and quant = \"sal\"\n",
    "\n",
    "# UNION\n",
    "\n",
    "# select taken, person, quant, reading / 100.00 as corrected_reading \n",
    "# from Survey \n",
    "# where person = \"roe\" and quant = \"sal\"\n",
    "# order by taken ASC"
   ]
  },
  {
   "cell_type": "code",
   "execution_count": 31,
   "metadata": {
    "deletable": false,
    "nbgrader": {
     "cell_type": "code",
     "checksum": "d36c188f1e89f690b23187252ae9566d",
     "grade": false,
     "grade_id": "cell-fd477958f04b2758",
     "locked": false,
     "schema_version": 3,
     "solution": true
    }
   },
   "outputs": [
    {
     "name": "stdout",
     "output_type": "stream",
     "text": [
      " * @/home/jovyan/data_readonly/sqlite/databases/survey.db\n",
      " * sqlite:////home/jovyan/data_readonly/sqlite/databases/survey.db\n",
      "Done.\n",
      "Saving data to local variable Problem1c_4b['result']\n",
      "Saving query to local variable Problem1c_4b['query']\n"
     ]
    },
    {
     "data": {
      "text/html": [
       "<table>\n",
       "    <thead>\n",
       "        <tr>\n",
       "            <th>taken</th>\n",
       "            <th>person</th>\n",
       "            <th>quant</th>\n",
       "            <th>corrected_reading</th>\n",
       "        </tr>\n",
       "    </thead>\n",
       "    <tbody>\n",
       "        <tr>\n",
       "            <td>619</td>\n",
       "            <td>dyer</td>\n",
       "            <td>sal</td>\n",
       "            <td>0.13</td>\n",
       "        </tr>\n",
       "        <tr>\n",
       "            <td>622</td>\n",
       "            <td>dyer</td>\n",
       "            <td>sal</td>\n",
       "            <td>0.09</td>\n",
       "        </tr>\n",
       "        <tr>\n",
       "            <td>734</td>\n",
       "            <td>lake</td>\n",
       "            <td>sal</td>\n",
       "            <td>0.05</td>\n",
       "        </tr>\n",
       "        <tr>\n",
       "            <td>735</td>\n",
       "            <td>None</td>\n",
       "            <td>sal</td>\n",
       "            <td>0.06</td>\n",
       "        </tr>\n",
       "        <tr>\n",
       "            <td>751</td>\n",
       "            <td>lake</td>\n",
       "            <td>sal</td>\n",
       "            <td>0.1</td>\n",
       "        </tr>\n",
       "        <tr>\n",
       "            <td>752</td>\n",
       "            <td>lake</td>\n",
       "            <td>sal</td>\n",
       "            <td>0.09</td>\n",
       "        </tr>\n",
       "        <tr>\n",
       "            <td>752</td>\n",
       "            <td>roe</td>\n",
       "            <td>sal</td>\n",
       "            <td>0.41600000000000004</td>\n",
       "        </tr>\n",
       "        <tr>\n",
       "            <td>837</td>\n",
       "            <td>lake</td>\n",
       "            <td>sal</td>\n",
       "            <td>0.21</td>\n",
       "        </tr>\n",
       "        <tr>\n",
       "            <td>837</td>\n",
       "            <td>roe</td>\n",
       "            <td>sal</td>\n",
       "            <td>0.225</td>\n",
       "        </tr>\n",
       "    </tbody>\n",
       "</table>"
      ],
      "text/plain": [
       "[(619, 'dyer', 'sal', 0.13),\n",
       " (622, 'dyer', 'sal', 0.09),\n",
       " (734, 'lake', 'sal', 0.05),\n",
       " (735, None, 'sal', 0.06),\n",
       " (751, 'lake', 'sal', 0.1),\n",
       " (752, 'lake', 'sal', 0.09),\n",
       " (752, 'roe', 'sal', 0.41600000000000004),\n",
       " (837, 'lake', 'sal', 0.21),\n",
       " (837, 'roe', 'sal', 0.225)]"
      ]
     },
     "execution_count": 31,
     "metadata": {},
     "output_type": "execute_result"
    }
   ],
   "source": [
    "%%sql\n",
    "Problem1c_4b <<\n",
    "-- Your query goes here. Don't change the variable name.\n",
    "select taken, person, quant, reading / 100.0 as corrected_reading \n",
    "from Survey \n",
    "where person == \"roe\" and quant == \"sal\"\n",
    "\n",
    "union\n",
    "\n",
    "select taken, person, quant, reading as corrected_reading \n",
    "from survey \n",
    "where quant == \"sal\" and (person != \"roe\" or person is null)"
   ]
  },
  {
   "cell_type": "code",
   "execution_count": 32,
   "metadata": {
    "deletable": false,
    "editable": false,
    "nbgrader": {
     "cell_type": "code",
     "checksum": "21927e34710ed66d0f23842ee18c4c9a",
     "grade": false,
     "grade_id": "cell-c0d84c6ae042bc8f",
     "locked": true,
     "schema_version": 3,
     "solution": false
    }
   },
   "outputs": [
    {
     "data": {
      "text/html": [
       "<table>\n",
       "    <thead>\n",
       "        <tr>\n",
       "            <th>taken</th>\n",
       "            <th>person</th>\n",
       "            <th>quant</th>\n",
       "            <th>corrected_reading</th>\n",
       "        </tr>\n",
       "    </thead>\n",
       "    <tbody>\n",
       "        <tr>\n",
       "            <td>619</td>\n",
       "            <td>dyer</td>\n",
       "            <td>sal</td>\n",
       "            <td>0.13</td>\n",
       "        </tr>\n",
       "        <tr>\n",
       "            <td>622</td>\n",
       "            <td>dyer</td>\n",
       "            <td>sal</td>\n",
       "            <td>0.09</td>\n",
       "        </tr>\n",
       "        <tr>\n",
       "            <td>734</td>\n",
       "            <td>lake</td>\n",
       "            <td>sal</td>\n",
       "            <td>0.05</td>\n",
       "        </tr>\n",
       "        <tr>\n",
       "            <td>735</td>\n",
       "            <td>None</td>\n",
       "            <td>sal</td>\n",
       "            <td>0.06</td>\n",
       "        </tr>\n",
       "        <tr>\n",
       "            <td>751</td>\n",
       "            <td>lake</td>\n",
       "            <td>sal</td>\n",
       "            <td>0.1</td>\n",
       "        </tr>\n",
       "        <tr>\n",
       "            <td>752</td>\n",
       "            <td>lake</td>\n",
       "            <td>sal</td>\n",
       "            <td>0.09</td>\n",
       "        </tr>\n",
       "        <tr>\n",
       "            <td>752</td>\n",
       "            <td>roe</td>\n",
       "            <td>sal</td>\n",
       "            <td>0.41600000000000004</td>\n",
       "        </tr>\n",
       "        <tr>\n",
       "            <td>837</td>\n",
       "            <td>lake</td>\n",
       "            <td>sal</td>\n",
       "            <td>0.21</td>\n",
       "        </tr>\n",
       "        <tr>\n",
       "            <td>837</td>\n",
       "            <td>roe</td>\n",
       "            <td>sal</td>\n",
       "            <td>0.225</td>\n",
       "        </tr>\n",
       "    </tbody>\n",
       "</table>"
      ],
      "text/plain": [
       "[['619', 'dyer', 'sal', '0.13'],\n",
       " ['622', 'dyer', 'sal', '0.09'],\n",
       " ['734', 'lake', 'sal', '0.05'],\n",
       " ['735', None, 'sal', '0.06'],\n",
       " ['751', 'lake', 'sal', '0.1'],\n",
       " ['752', 'lake', 'sal', '0.09'],\n",
       " ['752', 'roe', 'sal', '0.41600000000000004'],\n",
       " ['837', 'lake', 'sal', '0.21'],\n",
       " ['837', 'roe', 'sal', '0.225']]"
      ]
     },
     "execution_count": 32,
     "metadata": {},
     "output_type": "execute_result"
    }
   ],
   "source": [
    "# Run this cell to see the expected output of the previous query\n",
    "%sql_expected_output Problem1c_4b"
   ]
  },
  {
   "cell_type": "code",
   "execution_count": 33,
   "metadata": {
    "deletable": false,
    "editable": false,
    "nbgrader": {
     "cell_type": "code",
     "checksum": "e684c306e39cf90dbc93b5bf579f5385",
     "grade": true,
     "grade_id": "cell-c71c2a7de5bf6094",
     "locked": true,
     "points": 5,
     "schema_version": 3,
     "solution": false,
     "task": false
    }
   },
   "outputs": [
    {
     "data": {
      "text/html": [
       "<p><font color=\"green\">Test passed.</font></p>"
      ],
      "text/plain": [
       "<IPython.core.display.HTML object>"
      ]
     },
     "metadata": {},
     "output_type": "display_data"
    }
   ],
   "source": [
    "# Test Q4b\n",
    "%sql_evaluate Problem1c_4b"
   ]
  },
  {
   "cell_type": "markdown",
   "metadata": {
    "deletable": false,
    "editable": false,
    "nbgrader": {
     "cell_type": "markdown",
     "checksum": "70ccb62ea23106b76ad7a5ed12ecdee6",
     "grade": false,
     "grade_id": "cell-29472cd83ddc0f14",
     "locked": true,
     "schema_version": 3,
     "solution": false
    }
   },
   "source": [
    "## [6 points] Question 5: Missing Data\n",
    "* **Write a query that sorts the records in the `Visited` table by date.**\n",
    "\n",
    "Omit entries for which the date is not known (i.e., is `null`)."
   ]
  },
  {
   "cell_type": "code",
   "execution_count": 34,
   "metadata": {
    "deletable": false,
    "nbgrader": {
     "cell_type": "code",
     "checksum": "ec13822257436b7e471f37aa23efba4f",
     "grade": false,
     "grade_id": "cell-87f32a339c0503b1",
     "locked": false,
     "schema_version": 3,
     "solution": true
    }
   },
   "outputs": [
    {
     "name": "stdout",
     "output_type": "stream",
     "text": [
      " * @/home/jovyan/data_readonly/sqlite/databases/survey.db\n",
      " * sqlite:////home/jovyan/data_readonly/sqlite/databases/survey.db\n",
      "Done.\n",
      "Saving data to local variable Problem1c_5a['result']\n",
      "Saving query to local variable Problem1c_5a['query']\n"
     ]
    },
    {
     "data": {
      "text/html": [
       "<table>\n",
       "    <thead>\n",
       "        <tr>\n",
       "            <th>id</th>\n",
       "            <th>site</th>\n",
       "            <th>dated</th>\n",
       "        </tr>\n",
       "    </thead>\n",
       "    <tbody>\n",
       "        <tr>\n",
       "            <td>619</td>\n",
       "            <td>DR-1</td>\n",
       "            <td>1927-02-08</td>\n",
       "        </tr>\n",
       "        <tr>\n",
       "            <td>622</td>\n",
       "            <td>DR-1</td>\n",
       "            <td>1927-02-10</td>\n",
       "        </tr>\n",
       "        <tr>\n",
       "            <td>734</td>\n",
       "            <td>DR-3</td>\n",
       "            <td>1930-01-07</td>\n",
       "        </tr>\n",
       "        <tr>\n",
       "            <td>735</td>\n",
       "            <td>DR-3</td>\n",
       "            <td>1930-01-12</td>\n",
       "        </tr>\n",
       "        <tr>\n",
       "            <td>751</td>\n",
       "            <td>DR-3</td>\n",
       "            <td>1930-02-26</td>\n",
       "        </tr>\n",
       "        <tr>\n",
       "            <td>837</td>\n",
       "            <td>MSK-4</td>\n",
       "            <td>1932-01-14</td>\n",
       "        </tr>\n",
       "        <tr>\n",
       "            <td>844</td>\n",
       "            <td>DR-1</td>\n",
       "            <td>1932-03-22</td>\n",
       "        </tr>\n",
       "    </tbody>\n",
       "</table>"
      ],
      "text/plain": [
       "[('619', 'DR-1', '1927-02-08'),\n",
       " ('622', 'DR-1', '1927-02-10'),\n",
       " ('734', 'DR-3', '1930-01-07'),\n",
       " ('735', 'DR-3', '1930-01-12'),\n",
       " ('751', 'DR-3', '1930-02-26'),\n",
       " ('837', 'MSK-4', '1932-01-14'),\n",
       " ('844', 'DR-1', '1932-03-22')]"
      ]
     },
     "execution_count": 34,
     "metadata": {},
     "output_type": "execute_result"
    }
   ],
   "source": [
    "%%sql\n",
    "Problem1c_5a <<\n",
    "-- Your query goes here. Don't change the variable name.\n",
    "-- select .. from .. ; \n",
    "\n",
    "select * from Visited where dated is not null"
   ]
  },
  {
   "cell_type": "code",
   "execution_count": 35,
   "metadata": {
    "deletable": false,
    "editable": false,
    "nbgrader": {
     "cell_type": "code",
     "checksum": "ebb6fb89c9b88bca0ec140d3782c05aa",
     "grade": false,
     "grade_id": "cell-9beeb8608a6a3490",
     "locked": true,
     "schema_version": 3,
     "solution": false
    }
   },
   "outputs": [
    {
     "data": {
      "text/html": [
       "<table>\n",
       "    <thead>\n",
       "        <tr>\n",
       "            <th>id</th>\n",
       "            <th>site</th>\n",
       "            <th>dated</th>\n",
       "        </tr>\n",
       "    </thead>\n",
       "    <tbody>\n",
       "        <tr>\n",
       "            <td>619</td>\n",
       "            <td>DR-1</td>\n",
       "            <td>1927-02-08</td>\n",
       "        </tr>\n",
       "        <tr>\n",
       "            <td>622</td>\n",
       "            <td>DR-1</td>\n",
       "            <td>1927-02-10</td>\n",
       "        </tr>\n",
       "        <tr>\n",
       "            <td>734</td>\n",
       "            <td>DR-3</td>\n",
       "            <td>1930-01-07</td>\n",
       "        </tr>\n",
       "        <tr>\n",
       "            <td>735</td>\n",
       "            <td>DR-3</td>\n",
       "            <td>1930-01-12</td>\n",
       "        </tr>\n",
       "        <tr>\n",
       "            <td>751</td>\n",
       "            <td>DR-3</td>\n",
       "            <td>1930-02-26</td>\n",
       "        </tr>\n",
       "        <tr>\n",
       "            <td>837</td>\n",
       "            <td>MSK-4</td>\n",
       "            <td>1932-01-14</td>\n",
       "        </tr>\n",
       "        <tr>\n",
       "            <td>844</td>\n",
       "            <td>DR-1</td>\n",
       "            <td>1932-03-22</td>\n",
       "        </tr>\n",
       "    </tbody>\n",
       "</table>"
      ],
      "text/plain": [
       "[['619', 'DR-1', '1927-02-08'],\n",
       " ['622', 'DR-1', '1927-02-10'],\n",
       " ['734', 'DR-3', '1930-01-07'],\n",
       " ['735', 'DR-3', '1930-01-12'],\n",
       " ['751', 'DR-3', '1930-02-26'],\n",
       " ['837', 'MSK-4', '1932-01-14'],\n",
       " ['844', 'DR-1', '1932-03-22']]"
      ]
     },
     "execution_count": 35,
     "metadata": {},
     "output_type": "execute_result"
    }
   ],
   "source": [
    "# Run this cell to see the expected output of the previous query\n",
    "%sql_expected_output Problem1c_5a"
   ]
  },
  {
   "cell_type": "code",
   "execution_count": 36,
   "metadata": {
    "deletable": false,
    "editable": false,
    "nbgrader": {
     "cell_type": "code",
     "checksum": "53dc008373214b908742a7baf81fc750",
     "grade": true,
     "grade_id": "cell-0002ee7f0580034d",
     "locked": true,
     "points": 6,
     "schema_version": 3,
     "solution": false
    }
   },
   "outputs": [
    {
     "data": {
      "text/html": [
       "<p><font color=\"green\">Test passed.</font></p>"
      ],
      "text/plain": [
       "<IPython.core.display.HTML object>"
      ]
     },
     "metadata": {},
     "output_type": "display_data"
    }
   ],
   "source": [
    "# Test Q5a\n",
    "%sql_evaluate Problem1c_5a"
   ]
  },
  {
   "cell_type": "markdown",
   "metadata": {
    "deletable": false,
    "editable": false,
    "nbgrader": {
     "cell_type": "markdown",
     "checksum": "348b9bd05e67ea7aae82aadd1564bf76",
     "grade": false,
     "grade_id": "cell-30cfd86232592d54",
     "locked": true,
     "schema_version": 3,
     "solution": false
    }
   },
   "source": [
    "## [6 points] Question 6: Aggregation  \n",
    "* **How many temperature readings did Frank Pabodie record, and what was their average value?**"
   ]
  },
  {
   "cell_type": "code",
   "execution_count": 38,
   "metadata": {
    "deletable": false,
    "nbgrader": {
     "cell_type": "code",
     "checksum": "25236fcb5b02362c4e3adfbe35be36b7",
     "grade": false,
     "grade_id": "cell-84bd2c9d0611bff3",
     "locked": false,
     "schema_version": 3,
     "solution": true
    }
   },
   "outputs": [
    {
     "name": "stdout",
     "output_type": "stream",
     "text": [
      " * @/home/jovyan/data_readonly/sqlite/databases/survey.db\n",
      " * sqlite:////home/jovyan/data_readonly/sqlite/databases/survey.db\n",
      "Done.\n",
      "Saving data to local variable Problem1c_6a['result']\n",
      "Saving query to local variable Problem1c_6a['query']\n"
     ]
    },
    {
     "data": {
      "text/html": [
       "<table>\n",
       "    <thead>\n",
       "        <tr>\n",
       "            <th>count</th>\n",
       "            <th>avg_tmp</th>\n",
       "        </tr>\n",
       "    </thead>\n",
       "    <tbody>\n",
       "        <tr>\n",
       "            <td>2</td>\n",
       "            <td>-20.0</td>\n",
       "        </tr>\n",
       "    </tbody>\n",
       "</table>"
      ],
      "text/plain": [
       "[(2, -20.0)]"
      ]
     },
     "execution_count": 38,
     "metadata": {},
     "output_type": "execute_result"
    }
   ],
   "source": [
    "%%sql\n",
    "Problem1c_6a <<\n",
    "-- Your query goes here. Don't change the variable name.\n",
    "-- select .. from .. ;\n",
    "\n",
    "select count(*) as count, avg(reading) as avg_tmp \n",
    "from Survey where person == \"pb\" and quant == \"temp\""
   ]
  },
  {
   "cell_type": "code",
   "execution_count": 39,
   "metadata": {
    "deletable": false,
    "editable": false,
    "nbgrader": {
     "cell_type": "code",
     "checksum": "a35dc9b90c86d53badca7196c23a5677",
     "grade": false,
     "grade_id": "cell-a03fd37bd973ea8c",
     "locked": true,
     "schema_version": 3,
     "solution": false
    }
   },
   "outputs": [
    {
     "data": {
      "text/html": [
       "<table>\n",
       "    <thead>\n",
       "        <tr>\n",
       "            <th>count</th>\n",
       "            <th>avg_temp</th>\n",
       "        </tr>\n",
       "    </thead>\n",
       "    <tbody>\n",
       "        <tr>\n",
       "            <td>2</td>\n",
       "            <td>-20.0</td>\n",
       "        </tr>\n",
       "    </tbody>\n",
       "</table>"
      ],
      "text/plain": [
       "[['2', '-20.0']]"
      ]
     },
     "execution_count": 39,
     "metadata": {},
     "output_type": "execute_result"
    }
   ],
   "source": [
    "# Run this cell to see the expected output of the previous query\n",
    "%sql_expected_output Problem1c_6a"
   ]
  },
  {
   "cell_type": "code",
   "execution_count": 40,
   "metadata": {
    "deletable": false,
    "editable": false,
    "nbgrader": {
     "cell_type": "code",
     "checksum": "e5a14fba2627511a310cf4fefccc46c6",
     "grade": true,
     "grade_id": "cell-233203635869c04e",
     "locked": true,
     "points": 6,
     "schema_version": 3,
     "solution": false
    }
   },
   "outputs": [
    {
     "data": {
      "text/html": [
       "<p><font color=\"green\">Test passed.</font></p>"
      ],
      "text/plain": [
       "<IPython.core.display.HTML object>"
      ]
     },
     "metadata": {},
     "output_type": "display_data"
    }
   ],
   "source": [
    "# Test Q6a\n",
    "%sql_evaluate Problem1c_6a"
   ]
  },
  {
   "cell_type": "markdown",
   "metadata": {
    "deletable": false,
    "editable": false,
    "nbgrader": {
     "cell_type": "markdown",
     "checksum": "22302e7613b438c2130ee3f0972b2320",
     "grade": false,
     "grade_id": "cell-072b59792fa06fb7",
     "locked": true,
     "schema_version": 3,
     "solution": false
    }
   },
   "source": [
    "## [15 points] Question 7: Combining Data\n",
    "- **(a) Write a query that lists all radiation readings from the DR-1 site.**\n",
    "- **(b) Write a query that lists all sites visited by people named “Frank”.**  \n",
    "- **(c) Write a query that shows each site with exact location (lat, long) ordered by visited date, followed by personal name and family name of the person who visited the site and the type of measurement taken and its reading.**\n"
   ]
  },
  {
   "cell_type": "markdown",
   "metadata": {
    "deletable": false,
    "editable": false,
    "nbgrader": {
     "cell_type": "markdown",
     "checksum": "b0696117bc603dc69ef73f7f67144c94",
     "grade": false,
     "grade_id": "cell-c65ad1f6876ccd02",
     "locked": true,
     "schema_version": 3,
     "solution": false
    }
   },
   "source": [
    "### [5 points] Question (7a)\n",
    "- **Write a query that lists all radiation readings from the `DR-1` site. Include an additional column to display the name of the site.**"
   ]
  },
  {
   "cell_type": "code",
   "execution_count": 42,
   "metadata": {
    "deletable": false,
    "nbgrader": {
     "cell_type": "code",
     "checksum": "78024238749086cb4fb6c7fde9377b88",
     "grade": false,
     "grade_id": "cell-2b28e36ea0e6f9b0",
     "locked": false,
     "schema_version": 3,
     "solution": true
    }
   },
   "outputs": [
    {
     "name": "stdout",
     "output_type": "stream",
     "text": [
      " * @/home/jovyan/data_readonly/sqlite/databases/survey.db\n",
      " * sqlite:////home/jovyan/data_readonly/sqlite/databases/survey.db\n",
      "Done.\n",
      "Saving data to local variable Problem1c_7a['result']\n",
      "Saving query to local variable Problem1c_7a['query']\n"
     ]
    },
    {
     "data": {
      "text/html": [
       "<table>\n",
       "    <thead>\n",
       "        <tr>\n",
       "            <th>taken</th>\n",
       "            <th>person</th>\n",
       "            <th>quant</th>\n",
       "            <th>reading</th>\n",
       "            <th>site</th>\n",
       "        </tr>\n",
       "    </thead>\n",
       "    <tbody>\n",
       "        <tr>\n",
       "            <td>619</td>\n",
       "            <td>dyer</td>\n",
       "            <td>rad</td>\n",
       "            <td>9.82</td>\n",
       "            <td>DR-1</td>\n",
       "        </tr>\n",
       "        <tr>\n",
       "            <td>622</td>\n",
       "            <td>dyer</td>\n",
       "            <td>rad</td>\n",
       "            <td>7.8</td>\n",
       "            <td>DR-1</td>\n",
       "        </tr>\n",
       "        <tr>\n",
       "            <td>844</td>\n",
       "            <td>roe</td>\n",
       "            <td>rad</td>\n",
       "            <td>11.25</td>\n",
       "            <td>DR-1</td>\n",
       "        </tr>\n",
       "    </tbody>\n",
       "</table>"
      ],
      "text/plain": [
       "[(619, 'dyer', 'rad', 9.82, 'DR-1'),\n",
       " (622, 'dyer', 'rad', 7.8, 'DR-1'),\n",
       " (844, 'roe', 'rad', 11.25, 'DR-1')]"
      ]
     },
     "execution_count": 42,
     "metadata": {},
     "output_type": "execute_result"
    }
   ],
   "source": [
    "%%sql\n",
    "Problem1c_7a <<\n",
    "-- select .. from .. ; \n",
    "\n",
    "select taken, person, quant, reading, site from Survey\n",
    "\n",
    "join \n",
    "\n",
    "Visited on Survey.taken == Visited.id where site == \"DR-1\" and quant == \"rad\""
   ]
  },
  {
   "cell_type": "code",
   "execution_count": 43,
   "metadata": {
    "deletable": false,
    "editable": false,
    "nbgrader": {
     "cell_type": "code",
     "checksum": "758d7187536f82e96c2d2b8fccd291a7",
     "grade": false,
     "grade_id": "cell-ce79e0c91e72ed5a",
     "locked": true,
     "schema_version": 3,
     "solution": false
    }
   },
   "outputs": [
    {
     "data": {
      "text/html": [
       "<table>\n",
       "    <thead>\n",
       "        <tr>\n",
       "            <th>taken</th>\n",
       "            <th>person</th>\n",
       "            <th>quant</th>\n",
       "            <th>reading</th>\n",
       "            <th>site</th>\n",
       "        </tr>\n",
       "    </thead>\n",
       "    <tbody>\n",
       "        <tr>\n",
       "            <td>619</td>\n",
       "            <td>dyer</td>\n",
       "            <td>rad</td>\n",
       "            <td>9.82</td>\n",
       "            <td>DR-1</td>\n",
       "        </tr>\n",
       "        <tr>\n",
       "            <td>622</td>\n",
       "            <td>dyer</td>\n",
       "            <td>rad</td>\n",
       "            <td>7.8</td>\n",
       "            <td>DR-1</td>\n",
       "        </tr>\n",
       "        <tr>\n",
       "            <td>844</td>\n",
       "            <td>roe</td>\n",
       "            <td>rad</td>\n",
       "            <td>11.25</td>\n",
       "            <td>DR-1</td>\n",
       "        </tr>\n",
       "    </tbody>\n",
       "</table>"
      ],
      "text/plain": [
       "[['619', 'dyer', 'rad', '9.82', 'DR-1'],\n",
       " ['622', 'dyer', 'rad', '7.8', 'DR-1'],\n",
       " ['844', 'roe', 'rad', '11.25', 'DR-1']]"
      ]
     },
     "execution_count": 43,
     "metadata": {},
     "output_type": "execute_result"
    }
   ],
   "source": [
    "# Run this cell to see the expected output of the previous query\n",
    "# Don't worry about floating points not exactly matching! \n",
    "# As long as they match up to 3 decimal places, you will get full credit.\n",
    "%sql_expected_output Problem1c_7a"
   ]
  },
  {
   "cell_type": "code",
   "execution_count": 44,
   "metadata": {
    "deletable": false,
    "editable": false,
    "nbgrader": {
     "cell_type": "code",
     "checksum": "04652e04bf939823e1ac76315a26f39a",
     "grade": true,
     "grade_id": "cell-be598bf477a3adf6",
     "locked": true,
     "points": 5,
     "schema_version": 3,
     "solution": false
    }
   },
   "outputs": [
    {
     "data": {
      "text/html": [
       "<p><font color=\"green\">Test passed.</font></p>"
      ],
      "text/plain": [
       "<IPython.core.display.HTML object>"
      ]
     },
     "metadata": {},
     "output_type": "display_data"
    }
   ],
   "source": [
    "# Test Q7a\n",
    "%sql_evaluate Problem1c_7a"
   ]
  },
  {
   "cell_type": "markdown",
   "metadata": {
    "deletable": false,
    "editable": false,
    "nbgrader": {
     "cell_type": "markdown",
     "checksum": "a64620072c77f0f28f261ae7b92a1361",
     "grade": false,
     "grade_id": "cell-1b1ea057d528745e",
     "locked": true,
     "schema_version": 3,
     "solution": false
    }
   },
   "source": [
    "### [5 points] Question (7b)\n",
    "- **Write a query that lists all sites visited by people named “Frank”.**"
   ]
  },
  {
   "cell_type": "code",
   "execution_count": 47,
   "metadata": {
    "deletable": false,
    "nbgrader": {
     "cell_type": "code",
     "checksum": "e253dce1a6f04c89da9a0b1798a19ce5",
     "grade": false,
     "grade_id": "cell-4867197df1fd61fc",
     "locked": false,
     "schema_version": 3,
     "solution": true
    }
   },
   "outputs": [
    {
     "name": "stdout",
     "output_type": "stream",
     "text": [
      " * @/home/jovyan/data_readonly/sqlite/databases/survey.db\n",
      " * sqlite:////home/jovyan/data_readonly/sqlite/databases/survey.db\n",
      "Done.\n",
      "Saving data to local variable Problem1c_7b['result']\n",
      "Saving query to local variable Problem1c_7b['query']\n"
     ]
    },
    {
     "data": {
      "text/html": [
       "<table>\n",
       "    <thead>\n",
       "        <tr>\n",
       "            <th>site</th>\n",
       "        </tr>\n",
       "    </thead>\n",
       "    <tbody>\n",
       "        <tr>\n",
       "            <td>DR-3</td>\n",
       "        </tr>\n",
       "    </tbody>\n",
       "</table>"
      ],
      "text/plain": [
       "[('DR-3',)]"
      ]
     },
     "execution_count": 47,
     "metadata": {},
     "output_type": "execute_result"
    }
   ],
   "source": [
    "%%sql\n",
    "Problem1c_7b <<\n",
    "-- select .. from .. ;\n",
    "\n",
    "select distinct site \n",
    "from visited \n",
    "where id in (select taken from Survey where person in (select id from Person where personal == \"Frank\"))"
   ]
  },
  {
   "cell_type": "code",
   "execution_count": 48,
   "metadata": {
    "deletable": false,
    "editable": false,
    "nbgrader": {
     "cell_type": "code",
     "checksum": "eb79bcf1890dd4990c29ee20f4e26a2d",
     "grade": false,
     "grade_id": "cell-aefea03f6877094a",
     "locked": true,
     "schema_version": 3,
     "solution": false
    }
   },
   "outputs": [
    {
     "data": {
      "text/html": [
       "<table>\n",
       "    <thead>\n",
       "        <tr>\n",
       "            <th>site</th>\n",
       "        </tr>\n",
       "    </thead>\n",
       "    <tbody>\n",
       "        <tr>\n",
       "            <td>DR-3</td>\n",
       "        </tr>\n",
       "    </tbody>\n",
       "</table>"
      ],
      "text/plain": [
       "[['DR-3']]"
      ]
     },
     "execution_count": 48,
     "metadata": {},
     "output_type": "execute_result"
    }
   ],
   "source": [
    "# Run this cell to see the expected output of the previous query\n",
    "%sql_expected_output Problem1c_7b"
   ]
  },
  {
   "cell_type": "code",
   "execution_count": 49,
   "metadata": {
    "deletable": false,
    "editable": false,
    "nbgrader": {
     "cell_type": "code",
     "checksum": "a93945da67ba5144b2a0e3f8570a1754",
     "grade": true,
     "grade_id": "cell-cbef12fbde4b527d",
     "locked": true,
     "points": 5,
     "schema_version": 3,
     "solution": false,
     "task": false
    }
   },
   "outputs": [
    {
     "data": {
      "text/html": [
       "<p><font color=\"green\">Test passed.</font></p>"
      ],
      "text/plain": [
       "<IPython.core.display.HTML object>"
      ]
     },
     "metadata": {},
     "output_type": "display_data"
    }
   ],
   "source": [
    "# Test Q7b\n",
    "%sql_evaluate Problem1c_7b"
   ]
  },
  {
   "cell_type": "markdown",
   "metadata": {
    "deletable": false,
    "editable": false,
    "nbgrader": {
     "cell_type": "markdown",
     "checksum": "7e4dd111008f9f1705bd989baa3ef590",
     "grade": false,
     "grade_id": "cell-c8f135e8c973615c",
     "locked": true,
     "schema_version": 3,
     "solution": false
    }
   },
   "source": [
    "### [5 points] Question (7c)\n",
    "- **Write a query that shows each site with exact location (lat, long) visited date, personal name and family name of the person who visited the site and the type of measurement taken and its reading and ordered by visited date.**\n",
    "\n",
    "Omit `null` values for visited dates!"
   ]
  },
  {
   "cell_type": "code",
   "execution_count": 54,
   "metadata": {
    "deletable": false,
    "nbgrader": {
     "cell_type": "code",
     "checksum": "071290018f4b1429a46687024471a250",
     "grade": false,
     "grade_id": "cell-8953bbfae7db97de",
     "locked": false,
     "schema_version": 3,
     "solution": true
    }
   },
   "outputs": [
    {
     "name": "stdout",
     "output_type": "stream",
     "text": [
      " * @/home/jovyan/data_readonly/sqlite/databases/survey.db\n",
      " * sqlite:////home/jovyan/data_readonly/sqlite/databases/survey.db\n",
      "Done.\n",
      "Saving data to local variable Problem1c_7c['result']\n",
      "Saving query to local variable Problem1c_7c['query']\n"
     ]
    },
    {
     "data": {
      "text/html": [
       "<table>\n",
       "    <thead>\n",
       "        <tr>\n",
       "            <th>name</th>\n",
       "            <th>lat</th>\n",
       "            <th>long</th>\n",
       "            <th>dated</th>\n",
       "            <th>personal</th>\n",
       "            <th>family</th>\n",
       "            <th>quant</th>\n",
       "            <th>reading</th>\n",
       "        </tr>\n",
       "    </thead>\n",
       "    <tbody>\n",
       "        <tr>\n",
       "            <td>DR-1</td>\n",
       "            <td>-49.85</td>\n",
       "            <td>-128.57</td>\n",
       "            <td>1927-02-08</td>\n",
       "            <td>William</td>\n",
       "            <td>Dyer</td>\n",
       "            <td>rad</td>\n",
       "            <td>9.82</td>\n",
       "        </tr>\n",
       "        <tr>\n",
       "            <td>DR-1</td>\n",
       "            <td>-49.85</td>\n",
       "            <td>-128.57</td>\n",
       "            <td>1927-02-08</td>\n",
       "            <td>William</td>\n",
       "            <td>Dyer</td>\n",
       "            <td>sal</td>\n",
       "            <td>0.13</td>\n",
       "        </tr>\n",
       "        <tr>\n",
       "            <td>DR-1</td>\n",
       "            <td>-49.85</td>\n",
       "            <td>-128.57</td>\n",
       "            <td>1927-02-10</td>\n",
       "            <td>William</td>\n",
       "            <td>Dyer</td>\n",
       "            <td>rad</td>\n",
       "            <td>7.8</td>\n",
       "        </tr>\n",
       "        <tr>\n",
       "            <td>DR-1</td>\n",
       "            <td>-49.85</td>\n",
       "            <td>-128.57</td>\n",
       "            <td>1927-02-10</td>\n",
       "            <td>William</td>\n",
       "            <td>Dyer</td>\n",
       "            <td>sal</td>\n",
       "            <td>0.09</td>\n",
       "        </tr>\n",
       "        <tr>\n",
       "            <td>DR-3</td>\n",
       "            <td>-47.15</td>\n",
       "            <td>-126.72</td>\n",
       "            <td>1930-01-07</td>\n",
       "            <td>Anderson</td>\n",
       "            <td>Lake</td>\n",
       "            <td>sal</td>\n",
       "            <td>0.05</td>\n",
       "        </tr>\n",
       "        <tr>\n",
       "            <td>DR-3</td>\n",
       "            <td>-47.15</td>\n",
       "            <td>-126.72</td>\n",
       "            <td>1930-01-07</td>\n",
       "            <td>Frank</td>\n",
       "            <td>Pabodie</td>\n",
       "            <td>rad</td>\n",
       "            <td>8.41</td>\n",
       "        </tr>\n",
       "        <tr>\n",
       "            <td>DR-3</td>\n",
       "            <td>-47.15</td>\n",
       "            <td>-126.72</td>\n",
       "            <td>1930-01-07</td>\n",
       "            <td>Frank</td>\n",
       "            <td>Pabodie</td>\n",
       "            <td>temp</td>\n",
       "            <td>-21.5</td>\n",
       "        </tr>\n",
       "        <tr>\n",
       "            <td>DR-3</td>\n",
       "            <td>-47.15</td>\n",
       "            <td>-126.72</td>\n",
       "            <td>1930-01-12</td>\n",
       "            <td>Frank</td>\n",
       "            <td>Pabodie</td>\n",
       "            <td>rad</td>\n",
       "            <td>7.22</td>\n",
       "        </tr>\n",
       "        <tr>\n",
       "            <td>DR-3</td>\n",
       "            <td>-47.15</td>\n",
       "            <td>-126.72</td>\n",
       "            <td>1930-02-26</td>\n",
       "            <td>Anderson</td>\n",
       "            <td>Lake</td>\n",
       "            <td>sal</td>\n",
       "            <td>0.1</td>\n",
       "        </tr>\n",
       "        <tr>\n",
       "            <td>DR-3</td>\n",
       "            <td>-47.15</td>\n",
       "            <td>-126.72</td>\n",
       "            <td>1930-02-26</td>\n",
       "            <td>Frank</td>\n",
       "            <td>Pabodie</td>\n",
       "            <td>rad</td>\n",
       "            <td>4.35</td>\n",
       "        </tr>\n",
       "        <tr>\n",
       "            <td>DR-3</td>\n",
       "            <td>-47.15</td>\n",
       "            <td>-126.72</td>\n",
       "            <td>1930-02-26</td>\n",
       "            <td>Frank</td>\n",
       "            <td>Pabodie</td>\n",
       "            <td>temp</td>\n",
       "            <td>-18.5</td>\n",
       "        </tr>\n",
       "        <tr>\n",
       "            <td>MSK-4</td>\n",
       "            <td>-48.87</td>\n",
       "            <td>-123.4</td>\n",
       "            <td>1932-01-14</td>\n",
       "            <td>Anderson</td>\n",
       "            <td>Lake</td>\n",
       "            <td>rad</td>\n",
       "            <td>1.46</td>\n",
       "        </tr>\n",
       "        <tr>\n",
       "            <td>MSK-4</td>\n",
       "            <td>-48.87</td>\n",
       "            <td>-123.4</td>\n",
       "            <td>1932-01-14</td>\n",
       "            <td>Anderson</td>\n",
       "            <td>Lake</td>\n",
       "            <td>sal</td>\n",
       "            <td>0.21</td>\n",
       "        </tr>\n",
       "        <tr>\n",
       "            <td>MSK-4</td>\n",
       "            <td>-48.87</td>\n",
       "            <td>-123.4</td>\n",
       "            <td>1932-01-14</td>\n",
       "            <td>Valentina</td>\n",
       "            <td>Roerich</td>\n",
       "            <td>sal</td>\n",
       "            <td>22.5</td>\n",
       "        </tr>\n",
       "        <tr>\n",
       "            <td>DR-1</td>\n",
       "            <td>-49.85</td>\n",
       "            <td>-128.57</td>\n",
       "            <td>1932-03-22</td>\n",
       "            <td>Valentina</td>\n",
       "            <td>Roerich</td>\n",
       "            <td>rad</td>\n",
       "            <td>11.25</td>\n",
       "        </tr>\n",
       "    </tbody>\n",
       "</table>"
      ],
      "text/plain": [
       "[('DR-1', -49.85, -128.57, '1927-02-08', 'William', 'Dyer', 'rad', 9.82),\n",
       " ('DR-1', -49.85, -128.57, '1927-02-08', 'William', 'Dyer', 'sal', 0.13),\n",
       " ('DR-1', -49.85, -128.57, '1927-02-10', 'William', 'Dyer', 'rad', 7.8),\n",
       " ('DR-1', -49.85, -128.57, '1927-02-10', 'William', 'Dyer', 'sal', 0.09),\n",
       " ('DR-3', -47.15, -126.72, '1930-01-07', 'Anderson', 'Lake', 'sal', 0.05),\n",
       " ('DR-3', -47.15, -126.72, '1930-01-07', 'Frank', 'Pabodie', 'rad', 8.41),\n",
       " ('DR-3', -47.15, -126.72, '1930-01-07', 'Frank', 'Pabodie', 'temp', -21.5),\n",
       " ('DR-3', -47.15, -126.72, '1930-01-12', 'Frank', 'Pabodie', 'rad', 7.22),\n",
       " ('DR-3', -47.15, -126.72, '1930-02-26', 'Anderson', 'Lake', 'sal', 0.1),\n",
       " ('DR-3', -47.15, -126.72, '1930-02-26', 'Frank', 'Pabodie', 'rad', 4.35),\n",
       " ('DR-3', -47.15, -126.72, '1930-02-26', 'Frank', 'Pabodie', 'temp', -18.5),\n",
       " ('MSK-4', -48.87, -123.4, '1932-01-14', 'Anderson', 'Lake', 'rad', 1.46),\n",
       " ('MSK-4', -48.87, -123.4, '1932-01-14', 'Anderson', 'Lake', 'sal', 0.21),\n",
       " ('MSK-4', -48.87, -123.4, '1932-01-14', 'Valentina', 'Roerich', 'sal', 22.5),\n",
       " ('DR-1', -49.85, -128.57, '1932-03-22', 'Valentina', 'Roerich', 'rad', 11.25)]"
      ]
     },
     "execution_count": 54,
     "metadata": {},
     "output_type": "execute_result"
    }
   ],
   "source": [
    "%%sql\n",
    "Problem1c_7c <<\n",
    "-- select .. from .. ;\n",
    "\n",
    "select name, lat, long, dated, personal, family, quant, reading from Site as s\n",
    "\n",
    "join Visited as v on v.site == s.name\n",
    "join Survey as su on su.taken == v.id\n",
    "join Person as p on su.person == p.id\n",
    "\n",
    "where dated is not null"
   ]
  },
  {
   "cell_type": "code",
   "execution_count": 55,
   "metadata": {
    "deletable": false,
    "editable": false,
    "nbgrader": {
     "cell_type": "code",
     "checksum": "6d3b66b3e39232d0be87e8f1da3e858c",
     "grade": false,
     "grade_id": "cell-d027bf10af7463dc",
     "locked": true,
     "schema_version": 3,
     "solution": false
    }
   },
   "outputs": [
    {
     "data": {
      "text/html": [
       "<table>\n",
       "    <thead>\n",
       "        <tr>\n",
       "            <th>name</th>\n",
       "            <th>lat</th>\n",
       "            <th>long</th>\n",
       "            <th>dated</th>\n",
       "            <th>personal</th>\n",
       "            <th>family</th>\n",
       "            <th>quant</th>\n",
       "            <th>reading</th>\n",
       "        </tr>\n",
       "    </thead>\n",
       "    <tbody>\n",
       "        <tr>\n",
       "            <td>DR-1</td>\n",
       "            <td>-49.85</td>\n",
       "            <td>-128.57</td>\n",
       "            <td>1927-02-08</td>\n",
       "            <td>William</td>\n",
       "            <td>Dyer</td>\n",
       "            <td>rad</td>\n",
       "            <td>9.82</td>\n",
       "        </tr>\n",
       "        <tr>\n",
       "            <td>DR-1</td>\n",
       "            <td>-49.85</td>\n",
       "            <td>-128.57</td>\n",
       "            <td>1927-02-08</td>\n",
       "            <td>William</td>\n",
       "            <td>Dyer</td>\n",
       "            <td>sal</td>\n",
       "            <td>0.13</td>\n",
       "        </tr>\n",
       "        <tr>\n",
       "            <td>DR-1</td>\n",
       "            <td>-49.85</td>\n",
       "            <td>-128.57</td>\n",
       "            <td>1927-02-10</td>\n",
       "            <td>William</td>\n",
       "            <td>Dyer</td>\n",
       "            <td>rad</td>\n",
       "            <td>7.8</td>\n",
       "        </tr>\n",
       "        <tr>\n",
       "            <td>DR-1</td>\n",
       "            <td>-49.85</td>\n",
       "            <td>-128.57</td>\n",
       "            <td>1927-02-10</td>\n",
       "            <td>William</td>\n",
       "            <td>Dyer</td>\n",
       "            <td>sal</td>\n",
       "            <td>0.09</td>\n",
       "        </tr>\n",
       "        <tr>\n",
       "            <td>DR-3</td>\n",
       "            <td>-47.15</td>\n",
       "            <td>-126.72</td>\n",
       "            <td>1930-01-07</td>\n",
       "            <td>Anderson</td>\n",
       "            <td>Lake</td>\n",
       "            <td>sal</td>\n",
       "            <td>0.05</td>\n",
       "        </tr>\n",
       "        <tr>\n",
       "            <td>DR-3</td>\n",
       "            <td>-47.15</td>\n",
       "            <td>-126.72</td>\n",
       "            <td>1930-01-07</td>\n",
       "            <td>Frank</td>\n",
       "            <td>Pabodie</td>\n",
       "            <td>rad</td>\n",
       "            <td>8.41</td>\n",
       "        </tr>\n",
       "        <tr>\n",
       "            <td>DR-3</td>\n",
       "            <td>-47.15</td>\n",
       "            <td>-126.72</td>\n",
       "            <td>1930-01-07</td>\n",
       "            <td>Frank</td>\n",
       "            <td>Pabodie</td>\n",
       "            <td>temp</td>\n",
       "            <td>-21.5</td>\n",
       "        </tr>\n",
       "        <tr>\n",
       "            <td>DR-3</td>\n",
       "            <td>-47.15</td>\n",
       "            <td>-126.72</td>\n",
       "            <td>1930-01-12</td>\n",
       "            <td>Frank</td>\n",
       "            <td>Pabodie</td>\n",
       "            <td>rad</td>\n",
       "            <td>7.22</td>\n",
       "        </tr>\n",
       "        <tr>\n",
       "            <td>DR-3</td>\n",
       "            <td>-47.15</td>\n",
       "            <td>-126.72</td>\n",
       "            <td>1930-02-26</td>\n",
       "            <td>Anderson</td>\n",
       "            <td>Lake</td>\n",
       "            <td>sal</td>\n",
       "            <td>0.1</td>\n",
       "        </tr>\n",
       "        <tr>\n",
       "            <td>DR-3</td>\n",
       "            <td>-47.15</td>\n",
       "            <td>-126.72</td>\n",
       "            <td>1930-02-26</td>\n",
       "            <td>Frank</td>\n",
       "            <td>Pabodie</td>\n",
       "            <td>rad</td>\n",
       "            <td>4.35</td>\n",
       "        </tr>\n",
       "        <tr>\n",
       "            <td>DR-3</td>\n",
       "            <td>-47.15</td>\n",
       "            <td>-126.72</td>\n",
       "            <td>1930-02-26</td>\n",
       "            <td>Frank</td>\n",
       "            <td>Pabodie</td>\n",
       "            <td>temp</td>\n",
       "            <td>-18.5</td>\n",
       "        </tr>\n",
       "        <tr>\n",
       "            <td>MSK-4</td>\n",
       "            <td>-48.87</td>\n",
       "            <td>-123.4</td>\n",
       "            <td>1932-01-14</td>\n",
       "            <td>Anderson</td>\n",
       "            <td>Lake</td>\n",
       "            <td>rad</td>\n",
       "            <td>1.46</td>\n",
       "        </tr>\n",
       "        <tr>\n",
       "            <td>MSK-4</td>\n",
       "            <td>-48.87</td>\n",
       "            <td>-123.4</td>\n",
       "            <td>1932-01-14</td>\n",
       "            <td>Anderson</td>\n",
       "            <td>Lake</td>\n",
       "            <td>sal</td>\n",
       "            <td>0.21</td>\n",
       "        </tr>\n",
       "        <tr>\n",
       "            <td>MSK-4</td>\n",
       "            <td>-48.87</td>\n",
       "            <td>-123.4</td>\n",
       "            <td>1932-01-14</td>\n",
       "            <td>Valentina</td>\n",
       "            <td>Roerich</td>\n",
       "            <td>sal</td>\n",
       "            <td>22.5</td>\n",
       "        </tr>\n",
       "        <tr>\n",
       "            <td>DR-1</td>\n",
       "            <td>-49.85</td>\n",
       "            <td>-128.57</td>\n",
       "            <td>1932-03-22</td>\n",
       "            <td>Valentina</td>\n",
       "            <td>Roerich</td>\n",
       "            <td>rad</td>\n",
       "            <td>11.25</td>\n",
       "        </tr>\n",
       "    </tbody>\n",
       "</table>"
      ],
      "text/plain": [
       "[['DR-1', '-49.85', '-128.57', '1927-02-08', 'William', 'Dyer', 'rad', '9.82'],\n",
       " ['DR-1', '-49.85', '-128.57', '1927-02-08', 'William', 'Dyer', 'sal', '0.13'],\n",
       " ['DR-1', '-49.85', '-128.57', '1927-02-10', 'William', 'Dyer', 'rad', '7.8'],\n",
       " ['DR-1', '-49.85', '-128.57', '1927-02-10', 'William', 'Dyer', 'sal', '0.09'],\n",
       " ['DR-3',\n",
       "  '-47.15',\n",
       "  '-126.72',\n",
       "  '1930-01-07',\n",
       "  'Anderson',\n",
       "  'Lake',\n",
       "  'sal',\n",
       "  '0.05'],\n",
       " ['DR-3',\n",
       "  '-47.15',\n",
       "  '-126.72',\n",
       "  '1930-01-07',\n",
       "  'Frank',\n",
       "  'Pabodie',\n",
       "  'rad',\n",
       "  '8.41'],\n",
       " ['DR-3',\n",
       "  '-47.15',\n",
       "  '-126.72',\n",
       "  '1930-01-07',\n",
       "  'Frank',\n",
       "  'Pabodie',\n",
       "  'temp',\n",
       "  '-21.5'],\n",
       " ['DR-3',\n",
       "  '-47.15',\n",
       "  '-126.72',\n",
       "  '1930-01-12',\n",
       "  'Frank',\n",
       "  'Pabodie',\n",
       "  'rad',\n",
       "  '7.22'],\n",
       " ['DR-3', '-47.15', '-126.72', '1930-02-26', 'Anderson', 'Lake', 'sal', '0.1'],\n",
       " ['DR-3',\n",
       "  '-47.15',\n",
       "  '-126.72',\n",
       "  '1930-02-26',\n",
       "  'Frank',\n",
       "  'Pabodie',\n",
       "  'rad',\n",
       "  '4.35'],\n",
       " ['DR-3',\n",
       "  '-47.15',\n",
       "  '-126.72',\n",
       "  '1930-02-26',\n",
       "  'Frank',\n",
       "  'Pabodie',\n",
       "  'temp',\n",
       "  '-18.5'],\n",
       " ['MSK-4',\n",
       "  '-48.87',\n",
       "  '-123.4',\n",
       "  '1932-01-14',\n",
       "  'Anderson',\n",
       "  'Lake',\n",
       "  'rad',\n",
       "  '1.46'],\n",
       " ['MSK-4',\n",
       "  '-48.87',\n",
       "  '-123.4',\n",
       "  '1932-01-14',\n",
       "  'Anderson',\n",
       "  'Lake',\n",
       "  'sal',\n",
       "  '0.21'],\n",
       " ['MSK-4',\n",
       "  '-48.87',\n",
       "  '-123.4',\n",
       "  '1932-01-14',\n",
       "  'Valentina',\n",
       "  'Roerich',\n",
       "  'sal',\n",
       "  '22.5'],\n",
       " ['DR-1',\n",
       "  '-49.85',\n",
       "  '-128.57',\n",
       "  '1932-03-22',\n",
       "  'Valentina',\n",
       "  'Roerich',\n",
       "  'rad',\n",
       "  '11.25']]"
      ]
     },
     "execution_count": 55,
     "metadata": {},
     "output_type": "execute_result"
    }
   ],
   "source": [
    "# Run this cell to see the expected output of the previous query\n",
    "%sql_expected_output Problem1c_7c"
   ]
  },
  {
   "cell_type": "code",
   "execution_count": 56,
   "metadata": {
    "deletable": false,
    "editable": false,
    "nbgrader": {
     "cell_type": "code",
     "checksum": "32c10a915ec5d34c59eb6c695f97e366",
     "grade": true,
     "grade_id": "cell-17838ce7f29ba022",
     "locked": true,
     "points": 5,
     "schema_version": 3,
     "solution": false
    }
   },
   "outputs": [
    {
     "data": {
      "text/html": [
       "<p><font color=\"green\">Test passed.</font></p>"
      ],
      "text/plain": [
       "<IPython.core.display.HTML object>"
      ]
     },
     "metadata": {},
     "output_type": "display_data"
    }
   ],
   "source": [
    "# Test Q7c\n",
    "%sql_evaluate Problem1c_7c"
   ]
  },
  {
   "cell_type": "code",
   "execution_count": null,
   "metadata": {},
   "outputs": [],
   "source": []
  }
 ],
 "metadata": {
  "kernelspec": {
   "display_name": "Python 3",
   "language": "python",
   "name": "python3"
  },
  "language_info": {
   "codemirror_mode": {
    "name": "ipython",
    "version": 3
   },
   "file_extension": ".py",
   "mimetype": "text/x-python",
   "name": "python",
   "nbconvert_exporter": "python",
   "pygments_lexer": "ipython3",
   "version": "3.7.6"
  }
 },
 "nbformat": 4,
 "nbformat_minor": 2
}
