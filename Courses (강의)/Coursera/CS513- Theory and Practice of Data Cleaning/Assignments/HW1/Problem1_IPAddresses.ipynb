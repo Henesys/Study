{
 "cells": [
  {
   "cell_type": "markdown",
   "metadata": {
    "deletable": false,
    "editable": false,
    "nbgrader": {
     "cell_type": "markdown",
     "checksum": "3948457b16130b1b0d74b05e03855362",
     "grade": false,
     "grade_id": "cell-f26dfa4a80c90478",
     "locked": true,
     "schema_version": 3,
     "solution": false
    }
   },
   "source": [
    "# About Test Cases and Grading\n",
    "* You have to write two regexes (Part a, Part b), each worth 12.5 points, so this problem is worth 25 points total.\n",
    "* Each regex will be checked against 10 test cases for correctness (each test case is worth 1.25 points).\n",
    "* Note that we test your regular expressions against positive and negative examples, i.e., we check that your regex is indeed matching the positive examples, but that it is not matching the negative examples.\n",
    "* To check whether you're on the right path, we provide two positive and two negative test cases. (You can also make up more test cases of your own.) The four test cases are worth 1.25 * 4 = 5 points.\n",
    "* After submission, we  run each of your regexes against three positive and three negative examples. Together these six test cases are worth 1.25 * 6 = 7.5 points. Thus the total points for each regex part is 5 + 7.5 = 12.5 points.\n",
    "\n",
    "You need to write regexes as Python raw strings, and we will use Python as the regex engine.\n",
    "\n",
    "# Regex to match IP Addresses\n",
    "\n",
    "An Internet Protocol (IP) address is a sequence of 4 numbers (between 0 and 255), using a single dot ‘.’ as a separator: e.g., **172.16.254.1** or **127.0.0.1** are valid IPs (more precisely IPv4) addresses.\n",
    "You need to write two regular expressions to match IP addresses:\n",
    "* (a) A regular expression that matches IP addresses. Here you do **not** have to check that the numbers are in the range of 0 to 255. Try to keep it simple!  \n",
    "* (b) Now develop a more precise regex that also makes sure that examples such as **302.207.451.22** are **not matched**."
   ]
  },
  {
   "cell_type": "code",
   "execution_count": 1,
   "metadata": {
    "deletable": false,
    "editable": false,
    "nbgrader": {
     "cell_type": "code",
     "checksum": "d118ffde4c8fd72c7caff195a59123f6",
     "grade": false,
     "grade_id": "cell-901b455cc3381387",
     "locked": true,
     "schema_version": 3,
     "solution": false
    }
   },
   "outputs": [],
   "source": [
    "import re\n",
    "from lib.regex.regex_test import test_positive, test_negative"
   ]
  },
  {
   "cell_type": "markdown",
   "metadata": {
    "deletable": false,
    "editable": false,
    "nbgrader": {
     "cell_type": "markdown",
     "checksum": "79992e05b99a7a2f24b5ed326026ed7e",
     "grade": false,
     "grade_id": "cell-ec9085c5dd7cb1b2",
     "locked": true,
     "schema_version": 3,
     "solution": false
    }
   },
   "source": [
    "### [12.5 points] Part (a) \n",
    "#### Write a regular expression that matches IP addresses. Here you don’t have to check that the numbers are in the range of 0 to 255. Try to keep it simple!"
   ]
  },
  {
   "cell_type": "code",
   "execution_count": 2,
   "metadata": {
    "deletable": false,
    "nbgrader": {
     "cell_type": "code",
     "checksum": "15386959297053397c0ebfc70864fc2c",
     "grade": false,
     "grade_id": "cell-c0086d1ff8149b6d",
     "locked": false,
     "schema_version": 3,
     "solution": true
    }
   },
   "outputs": [],
   "source": [
    "# Modify your regex below\n",
    "ip_regex1 = r'\\d+\\.\\d+\\.\\d+\\.\\d+'\n",
    "\n"
   ]
  },
  {
   "cell_type": "code",
   "execution_count": 3,
   "metadata": {
    "deletable": false,
    "editable": false,
    "nbgrader": {
     "cell_type": "code",
     "checksum": "b8c7d62a48b8ba1647a7667ddcb10250",
     "grade": true,
     "grade_id": "cell-3e5560fd043334f1",
     "locked": true,
     "points": 1.25,
     "schema_version": 3,
     "solution": false
    }
   },
   "outputs": [
    {
     "name": "stdout",
     "output_type": "stream",
     "text": [
      "Test passed.\n"
     ]
    }
   ],
   "source": [
    "# [1.25 points] Part (a) Positive test case 1. Your regex should match 1.2.3.4\n",
    "positive_test_case = r'1.2.3.4'\n",
    "\n",
    "test_positive(ip_regex1, positive_test_case)\n",
    "del positive_test_case"
   ]
  },
  {
   "cell_type": "code",
   "execution_count": 4,
   "metadata": {
    "deletable": false,
    "editable": false,
    "nbgrader": {
     "cell_type": "code",
     "checksum": "1622b38cfb6aa20f8f0f5548f4bede1b",
     "grade": true,
     "grade_id": "cell-3d14f886d26adad2",
     "locked": true,
     "points": 1.25,
     "schema_version": 3,
     "solution": false
    }
   },
   "outputs": [
    {
     "name": "stdout",
     "output_type": "stream",
     "text": [
      "Test passed.\n"
     ]
    }
   ],
   "source": [
    "# [1.25 points] Part (a) Positive test case 2. Your regex should match 192.168.0.1\n",
    "positive_test_case = r'192.168.0.1'\n",
    "\n",
    "test_positive(ip_regex1, positive_test_case)\n",
    "del positive_test_case"
   ]
  },
  {
   "cell_type": "code",
   "execution_count": 5,
   "metadata": {
    "deletable": false,
    "editable": false,
    "nbgrader": {
     "cell_type": "code",
     "checksum": "f7725d9e76e8a28e5ac84e0a161cc386",
     "grade": true,
     "grade_id": "cell-96c0a18166d76bd9",
     "locked": true,
     "points": 1.25,
     "schema_version": 3,
     "solution": false
    }
   },
   "outputs": [
    {
     "name": "stdout",
     "output_type": "stream",
     "text": [
      "Test passed.\n"
     ]
    }
   ],
   "source": [
    "# [1.25 points] Part (a) Negative test case 1. Your regex should not match 1\n",
    "negative_test_case = r'1'\n",
    "\n",
    "test_negative(ip_regex1, negative_test_case)\n",
    "del negative_test_case"
   ]
  },
  {
   "cell_type": "code",
   "execution_count": 6,
   "metadata": {
    "deletable": false,
    "editable": false,
    "nbgrader": {
     "cell_type": "code",
     "checksum": "abfcaba980a159f355bf3d6a5589c21b",
     "grade": true,
     "grade_id": "cell-cf81f0591c5b3f74",
     "locked": true,
     "points": 1.25,
     "schema_version": 3,
     "solution": false
    }
   },
   "outputs": [
    {
     "name": "stdout",
     "output_type": "stream",
     "text": [
      "Test passed.\n"
     ]
    }
   ],
   "source": [
    "# [1.25 points] Part (a) Negative test case 2. Your regex should not match 1.2.3\n",
    "negative_test_case = r'1.2.3'\n",
    "\n",
    "test_negative(ip_regex1, negative_test_case)\n",
    "del negative_test_case"
   ]
  },
  {
   "cell_type": "markdown",
   "metadata": {
    "deletable": false,
    "editable": false,
    "nbgrader": {
     "cell_type": "markdown",
     "checksum": "9dd11ac99461c3a66bc6bbcf08d42801",
     "grade": false,
     "grade_id": "cell-625edb57ac4388e6",
     "locked": true,
     "schema_version": 3,
     "solution": false
    }
   },
   "source": [
    "### [12.5 points] Part (b) \n",
    "#### Now develop a more precise regex that also makes sure that examples such as 302.207.451.22 are not matched."
   ]
  },
  {
   "cell_type": "code",
   "execution_count": 7,
   "metadata": {
    "deletable": false,
    "nbgrader": {
     "cell_type": "code",
     "checksum": "4357c8d3d8ae3ceed5cdc6e961c7b179",
     "grade": false,
     "grade_id": "cell-8ffc79f4c26aa71e",
     "locked": false,
     "schema_version": 3,
     "solution": true
    }
   },
   "outputs": [],
   "source": [
    "# Modify your regex below\n",
    "ip_regex2 = r'(25[0-5]|2[0-4][0-9]|[01]?[0-9][0-9]?)\\.' + \\\n",
    "            r'(25[0-5]|2[0-4][0-9]|[01]?[0-9][0-9]?)\\.' + \\\n",
    "            r'(25[0-5]|2[0-4][0-9]|[01]?[0-9][0-9]?)\\.' + \\\n",
    "            r'(25[0-5]|2[0-4][0-9]|[01]?[0-9][0-9]?)'"
   ]
  },
  {
   "cell_type": "code",
   "execution_count": 8,
   "metadata": {
    "deletable": false,
    "editable": false,
    "nbgrader": {
     "cell_type": "code",
     "checksum": "753b1678d751cfaa9608dcd5f0d8455e",
     "grade": true,
     "grade_id": "cell-f313c2d8df3e6b36",
     "locked": true,
     "points": 1.25,
     "schema_version": 3,
     "solution": false
    }
   },
   "outputs": [
    {
     "name": "stdout",
     "output_type": "stream",
     "text": [
      "Test passed.\n"
     ]
    }
   ],
   "source": [
    "# [1.25 points] Part (b) Positive test case 1. Your regex should match 192.168.0.1\n",
    "positive_test_case = r'192.168.0.1'\n",
    "\n",
    "test_positive(ip_regex2, positive_test_case)\n",
    "del positive_test_case"
   ]
  },
  {
   "cell_type": "code",
   "execution_count": 9,
   "metadata": {
    "deletable": false,
    "editable": false,
    "nbgrader": {
     "cell_type": "code",
     "checksum": "eabad9a780e0e058643ae7dfbc9a9df6",
     "grade": true,
     "grade_id": "cell-a6fc86f7414405f4",
     "locked": true,
     "points": 1.25,
     "schema_version": 3,
     "solution": false
    }
   },
   "outputs": [
    {
     "name": "stdout",
     "output_type": "stream",
     "text": [
      "Test passed.\n"
     ]
    }
   ],
   "source": [
    "# [1.25 points] Part (b) Positive test case 2. Your regex should match 0.0.0.0\n",
    "positive_test_case = r'0.0.0.0'\n",
    "\n",
    "test_positive(ip_regex2, positive_test_case)\n",
    "del positive_test_case"
   ]
  },
  {
   "cell_type": "code",
   "execution_count": 10,
   "metadata": {
    "deletable": false,
    "editable": false,
    "nbgrader": {
     "cell_type": "code",
     "checksum": "24ce85753e2f04ad4ff7082b60fddff5",
     "grade": true,
     "grade_id": "cell-a05ec0188d17dc6e",
     "locked": true,
     "points": 1.25,
     "schema_version": 3,
     "solution": false
    }
   },
   "outputs": [
    {
     "name": "stdout",
     "output_type": "stream",
     "text": [
      "Test passed.\n"
     ]
    }
   ],
   "source": [
    "# [1.25 points] Part (b) Negative test case 1. Your regex should not match 100.200.300.400 \n",
    "negative_test_case = r'100.200.300.400'\n",
    "\n",
    "test_negative(ip_regex2, negative_test_case)\n",
    "del negative_test_case"
   ]
  },
  {
   "cell_type": "code",
   "execution_count": 11,
   "metadata": {
    "deletable": false,
    "editable": false,
    "nbgrader": {
     "cell_type": "code",
     "checksum": "f99aa59608601eb508bc3981ef30e05a",
     "grade": true,
     "grade_id": "cell-dac6998cc08a1cd4",
     "locked": true,
     "points": 1.25,
     "schema_version": 3,
     "solution": false
    }
   },
   "outputs": [
    {
     "name": "stdout",
     "output_type": "stream",
     "text": [
      "Test passed.\n"
     ]
    }
   ],
   "source": [
    "# [1.25 points] Part (b) Negative test case 2. Your regex should not match 192.168.0.256\n",
    "negative_test_case = r'192.168.0.256'\n",
    "\n",
    "test_negative(ip_regex2, negative_test_case)\n",
    "del negative_test_case"
   ]
  },
  {
   "cell_type": "markdown",
   "metadata": {
    "deletable": false,
    "editable": false,
    "nbgrader": {
     "cell_type": "markdown",
     "checksum": "61bd2be68bf636403f70b8af085ce824",
     "grade": false,
     "grade_id": "cell-5e472347f7018f44",
     "locked": true,
     "schema_version": 3,
     "solution": false
    }
   },
   "source": [
    "### Hidden Test Cases\n",
    "The rest of the notebook contains hidden test cases for both regular expressions. These test cases will be omitted from the student's version of the notebook. The following cells will always pass for students and will only be evaluated after they have submitted their solution."
   ]
  },
  {
   "cell_type": "code",
   "execution_count": 12,
   "metadata": {
    "deletable": false,
    "editable": false,
    "nbgrader": {
     "cell_type": "code",
     "checksum": "c05d22b78756544b1af00c5a11eec0eb",
     "grade": true,
     "grade_id": "cell-3c0042640d255b2e",
     "locked": true,
     "points": 1.25,
     "schema_version": 3,
     "solution": false
    }
   },
   "outputs": [],
   "source": [
    "# [1.25 points] Part (a) Positive test case 3.\n",
    "# Omitted from student's version of notebook.\n"
   ]
  },
  {
   "cell_type": "code",
   "execution_count": 13,
   "metadata": {
    "deletable": false,
    "editable": false,
    "nbgrader": {
     "cell_type": "code",
     "checksum": "e07cfd3282053278ca552f13511b243c",
     "grade": true,
     "grade_id": "cell-5f4bebc160a27193",
     "locked": true,
     "points": 1.25,
     "schema_version": 3,
     "solution": false
    }
   },
   "outputs": [],
   "source": [
    "# [1.25 points] Part (a) Positive test case 4.\n",
    "# Omitted from student's version of notebook.\n"
   ]
  },
  {
   "cell_type": "code",
   "execution_count": 14,
   "metadata": {
    "deletable": false,
    "editable": false,
    "nbgrader": {
     "cell_type": "code",
     "checksum": "976070b3eebc4c83382f7d9b85d8f2b5",
     "grade": true,
     "grade_id": "cell-cab18548725d5892",
     "locked": true,
     "points": 1.25,
     "schema_version": 3,
     "solution": false
    }
   },
   "outputs": [],
   "source": [
    "# [1.25 points] Part (a) Positive test case 5.\n",
    "# Omitted from student's version of notebook.\n"
   ]
  },
  {
   "cell_type": "code",
   "execution_count": 15,
   "metadata": {
    "deletable": false,
    "editable": false,
    "nbgrader": {
     "cell_type": "code",
     "checksum": "3dc656ed2419e6cc74c7c4c77673b448",
     "grade": true,
     "grade_id": "cell-a9ab642a58f47af1",
     "locked": true,
     "points": 1.25,
     "schema_version": 3,
     "solution": false
    }
   },
   "outputs": [],
   "source": [
    "# [1.25 points] Part (a) Negative test case 3.\n",
    "# Omitted from student's version of notebook.\n"
   ]
  },
  {
   "cell_type": "code",
   "execution_count": 16,
   "metadata": {
    "deletable": false,
    "editable": false,
    "nbgrader": {
     "cell_type": "code",
     "checksum": "68d1f70f65c13492d8db72ecef215798",
     "grade": true,
     "grade_id": "cell-56780119e214a1d0",
     "locked": true,
     "points": 1.25,
     "schema_version": 3,
     "solution": false
    }
   },
   "outputs": [],
   "source": [
    "# [1.25 points] Part (a) Negative test case 4.\n",
    "# Omitted from student's version of notebook.\n"
   ]
  },
  {
   "cell_type": "code",
   "execution_count": 17,
   "metadata": {
    "deletable": false,
    "editable": false,
    "nbgrader": {
     "cell_type": "code",
     "checksum": "ac7390ee4d796f9c0cd8c62a5cbf0693",
     "grade": true,
     "grade_id": "cell-a1be32b3c327b84c",
     "locked": true,
     "points": 1.25,
     "schema_version": 3,
     "solution": false
    }
   },
   "outputs": [],
   "source": [
    "# [1.25 points] Part a. Negative test case 5.\n",
    "# Omitted from student's version of notebook.\n"
   ]
  },
  {
   "cell_type": "code",
   "execution_count": 18,
   "metadata": {
    "deletable": false,
    "editable": false,
    "nbgrader": {
     "cell_type": "code",
     "checksum": "188a9abf044b7aee90b4d0bcb05db140",
     "grade": true,
     "grade_id": "cell-a8fe54ff1ec11ae4",
     "locked": true,
     "points": 1.25,
     "schema_version": 3,
     "solution": false
    }
   },
   "outputs": [],
   "source": [
    "# [1.25 points] Part (b) Positive test case 3.\n",
    "# Omitted from student's version of notebook.\n"
   ]
  },
  {
   "cell_type": "code",
   "execution_count": 19,
   "metadata": {
    "deletable": false,
    "editable": false,
    "nbgrader": {
     "cell_type": "code",
     "checksum": "fb9b9c1221f7e4ac3216b2b9aaedc49b",
     "grade": true,
     "grade_id": "cell-e014a381834c17dc",
     "locked": true,
     "points": 1.25,
     "schema_version": 3,
     "solution": false
    }
   },
   "outputs": [],
   "source": [
    "# [1.25 points] Part (b) Positive test case 4.\n",
    "# Omitted from student's version of notebook.\n"
   ]
  },
  {
   "cell_type": "code",
   "execution_count": 20,
   "metadata": {
    "deletable": false,
    "editable": false,
    "nbgrader": {
     "cell_type": "code",
     "checksum": "6e2df8a7f050acf54751c39ac4ee5f34",
     "grade": true,
     "grade_id": "cell-eb3472e45856778a",
     "locked": true,
     "points": 1.25,
     "schema_version": 3,
     "solution": false
    }
   },
   "outputs": [],
   "source": [
    "# [1.25 points] Part b. Positive test case 5.\n",
    "# Omitted from student's version of notebook.\n"
   ]
  },
  {
   "cell_type": "code",
   "execution_count": 21,
   "metadata": {
    "deletable": false,
    "editable": false,
    "nbgrader": {
     "cell_type": "code",
     "checksum": "334f640c3926883acd81b2eccd636692",
     "grade": true,
     "grade_id": "cell-b45d5b5639f7228c",
     "locked": true,
     "points": 1.25,
     "schema_version": 3,
     "solution": false
    }
   },
   "outputs": [],
   "source": [
    "# [1.25 points] Part (b) Negative test case 3.\n",
    "# Omitted from student's version of notebook.\n"
   ]
  },
  {
   "cell_type": "code",
   "execution_count": 22,
   "metadata": {
    "deletable": false,
    "editable": false,
    "nbgrader": {
     "cell_type": "code",
     "checksum": "f5994a82eb1f3a92a875fe738a79c407",
     "grade": true,
     "grade_id": "cell-3dd57ac1fba4f7ea",
     "locked": true,
     "points": 1.25,
     "schema_version": 3,
     "solution": false
    }
   },
   "outputs": [],
   "source": [
    "# [1.25 points] Part (b) Negative test case 4.\n",
    "# Omitted from student's version of notebook.\n"
   ]
  },
  {
   "cell_type": "code",
   "execution_count": 23,
   "metadata": {
    "deletable": false,
    "editable": false,
    "nbgrader": {
     "cell_type": "code",
     "checksum": "e82a039e88a70a5115528507fab1875e",
     "grade": true,
     "grade_id": "cell-cf5934ced43c5e8e",
     "locked": true,
     "points": 1.25,
     "schema_version": 3,
     "solution": false
    }
   },
   "outputs": [],
   "source": [
    "# [1.25 points] Part (b) Negative test case 5.\n",
    "# Omitted from student's version of notebook.\n"
   ]
  },
  {
   "cell_type": "code",
   "execution_count": null,
   "metadata": {},
   "outputs": [],
   "source": []
  }
 ],
 "metadata": {
  "kernelspec": {
   "display_name": "Python 3",
   "language": "python",
   "name": "python3"
  },
  "language_info": {
   "codemirror_mode": {
    "name": "ipython",
    "version": 3
   },
   "file_extension": ".py",
   "mimetype": "text/x-python",
   "name": "python",
   "nbconvert_exporter": "python",
   "pygments_lexer": "ipython3",
   "version": "3.7.6"
  }
 },
 "nbformat": 4,
 "nbformat_minor": 2
}
