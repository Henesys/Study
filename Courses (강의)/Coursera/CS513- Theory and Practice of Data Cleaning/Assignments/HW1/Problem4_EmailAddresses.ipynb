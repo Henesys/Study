{
 "cells": [
  {
   "cell_type": "markdown",
   "metadata": {
    "deletable": false,
    "editable": false,
    "nbgrader": {
     "cell_type": "markdown",
     "checksum": "03fc5552596be18806f5f65fa2926501",
     "grade": false,
     "grade_id": "cell-f26dfa4a80c90478",
     "locked": true,
     "schema_version": 3,
     "solution": false
    }
   },
   "source": [
    "# About Test Cases and Grading\n",
    "* You have to write one regex, so this problem is worth 12.5 points total.\n",
    "\n",
    "\n",
    "# Regex to match Email Addresses\n",
    "\n",
    "Develop a regular expression that matches email addresses. For our purposes, an email address consists of a simplified local-part, followed by the at-sign ‘@’, and a case insensitive [domain](https://en.wikipedia.org/wiki/Email_address#Domain), which has parts (consisting of letters and optionally digits or a dash ‘-’) that are separated by a dot ‘.’ and where the last part should have at least two letters. The simplified local-part (similar to but different from the one described [here](https://en.wikipedia.org/wiki/Email_address#Local-part)) consists of one or more pieces, separated by a dot ‘.’, and where each piece consists of one or more alphanumeric characters, a dash ‘-’, an underscore ‘_’, a percent sign ‘%’, or a plus ‘+’."
   ]
  },
  {
   "cell_type": "code",
   "execution_count": 33,
   "metadata": {
    "deletable": false,
    "editable": false,
    "nbgrader": {
     "cell_type": "code",
     "checksum": "d118ffde4c8fd72c7caff195a59123f6",
     "grade": false,
     "grade_id": "cell-901b455cc3381387",
     "locked": true,
     "schema_version": 3,
     "solution": false
    }
   },
   "outputs": [],
   "source": [
    "import re\n",
    "from lib.regex.regex_test import test_positive, test_negative"
   ]
  },
  {
   "cell_type": "markdown",
   "metadata": {
    "deletable": false,
    "editable": false,
    "nbgrader": {
     "cell_type": "markdown",
     "checksum": "76ecf550eb9a7e4ade3205739865436e",
     "grade": false,
     "grade_id": "cell-ec9085c5dd7cb1b2",
     "locked": true,
     "schema_version": 3,
     "solution": false
    }
   },
   "source": [
    "### [12.5 points]"
   ]
  },
  {
   "cell_type": "code",
   "execution_count": 40,
   "metadata": {
    "deletable": false,
    "nbgrader": {
     "cell_type": "code",
     "checksum": "24b6dbb413f48e9e8cb0ad02854c1711",
     "grade": false,
     "grade_id": "cell-c0086d1ff8149b6d",
     "locked": false,
     "schema_version": 3,
     "solution": true
    }
   },
   "outputs": [],
   "source": [
    "# Modify your regex below\n",
    "\n",
    "# email_regex = r'^([A-Z0-9._%+-]+\\.)*[A-Z0-9._%+-]*@[\\da-z\\-]+(\\.[a-z]{2,})+$'\n",
    "\n",
    "# email_regex = r'^([A-Z0-9._%+-]+(\\.[A-Z0-9._%+-]+)*)@[\\da-z\\-]+(\\.[a-z]{2,})+$'\n",
    "\n",
    "# email_regex = r'\\A[A-Z0-9_!#$%&'*+/=?`{|}~^-]+(?:\\.[A-Z0-9_!#$%&'*+/=?`{|}~^-]+)*@[A-Z0-9-]+(?:\\.[A-Z0-9-]+)*\\Z$'\n",
    "                                                    \n",
    "email_regex = r'((\\w+[-_%+]?)|(\\w+[-_%+]?\\.\\w\\w+))+@\\w+\\.\\w\\w+'"
   ]
  },
  {
   "cell_type": "code",
   "execution_count": 41,
   "metadata": {
    "deletable": false,
    "editable": false,
    "nbgrader": {
     "cell_type": "code",
     "checksum": "c02ace95f8e345e57e0f7569dc1765c2",
     "grade": true,
     "grade_id": "cell-3e5560fd043334f1",
     "locked": true,
     "points": 1.25,
     "schema_version": 3,
     "solution": false
    }
   },
   "outputs": [
    {
     "name": "stdout",
     "output_type": "stream",
     "text": [
      "Test passed.\n"
     ]
    }
   ],
   "source": [
    "# [1.25 points] Positive test case 1.\n",
    "positive_test_case = r'me@example.com'\n",
    "\n",
    "test_positive(email_regex, positive_test_case, ignore_case=True)\n",
    "del positive_test_case"
   ]
  },
  {
   "cell_type": "code",
   "execution_count": 42,
   "metadata": {
    "deletable": false,
    "editable": false,
    "nbgrader": {
     "cell_type": "code",
     "checksum": "c423370b90f8c051ff04ee36a54a67a9",
     "grade": true,
     "grade_id": "cell-3d14f886d26adad2",
     "locked": true,
     "points": 1.25,
     "schema_version": 3,
     "solution": false
    }
   },
   "outputs": [
    {
     "name": "stdout",
     "output_type": "stream",
     "text": [
      "Test passed.\n"
     ]
    }
   ],
   "source": [
    "# [1.25 points] Positive test case 2.\n",
    "positive_test_case = r'more.with+symbol@foo.tv'\n",
    "\n",
    "test_positive(email_regex, positive_test_case, ignore_case=True)\n",
    "del positive_test_case"
   ]
  },
  {
   "cell_type": "code",
   "execution_count": 43,
   "metadata": {
    "deletable": false,
    "editable": false,
    "nbgrader": {
     "cell_type": "code",
     "checksum": "24683886cc630830e569e6ae303d2053",
     "grade": true,
     "grade_id": "cell-96c0a18166d76bd9",
     "locked": true,
     "points": 1.25,
     "schema_version": 3,
     "solution": false
    }
   },
   "outputs": [
    {
     "name": "stdout",
     "output_type": "stream",
     "text": [
      "Test passed.\n"
     ]
    }
   ],
   "source": [
    "# [1.25 points] Negative test case 1.\n",
    "negative_test_case = r'john..doe@example.com'\n",
    "\n",
    "test_negative(email_regex, negative_test_case, ignore_case=True)\n",
    "del negative_test_case"
   ]
  },
  {
   "cell_type": "code",
   "execution_count": 44,
   "metadata": {
    "deletable": false,
    "editable": false,
    "nbgrader": {
     "cell_type": "code",
     "checksum": "c27fe9d18ca412b4f0f9d840effe2110",
     "grade": true,
     "grade_id": "cell-cf81f0591c5b3f74",
     "locked": true,
     "points": 1.25,
     "schema_version": 3,
     "solution": false
    }
   },
   "outputs": [
    {
     "name": "stdout",
     "output_type": "stream",
     "text": [
      "Test passed.\n"
     ]
    }
   ],
   "source": [
    "# [1.25 points] Negative test case 2.\n",
    "negative_test_case = r'john.@example.com'\n",
    "\n",
    "test_negative(email_regex, negative_test_case, ignore_case=True)\n",
    "del negative_test_case"
   ]
  },
  {
   "cell_type": "markdown",
   "metadata": {
    "deletable": false,
    "editable": false,
    "nbgrader": {
     "cell_type": "markdown",
     "checksum": "5db065b9f9d2f5ab05f154acb28bc790",
     "grade": false,
     "grade_id": "cell-5e472347f7018f44",
     "locked": true,
     "schema_version": 3,
     "solution": false
    }
   },
   "source": [
    "### Hidden test cases.\n",
    "Rest of the notebook contains hidden test cases. These test cases will be omitted from student's version of the notebook. Following cells will always pass for students and will only be evaluated after submission."
   ]
  },
  {
   "cell_type": "code",
   "execution_count": 45,
   "metadata": {
    "deletable": false,
    "editable": false,
    "nbgrader": {
     "cell_type": "code",
     "checksum": "75c1fa9c42b2bf7d31382b0007df5e4c",
     "grade": true,
     "grade_id": "cell-3c0042640d255b2e",
     "locked": true,
     "points": 1.25,
     "schema_version": 3,
     "solution": false
    }
   },
   "outputs": [],
   "source": [
    "# [1.25 points] Positive test case 3.\n",
    "# Omitted from student's version of notebook.\n"
   ]
  },
  {
   "cell_type": "code",
   "execution_count": 46,
   "metadata": {
    "deletable": false,
    "editable": false,
    "nbgrader": {
     "cell_type": "code",
     "checksum": "c57c5726401319ae93abaabf940f0025",
     "grade": true,
     "grade_id": "cell-5f4bebc160a27193",
     "locked": true,
     "points": 1.25,
     "schema_version": 3,
     "solution": false
    }
   },
   "outputs": [],
   "source": [
    "# [1.25 points] Positive test case 4.\n",
    "# Omitted from student's version of notebook.\n"
   ]
  },
  {
   "cell_type": "code",
   "execution_count": 47,
   "metadata": {
    "deletable": false,
    "editable": false,
    "nbgrader": {
     "cell_type": "code",
     "checksum": "92a0bf7008339ad5ea8a01079f373c6f",
     "grade": true,
     "grade_id": "cell-cab18548725d5892",
     "locked": true,
     "points": 1.25,
     "schema_version": 3,
     "solution": false
    }
   },
   "outputs": [],
   "source": [
    "# [1.25 points] Positive test case 5.\n",
    "# Omitted from student's version of notebook.\n"
   ]
  },
  {
   "cell_type": "code",
   "execution_count": 48,
   "metadata": {
    "deletable": false,
    "editable": false,
    "nbgrader": {
     "cell_type": "code",
     "checksum": "f10d92ecd65e76d7bcf42480445e279c",
     "grade": true,
     "grade_id": "cell-a9ab642a58f47af1",
     "locked": true,
     "points": 1.25,
     "schema_version": 3,
     "solution": false
    }
   },
   "outputs": [],
   "source": [
    "# [1.25 points] Negative test case 3.\n",
    "# Omitted from student's version of notebook.\n"
   ]
  },
  {
   "cell_type": "code",
   "execution_count": 49,
   "metadata": {
    "deletable": false,
    "editable": false,
    "nbgrader": {
     "cell_type": "code",
     "checksum": "4767d0355c1e3391a1a87440ebc5a78f",
     "grade": true,
     "grade_id": "cell-56780119e214a1d0",
     "locked": true,
     "points": 1.25,
     "schema_version": 3,
     "solution": false
    }
   },
   "outputs": [],
   "source": [
    "# [1.25 points] Negative test case 4.\n",
    "# Omitted from student's version of notebook.\n"
   ]
  },
  {
   "cell_type": "code",
   "execution_count": 50,
   "metadata": {
    "deletable": false,
    "editable": false,
    "nbgrader": {
     "cell_type": "code",
     "checksum": "9f9a330371d5c669c6e9bb3bccd4cd78",
     "grade": true,
     "grade_id": "cell-a1be32b3c327b84c",
     "locked": true,
     "points": 1.25,
     "schema_version": 3,
     "solution": false
    }
   },
   "outputs": [],
   "source": [
    "# [1.25 points] Negative test case 5.\n",
    "# Omitted from student's version of notebook.\n"
   ]
  },
  {
   "cell_type": "code",
   "execution_count": null,
   "metadata": {},
   "outputs": [],
   "source": []
  }
 ],
 "metadata": {
  "kernelspec": {
   "display_name": "Python 3",
   "language": "python",
   "name": "python3"
  },
  "language_info": {
   "codemirror_mode": {
    "name": "ipython",
    "version": 3
   },
   "file_extension": ".py",
   "mimetype": "text/x-python",
   "name": "python",
   "nbconvert_exporter": "python",
   "pygments_lexer": "ipython3",
   "version": "3.7.6"
  }
 },
 "nbformat": 4,
 "nbformat_minor": 2
}
