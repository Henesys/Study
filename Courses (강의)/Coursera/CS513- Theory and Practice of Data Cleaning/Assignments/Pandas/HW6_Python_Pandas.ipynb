{
 "cells": [
  {
   "cell_type": "markdown",
   "metadata": {
    "deletable": false,
    "editable": false,
    "id": "driving-former",
    "nbgrader": {
     "cell_type": "markdown",
     "checksum": "cbdddb9054fc92ebb5eef5d679e2892c",
     "grade": false,
     "grade_id": "cell-e083183906470759",
     "locked": true,
     "schema_version": 3,
     "solution": false,
     "task": false
    }
   },
   "source": [
    "# Assignment #6: Data Cleaning with Python Pandas\n",
    "Hello everyone, welcome to the \"Python & pandas\" assignment!\n",
    "\n",
    "In this notebook, you will do the following:\n",
    "* Section 0: Load a dataset and get an overview\n",
    "* Section 1: Prepare a dataset using general operations\n",
    "* Section 2: Detect outliers\n",
    "* Section 3: Detect and remove errors (datetime and text strings)\n",
    "* Section 4: Deal with missing values\n",
    "* Section 5: Discovery of integrity constraint violations using pandas \n",
    "\n",
    "**External reference that might be useful**:\n",
    "- Mini-Tutorial: [10 minutes to Pandas](https://pandas.pydata.org/docs/user_guide/10min.html)\n",
    "\n",
    "\n",
    "<span style=\"color:red\">**<big>NOTE**: </span>\n",
    "    \n",
    "- <span style=\"color:red\"><big>You should remove the quotes (\"YOUR CODE HERE\") when working with the code. </span>\n",
    "    \n",
    "- <span style=\"color:red\"><big>Please execute the notebook cells IN ORDER and DO NOT SKIP STEPS </span>\n",
    "\n",
    "\n",
    "    "
   ]
  },
  {
   "cell_type": "code",
   "execution_count": 1,
   "metadata": {
    "deletable": false,
    "editable": false,
    "id": "tribal-sterling",
    "nbgrader": {
     "cell_type": "code",
     "checksum": "888f590e59ed3a70d8dc5cfdc19da5bb",
     "grade": false,
     "grade_id": "cell-49b1f9dc30afb992",
     "locked": true,
     "schema_version": 3,
     "solution": false,
     "task": false
    }
   },
   "outputs": [],
   "source": [
    "import pandas as pd\n",
    "import numpy as np\n",
    "import matplotlib.pyplot as plt\n",
    "import seaborn as sns\n",
    "plt.style.use('seaborn')"
   ]
  },
  {
   "cell_type": "markdown",
   "metadata": {
    "deletable": false,
    "editable": false,
    "id": "lKbMdfFEa0Sk",
    "nbgrader": {
     "cell_type": "markdown",
     "checksum": "2dea5a01a29711299ccccfdc2d1e6a4a",
     "grade": false,
     "grade_id": "cell-62e9e8e05c953b18",
     "locked": true,
     "schema_version": 3,
     "solution": false,
     "task": false
    }
   },
   "source": [
    "### Section 0: Load the Dataset \n",
    "**Dataset Description**:\n",
    "The original dataset is derived from New York City Airbnb Open Data [source](https://www.kaggle.com/datasets/dgomonov/new-york-city-airbnb-open-data). \n",
    "\n",
    "**Context**:\n",
    "Since 2008, guests and hosts have used Airbnb to expand on traveling possibilities and present more unique, personalized way of experiencing the world. This dataset describes the listing activity and metrics in NYC, NY for 2019.\n",
    "\n",
    "**Content**:\n",
    "This data file includes all needed information to find out more about hosts, geographical availability, necessary metrics to make predictions and draw conclusions.\n",
    "\n",
    "**Acknowledgements**:\n",
    "This public dataset is part of Airbnb, and the original source can be found on this [website](http://insideairbnb.com/)."
   ]
  },
  {
   "cell_type": "code",
   "execution_count": 2,
   "metadata": {
    "deletable": false,
    "editable": false,
    "id": "PMtz_N7Zazch",
    "nbgrader": {
     "cell_type": "code",
     "checksum": "9954518a34edf60cbfed2f8004e68ea8",
     "grade": false,
     "grade_id": "cell-60ca0cc2e0a3ddb9",
     "locked": true,
     "schema_version": 3,
     "solution": false,
     "task": false
    }
   },
   "outputs": [],
   "source": [
    "# Load a CSV file as a data frame (df) using pandas\n",
    "# Parameters: filepath_or_buffer; use separator: default \",\" \n",
    "df = pd.read_csv('NYC-Airbnb-Visible-Dirty.csv', sep=',')"
   ]
  },
  {
   "cell_type": "code",
   "execution_count": 3,
   "metadata": {
    "colab": {
     "base_uri": "https://localhost:8080/",
     "height": 461
    },
    "deletable": false,
    "editable": false,
    "id": "QJhqnw5Na76r",
    "nbgrader": {
     "cell_type": "code",
     "checksum": "879539f5bcac595254e5c749cafd7744",
     "grade": false,
     "grade_id": "cell-5655bc12eb34a99c",
     "locked": true,
     "schema_version": 3,
     "solution": false,
     "task": false
    },
    "outputId": "7ab018f2-3340-4129-8c83-84ef2b09e554"
   },
   "outputs": [
    {
     "data": {
      "text/html": [
       "<div>\n",
       "<style scoped>\n",
       "    .dataframe tbody tr th:only-of-type {\n",
       "        vertical-align: middle;\n",
       "    }\n",
       "\n",
       "    .dataframe tbody tr th {\n",
       "        vertical-align: top;\n",
       "    }\n",
       "\n",
       "    .dataframe thead th {\n",
       "        text-align: right;\n",
       "    }\n",
       "</style>\n",
       "<table border=\"1\" class=\"dataframe\">\n",
       "  <thead>\n",
       "    <tr style=\"text-align: right;\">\n",
       "      <th></th>\n",
       "      <th>id</th>\n",
       "      <th>name</th>\n",
       "      <th>host_id</th>\n",
       "      <th>host_name</th>\n",
       "      <th>neighbourhood_group</th>\n",
       "      <th>neighbourhood</th>\n",
       "      <th>latitude</th>\n",
       "      <th>longitude</th>\n",
       "      <th>room_type</th>\n",
       "      <th>price</th>\n",
       "      <th>minimum_nights</th>\n",
       "      <th>number_of_reviews</th>\n",
       "      <th>last_review</th>\n",
       "      <th>reviews_per_month</th>\n",
       "      <th>calculated_host_listings_count</th>\n",
       "      <th>availability_365</th>\n",
       "    </tr>\n",
       "  </thead>\n",
       "  <tbody>\n",
       "    <tr>\n",
       "      <th>0</th>\n",
       "      <td>2539</td>\n",
       "      <td>Clean &amp; quiet apt home by the park</td>\n",
       "      <td>2787</td>\n",
       "      <td>John</td>\n",
       "      <td>Brooklyn</td>\n",
       "      <td>Kensington</td>\n",
       "      <td>40.64749</td>\n",
       "      <td>-73.97237</td>\n",
       "      <td>Private room</td>\n",
       "      <td>149</td>\n",
       "      <td>1</td>\n",
       "      <td>9</td>\n",
       "      <td>10/19/18</td>\n",
       "      <td>0.21</td>\n",
       "      <td>6</td>\n",
       "      <td>365</td>\n",
       "    </tr>\n",
       "    <tr>\n",
       "      <th>1</th>\n",
       "      <td>3647</td>\n",
       "      <td>THE VILLAGE OF HARLEM....NEW YORK !</td>\n",
       "      <td>4632</td>\n",
       "      <td>Elisabeth</td>\n",
       "      <td>Manhattann</td>\n",
       "      <td>Harlem</td>\n",
       "      <td>40.80902</td>\n",
       "      <td>-73.94190</td>\n",
       "      <td>Private room</td>\n",
       "      <td>150</td>\n",
       "      <td>3</td>\n",
       "      <td></td>\n",
       "      <td>NaN</td>\n",
       "      <td>NaN</td>\n",
       "      <td>1</td>\n",
       "      <td>365</td>\n",
       "    </tr>\n",
       "    <tr>\n",
       "      <th>2</th>\n",
       "      <td>5121</td>\n",
       "      <td>BlissArtsSpace!</td>\n",
       "      <td>7356</td>\n",
       "      <td>Garon</td>\n",
       "      <td>Brooklyn</td>\n",
       "      <td>Bedford-Stuyvesant</td>\n",
       "      <td>40.68688</td>\n",
       "      <td>-73.95596</td>\n",
       "      <td>Private room</td>\n",
       "      <td>60</td>\n",
       "      <td>45</td>\n",
       "      <td>49</td>\n",
       "      <td>10/5/17</td>\n",
       "      <td>0.40</td>\n",
       "      <td>1</td>\n",
       "      <td>0</td>\n",
       "    </tr>\n",
       "    <tr>\n",
       "      <th>3</th>\n",
       "      <td>5178</td>\n",
       "      <td>Large Furnished Room Near B'way</td>\n",
       "      <td>8967</td>\n",
       "      <td>Shunichi</td>\n",
       "      <td>Mannhattan</td>\n",
       "      <td>Hell's Kitchen</td>\n",
       "      <td>40.76489</td>\n",
       "      <td>-73.98493</td>\n",
       "      <td>Private room</td>\n",
       "      <td>79</td>\n",
       "      <td>2</td>\n",
       "      <td>430</td>\n",
       "      <td>6/24/19</td>\n",
       "      <td>3.47</td>\n",
       "      <td>1</td>\n",
       "      <td>220</td>\n",
       "    </tr>\n",
       "    <tr>\n",
       "      <th>4</th>\n",
       "      <td>5203</td>\n",
       "      <td>Cozy Clean Guest Room - Family Apt</td>\n",
       "      <td>7490</td>\n",
       "      <td>MaryEllen</td>\n",
       "      <td>Mannhattan</td>\n",
       "      <td>Upper West Side</td>\n",
       "      <td>40.80178</td>\n",
       "      <td>-73.96723</td>\n",
       "      <td>Private room</td>\n",
       "      <td>79</td>\n",
       "      <td>2</td>\n",
       "      <td>118</td>\n",
       "      <td>2/30/2017</td>\n",
       "      <td>0.99</td>\n",
       "      <td>1</td>\n",
       "      <td>0</td>\n",
       "    </tr>\n",
       "  </tbody>\n",
       "</table>\n",
       "</div>"
      ],
      "text/plain": [
       "     id                                  name  host_id  host_name  \\\n",
       "0  2539    Clean & quiet apt home by the park     2787       John   \n",
       "1  3647   THE VILLAGE OF HARLEM....NEW YORK !     4632  Elisabeth   \n",
       "2  5121                       BlissArtsSpace!     7356      Garon   \n",
       "3  5178      Large Furnished Room Near B'way      8967   Shunichi   \n",
       "4  5203    Cozy Clean Guest Room - Family Apt     7490  MaryEllen   \n",
       "\n",
       "  neighbourhood_group       neighbourhood  latitude  longitude     room_type  \\\n",
       "0            Brooklyn          Kensington  40.64749  -73.97237  Private room   \n",
       "1          Manhattann              Harlem  40.80902  -73.94190  Private room   \n",
       "2            Brooklyn  Bedford-Stuyvesant  40.68688  -73.95596  Private room   \n",
       "3          Mannhattan      Hell's Kitchen  40.76489  -73.98493  Private room   \n",
       "4          Mannhattan     Upper West Side  40.80178  -73.96723  Private room   \n",
       "\n",
       "   price  minimum_nights number_of_reviews last_review  reviews_per_month  \\\n",
       "0    149               1                 9    10/19/18               0.21   \n",
       "1    150               3                           NaN                NaN   \n",
       "2     60              45                49     10/5/17               0.40   \n",
       "3     79               2               430     6/24/19               3.47   \n",
       "4     79               2               118   2/30/2017               0.99   \n",
       "\n",
       "   calculated_host_listings_count  availability_365  \n",
       "0                               6               365  \n",
       "1                               1               365  \n",
       "2                               1                 0  \n",
       "3                               1               220  \n",
       "4                               1                 0  "
      ]
     },
     "execution_count": 3,
     "metadata": {},
     "output_type": "execute_result"
    }
   ],
   "source": [
    "# Use the head() function to see the table schema and the first 5 rows:\n",
    "df.head()"
   ]
  },
  {
   "cell_type": "code",
   "execution_count": 4,
   "metadata": {
    "deletable": false,
    "editable": false,
    "nbgrader": {
     "cell_type": "code",
     "checksum": "ed26b766c1cd0620371e51821cb56b50",
     "grade": false,
     "grade_id": "cell-49973938491ca955",
     "locked": true,
     "schema_version": 3,
     "solution": false,
     "task": false
    }
   },
   "outputs": [
    {
     "data": {
      "text/plain": [
       "0        Private room\n",
       "1        Private room\n",
       "2        Private room\n",
       "3        Private room\n",
       "4        Private room\n",
       "             ...     \n",
       "22321    Private room\n",
       "22322    Private room\n",
       "22323    Private room\n",
       "22324    Private room\n",
       "22325    Private room\n",
       "Name: room_type, Length: 22326, dtype: object"
      ]
     },
     "execution_count": 4,
     "metadata": {},
     "output_type": "execute_result"
    }
   ],
   "source": [
    "# Hey, look: This is how you call on a specific column room_type in a dataframe!\" \n",
    "# Note how you also learn how many rows there are ..\n",
    "df['room_type']"
   ]
  },
  {
   "cell_type": "code",
   "execution_count": 5,
   "metadata": {
    "colab": {
     "base_uri": "https://localhost:8080/"
    },
    "deletable": false,
    "editable": false,
    "id": "dNgmCRDEbkNm",
    "nbgrader": {
     "cell_type": "code",
     "checksum": "39c5071da33854b3d9b5ab8647cd2968",
     "grade": false,
     "grade_id": "cell-4a11df1d79922219",
     "locked": true,
     "schema_version": 3,
     "solution": false,
     "task": false
    },
    "outputId": "96879a2d-4704-4c06-cc46-e529f5d645e6"
   },
   "outputs": [
    {
     "data": {
      "text/plain": [
       "Bedford-Stuyvesant    2038\n",
       "                      1996\n",
       "Bushwick              1719\n",
       "Harlem                1573\n",
       "Crown Heights          780\n",
       "                      ... \n",
       "Prince's Bay             1\n",
       "Midland Beach            1\n",
       "Eltingville              1\n",
       "Arden Heights            1\n",
       "West Farms               1\n",
       "Name: neighbourhood, Length: 210, dtype: int64"
      ]
     },
     "execution_count": 5,
     "metadata": {},
     "output_type": "execute_result"
    }
   ],
   "source": [
    "# value_counts(): Return a Series containing counts of unique values. \n",
    "# value_counts(): https://pandas.pydata.org/docs/reference/api/pandas.Series.value_counts.html\n",
    "# This function is somewhat similar to \"Text Facet\" in OpenRefine\n",
    "df['neighbourhood'].value_counts()"
   ]
  },
  {
   "cell_type": "markdown",
   "metadata": {
    "deletable": false,
    "editable": false,
    "id": "f3FVp19s9dYA",
    "nbgrader": {
     "cell_type": "markdown",
     "checksum": "43ada179cf9e510c94a19c1ea2ca01e6",
     "grade": false,
     "grade_id": "cell-ce576dcf7e475044",
     "locked": true,
     "schema_version": 3,
     "solution": false,
     "task": false
    }
   },
   "source": [
    "### Section 1: Prepare Data with General Operations \n",
    "In this section, we will learn how to use Python functions to: \n",
    "1. trim leading and trailing whitespaces \n",
    "2. perform uppercase/lowercase conversions\n",
    "\n",
    "These general operations can be used to transform the data into a more consistent, canonical representation, in preparation for the actual process of deduplication; cf. *Koumarelas, I., Jiang, L., & Naumann, F. (2020), Data Preparation for Duplicate Detection.*\n",
    "\n",
    "\n"
   ]
  },
  {
   "cell_type": "markdown",
   "metadata": {
    "deletable": false,
    "editable": false,
    "id": "85l0ZBBAPSQj",
    "nbgrader": {
     "cell_type": "markdown",
     "checksum": "f95483e81c99f1776eda9de6bfc8e1bf",
     "grade": false,
     "grade_id": "cell-2749b635750df2f6",
     "locked": true,
     "schema_version": 3,
     "solution": false,
     "task": false
    }
   },
   "source": [
    "**1.1 Trim Leading and Trailing Whitespaces with function strip() : [Documentation](https://pandas.pydata.org/pandas-docs/version/1.2.4/reference/api/pandas.Series.str.strip.html)**\n",
    "\n",
    " ###### **[6 points] Question 1:** \n",
    "Create two new columns `name_trim` and `host_name_trim` by trimming leading and trailing whitespaces on column `name`, and `host_name`, respectively. Hint: use `strip()` from `str`. "
   ]
  },
  {
   "cell_type": "code",
   "execution_count": 6,
   "metadata": {
    "deletable": false,
    "id": "toOUSAsP9g4k",
    "nbgrader": {
     "cell_type": "code",
     "checksum": "378bd966c68f79b4cb2e3bbb0cc772e5",
     "grade": false,
     "grade_id": "cell-35aa09ecaa34ae0d",
     "locked": false,
     "schema_version": 3,
     "solution": true,
     "task": false
    }
   },
   "outputs": [],
   "source": [
    "def q1(df):\n",
    "    df['name_trim'] = df[\"name\"].str.strip()\n",
    "    df['host_name_trim'] = df[\"host_name\"].str.strip()"
   ]
  },
  {
   "cell_type": "code",
   "execution_count": 7,
   "metadata": {
    "deletable": false,
    "editable": false,
    "nbgrader": {
     "cell_type": "code",
     "checksum": "da335cdeae3eb3fc552c8b871119fb4c",
     "grade": false,
     "grade_id": "cell-d660ec581268414f",
     "locked": true,
     "schema_version": 3,
     "solution": false,
     "task": false
    }
   },
   "outputs": [
    {
     "data": {
      "text/html": [
       "<div>\n",
       "<style scoped>\n",
       "    .dataframe tbody tr th:only-of-type {\n",
       "        vertical-align: middle;\n",
       "    }\n",
       "\n",
       "    .dataframe tbody tr th {\n",
       "        vertical-align: top;\n",
       "    }\n",
       "\n",
       "    .dataframe thead th {\n",
       "        text-align: right;\n",
       "    }\n",
       "</style>\n",
       "<table border=\"1\" class=\"dataframe\">\n",
       "  <thead>\n",
       "    <tr style=\"text-align: right;\">\n",
       "      <th></th>\n",
       "      <th>name_trim</th>\n",
       "      <th>name</th>\n",
       "      <th>host_name_trim</th>\n",
       "      <th>host_name</th>\n",
       "    </tr>\n",
       "  </thead>\n",
       "  <tbody>\n",
       "    <tr>\n",
       "      <th>0</th>\n",
       "      <td>Clean &amp; quiet apt home by the park</td>\n",
       "      <td>Clean &amp; quiet apt home by the park</td>\n",
       "      <td>John</td>\n",
       "      <td>John</td>\n",
       "    </tr>\n",
       "    <tr>\n",
       "      <th>1</th>\n",
       "      <td>THE VILLAGE OF HARLEM....NEW YORK !</td>\n",
       "      <td>THE VILLAGE OF HARLEM....NEW YORK !</td>\n",
       "      <td>Elisabeth</td>\n",
       "      <td>Elisabeth</td>\n",
       "    </tr>\n",
       "    <tr>\n",
       "      <th>2</th>\n",
       "      <td>BlissArtsSpace!</td>\n",
       "      <td>BlissArtsSpace!</td>\n",
       "      <td>Garon</td>\n",
       "      <td>Garon</td>\n",
       "    </tr>\n",
       "    <tr>\n",
       "      <th>3</th>\n",
       "      <td>Large Furnished Room Near B'way</td>\n",
       "      <td>Large Furnished Room Near B'way</td>\n",
       "      <td>Shunichi</td>\n",
       "      <td>Shunichi</td>\n",
       "    </tr>\n",
       "    <tr>\n",
       "      <th>4</th>\n",
       "      <td>Cozy Clean Guest Room - Family Apt</td>\n",
       "      <td>Cozy Clean Guest Room - Family Apt</td>\n",
       "      <td>MaryEllen</td>\n",
       "      <td>MaryEllen</td>\n",
       "    </tr>\n",
       "  </tbody>\n",
       "</table>\n",
       "</div>"
      ],
      "text/plain": [
       "                             name_trim                                  name  \\\n",
       "0   Clean & quiet apt home by the park    Clean & quiet apt home by the park   \n",
       "1  THE VILLAGE OF HARLEM....NEW YORK !   THE VILLAGE OF HARLEM....NEW YORK !   \n",
       "2                      BlissArtsSpace!                       BlissArtsSpace!   \n",
       "3      Large Furnished Room Near B'way      Large Furnished Room Near B'way    \n",
       "4   Cozy Clean Guest Room - Family Apt    Cozy Clean Guest Room - Family Apt   \n",
       "\n",
       "  host_name_trim  host_name  \n",
       "0           John       John  \n",
       "1      Elisabeth  Elisabeth  \n",
       "2          Garon      Garon  \n",
       "3       Shunichi   Shunichi  \n",
       "4      MaryEllen  MaryEllen  "
      ]
     },
     "execution_count": 7,
     "metadata": {},
     "output_type": "execute_result"
    }
   ],
   "source": [
    "# Self-Testing Time [no points assigned]: \n",
    "# This works as an instant feedback to check if the function q1() performs well\n",
    "# Create a new dataframe df_trim_test with four columns: `name_trim`, `name`, `host_name_trim`, and `host_name`\n",
    "q1(df)\n",
    "df_trim_test = df[\n",
    "                 ['name_trim', 'name', 'host_name_trim', 'host_name']\n",
    "    ]\n",
    "df_trim_test.head()"
   ]
  },
  {
   "cell_type": "code",
   "execution_count": 8,
   "metadata": {
    "deletable": false,
    "editable": false,
    "nbgrader": {
     "cell_type": "code",
     "checksum": "c9f46bacca8754d8aa3161cc16df86b6",
     "grade": true,
     "grade_id": "cell-b730d8ec784058c0",
     "locked": true,
     "points": 2,
     "schema_version": 3,
     "solution": false,
     "task": false
    }
   },
   "outputs": [
    {
     "name": "stdout",
     "output_type": "stream",
     "text": [
      "name_trim: test passed.\n",
      "host_name_trim: test passed.\n"
     ]
    }
   ],
   "source": [
    "# [2 points] Visible Test \n",
    "q1(df)\n",
    "if list(df['name_trim']) == list(pd.read_csv(\"expected_output/q1.csv\")[\"name_trim\"]):\n",
    "    print('name_trim: test passed.')\n",
    "else:\n",
    "    raise ValueError('name_trim: test failed.')\n",
    "\n",
    "if list(df['host_name_trim']) == list(pd.read_csv(\"expected_output/q1.csv\")[\"host_name_trim\"]):\n",
    "    print(\"host_name_trim: test passed.\")\n",
    "else:\n",
    "    raise ValueError(\"host_name_trim: test failed.\")"
   ]
  },
  {
   "cell_type": "code",
   "execution_count": 9,
   "metadata": {
    "deletable": false,
    "editable": false,
    "id": "CMIOJu03pX_8",
    "nbgrader": {
     "cell_type": "code",
     "checksum": "41313ebac287eb69386e16ff9c40728f",
     "grade": true,
     "grade_id": "cell-f3f844c44fbe9c68",
     "locked": true,
     "points": 4,
     "schema_version": 3,
     "solution": false,
     "task": false
    }
   },
   "outputs": [],
   "source": [
    "# [4 points] Hidden test for q1 "
   ]
  },
  {
   "cell_type": "markdown",
   "metadata": {
    "deletable": false,
    "editable": false,
    "id": "DwwucVPzQ3IK",
    "nbgrader": {
     "cell_type": "markdown",
     "checksum": "876cab06f83405fd777c99e8b197ec46",
     "grade": false,
     "grade_id": "cell-4139e501aaee9d6e",
     "locked": true,
     "schema_version": 3,
     "solution": false,
     "task": false
    }
   },
   "source": [
    "**1.2  Uppercase values with function upper(): [Documentation](https://pandas.pydata.org/pandas-docs/stable/reference/api/pandas.Series.str.upper.html).**\n",
    "\n",
    "Data quality issues analysis: The values in column `name` vary in their format, i.e. some values are uppercase only, some are lowercase only, some values are mixed uppercase and lowercase.\n",
    "\n",
    " ###### **[2 points] Question 2:** \n",
    " Create a new column `name_upper` by applying function `upper()` on column `name_trim`"
   ]
  },
  {
   "cell_type": "code",
   "execution_count": 10,
   "metadata": {
    "deletable": false,
    "id": "iRGODuWROVDT",
    "nbgrader": {
     "cell_type": "code",
     "checksum": "a9e00ff7c200b9dd96a9814a33a3e35a",
     "grade": false,
     "grade_id": "cell-7469716f95e58358",
     "locked": false,
     "schema_version": 3,
     "solution": true,
     "task": false
    }
   },
   "outputs": [],
   "source": [
    "def q2(df):\n",
    "    df['name_upper'] = df[\"name_trim\"].str.upper()"
   ]
  },
  {
   "cell_type": "code",
   "execution_count": 11,
   "metadata": {
    "deletable": false,
    "editable": false,
    "nbgrader": {
     "cell_type": "code",
     "checksum": "181f43246e28e7fd67af3bda9a12f493",
     "grade": false,
     "grade_id": "cell-b6ddee5d60631e1f",
     "locked": true,
     "schema_version": 3,
     "solution": false,
     "task": false
    }
   },
   "outputs": [
    {
     "data": {
      "text/html": [
       "<div>\n",
       "<style scoped>\n",
       "    .dataframe tbody tr th:only-of-type {\n",
       "        vertical-align: middle;\n",
       "    }\n",
       "\n",
       "    .dataframe tbody tr th {\n",
       "        vertical-align: top;\n",
       "    }\n",
       "\n",
       "    .dataframe thead th {\n",
       "        text-align: right;\n",
       "    }\n",
       "</style>\n",
       "<table border=\"1\" class=\"dataframe\">\n",
       "  <thead>\n",
       "    <tr style=\"text-align: right;\">\n",
       "      <th></th>\n",
       "      <th>name_trim</th>\n",
       "      <th>name_upper</th>\n",
       "    </tr>\n",
       "  </thead>\n",
       "  <tbody>\n",
       "    <tr>\n",
       "      <th>0</th>\n",
       "      <td>Clean &amp; quiet apt home by the park</td>\n",
       "      <td>CLEAN &amp; QUIET APT HOME BY THE PARK</td>\n",
       "    </tr>\n",
       "    <tr>\n",
       "      <th>1</th>\n",
       "      <td>THE VILLAGE OF HARLEM....NEW YORK !</td>\n",
       "      <td>THE VILLAGE OF HARLEM....NEW YORK !</td>\n",
       "    </tr>\n",
       "    <tr>\n",
       "      <th>2</th>\n",
       "      <td>BlissArtsSpace!</td>\n",
       "      <td>BLISSARTSSPACE!</td>\n",
       "    </tr>\n",
       "    <tr>\n",
       "      <th>3</th>\n",
       "      <td>Large Furnished Room Near B'way</td>\n",
       "      <td>LARGE FURNISHED ROOM NEAR B'WAY</td>\n",
       "    </tr>\n",
       "    <tr>\n",
       "      <th>4</th>\n",
       "      <td>Cozy Clean Guest Room - Family Apt</td>\n",
       "      <td>COZY CLEAN GUEST ROOM - FAMILY APT</td>\n",
       "    </tr>\n",
       "  </tbody>\n",
       "</table>\n",
       "</div>"
      ],
      "text/plain": [
       "                             name_trim                           name_upper\n",
       "0   Clean & quiet apt home by the park   CLEAN & QUIET APT HOME BY THE PARK\n",
       "1  THE VILLAGE OF HARLEM....NEW YORK !  THE VILLAGE OF HARLEM....NEW YORK !\n",
       "2                      BlissArtsSpace!                      BLISSARTSSPACE!\n",
       "3      Large Furnished Room Near B'way      LARGE FURNISHED ROOM NEAR B'WAY\n",
       "4   Cozy Clean Guest Room - Family Apt   COZY CLEAN GUEST ROOM - FAMILY APT"
      ]
     },
     "execution_count": 11,
     "metadata": {},
     "output_type": "execute_result"
    }
   ],
   "source": [
    "# Self-Testing Time [no points assigned]: \n",
    "# This works as an instant feedback to check if the function q2() performs well\n",
    "# Create a new dataframe df_upper_test with two columns: `name_trim` and `name_upper`\n",
    "q2(df)\n",
    "df_upper_test = df[\n",
    "                 ['name_trim', 'name_upper']\n",
    "    ]\n",
    "df_upper_test.head()"
   ]
  },
  {
   "cell_type": "code",
   "execution_count": 12,
   "metadata": {
    "deletable": false,
    "editable": false,
    "nbgrader": {
     "cell_type": "code",
     "checksum": "39e4b53390b2fb31482dc6a2856157ea",
     "grade": true,
     "grade_id": "cell-f5bd3dd47966becb",
     "locked": true,
     "points": 2,
     "schema_version": 3,
     "solution": false,
     "task": false
    }
   },
   "outputs": [
    {
     "name": "stdout",
     "output_type": "stream",
     "text": [
      "name_upper: passed.\n"
     ]
    }
   ],
   "source": [
    "# [2 points] Visible Test\n",
    "q2(df)\n",
    "if list(df['name_upper']) == list(pd.read_csv(\"expected_output/q2.csv\")[\"name_upper\"]):\n",
    "    print('name_upper: passed.')\n",
    "else:\n",
    "    raise ValueError('name_upper: failed.')"
   ]
  },
  {
   "cell_type": "markdown",
   "metadata": {
    "deletable": false,
    "editable": false,
    "id": "blXlX67UMmXe",
    "nbgrader": {
     "cell_type": "markdown",
     "checksum": "331832ff467692bcc28d32dd0a5ee532",
     "grade": false,
     "grade_id": "cell-6d19eca3c5f73053",
     "locked": true,
     "schema_version": 3,
     "solution": false,
     "task": false
    }
   },
   "source": [
    "### Section 2: Outlier Detection\n",
    "- Let's first look at the data distribution of the values in column `price`.\n",
    "- We can see that approximately 99% of the values are below 162.5 (run the cells below and see how we compute 162.5). There are few data points that are very high and can be considered an outliers. Most machine learning models are heavily impacted by outliers, hence we often need to identify and deal with such outliers.\n",
    "- The following figure should help you understand outliers. It compares a normal distribution with a boxplot. A boxplot considers a point an outlier if it falls outside of the 1.5*interquantile range.\n",
    "\n",
    "<img src=\"https://upload.wikimedia.org/wikipedia/commons/thumb/1/1a/Boxplot_vs_PDF.svg/800px-Boxplot_vs_PDF.svg.png\" style=\"width:30%\">\n",
    "\n",
    "image source: wikipedia"
   ]
  },
  {
   "cell_type": "code",
   "execution_count": 13,
   "metadata": {
    "colab": {
     "base_uri": "https://localhost:8080/"
    },
    "deletable": false,
    "editable": false,
    "id": "bWtXImpaMmXg",
    "nbgrader": {
     "cell_type": "code",
     "checksum": "47ca095c46526460f43e7d3ae6e7c434",
     "grade": false,
     "grade_id": "cell-87ba7eeee8630fbf",
     "locked": true,
     "schema_version": 3,
     "solution": false,
     "task": false
    },
    "outputId": "1112dd6d-bf6c-4fd2-8532-04831583e8ae"
   },
   "outputs": [
    {
     "data": {
      "text/plain": [
       "count    22326.000000\n",
       "mean        89.780973\n",
       "std        160.205262\n",
       "min          0.000000\n",
       "25%         50.000000\n",
       "50%         70.000000\n",
       "75%         95.000000\n",
       "max      10000.000000\n",
       "Name: price, dtype: float64"
      ]
     },
     "execution_count": 13,
     "metadata": {},
     "output_type": "execute_result"
    }
   ],
   "source": [
    "df.price.describe()"
   ]
  },
  {
   "cell_type": "code",
   "execution_count": 14,
   "metadata": {
    "colab": {
     "base_uri": "https://localhost:8080/"
    },
    "deletable": false,
    "editable": false,
    "id": "aTB7_Fyu301E",
    "nbgrader": {
     "cell_type": "code",
     "checksum": "90bade80ae65b75ea6a2fc0e23a35c79",
     "grade": false,
     "grade_id": "cell-2e281d3ce4ed7fb3",
     "locked": true,
     "schema_version": 3,
     "solution": false,
     "task": false
    },
    "outputId": "49e6a2cd-1fe6-4fd9-9273-8cd9860b952a"
   },
   "outputs": [
    {
     "data": {
      "text/plain": [
       "162.5"
      ]
     },
     "execution_count": 14,
     "metadata": {},
     "output_type": "execute_result"
    }
   ],
   "source": [
    "# Just for your info: calculating Q3 + 1.5 x IQR\n",
    "95+1.5*(95-50)"
   ]
  },
  {
   "cell_type": "markdown",
   "metadata": {
    "deletable": false,
    "editable": false,
    "id": "XqEIyXny5DYq",
    "nbgrader": {
     "cell_type": "markdown",
     "checksum": "c9bab7a15bdb1b992b79e8283ae300bd",
     "grade": false,
     "grade_id": "cell-2d4676937ad3cbb0",
     "locked": true,
     "schema_version": 3,
     "solution": false,
     "task": false
    }
   },
   "source": [
    "**Explanation:**\n",
    "Values above 162.5 are considered outliers. Below 162.5, we have approximately 24.65*2+50 = 99.3 % of data. ([external reference](https://www.whatissixsigma.net/box-plot-diagram-to-identify-outliers/))"
   ]
  },
  {
   "cell_type": "code",
   "execution_count": 15,
   "metadata": {
    "colab": {
     "base_uri": "https://localhost:8080/",
     "height": 334
    },
    "deletable": false,
    "editable": false,
    "id": "d2Fsxg4RMmXg",
    "nbgrader": {
     "cell_type": "code",
     "checksum": "82999d9b35a658853ab0872a9b3366e7",
     "grade": false,
     "grade_id": "cell-eb8a2e374da852c3",
     "locked": true,
     "schema_version": 3,
     "solution": false,
     "task": false
    },
    "outputId": "24d71eff-762b-4894-dd61-4c49f1378585"
   },
   "outputs": [
    {
     "data": {
      "image/png": "[encoded data removed]",
      "text/plain": [
       "<Figure size 1296x360 with 1 Axes>"
      ]
     },
     "metadata": {},
     "output_type": "display_data"
    }
   ],
   "source": [
    "# Below is the boxplot for the price column. It's a fairly slim box and we see that there are many outliers here!\n",
    "plt.figure(figsize=[18,5])\n",
    "plt.boxplot(df.price, vert=False)\n",
    "plt.xlabel('price')\n",
    "plt.show()"
   ]
  },
  {
   "cell_type": "markdown",
   "metadata": {
    "deletable": false,
    "editable": false,
    "id": "1DUT8YYTMmXi",
    "nbgrader": {
     "cell_type": "markdown",
     "checksum": "598b09c32cee7087a0538fd0f9d43514",
     "grade": false,
     "grade_id": "cell-f37299c272c38105",
     "locked": true,
     "schema_version": 3,
     "solution": false,
     "task": false
    }
   },
   "source": [
    "#### 2.1 Winsorize - clipping extreme values\n",
    "- As you probably know, means, standard deviations, correlations, mean squared errors and other statistics and models based on these are highly sensitive to outliers.\n",
    "- One way of dealing with outliers is by using winsorization. This simply means capping data values at certain thresholds, based on the distribution of data. <span style=\"color:red\">**The function `winsorize()` from Scipy: [Reference](https://docs.scipy.org/doc/scipy/reference/generated/scipy.stats.mstats.winsorize.html)**</span>\n",
    "- Here you can learn more about this technique: https://en.wikipedia.org/wiki/Winsorizing\n",
    "- Below is an example quoated from the wikipedia page.\n"
   ]
  },
  {
   "cell_type": "code",
   "execution_count": 16,
   "metadata": {
    "colab": {
     "base_uri": "https://localhost:8080/"
    },
    "deletable": false,
    "editable": false,
    "id": "6M6rwxxhMmXj",
    "nbgrader": {
     "cell_type": "code",
     "checksum": "726342ea17eea206bfbb7211115a97a8",
     "grade": false,
     "grade_id": "cell-0e6b8f2e6796c34c",
     "locked": true,
     "schema_version": 3,
     "solution": false,
     "task": false
    },
    "outputId": "1024a5ef-d644-4d00-c6b9-c52d55664ddb"
   },
   "outputs": [
    {
     "data": {
      "text/plain": [
       "masked_array(data=[ 92,  19, 101,  58, 101,  91,  26,  78,  10,  13,  -5,\n",
       "                   101,  86,  85,  15,  89,  89,  28,  -5,  41],\n",
       "             mask=False,\n",
       "       fill_value=999999)"
      ]
     },
     "execution_count": 16,
     "metadata": {},
     "output_type": "execute_result"
    }
   ],
   "source": [
    "# Source: https://en.wikipedia.org/wiki/Winsorizing\n",
    "# The code below performs 90% winsorization on the data contained in the python list.\n",
    "# Observe that large values such as 1053, were replaced with 101, and -40 was replaced to -5.\n",
    "from scipy.stats.mstats import winsorize\n",
    "winsorize([92, 19, 101, 58, 1053, 91, 26, 78, 10, 13, -40, 101, 86, 85, 15, 89, 89, 28, -5, 41], limits=[0.05, 0.05])"
   ]
  },
  {
   "cell_type": "markdown",
   "metadata": {
    "deletable": false,
    "editable": false,
    "id": "C0YtB1NGMmXk",
    "nbgrader": {
     "cell_type": "markdown",
     "checksum": "c598dd4b5198b9a80f71d10ce9cfc748",
     "grade": false,
     "grade_id": "cell-4aa85fe319ad522c",
     "locked": true,
     "schema_version": 3,
     "solution": false,
     "task": false
    }
   },
   "source": [
    " ###### **[10 points] Question 3:** \n",
    "\n",
    "Winsorize column `price` with 99% winsorization.\n",
    "\n",
    "**Hints:**\n",
    "- Use the `winsorize()` function from above ([reference](https://docs.scipy.org/doc/scipy/reference/generated/scipy.stats.mstats.winsorize.html)).\n",
    "\n",
    "- The example given above was a 90% winsorization. You need to tweak the paratermer `limits` with 99% winsorization instead."
   ]
  },
  {
   "cell_type": "code",
   "execution_count": 17,
   "metadata": {
    "deletable": false,
    "id": "7EXt_Me1MmXl",
    "nbgrader": {
     "cell_type": "code",
     "checksum": "c6011c76ce79488252698fcea70e6a7c",
     "grade": false,
     "grade_id": "cell-9465516b352a57ac",
     "locked": false,
     "schema_version": 3,
     "solution": true,
     "task": false
    }
   },
   "outputs": [],
   "source": [
    "def q3(df):\n",
    "    df['price_winsorized'] = winsorize(df[\"price\"], limits = [0.005, 0.005])"
   ]
  },
  {
   "cell_type": "code",
   "execution_count": 18,
   "metadata": {
    "deletable": false,
    "editable": false,
    "nbgrader": {
     "cell_type": "code",
     "checksum": "64caa4ddb9261783bd0c0c4d048a119f",
     "grade": true,
     "grade_id": "cell-a4fea6c904d68f03",
     "locked": true,
     "points": 2,
     "schema_version": 3,
     "solution": false,
     "task": false
    }
   },
   "outputs": [
    {
     "name": "stdout",
     "output_type": "stream",
     "text": [
      "price_winsorized: test passed\n"
     ]
    }
   ],
   "source": [
    "# [2 points] Visible Test\n",
    "q3(df)\n",
    "if list(df['price_winsorized']) == list(pd.read_csv(\"expected_output/q3_a.csv\")[\"price_winsorized\"]):\n",
    "    print('price_winsorized: test passed')\n",
    "else:\n",
    "    raise ValueError('price_winsorized: test failed')"
   ]
  },
  {
   "cell_type": "code",
   "execution_count": 19,
   "metadata": {
    "deletable": false,
    "editable": false,
    "id": "-nJGv_uPEOaG",
    "nbgrader": {
     "cell_type": "code",
     "checksum": "5c9c79b47410016c77f3d1cff4260e86",
     "grade": true,
     "grade_id": "cell-425982fad08ff855",
     "locked": true,
     "points": 8,
     "schema_version": 3,
     "solution": false,
     "task": false
    }
   },
   "outputs": [],
   "source": [
    "# [8 points] Hidden test for q3 "
   ]
  },
  {
   "cell_type": "code",
   "execution_count": 20,
   "metadata": {
    "colab": {
     "base_uri": "https://localhost:8080/",
     "height": 334
    },
    "deletable": false,
    "editable": false,
    "id": "TFWmUG_jMmXl",
    "nbgrader": {
     "cell_type": "code",
     "checksum": "8ec6204efd90d2f994c0812c2d2c2fed",
     "grade": false,
     "grade_id": "cell-bd4b7e91b024d1c8",
     "locked": true,
     "schema_version": 3,
     "solution": false,
     "task": false
    },
    "outputId": "ba6d1c57-a570-49c9-efa9-b6cdf174b391"
   },
   "outputs": [
    {
     "data": {
      "image/png": "[encoded data removed]",
      "text/plain": [
       "<Figure size 1296x360 with 1 Axes>"
      ]
     },
     "metadata": {},
     "output_type": "display_data"
    }
   ],
   "source": [
    "# Visualizing the new column price after 99% winsorization\n",
    "plt.figure(figsize=[18,5])\n",
    "plt.boxplot(df.price_winsorized, vert=False)\n",
    "plt.xlabel('price_winsorized')\n",
    "plt.show()"
   ]
  },
  {
   "cell_type": "markdown",
   "metadata": {
    "deletable": false,
    "editable": false,
    "id": "yOcRKiUiMmXl",
    "nbgrader": {
     "cell_type": "markdown",
     "checksum": "90a67c1566ec0af034312ed6dbd247fe",
     "grade": false,
     "grade_id": "cell-c3fa32ea87870062",
     "locked": true,
     "schema_version": 3,
     "solution": false,
     "task": false
    }
   },
   "source": [
    "#### 2.2 Removing outliers\n",
    "- Let's visualize column `minimum_nights`\n",
    "- This time, we simply want to drop items that seem extreme. So, lets drop items that are greater or equal to 400."
   ]
  },
  {
   "cell_type": "code",
   "execution_count": 21,
   "metadata": {
    "colab": {
     "base_uri": "https://localhost:8080/",
     "height": 585
    },
    "deletable": false,
    "editable": false,
    "id": "qUYKhqYzMmXm",
    "nbgrader": {
     "cell_type": "code",
     "checksum": "6de3418bb906eeff5887a35916092f5b",
     "grade": false,
     "grade_id": "cell-b8414bac44091464",
     "locked": true,
     "schema_version": 3,
     "solution": false,
     "task": false
    },
    "outputId": "4f3ab2f3-f86b-4cd4-bdac-e3355fc0e84b"
   },
   "outputs": [
    {
     "data": {
      "image/png": "[encoded data removed]",
      "text/plain": [
       "<Figure size 1296x576 with 2 Axes>"
      ]
     },
     "metadata": {},
     "output_type": "display_data"
    }
   ],
   "source": [
    "# Visualize the new price column\n",
    "# We can observe that most of the data lies below 400\n",
    "plt.figure(figsize=[18,8])\n",
    "plt.subplot(211)\n",
    "plt.boxplot(df.minimum_nights, vert=False)\n",
    "plt.xlabel('minimum_nights')\n",
    "plt.title('boxplot minimum nights column')\n",
    "\n",
    "plt.subplot(212)\n",
    "plt.scatter(df.minimum_nights, df.price_winsorized)\n",
    "plt.xlabel('minimum nights')\n",
    "plt.ylabel('price')\n",
    "plt.title('minimum nights vs price')\n",
    "plt.tight_layout()\n",
    "# plt.show()"
   ]
  },
  {
   "cell_type": "markdown",
   "metadata": {
    "deletable": false,
    "editable": false,
    "id": "4PnJ88lsMmXn",
    "nbgrader": {
     "cell_type": "markdown",
     "checksum": "4ac57e35ad076eb4b0964aeab3c9fe21",
     "grade": false,
     "grade_id": "cell-08bfe5089f4142dc",
     "locked": true,
     "schema_version": 3,
     "solution": false,
     "task": false
    }
   },
   "source": [
    "**Note:** Suppose we investigated data points with minimum nights above 400 and found that these observations do not have the correct price mentioned and hence do not follow the trend. We may then decide to drop these points, considering them as outliers.\n",
    "\n",
    " ###### **[10 points] Question 4:** \n",
    "\n",
    "Create a new data frame `df_wt_outliers` by dropping observations whose values in column `minimum_nights` are greater  or equal to 400.\n",
    "\n",
    "**Hint**: Article for [reference](https://www.geeksforgeeks.org/drop-rows-from-the-dataframe-based-on-certain-condition-applied-on-a-column/)."
   ]
  },
  {
   "cell_type": "code",
   "execution_count": 22,
   "metadata": {
    "deletable": false,
    "id": "6VJ4Sc-YMmXn",
    "nbgrader": {
     "cell_type": "code",
     "checksum": "6fb427abaf187e85f3f537dbb31ece16",
     "grade": false,
     "grade_id": "cell-f054e1fd6aa32871",
     "locked": false,
     "schema_version": 3,
     "solution": true,
     "task": false
    }
   },
   "outputs": [],
   "source": [
    "def q4(df):\n",
    "    df_wt_outliers = df[df[\"minimum_nights\"] < 400]\n",
    "    \n",
    "    return df_wt_outliers"
   ]
  },
  {
   "cell_type": "code",
   "execution_count": 23,
   "metadata": {
    "deletable": false,
    "editable": false,
    "nbgrader": {
     "cell_type": "code",
     "checksum": "36caf5a7a568d1977e0bb57f880243ad",
     "grade": true,
     "grade_id": "cell-5bcc63618a7c45cb",
     "locked": true,
     "points": 2,
     "schema_version": 3,
     "solution": false,
     "task": false
    }
   },
   "outputs": [
    {
     "name": "stdout",
     "output_type": "stream",
     "text": [
      "minimum_nights: test passed.\n"
     ]
    }
   ],
   "source": [
    "# [2 points] Visible Test\n",
    "df_wt_outliers = q4(df)\n",
    "if list(df_wt_outliers['minimum_nights']) == list(pd.read_csv(\"expected_output/q4.csv\")[\"minimum_nights\"]):\n",
    "    print('minimum_nights: test passed.')\n",
    "else:\n",
    "    raise ValueError('minimum_nights: test failed.')"
   ]
  },
  {
   "cell_type": "code",
   "execution_count": 24,
   "metadata": {
    "deletable": false,
    "editable": false,
    "id": "-TE8dmuhEkpd",
    "nbgrader": {
     "cell_type": "code",
     "checksum": "93a88d16d6915da6718eff8036632204",
     "grade": true,
     "grade_id": "cell-7061713266d67b7e",
     "locked": true,
     "points": 8,
     "schema_version": 3,
     "solution": false,
     "task": false
    }
   },
   "outputs": [],
   "source": [
    "# [8 points] Hidden test for q4"
   ]
  },
  {
   "cell_type": "markdown",
   "metadata": {
    "deletable": false,
    "editable": false,
    "id": "qD60q1rqto-y",
    "nbgrader": {
     "cell_type": "markdown",
     "checksum": "de158e5bf3b3b8963774416716cede79",
     "grade": false,
     "grade_id": "cell-81e6769658705308",
     "locked": true,
     "schema_version": 3,
     "solution": false,
     "task": false
    }
   },
   "source": [
    "### Section 3:  Detect and remove errors (datetime and text strings)\n",
    "\n",
    "In the following, we will go over Python methods for handling two types of errors in the Airbnb dataset:\n",
    "1.   Handling Datetime errors\n",
    "\n",
    "2.   Handling Typos"
   ]
  },
  {
   "cell_type": "markdown",
   "metadata": {
    "deletable": false,
    "editable": false,
    "id": "co4j9uWHreky",
    "nbgrader": {
     "cell_type": "markdown",
     "checksum": "80a6503a5ac09067471d93fa8ab5c121",
     "grade": false,
     "grade_id": "cell-65448d6bd24a7221",
     "locked": true,
     "schema_version": 3,
     "solution": false,
     "task": false
    }
   },
   "source": [
    "\n",
    "#### 3.1 Handling Datetime errors\n",
    "\n",
    "#### **Data type**\n",
    "\n",
    "Let's first check the data types of the current dataset. ```DataFrame.info()``` method prints a concise summary of the dataframe, including column names, Non-Null value count and data types. \n",
    "Here is a sample list of data types, supported by Pandas:\n",
    "\n",
    "\n",
    "*   float             float64\n",
    "*   int                  int64\n",
    "*   datetime    datetime64[ns]\n",
    "*   string              object\n",
    "\n",
    "Note: Pandas stores the column with mixed data types as 'object' by default. Reference: [link](https://pandas.pydata.org/docs/reference/api/pandas.DataFrame.info.html)."
   ]
  },
  {
   "cell_type": "code",
   "execution_count": 25,
   "metadata": {
    "colab": {
     "base_uri": "https://localhost:8080/"
    },
    "deletable": false,
    "editable": false,
    "id": "k6I7VxFSUm6f",
    "nbgrader": {
     "cell_type": "code",
     "checksum": "c4dacb622ae8ffdb68d0feba9c2f63b7",
     "grade": false,
     "grade_id": "cell-30850d43360765db",
     "locked": true,
     "schema_version": 3,
     "solution": false,
     "task": false
    },
    "outputId": "19ecd3b8-7a3b-46b3-8b43-702c1c246089"
   },
   "outputs": [
    {
     "name": "stdout",
     "output_type": "stream",
     "text": [
      "<class 'pandas.core.frame.DataFrame'>\n",
      "RangeIndex: 22326 entries, 0 to 22325\n",
      "Data columns (total 20 columns):\n",
      " #   Column                          Non-Null Count  Dtype  \n",
      "---  ------                          --------------  -----  \n",
      " 0   id                              22326 non-null  int64  \n",
      " 1   name                            22318 non-null  object \n",
      " 2   host_id                         22326 non-null  int64  \n",
      " 3   host_name                       22314 non-null  object \n",
      " 4   neighbourhood_group             22326 non-null  object \n",
      " 5   neighbourhood                   22325 non-null  object \n",
      " 6   latitude                        22326 non-null  float64\n",
      " 7   longitude                       22326 non-null  float64\n",
      " 8   room_type                       22326 non-null  object \n",
      " 9   price                           22326 non-null  int64  \n",
      " 10  minimum_nights                  22326 non-null  int64  \n",
      " 11  number_of_reviews               22326 non-null  object \n",
      " 12  last_review                     17665 non-null  object \n",
      " 13  reviews_per_month               17665 non-null  float64\n",
      " 14  calculated_host_listings_count  22326 non-null  int64  \n",
      " 15  availability_365                22326 non-null  int64  \n",
      " 16  name_trim                       22318 non-null  object \n",
      " 17  host_name_trim                  22314 non-null  object \n",
      " 18  name_upper                      22318 non-null  object \n",
      " 19  price_winsorized                22326 non-null  int64  \n",
      "dtypes: float64(3), int64(7), object(10)\n",
      "memory usage: 3.4+ MB\n"
     ]
    }
   ],
   "source": [
    "df.info(verbose=True)"
   ]
  },
  {
   "cell_type": "markdown",
   "metadata": {
    "deletable": false,
    "editable": false,
    "id": "LL5i_wbtt55K",
    "nbgrader": {
     "cell_type": "markdown",
     "checksum": "dc3ea07212fdd77b86ddc4214519871e",
     "grade": false,
     "grade_id": "cell-36e815e69d68fc50",
     "locked": true,
     "schema_version": 3,
     "solution": false,
     "task": false
    }
   },
   "source": [
    "##### **Datetime**\n",
    "> Data cleaning often includes steps to convert data into different formats, so it can be used for various analysis purposes.\n",
    "\n",
    "Reviewing the output above, we find that the data type of column `last_review` is `object`. However, column `last_review` indicates the **date** when an Airbnb listing received lastest review. Therefore, we want to convert the column `last_review` to a datetime type and check if it contains any issues. (Reference: [Docs](https://pandas.pydata.org/docs/reference/api/pandas.to_datetime.html))\n",
    "\n",
    "> We will use the ```.to_datetime(arg, format='%m/%d/%y', errors='coerce')``` function in pandas to convert the column `last_review` to a standard datetime format.\n",
    "- **arg**: denotes the input column to be converted\n",
    "- **format**: identifies and limits the default format in the raw data. In the airbnb dataset, we can find the string in the 'last_review' column, e.g. \"10/19/18\" is in the \"%m/%d/%y\" format\n",
    "- **errors='coerce'**: turns any strings that violates the **format** into Null value."
   ]
  },
  {
   "cell_type": "code",
   "execution_count": 26,
   "metadata": {
    "colab": {
     "base_uri": "https://localhost:8080/"
    },
    "deletable": false,
    "editable": false,
    "id": "OYQq-xuJxdHP",
    "nbgrader": {
     "cell_type": "code",
     "checksum": "2508325cd33b9037a68520494b1a3e0e",
     "grade": false,
     "grade_id": "cell-983daedc5ade9540",
     "locked": true,
     "schema_version": 3,
     "solution": false,
     "task": false
    },
    "outputId": "cf602ac1-5b37-43c3-b7c0-42ebdeafdd9a"
   },
   "outputs": [
    {
     "data": {
      "text/plain": [
       "0         10/19/18\n",
       "1              NaN\n",
       "2          10/5/17\n",
       "3          6/24/19\n",
       "4        2/30/2017\n",
       "           ...    \n",
       "22321          NaN\n",
       "22322          NaN\n",
       "22323          NaN\n",
       "22324          NaN\n",
       "22325          NaN\n",
       "Name: last_review, Length: 22326, dtype: object"
      ]
     },
     "execution_count": 26,
     "metadata": {},
     "output_type": "execute_result"
    }
   ],
   "source": [
    "df['last_review']"
   ]
  },
  {
   "cell_type": "markdown",
   "metadata": {
    "deletable": false,
    "editable": false,
    "id": "6wop_KpdM-kF",
    "nbgrader": {
     "cell_type": "markdown",
     "checksum": "91ce320e2c512e4351ebfa12fe898ac8",
     "grade": false,
     "grade_id": "cell-b3b20352567e31de",
     "locked": true,
     "schema_version": 3,
     "solution": false,
     "task": false
    }
   },
   "source": [
    "###### Step 1: Convert the data type of column `last_review`  to datetime\n",
    "\n",
    " ###### **[6 points] Question 5:** \n",
    "\n",
    "Convert column `last_review` to datetime format, replace dates that are not in `'%m/%d/%y'` format as null (NaT), and save it as `new_last_review`."
   ]
  },
  {
   "cell_type": "code",
   "execution_count": 27,
   "metadata": {
    "deletable": false,
    "id": "15dr1Ar9TGh0",
    "nbgrader": {
     "cell_type": "code",
     "checksum": "2013236f140dd3e8646a2334bed82941",
     "grade": false,
     "grade_id": "cell-15c6e8923858f6f9",
     "locked": false,
     "schema_version": 3,
     "solution": true,
     "task": false
    }
   },
   "outputs": [],
   "source": [
    "def q5(df):\n",
    "    df['new_last_review'] = pd.to_datetime(df['last_review'], format='%m/%d/%y', errors='coerce')"
   ]
  },
  {
   "cell_type": "code",
   "execution_count": 28,
   "metadata": {
    "deletable": false,
    "editable": false,
    "nbgrader": {
     "cell_type": "code",
     "checksum": "9461e34acd850788f333a1360897e845",
     "grade": true,
     "grade_id": "cell-7504af7abc2987bc",
     "locked": true,
     "points": 2,
     "schema_version": 3,
     "solution": false,
     "task": false
    }
   },
   "outputs": [
    {
     "name": "stdout",
     "output_type": "stream",
     "text": [
      "new_last_review: test passed.\n"
     ]
    }
   ],
   "source": [
    "# [2 points] Visible Test\n",
    "q5(df)\n",
    "if list(df['new_last_review']) == list(pd.to_datetime(pd.read_csv(\"expected_output/q5.csv\")[\"new_last_review\"])):\n",
    "    print('new_last_review: test passed.')\n",
    "else:\n",
    "    raise ValueError('new_last_review: test failed.')"
   ]
  },
  {
   "cell_type": "code",
   "execution_count": 29,
   "metadata": {
    "deletable": false,
    "editable": false,
    "nbgrader": {
     "cell_type": "code",
     "checksum": "b265c94ccc865d2b3bfe6749fc7c7088",
     "grade": true,
     "grade_id": "cell-586fd1beb176f558",
     "locked": true,
     "points": 4,
     "schema_version": 3,
     "solution": false,
     "task": false
    }
   },
   "outputs": [],
   "source": [
    "# [4 points] Hidden test for q5\n"
   ]
  },
  {
   "cell_type": "code",
   "execution_count": 30,
   "metadata": {
    "colab": {
     "base_uri": "https://localhost:8080/"
    },
    "deletable": false,
    "editable": false,
    "id": "LyrBrDBiSwup",
    "nbgrader": {
     "cell_type": "code",
     "checksum": "6c33ddc83b6a8207627f7ec3fec2049d",
     "grade": false,
     "grade_id": "cell-3d4e900da2d780e3",
     "locked": true,
     "schema_version": 3,
     "solution": false,
     "task": false
    },
    "outputId": "0f3fd160-1cc5-4ce8-e423-7b149fd98b7d"
   },
   "outputs": [
    {
     "data": {
      "text/plain": [
       "0       2018-10-19\n",
       "1              NaT\n",
       "2       2017-10-05\n",
       "3       2019-06-24\n",
       "4              NaT\n",
       "           ...    \n",
       "22321          NaT\n",
       "22322          NaT\n",
       "22323          NaT\n",
       "22324          NaT\n",
       "22325          NaT\n",
       "Name: new_last_review, Length: 22326, dtype: datetime64[ns]"
      ]
     },
     "execution_count": 30,
     "metadata": {},
     "output_type": "execute_result"
    }
   ],
   "source": [
    "# return the column `new_last_review'\n",
    "df['new_last_review']"
   ]
  },
  {
   "cell_type": "code",
   "execution_count": 31,
   "metadata": {
    "colab": {
     "base_uri": "https://localhost:8080/"
    },
    "deletable": false,
    "editable": false,
    "id": "vdd1eT-qDUk-",
    "nbgrader": {
     "cell_type": "code",
     "checksum": "40680b58da9efbb63efb48b83af16409",
     "grade": false,
     "grade_id": "cell-a01ecebde9ef7eaf",
     "locked": true,
     "schema_version": 3,
     "solution": false,
     "task": false
    },
    "outputId": "89eef248-d5de-494b-e429-96d65b7ac8bf"
   },
   "outputs": [
    {
     "data": {
      "text/plain": [
       "4         2/30/2017\n",
       "17       13/15/2019\n",
       "18093       6/31/19\n",
       "18094       6/31/19\n",
       "18099       2/30/19\n",
       "Name: last_review, dtype: object"
      ]
     },
     "execution_count": 31,
     "metadata": {},
     "output_type": "execute_result"
    }
   ],
   "source": [
    "# Return the dates that cannot be parsed by the defined format '%m/%d/%y' \n",
    "# and have been converted to NaT,\n",
    "# e.g. the month is out of the range of [1,12].\n",
    "df['last_review'][~df.last_review.isna() & df['new_last_review'].isna()]"
   ]
  },
  {
   "cell_type": "markdown",
   "metadata": {
    "deletable": false,
    "editable": false,
    "id": "oqns2CrZI4Pg",
    "nbgrader": {
     "cell_type": "markdown",
     "checksum": "497caa3127b99e071153434514474b54",
     "grade": false,
     "grade_id": "cell-e66136c2cbabd151",
     "locked": true,
     "schema_version": 3,
     "solution": false,
     "task": false
    }
   },
   "source": [
    "###### Step 2: Extract year, month, day from new_last_review Series"
   ]
  },
  {
   "cell_type": "code",
   "execution_count": 32,
   "metadata": {
    "colab": {
     "base_uri": "https://localhost:8080/",
     "height": 206
    },
    "deletable": false,
    "editable": false,
    "id": "hldOwjl0-Rs4",
    "nbgrader": {
     "cell_type": "code",
     "checksum": "9bdaeaba852e80d4f2c364168e1432c7",
     "grade": false,
     "grade_id": "cell-b07b3950fe32411f",
     "locked": true,
     "schema_version": 3,
     "solution": false,
     "task": false
    },
    "outputId": "bfc398bc-865d-4e1c-d420-a3b2984d9c0e"
   },
   "outputs": [
    {
     "data": {
      "text/html": [
       "<div>\n",
       "<style scoped>\n",
       "    .dataframe tbody tr th:only-of-type {\n",
       "        vertical-align: middle;\n",
       "    }\n",
       "\n",
       "    .dataframe tbody tr th {\n",
       "        vertical-align: top;\n",
       "    }\n",
       "\n",
       "    .dataframe thead th {\n",
       "        text-align: right;\n",
       "    }\n",
       "</style>\n",
       "<table border=\"1\" class=\"dataframe\">\n",
       "  <thead>\n",
       "    <tr style=\"text-align: right;\">\n",
       "      <th></th>\n",
       "      <th>last_review</th>\n",
       "      <th>year</th>\n",
       "      <th>month</th>\n",
       "      <th>day</th>\n",
       "    </tr>\n",
       "  </thead>\n",
       "  <tbody>\n",
       "    <tr>\n",
       "      <th>0</th>\n",
       "      <td>10/19/18</td>\n",
       "      <td>2018.0</td>\n",
       "      <td>10.0</td>\n",
       "      <td>19.0</td>\n",
       "    </tr>\n",
       "    <tr>\n",
       "      <th>1</th>\n",
       "      <td>NaN</td>\n",
       "      <td>NaN</td>\n",
       "      <td>NaN</td>\n",
       "      <td>NaN</td>\n",
       "    </tr>\n",
       "    <tr>\n",
       "      <th>2</th>\n",
       "      <td>10/5/17</td>\n",
       "      <td>2017.0</td>\n",
       "      <td>10.0</td>\n",
       "      <td>5.0</td>\n",
       "    </tr>\n",
       "    <tr>\n",
       "      <th>3</th>\n",
       "      <td>6/24/19</td>\n",
       "      <td>2019.0</td>\n",
       "      <td>6.0</td>\n",
       "      <td>24.0</td>\n",
       "    </tr>\n",
       "    <tr>\n",
       "      <th>4</th>\n",
       "      <td>2/30/2017</td>\n",
       "      <td>NaN</td>\n",
       "      <td>NaN</td>\n",
       "      <td>NaN</td>\n",
       "    </tr>\n",
       "  </tbody>\n",
       "</table>\n",
       "</div>"
      ],
      "text/plain": [
       "  last_review    year  month   day\n",
       "0    10/19/18  2018.0   10.0  19.0\n",
       "1         NaN     NaN    NaN   NaN\n",
       "2     10/5/17  2017.0   10.0   5.0\n",
       "3     6/24/19  2019.0    6.0  24.0\n",
       "4   2/30/2017     NaN    NaN   NaN"
      ]
     },
     "execution_count": 32,
     "metadata": {},
     "output_type": "execute_result"
    }
   ],
   "source": [
    "df[\"year\"] = df['new_last_review'].dt.year\n",
    "df[\"month\"] = df['new_last_review'].dt.month\n",
    "df[\"day\"] = df['new_last_review'].dt.day\n",
    "\n",
    "df[[\"last_review\",\"year\",\"month\",\"day\"]].head(5)"
   ]
  },
  {
   "cell_type": "markdown",
   "metadata": {
    "deletable": false,
    "editable": false,
    "id": "FzsIug6ZR7QJ",
    "nbgrader": {
     "cell_type": "markdown",
     "checksum": "5c631671bc49b4b572c6f3cdbd02fe47",
     "grade": false,
     "grade_id": "cell-c76b4f311868f7c5",
     "locked": true,
     "schema_version": 3,
     "solution": false,
     "task": false
    }
   },
   "source": [
    "###### Step 3: Convert ```new_last_review``` to ISO format **string**."
   ]
  },
  {
   "cell_type": "code",
   "execution_count": 33,
   "metadata": {
    "colab": {
     "base_uri": "https://localhost:8080/"
    },
    "deletable": false,
    "editable": false,
    "id": "4iojp_KKSOqq",
    "nbgrader": {
     "cell_type": "code",
     "checksum": "9ccc4ce9d623289b75ce28a673f35157",
     "grade": false,
     "grade_id": "cell-74d3f57377c977c3",
     "locked": true,
     "schema_version": 3,
     "solution": false,
     "task": false
    },
    "outputId": "b2694ce4-65bd-48a9-d253-b03fa5be5423"
   },
   "outputs": [
    {
     "data": {
      "text/plain": [
       "0        2018-10-19\n",
       "1               NaN\n",
       "2        2017-10-05\n",
       "3        2019-06-24\n",
       "4               NaN\n",
       "            ...    \n",
       "22321           NaN\n",
       "22322           NaN\n",
       "22323           NaN\n",
       "22324           NaN\n",
       "22325           NaN\n",
       "Name: new_last_review, Length: 22326, dtype: object"
      ]
     },
     "execution_count": 33,
     "metadata": {},
     "output_type": "execute_result"
    }
   ],
   "source": [
    "df['new_last_review'].dt.strftime('%Y-%m-%d')"
   ]
  },
  {
   "cell_type": "markdown",
   "metadata": {
    "deletable": false,
    "editable": false,
    "id": "oLtovyLCT1QK",
    "nbgrader": {
     "cell_type": "markdown",
     "checksum": "b10f9e6ee7792d3b2b25525deb2074b2",
     "grade": false,
     "grade_id": "cell-438bb2edf7dcffdf",
     "locked": true,
     "schema_version": 3,
     "solution": false,
     "task": false
    }
   },
   "source": [
    "##### **Handling typos** [pandas.DataFrame.replace](https://pandas.pydata.org/docs/reference/api/pandas.DataFrame.replace.html)\n",
    "\n",
    "> **Checking unique values for categories**\n",
    "> ```DataFrame.value_counts()``` returns for each unique value the count of that value.\n",
    "<br>\n",
    "> Reference: [value_counts](https://pandas.pydata.org/docs/reference/api/pandas.Series.value_counts.html)"
   ]
  },
  {
   "cell_type": "code",
   "execution_count": 34,
   "metadata": {
    "colab": {
     "base_uri": "https://localhost:8080/"
    },
    "deletable": false,
    "editable": false,
    "id": "I2udZz-Wazmy",
    "nbgrader": {
     "cell_type": "code",
     "checksum": "37113179310d26b60c26cc1f757c2616",
     "grade": false,
     "grade_id": "cell-926bcad130804cde",
     "locked": true,
     "schema_version": 3,
     "solution": false,
     "task": false
    },
    "outputId": "3909822a-2c54-423a-d887-6e943d874ff8"
   },
   "outputs": [
    {
     "data": {
      "text/plain": [
       "Brooklyn         10037\n",
       "Mannhattan        7949\n",
       "Queens            3372\n",
       "Bronx              652\n",
       "Staten Island      188\n",
       "Brooklyyn           95\n",
       "Manhattann          33\n",
       "Name: neighbourhood_group, dtype: int64"
      ]
     },
     "execution_count": 34,
     "metadata": {},
     "output_type": "execute_result"
    }
   ],
   "source": [
    "# Applying value_counts() on column `neighbourhood_group`, you find it contains typos, e.g., \"Manhattann\" and \"Brooklyyn\". \n",
    "df['neighbourhood_group'].value_counts()"
   ]
  },
  {
   "cell_type": "markdown",
   "metadata": {
    "deletable": false,
    "editable": false,
    "id": "kuaU6eVrqhI3",
    "nbgrader": {
     "cell_type": "markdown",
     "checksum": "6c587e82cdf05c10e991b1fc29080652",
     "grade": false,
     "grade_id": "cell-2568b2470bbda66e",
     "locked": true,
     "schema_version": 3,
     "solution": false,
     "task": false
    }
   },
   "source": [
    " ###### **[8 points] Question 6:**   \n",
    "\n",
    "Use ```DataFrame.replace()``` to correct \"Mannhattan\" and \"Manhattann\" to \"Manhattan\", and \"Brooklyyn\" to \"Brooklyn\", respectively. Save the new values in a new column `neighbourhood_group_new`. See also [pandas.DataFrame.replace](https://pandas.pydata.org/docs/reference/api/pandas.DataFrame.replace.html)"
   ]
  },
  {
   "cell_type": "code",
   "execution_count": 44,
   "metadata": {
    "deletable": false,
    "id": "_DqJEF7wXlEk",
    "nbgrader": {
     "cell_type": "code",
     "checksum": "68140932d8a4422112cd04809e1e2245",
     "grade": false,
     "grade_id": "cell-6358404a915c864c",
     "locked": false,
     "schema_version": 3,
     "solution": true,
     "task": false
    }
   },
   "outputs": [],
   "source": [
    "def q6(df):\n",
    "    \n",
    "    typos_dict = {\n",
    "        \"Mannhattan\": \"Manhattan\",\n",
    "        \"Manhattann\": \"Manhattan\",\n",
    "        \"Brooklyyn\": \"Brooklyn\"\n",
    "    }\n",
    "\n",
    "    df['neighbourhood_group_new'] = df[\"neighbourhood_group\"].replace(typos_dict)"
   ]
  },
  {
   "cell_type": "code",
   "execution_count": 45,
   "metadata": {
    "colab": {
     "base_uri": "https://localhost:8080/"
    },
    "deletable": false,
    "editable": false,
    "id": "KMaAyfGYXcVy",
    "nbgrader": {
     "cell_type": "code",
     "checksum": "fbc4e80a27ebfc9b0cfdbd17c88c8a16",
     "grade": true,
     "grade_id": "cell-cebfc3be8843704f",
     "locked": true,
     "points": 2,
     "schema_version": 3,
     "solution": false,
     "task": false
    },
    "outputId": "264e14b5-4232-446b-8e81-777fac04adcc"
   },
   "outputs": [
    {
     "name": "stdout",
     "output_type": "stream",
     "text": [
      "neighbourhood_group_new: test passed.\n"
     ]
    }
   ],
   "source": [
    "# [2 points] Visible Test\n",
    "q6(df)\n",
    "if list(df['neighbourhood_group_new'].value_counts().values) == list(pd.read_csv(\"expected_output/q6.csv\")['neighbourhood_group_new'].value_counts().values):\n",
    "    print('neighbourhood_group_new: test passed.')\n",
    "else:\n",
    "    raise ValueError('neighbourhood_group_new: test failed.')"
   ]
  },
  {
   "cell_type": "code",
   "execution_count": 46,
   "metadata": {
    "deletable": false,
    "editable": false,
    "nbgrader": {
     "cell_type": "code",
     "checksum": "d8acb3cd1ef2f9b7f5f04497c7cf18ae",
     "grade": false,
     "grade_id": "cell-dd91989489f47f3f",
     "locked": true,
     "schema_version": 3,
     "solution": false,
     "task": false
    }
   },
   "outputs": [
    {
     "data": {
      "text/plain": [
       "Brooklyn         10132\n",
       "Manhattan         7982\n",
       "Queens            3372\n",
       "Bronx              652\n",
       "Staten Island      188\n",
       "Name: neighbourhood_group_new, dtype: int64"
      ]
     },
     "execution_count": 46,
     "metadata": {},
     "output_type": "execute_result"
    }
   ],
   "source": [
    "# return the unique values after correcting the misspellings\n",
    "df['neighbourhood_group_new'].value_counts()"
   ]
  },
  {
   "cell_type": "code",
   "execution_count": 47,
   "metadata": {
    "deletable": false,
    "editable": false,
    "id": "h9weHhZc2N-O",
    "nbgrader": {
     "cell_type": "code",
     "checksum": "0dfbbb14eb59f9d5b24171badd1c004f",
     "grade": true,
     "grade_id": "cell-6319538635321cab",
     "locked": true,
     "points": 6,
     "schema_version": 3,
     "solution": false,
     "task": false
    }
   },
   "outputs": [],
   "source": [
    "# [6 points] Hidden test for q6\n"
   ]
  },
  {
   "cell_type": "markdown",
   "metadata": {
    "deletable": false,
    "editable": false,
    "id": "literary-spank",
    "nbgrader": {
     "cell_type": "markdown",
     "checksum": "4b8e7927ccb2e5df1e00b916084557ed",
     "grade": false,
     "grade_id": "cell-85fbcf2a919b2096",
     "locked": true,
     "schema_version": 3,
     "solution": false,
     "task": false
    }
   },
   "source": [
    "### Section 4: Dealing with missing values\n",
    "\n",
    "In this section, you will learn about detecting missing values (and the difference between NA and NULL), different types of missing values, and simple methods to deal with missing values."
   ]
  },
  {
   "cell_type": "markdown",
   "metadata": {
    "deletable": false,
    "editable": false,
    "id": "HnJkwgaMWLG1",
    "nbgrader": {
     "cell_type": "markdown",
     "checksum": "474460f71b87a7e2e30f7de2ebaeb042",
     "grade": false,
     "grade_id": "cell-df49fce308b3f0d2",
     "locked": true,
     "schema_version": 3,
     "solution": false,
     "task": false
    }
   },
   "source": [
    "#### 4.1 Missing Values Detection\n",
    "\n",
    "Goal: learn how to use pandas to detect missing values in columns."
   ]
  },
  {
   "cell_type": "code",
   "execution_count": 48,
   "metadata": {
    "deletable": false,
    "editable": false,
    "id": "icNQg17qrbPq",
    "nbgrader": {
     "cell_type": "code",
     "checksum": "f0786abec8f5c6c26517bba8a4145548",
     "grade": false,
     "grade_id": "cell-c89d40300c2e7aed",
     "locked": true,
     "schema_version": 3,
     "solution": false,
     "task": false
    }
   },
   "outputs": [],
   "source": [
    "# Replace the empty string with NAN that can be recognized by pandas\n",
    "# Only apply on columns number_of_reviews and neighbourhood\n",
    "df['number_of_reviews'] = df['number_of_reviews'].replace(r'^\\s+$',np.nan, regex=True)\n",
    "df['neighbourhood'] = df['neighbourhood'].replace(r'^\\s+$',np.nan, regex=True)"
   ]
  },
  {
   "cell_type": "code",
   "execution_count": 49,
   "metadata": {
    "colab": {
     "base_uri": "https://localhost:8080/"
    },
    "deletable": false,
    "editable": false,
    "id": "dOrtc-I8bcae",
    "nbgrader": {
     "cell_type": "code",
     "checksum": "f314d9362bf5a66ad0c9054729a1d74b",
     "grade": false,
     "grade_id": "cell-a53df5b50a37fb81",
     "locked": true,
     "schema_version": 3,
     "solution": false,
     "task": false
    },
    "outputId": "f8e036a3-3dcd-4f4e-e2c5-1794efa14804"
   },
   "outputs": [
    {
     "data": {
      "text/plain": [
       "Index(['name', 'host_name', 'neighbourhood', 'number_of_reviews',\n",
       "       'last_review', 'reviews_per_month', 'name_trim', 'host_name_trim',\n",
       "       'name_upper', 'new_last_review', 'year', 'month', 'day'],\n",
       "      dtype='object')"
      ]
     },
     "execution_count": 49,
     "metadata": {},
     "output_type": "execute_result"
    }
   ],
   "source": [
    "# Return all columns that have missing values\n",
    "columns_with_mv = df.columns[df.isnull().any()]\n",
    "columns_with_mv"
   ]
  },
  {
   "cell_type": "code",
   "execution_count": 50,
   "metadata": {
    "colab": {
     "base_uri": "https://localhost:8080/"
    },
    "deletable": false,
    "editable": false,
    "id": "YYMegP5ogzhs",
    "nbgrader": {
     "cell_type": "code",
     "checksum": "b48e0cb62804916e7e7ef8e1e19a3412",
     "grade": false,
     "grade_id": "cell-8f297e4c8dcffd03",
     "locked": true,
     "schema_version": 3,
     "solution": false,
     "task": false
    },
    "outputId": "9149e45f-c473-41fd-a48b-3dea07d749a0"
   },
   "outputs": [
    {
     "data": {
      "text/plain": [
       "name                    8\n",
       "host_name              12\n",
       "neighbourhood        1997\n",
       "number_of_reviews    4661\n",
       "last_review          4661\n",
       "reviews_per_month    4661\n",
       "name_trim               8\n",
       "host_name_trim         12\n",
       "name_upper              8\n",
       "new_last_review      4666\n",
       "year                 4666\n",
       "month                4666\n",
       "day                  4666\n",
       "dtype: int64"
      ]
     },
     "execution_count": 50,
     "metadata": {},
     "output_type": "execute_result"
    }
   ],
   "source": [
    "# Output the number of missing values of each column\n",
    "# df[columns_with_mv].isna().sum() also works\n",
    "df[columns_with_mv].isnull().sum()"
   ]
  },
  {
   "cell_type": "markdown",
   "metadata": {
    "deletable": false,
    "editable": false,
    "id": "right-doubt",
    "nbgrader": {
     "cell_type": "markdown",
     "checksum": "0afba3be3de4a199312f028bbc1be1bf",
     "grade": false,
     "grade_id": "cell-9de28e31787fcbe4",
     "locked": true,
     "schema_version": 3,
     "solution": false,
     "task": false
    }
   },
   "source": [
    "###### **[8 points] Question 7:** \n",
    "Calculate the percentage of missing values on the columns `neighbourhood` and `number_of_reviews`."
   ]
  },
  {
   "cell_type": "code",
   "execution_count": 60,
   "metadata": {
    "deletable": false,
    "id": "FYHX7L8bZLI6",
    "nbgrader": {
     "cell_type": "code",
     "checksum": "b2b1583c3911832a3e7d695f499aef0e",
     "grade": false,
     "grade_id": "cell-6d39ce213c33473b",
     "locked": false,
     "schema_version": 3,
     "solution": true,
     "task": false
    }
   },
   "outputs": [],
   "source": [
    "def q7(df):\n",
    "    total_rows = len(df)\n",
    "    neighbourhood_missing_ptg = (df[\"neighbourhood\"].isnull().mean()) # * 100\n",
    "    number_reviews_missing_ptg = (df[\"number_of_reviews\"].isnull().mean()) # * 100\n",
    "    \n",
    "    return neighbourhood_missing_ptg, number_reviews_missing_ptg"
   ]
  },
  {
   "cell_type": "code",
   "execution_count": 61,
   "metadata": {
    "deletable": false,
    "editable": false,
    "nbgrader": {
     "cell_type": "code",
     "checksum": "a17e96fe5bd7b0a800102301e63eab5e",
     "grade": true,
     "grade_id": "cell-4c62e9d9bed16dd5",
     "locked": true,
     "points": 2,
     "schema_version": 3,
     "solution": false,
     "task": false
    },
    "scrolled": true
   },
   "outputs": [
    {
     "name": "stdout",
     "output_type": "stream",
     "text": [
      "neighbourhood_missing_ptg: test passed.\n",
      "number_reviews_missing_ptg: test passed.\n"
     ]
    }
   ],
   "source": [
    "# [2 points] Visible Test for q7\n",
    "neighbourhood_missing_ptg, number_reviews_missing_ptg = q7(df)\n",
    "if round(neighbourhood_missing_ptg,2) == 0.09:\n",
    "    print('neighbourhood_missing_ptg: test passed.')\n",
    "else:\n",
    "    raise ValueError('neighbourhood_missing_ptg: test failed.')\n",
    "if round(number_reviews_missing_ptg,2) == 0.21:\n",
    "    print('number_reviews_missing_ptg: test passed.')\n",
    "else:\n",
    "    raise ValueError('number_reviews_missing_ptg: test failed.')"
   ]
  },
  {
   "cell_type": "code",
   "execution_count": 62,
   "metadata": {
    "deletable": false,
    "editable": false,
    "nbgrader": {
     "cell_type": "code",
     "checksum": "6944e853ca4197800d91913e1abc9061",
     "grade": true,
     "grade_id": "cell-2eed458b028163c9",
     "locked": true,
     "points": 6,
     "schema_version": 3,
     "solution": false,
     "task": false
    }
   },
   "outputs": [],
   "source": [
    "# [6 points] Hidden test for q7"
   ]
  },
  {
   "cell_type": "markdown",
   "metadata": {
    "deletable": false,
    "editable": false,
    "id": "fA06gbbscGca",
    "nbgrader": {
     "cell_type": "markdown",
     "checksum": "e3ec9746306479d6fcca018130f63d79",
     "grade": false,
     "grade_id": "cell-aaf9ea1ecdcb65e4",
     "locked": true,
     "schema_version": 3,
     "solution": false,
     "task": false
    }
   },
   "source": [
    "#### 4.2  Potential Solution: Impute missing values with the mean value. \n",
    "\n",
    "###### **[10 points] Question 8:** \n",
    "Create a new column `no_reviews_wt_missing` by imputing the missing values on column `number_of_reviews` with the mean value. \n",
    "See also [pandas.DataFrame.fillna](https://pandas.pydata.org/docs/reference/api/pandas.DataFrame.fillna.html)\n",
    "\n",
    "> **Hints**: Convert the data values in column `number_of_reviews` to `float` by using [.astype()](https://pandas.pydata.org/docs/reference/api/pandas.DataFrame.astype.html) (or exploring other potential solutions) and then compute the mean values. Fill out the missing values with the mean value. The reason that we do not convert the `number_of_reviews` column values to `int` type is because they contain `np.nan` which can not be cast from type `float` to `int`."
   ]
  },
  {
   "cell_type": "code",
   "execution_count": 64,
   "metadata": {
    "colab": {
     "base_uri": "https://localhost:8080/"
    },
    "deletable": false,
    "id": "BDVfnSVzce_T",
    "nbgrader": {
     "cell_type": "code",
     "checksum": "eba739965a0369dca8a7bf7aa579c3c2",
     "grade": false,
     "grade_id": "cell-ac2ca3dbe4381cb5",
     "locked": false,
     "schema_version": 3,
     "solution": true,
     "task": false
    },
    "outputId": "16fa2ddf-55a2-4518-882d-5eeffe0349dc"
   },
   "outputs": [],
   "source": [
    "def q8(df):\n",
    "    \n",
    "    df[\"number_of_reviews\"] = df[\"number_of_reviews\"].astype(float)\n",
    "    mean_reviews = df[\"number_of_reviews\"].mean()\n",
    "    \n",
    "    df['no_reviews_wt_missing'] = df[\"number_of_reviews\"].fillna(mean_reviews)\n",
    "    \n",
    "    return df    "
   ]
  },
  {
   "cell_type": "code",
   "execution_count": 65,
   "metadata": {
    "deletable": false,
    "editable": false,
    "id": "ybWFkXmo0yaV",
    "nbgrader": {
     "cell_type": "code",
     "checksum": "7761cf7a5c3bfcdce5c0b7a048eb4cb2",
     "grade": true,
     "grade_id": "cell-b7ed1cb8b5f20700",
     "locked": true,
     "points": 2,
     "schema_version": 3,
     "solution": false,
     "task": false
    }
   },
   "outputs": [
    {
     "name": "stdout",
     "output_type": "stream",
     "text": [
      "no_reviews_wt_missing: test passed.\n"
     ]
    }
   ],
   "source": [
    "# [2 points] Visible Test\n",
    "q8(df)\n",
    "if len(df['no_reviews_wt_missing'].dropna()) != 22326:\n",
    "    raise ValueError('no_reviews_wt_missing: test failed.')\n",
    "else:\n",
    "    if df['no_reviews_wt_missing'].mean() - 30.47529 < 1e-3:\n",
    "        print('no_reviews_wt_missing: test passed.')\n",
    "    else:\n",
    "        raise ValueError('no_reviews_wt_missing: test failed.')"
   ]
  },
  {
   "cell_type": "code",
   "execution_count": 66,
   "metadata": {
    "deletable": false,
    "editable": false,
    "nbgrader": {
     "cell_type": "code",
     "checksum": "b8b7cd5ce1f236ef970ef12bd25a161a",
     "grade": true,
     "grade_id": "cell-d4015a609c85c8c4",
     "locked": true,
     "points": 8,
     "schema_version": 3,
     "solution": false,
     "task": false
    }
   },
   "outputs": [],
   "source": [
    "# [8 points]Hidden test for q8"
   ]
  },
  {
   "cell_type": "markdown",
   "metadata": {
    "deletable": false,
    "editable": false,
    "id": "tMtdAEUf72_k",
    "nbgrader": {
     "cell_type": "markdown",
     "checksum": "8ebf50d3332fce20cd720c74bc8246bf",
     "grade": false,
     "grade_id": "cell-b6a33fb660e439a3",
     "locked": true,
     "schema_version": 3,
     "solution": false,
     "task": false
    }
   },
   "source": [
    "### Section 5: Discovering Integrity Constraint Violations using pandas \n",
    "\n",
    "To discover additional data quality issues within this dataset, we consider three specific integrity constraints:\n",
    "1. The primary key column `id` should be unique (no duplicates).\n",
    "2. The column `availability_365` (the number of available days for booking within a year) should only contain values between 0 to 365.\n",
    "3. The value of `host_id` should determine the value of `host_name`, i.e., there is a functional dependency FD: `host_id` &rarr; `host_name`.\n",
    "\n",
    "Now we will detect rows that violate these ICs one by one."
   ]
  },
  {
   "cell_type": "markdown",
   "metadata": {
    "deletable": false,
    "editable": false,
    "id": "BwUHno4j9qrs",
    "nbgrader": {
     "cell_type": "markdown",
     "checksum": "bfcbcc5ca5f2e4ba9ad6f237987cd999",
     "grade": false,
     "grade_id": "cell-bccf7dfa7f64e7e9",
     "locked": true,
     "schema_version": 3,
     "solution": false,
     "task": false
    }
   },
   "source": [
    "###### **[10 points] Question 9:** \n",
    "\n",
    "The primary key column `id` should be unique (no duplicates). \n",
    "\n",
    "Please write a function that computes the duplicated rows as `ic1_violations` in DataFrame from the original table.\n",
    "\n",
    "> **Expected output format**: A pandas DataFrame object containing all rows with duplicated `id`. \n",
    "\n",
    "> **Hint**: [Groupby](https://pandas.pydata.org/docs/reference/api/pandas.DataFrame.groupby.html) the column `id` first to help check the duplicate rows. "
   ]
  },
  {
   "cell_type": "code",
   "execution_count": 69,
   "metadata": {
    "deletable": false,
    "id": "aD_mTAvB_ZwK",
    "nbgrader": {
     "cell_type": "code",
     "checksum": "24978da0a7187c866021a34500924178",
     "grade": false,
     "grade_id": "cell-93cb5bde5dc436b6",
     "locked": false,
     "schema_version": 3,
     "solution": true,
     "task": false
    }
   },
   "outputs": [],
   "source": [
    "def q9(df):\n",
    "    \n",
    "    duplicate_ids = df.groupby(\"id\").filter(lambda x: len(x) > 1)\n",
    "    \n",
    "    ic1_violations = duplicate_ids\n",
    "\n",
    "    return ic1_violations"
   ]
  },
  {
   "cell_type": "code",
   "execution_count": 70,
   "metadata": {
    "colab": {
     "base_uri": "https://localhost:8080/"
    },
    "deletable": false,
    "editable": false,
    "id": "BO2wM8CbAgpX",
    "nbgrader": {
     "cell_type": "code",
     "checksum": "b2e4daf0f9391846cd2465cca3d096db",
     "grade": true,
     "grade_id": "cell-9a039b34eb9d8f44",
     "locked": true,
     "points": 2,
     "schema_version": 3,
     "solution": false,
     "task": false
    },
    "outputId": "ff94614b-9c85-4111-9821-357d8c2550b6"
   },
   "outputs": [
    {
     "name": "stdout",
     "output_type": "stream",
     "text": [
      "ic1_violations: test passed.\n"
     ]
    }
   ],
   "source": [
    "# [2 points] Visible Test for IC #1\n",
    "# Please do not change the code below\n",
    "ic1_violations = q9(df)\n",
    "\n",
    "if type(ic1_violations) != pd.DataFrame:\n",
    "    raise ValueError('ic1_violations: test failed.')\n",
    "else:\n",
    "    if len(ic1_violations) == 4:\n",
    "        print('ic1_violations: test passed.')\n",
    "    else:\n",
    "        raise ValueError('ic1_violations: test failed.')"
   ]
  },
  {
   "cell_type": "code",
   "execution_count": 71,
   "metadata": {
    "colab": {
     "base_uri": "https://localhost:8080/"
    },
    "deletable": false,
    "editable": false,
    "id": "grJvjeBvAWH1",
    "nbgrader": {
     "cell_type": "code",
     "checksum": "e16ae6dc817d349e70ef7743cd1d9f59",
     "grade": true,
     "grade_id": "cell-e024a241119bfe8c",
     "locked": true,
     "points": 8,
     "schema_version": 3,
     "solution": false,
     "task": false
    },
    "outputId": "465abb8d-ef7d-445d-fc36-7ca5862f1389"
   },
   "outputs": [],
   "source": [
    "# [8 points] Hidden test for q9"
   ]
  },
  {
   "cell_type": "markdown",
   "metadata": {
    "deletable": false,
    "editable": false,
    "id": "57kDXdBPBix9",
    "nbgrader": {
     "cell_type": "markdown",
     "checksum": "190f64f05a0c4d1ebf1924a45436ca4a",
     "grade": false,
     "grade_id": "cell-e945bdd678d254d9",
     "locked": true,
     "schema_version": 3,
     "solution": false,
     "task": false
    }
   },
   "source": [
    "###### **[10 points] Question 10:** \n",
    "\n",
    "The column `availability_365` (the number of available days for booking within a year) should only contain values between 0 to 365.\n",
    "\n",
    "Write a function that extracts the violating rows as `ic2_violations` in DataFrame from the original table.\n",
    "\n",
    "> **Expected output format**: A pandas DataFrame object containing all rows with `availability_365` outside the range of 0, ..., 365. "
   ]
  },
  {
   "cell_type": "code",
   "execution_count": 72,
   "metadata": {
    "deletable": false,
    "id": "qJ7FINFsBd1c",
    "nbgrader": {
     "cell_type": "code",
     "checksum": "a19c6440a7b2c361fb2b6e49fb153056",
     "grade": false,
     "grade_id": "cell-f4e5468964c892e6",
     "locked": false,
     "schema_version": 3,
     "solution": true,
     "task": false
    }
   },
   "outputs": [],
   "source": [
    "def q10(df):\n",
    "    ic2_violations = df[(df[\"availability_365\"] < 0) | (df[\"availability_365\"] > 365)]\n",
    "\n",
    "    return ic2_violations "
   ]
  },
  {
   "cell_type": "code",
   "execution_count": 73,
   "metadata": {
    "colab": {
     "base_uri": "https://localhost:8080/"
    },
    "deletable": false,
    "editable": false,
    "id": "RenE8sK2ChQy",
    "nbgrader": {
     "cell_type": "code",
     "checksum": "15b65aa43875d1939d9a47ebd70adbc9",
     "grade": true,
     "grade_id": "cell-056bbd8ae67ea332",
     "locked": true,
     "points": 2,
     "schema_version": 3,
     "solution": false,
     "task": false
    },
    "outputId": "6d96abe4-5230-4803-faf0-02ef0cd8c634"
   },
   "outputs": [
    {
     "name": "stdout",
     "output_type": "stream",
     "text": [
      "ic2_violations: test passed.\n"
     ]
    }
   ],
   "source": [
    "# [2 points] Visible Test for IC #2\n",
    "# Please do not change the code below\n",
    "ic2_violations = q10(df)\n",
    "if type(ic2_violations) != pd.DataFrame:\n",
    "    raise ValueError('ic2_violations: test failed.')\n",
    "else:\n",
    "    if len(ic2_violations) == 61:\n",
    "        print('ic2_violations: test passed.')\n",
    "    else:\n",
    "        raise ValueError('ic2_violations: test failed.')"
   ]
  },
  {
   "cell_type": "code",
   "execution_count": 74,
   "metadata": {
    "colab": {
     "base_uri": "https://localhost:8080/"
    },
    "deletable": false,
    "editable": false,
    "id": "FYArD3FZCpim",
    "nbgrader": {
     "cell_type": "code",
     "checksum": "65aff36ddf7a7e355139565405b78a8e",
     "grade": true,
     "grade_id": "cell-81f570b8db6dd024",
     "locked": true,
     "points": 8,
     "schema_version": 3,
     "solution": false,
     "task": false
    },
    "outputId": "9e3d34f7-0d94-44ee-f270-d35ea2c0cf45"
   },
   "outputs": [],
   "source": [
    "# [8 points] Hidden test for q10"
   ]
  },
  {
   "cell_type": "markdown",
   "metadata": {
    "deletable": false,
    "editable": false,
    "id": "xKjn3Z_CC1zl",
    "nbgrader": {
     "cell_type": "markdown",
     "checksum": "ac0bf2a8633cd554b2c4fb3ee62d3d3d",
     "grade": false,
     "grade_id": "cell-5344328ddeede762",
     "locked": true,
     "schema_version": 3,
     "solution": false,
     "task": false
    }
   },
   "source": [
    "###### **[10 points] Question 11:** \n",
    "\n",
    "The value of `host_id` should determine the value of `host_name`, i.e., there is a functional dependency FD: `host_id` &rarr; `host_name`.\n",
    "\n",
    ">**Expected output format**: Your output should be a `dict{}` with the format of: \n",
    "```\n",
    "{(host_id, host_name): record_count}\n",
    "```\n",
    "where (`host_id`, `host_name`) tuples are all the existing combinations that exist as violations, the `count` values are the total count of records having the combination of (`host_id`, `host_name`). "
   ]
  },
  {
   "cell_type": "code",
   "execution_count": 75,
   "metadata": {
    "deletable": false,
    "id": "XsLIcRRHCvIv",
    "nbgrader": {
     "cell_type": "code",
     "checksum": "df0f26300a643606c0128efc03406d7b",
     "grade": false,
     "grade_id": "cell-b036040ef92057b8",
     "locked": false,
     "schema_version": 3,
     "solution": true,
     "task": false
    }
   },
   "outputs": [],
   "source": [
    "def q11(df):\n",
    "    \n",
    "    grouped = df.groupby([\"host_id\", \"host_name\"]).size().reset_index(name = \"count\")\n",
    "    \n",
    "    host_id_violations = df.groupby(\"host_id\")[\"host_name\"].nunique()\n",
    "    host_id_violations = host_id_violations[host_id_violations > 1].index\n",
    "    \n",
    "    ic3_violations = {}\n",
    "    \n",
    "    for host_id in host_id_violations:\n",
    "        violating_rows = grouped[grouped[\"host_id\"] == host_id]\n",
    "        \n",
    "        for _, row in violating_rows.iterrows():\n",
    "            ic3_violations[(row[\"host_id\"], row[\"host_name\"])] = row[\"count\"]\n",
    "    \n",
    "    return ic3_violations"
   ]
  },
  {
   "cell_type": "code",
   "execution_count": 76,
   "metadata": {
    "colab": {
     "base_uri": "https://localhost:8080/"
    },
    "deletable": false,
    "editable": false,
    "id": "q5q8BNwICzZ7",
    "nbgrader": {
     "cell_type": "code",
     "checksum": "3349cbfa00f1684f87192fdd0c7e9e76",
     "grade": true,
     "grade_id": "cell-ceddb6b1d945c899",
     "locked": true,
     "points": 2,
     "schema_version": 3,
     "solution": false,
     "task": false
    },
    "outputId": "59227f9b-0412-4cd3-806a-408f7bd8257f"
   },
   "outputs": [
    {
     "name": "stdout",
     "output_type": "stream",
     "text": [
      "ic3_violations: test passed.\n"
     ]
    }
   ],
   "source": [
    "# [2 points] Visible Tests for IC #3\n",
    "# Please do not change the code below\n",
    "ic3_violations = q11(df)\n",
    "if type(ic3_violations) != dict:\n",
    "    raise ValueError('ic3_violations: test failed.')\n",
    "else:\n",
    "    if (len(ic3_violations) == 19) and (sum(ic3_violations.values()) == 25):\n",
    "        print('ic3_violations: test passed.')\n",
    "    else:\n",
    "        raise ValueError('ic3_violations: test failed.')"
   ]
  },
  {
   "cell_type": "code",
   "execution_count": 77,
   "metadata": {
    "colab": {
     "base_uri": "https://localhost:8080/"
    },
    "deletable": false,
    "editable": false,
    "id": "D1QWPZf7CzYP",
    "nbgrader": {
     "cell_type": "code",
     "checksum": "4b4d9852c12611c910435fb12d41253b",
     "grade": true,
     "grade_id": "cell-4f0a1fa8e907d26f",
     "locked": true,
     "points": 8,
     "schema_version": 3,
     "solution": false,
     "task": false
    },
    "outputId": "ff70f5db-1ea5-4936-a218-707197f4ae57"
   },
   "outputs": [],
   "source": [
    "# [8 points] Hidden test for q11"
   ]
  },
  {
   "cell_type": "markdown",
   "metadata": {
    "deletable": false,
    "editable": false,
    "id": "6SB5xNksxGF9",
    "nbgrader": {
     "cell_type": "markdown",
     "checksum": "272ea1af789b2deaa1f610d512c29b9a",
     "grade": false,
     "grade_id": "cell-44f98de7bd56a5bb",
     "locked": true,
     "schema_version": 3,
     "solution": false,
     "task": false
    }
   },
   "source": [
    "#### Database restructuring  [Separating Tables]\n",
    "The dataset contains redundancies that can be avoided by breaking up a large table into separate tables, thus avoiding these redundancies (and associated update anomalies).\n",
    "\n",
    "Here, for columns `host_id` and `host_name`, we have observed many duplicates that are describing the same host. Such (near) duplications can lead to inconsistencies, update anomalies, and wasted storage.\n",
    "\n",
    "A common practice to address this issue is to restructure a large, non-normalized table into several smaller tables, based on known dependencies.  See https://en.wikipedia.org/wiki/Database_normalization for more on this topic.\n",
    "\n"
   ]
  },
  {
   "cell_type": "markdown",
   "metadata": {
    "deletable": false,
    "editable": false,
    "nbgrader": {
     "cell_type": "markdown",
     "checksum": "8831085673596c7cf07b7398022199ee",
     "grade": false,
     "grade_id": "cell-28dc34eede023823",
     "locked": true,
     "schema_version": 3,
     "solution": false,
     "task": false
    }
   },
   "source": [
    "###### **[10 points] Question 12:**  \n",
    "Here you will need to separate the `host_id`, `host_name`, and `calculated_host_listings_count` columns \n",
    "from the main table into a new table: `df_host` describing information about hosts. \n",
    "<span style=\"color:red\">DO NOT SORT THE RESULTING TABLE</span>.\n",
    "\n",
    "\n",
    "\n",
    ">**Expected output format**: The new table: `df_host` in pandas DataFrame that should contain three columns: `host_id`, `host_name`, and `calculated_host_listings_count`. The new table **should not** contain any duplicates.\n",
    "\n",
    "**Note**: For record combinations that violate IC for (host_id, host_name), we will keep the first occurrences from the original table."
   ]
  },
  {
   "cell_type": "code",
   "execution_count": 97,
   "metadata": {
    "deletable": false,
    "id": "Qeqq8YO67EdT",
    "nbgrader": {
     "cell_type": "code",
     "checksum": "c7e31a3680575e6647582c4a683f5e85",
     "grade": false,
     "grade_id": "cell-9b946424ebe63527",
     "locked": false,
     "schema_version": 3,
     "solution": true,
     "task": false
    }
   },
   "outputs": [],
   "source": [
    "def q12(df):\n",
    "\n",
    "    df_host = df[[\"host_id\", \"host_name\", \"calculated_host_listings_count\"]].copy()\n",
    "    \n",
    "    df_host = df_host.drop_duplicates(subset = [\"host_id\"], keep = \"first\").reset_index(drop=True)\n",
    "    \n",
    "    return df_host"
   ]
  },
  {
   "cell_type": "code",
   "execution_count": 98,
   "metadata": {
    "deletable": false,
    "editable": false,
    "id": "IuFOqQyp9_xu",
    "nbgrader": {
     "cell_type": "code",
     "checksum": "ff804634067f0a897b80e14b7cf49a4c",
     "grade": true,
     "grade_id": "cell-6d65fe70de0c52ce",
     "locked": true,
     "points": 2,
     "schema_version": 3,
     "solution": false,
     "task": false
    }
   },
   "outputs": [
    {
     "name": "stdout",
     "output_type": "stream",
     "text": [
      "Test passed.\n"
     ]
    }
   ],
   "source": [
    "# [2 points] Visible Tests\n",
    "df_host = q12(df)\n",
    "if (len(df_host) == 16710) and (df_host['calculated_host_listings_count'].astype(int).sum() == 24746):\n",
    "    print('Test passed.')\n",
    "else:\n",
    "    raise ValueError('Test failed.')"
   ]
  },
  {
   "cell_type": "code",
   "execution_count": 95,
   "metadata": {
    "deletable": false,
    "editable": false,
    "nbgrader": {
     "cell_type": "code",
     "checksum": "426f3b8585388eefbcafadccc0c91cc5",
     "grade": true,
     "grade_id": "cell-b9db2e7ee95b6426",
     "locked": true,
     "points": 8,
     "schema_version": 3,
     "solution": false,
     "task": false
    }
   },
   "outputs": [],
   "source": [
    "# [8 points] Hidden test for q12"
   ]
  },
  {
   "cell_type": "code",
   "execution_count": null,
   "metadata": {},
   "outputs": [],
   "source": []
  },
  {
   "cell_type": "code",
   "execution_count": null,
   "metadata": {},
   "outputs": [],
   "source": []
  }
 ],
 "metadata": {
  "colab": {
   "collapsed_sections": [],
   "name": "Python Pandas - Integrated.ipynb",
   "provenance": []
  },
  "kernelspec": {
   "display_name": "Python 3",
   "language": "python",
   "name": "python3"
  },
  "language_info": {
   "codemirror_mode": {
    "name": "ipython",
    "version": 3
   },
   "file_extension": ".py",
   "mimetype": "text/x-python",
   "name": "python",
   "nbconvert_exporter": "python",
   "pygments_lexer": "ipython3",
   "version": "3.7.6"
  }
 },
 "nbformat": 4,
 "nbformat_minor": 5
}
