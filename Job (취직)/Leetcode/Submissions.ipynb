{
 "cells": [
  {
   "cell_type": "markdown",
   "metadata": {},
   "source": []
  },
  {
   "cell_type": "markdown",
   "metadata": {},
   "source": [
    "# 121. Best Time to Buy and Sell Stock"
   ]
  },
  {
   "cell_type": "code",
   "execution_count": null,
   "metadata": {
    "vscode": {
     "languageId": "plaintext"
    }
   },
   "outputs": [],
   "source": [
    "class Solution:\n",
    "    def maxProfit(self, prices: List[int]) -> int:\n",
    "\n",
    "        # choose best day to buy stock + sell stock (different day in future)\n",
    "        # return max profit, 0 if no profit\n",
    "\n",
    "        max_profit = 0\n",
    "        min_price = float(\"inf\")\n",
    "\n",
    "        for i in prices:\n",
    "            max_profit = max(max_profit, i - min_price)\n",
    "            min_price = min(min_price, i)\n",
    "\n",
    "        return max_profit"
   ]
  },
  {
   "cell_type": "markdown",
   "metadata": {},
   "source": [
    "# 122. Best Time to Buy and Sell Stock II"
   ]
  },
  {
   "cell_type": "code",
   "execution_count": null,
   "metadata": {
    "vscode": {
     "languageId": "plaintext"
    }
   },
   "outputs": [],
   "source": [
    "# from itertools import pairwise\n",
    "\n",
    "class Solution:\n",
    "    def maxProfit(self, prices: List[int]) -> int:\n",
    "        # prices[i] is the price of a given stock on the ith day\n",
    "        # can only hold at most 1 stock at any time\n",
    "        # can sell on same day\n",
    "        # find max profit\n",
    "\n",
    "        max_profit = 0\n",
    "\n",
    "        for i, j in pairwise(prices):\n",
    "            profit = max(0, j - i)\n",
    "            max_profit += profit\n",
    "        \n",
    "        return max_profit"
   ]
  }
 ],
 "metadata": {
  "language_info": {
   "name": "python"
  }
 },
 "nbformat": 4,
 "nbformat_minor": 2
}
