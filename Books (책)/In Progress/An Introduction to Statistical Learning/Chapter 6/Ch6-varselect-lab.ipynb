{
 "cells": [
  {
   "cell_type": "markdown",
   "id": "1e9ee9d8",
   "metadata": {},
   "source": [
    "\n",
    "# Chapter 6"
   ]
  },
  {
   "cell_type": "markdown",
   "id": "98c1f26d",
   "metadata": {},
   "source": [
    "# Lab: Linear Models and Regularization Methods\n",
    "In this lab we implement many of the techniques discussed in this chapter.\n",
    "We import some of our libraries at this top\n",
    "level. "
   ]
  },
  {
   "cell_type": "code",
   "execution_count": null,
   "id": "564883b2",
   "metadata": {},
   "outputs": [],
   "source": [
    "import numpy as np\n",
    "import pandas as pd\n",
    "from matplotlib.pyplot import subplots\n",
    "from statsmodels.api import OLS\n",
    "import sklearn.model_selection as skm\n",
    "import sklearn.linear_model as skl\n",
    "from sklearn.preprocessing import StandardScaler\n",
    "from ISLP import load_data\n",
    "from ISLP.models import ModelSpec as MS\n",
    "from functools import partial\n"
   ]
  },
  {
   "cell_type": "markdown",
   "id": "0594e13e",
   "metadata": {},
   "source": [
    "We again collect the new imports\n",
    "needed for this lab."
   ]
  },
  {
   "cell_type": "code",
   "execution_count": null,
   "id": "9aa8d3ee",
   "metadata": {
    "lines_to_next_cell": 0
   },
   "outputs": [],
   "source": [
    "from sklearn.pipeline import Pipeline\n",
    "from sklearn.decomposition import PCA\n",
    "from sklearn.cross_decomposition import PLSRegression\n",
    "from ISLP.models import \\\n",
    "     (Stepwise,\n",
    "      sklearn_selected,\n",
    "      sklearn_selection_path)\n",
    "!pip install l0bnb\n",
    "from l0bnb import fit_path\n"
   ]
  },
  {
   "cell_type": "markdown",
   "id": "06a58c0b",
   "metadata": {},
   "source": [
    "We have installed the package `l0bnb` on the fly. Note the escaped `!pip install` --- this is run as a separate system command. \n",
    "## Subset Selection Methods\n",
    "Here we implement methods that reduce the number of parameters in a\n",
    "model by restricting the model to a subset of the input variables.\n",
    "\n",
    "### Forward Selection\n",
    " \n",
    "We will  apply the forward-selection approach to the  `Hitters` \n",
    "data.  We wish to predict a baseball player’s `Salary` on the\n",
    "basis of various statistics associated with performance in the\n",
    "previous year.\n",
    "\n",
    "First of all, we note that the `Salary` variable is missing for\n",
    "some of the players.  The `np.isnan()`  function can be used to\n",
    "identify the missing observations. It returns an array\n",
    "of the same shape as the input vector, with a `True` for any elements that\n",
    "are missing, and a `False` for non-missing elements.  The\n",
    "`sum()`  method can then be used to count all of the\n",
    "missing elements."
   ]
  },
  {
   "cell_type": "code",
   "execution_count": null,
   "id": "05371e33",
   "metadata": {},
   "outputs": [],
   "source": [
    "Hitters = load_data('Hitters')\n",
    "np.isnan(Hitters['Salary']).sum()\n"
   ]
  },
  {
   "cell_type": "markdown",
   "id": "8071b084",
   "metadata": {},
   "source": [
    " We see that `Salary` is missing for 59 players. The\n",
    "`dropna()`  method of data frames removes all of the rows that have missing\n",
    "values in any variable (by default --- see  `Hitters.dropna?`)."
   ]
  },
  {
   "cell_type": "code",
   "execution_count": null,
   "id": "aa5bc5b8",
   "metadata": {
    "lines_to_next_cell": 2
   },
   "outputs": [],
   "source": [
    "Hitters = Hitters.dropna();\n",
    "Hitters.shape\n"
   ]
  },
  {
   "cell_type": "markdown",
   "id": "d5017407",
   "metadata": {},
   "source": [
    "We first choose the best model using forward selection based on $C_p$ (6.2). This score\n",
    "is not built in as a metric to `sklearn`. We therefore define a function to compute it ourselves, and use\n",
    "it as a scorer. By default, `sklearn` tries to maximize a score, hence\n",
    "  our scoring function  computes the negative $C_p$ statistic."
   ]
  },
  {
   "cell_type": "code",
   "execution_count": null,
   "id": "10494837",
   "metadata": {
    "lines_to_next_cell": 0
   },
   "outputs": [],
   "source": [
    "def nCp(sigma2, estimator, X, Y):\n",
    "    \"Negative Cp statistic\"\n",
    "    n, p = X.shape\n",
    "    Yhat = estimator.predict(X)\n",
    "    RSS = np.sum((Y - Yhat)**2)\n",
    "    return -(RSS + 2 * p * sigma2) / n \n"
   ]
  },
  {
   "cell_type": "markdown",
   "id": "126e9322",
   "metadata": {},
   "source": [
    "We need to estimate the residual variance $\\sigma^2$, which is the first argument in our scoring function above.\n",
    "We will fit the biggest model, using all the variables, and estimate $\\sigma^2$ based on its MSE."
   ]
  },
  {
   "cell_type": "code",
   "execution_count": null,
   "id": "b8173cef",
   "metadata": {},
   "outputs": [],
   "source": [
    "design = MS(Hitters.columns.drop('Salary')).fit(Hitters)\n",
    "Y = np.array(Hitters['Salary'])\n",
    "X = design.transform(Hitters)\n",
    "sigma2 = OLS(Y,X).fit().scale\n"
   ]
  },
  {
   "cell_type": "markdown",
   "id": "f873c04f",
   "metadata": {},
   "source": [
    "The function `sklearn_selected()` expects a scorer with just three arguments --- the last three in the definition of `nCp()` above. We use the function `partial()` first seen in Section 5.3.3 to freeze the first argument with our estimate of $\\sigma^2$."
   ]
  },
  {
   "cell_type": "code",
   "execution_count": null,
   "id": "0cc8d7bd",
   "metadata": {
    "lines_to_next_cell": 0
   },
   "outputs": [],
   "source": [
    "neg_Cp = partial(nCp, sigma2)\n"
   ]
  },
  {
   "cell_type": "markdown",
   "id": "3ff5a859",
   "metadata": {},
   "source": [
    "We can now use `neg_Cp()` as a scorer for model selection.\n"
   ]
  },
  {
   "cell_type": "markdown",
   "id": "2b30b7bd",
   "metadata": {},
   "source": [
    "Along with a score we need to specify the search strategy. This is done through the object\n",
    "`Stepwise()`  in the `ISLP.models` package. The method `Stepwise.first_peak()`\n",
    "runs forward stepwise until any further additions to the model do not result\n",
    "in an improvement in the evaluation score. Similarly, the method `Stepwise.fixed_steps()`\n",
    "runs a fixed number of steps of stepwise search."
   ]
  },
  {
   "cell_type": "code",
   "execution_count": null,
   "id": "440b4c50",
   "metadata": {},
   "outputs": [],
   "source": [
    "strategy = Stepwise.first_peak(design,\n",
    "                               direction='forward',\n",
    "                               max_terms=len(design.terms))\n"
   ]
  },
  {
   "cell_type": "markdown",
   "id": "77079484",
   "metadata": {},
   "source": [
    "We now fit a linear regression model with `Salary` as outcome using forward\n",
    "selection. To do so, we use the function `sklearn_selected()`  from the `ISLP.models` package. This takes\n",
    "a model from `statsmodels` along with a search strategy and selects a model with its\n",
    "`fit` method. Without specifying a `scoring` argument, the score defaults to MSE, and so all 19 variables will be\n",
    "selected."
   ]
  },
  {
   "cell_type": "code",
   "execution_count": null,
   "id": "b33a8617",
   "metadata": {},
   "outputs": [],
   "source": [
    "hitters_MSE = sklearn_selected(OLS,\n",
    "                               strategy)\n",
    "hitters_MSE.fit(Hitters, Y)\n",
    "hitters_MSE.selected_state_\n"
   ]
  },
  {
   "cell_type": "markdown",
   "id": "233e45a1",
   "metadata": {},
   "source": [
    "Using `neg_Cp` results in a smaller model, as expected, with just 10 variables selected."
   ]
  },
  {
   "cell_type": "code",
   "execution_count": null,
   "id": "e7f554cf",
   "metadata": {},
   "outputs": [],
   "source": [
    "hitters_Cp = sklearn_selected(OLS,\n",
    "                               strategy,\n",
    "                               scoring=neg_Cp)\n",
    "hitters_Cp.fit(Hitters, Y)\n",
    "hitters_Cp.selected_state_\n"
   ]
  },
  {
   "cell_type": "markdown",
   "id": "75e8008b",
   "metadata": {},
   "source": [
    "### Choosing Among Models Using the Validation Set Approach and Cross-Validation\n",
    " \n",
    "As an  alternative to using $C_p$, we might try cross-validation to select a model in forward selection. For this, we need a\n",
    "method that stores the full path of models found in forward selection, and allows predictions for each of these. This can be done with the `sklearn_selection_path()` \n",
    "estimator from `ISLP.models`. The function `cross_val_predict()` from `ISLP.models`\n",
    "computes the cross-validated predictions for each of the models\n",
    "along the path, which we can use to evaluate the cross-validated MSE\n",
    "along the path."
   ]
  },
  {
   "cell_type": "markdown",
   "id": "fc753395",
   "metadata": {},
   "source": [
    "Here we define a strategy that fits the full forward selection path.\n",
    "While there are various parameter choices for `sklearn_selection_path()`,\n",
    "we use the defaults here, which selects the model at each step based on the biggest reduction  in RSS."
   ]
  },
  {
   "cell_type": "code",
   "execution_count": null,
   "id": "fb7091b8",
   "metadata": {},
   "outputs": [],
   "source": [
    "strategy = Stepwise.fixed_steps(design,\n",
    "                                len(design.terms),\n",
    "                                direction='forward')\n",
    "full_path = sklearn_selection_path(OLS, strategy)\n"
   ]
  },
  {
   "cell_type": "markdown",
   "id": "7f5f599f",
   "metadata": {},
   "source": [
    "We now fit the full forward-selection path on the `Hitters` data and compute the fitted values."
   ]
  },
  {
   "cell_type": "code",
   "execution_count": null,
   "id": "56adc728",
   "metadata": {
    "lines_to_next_cell": 2
   },
   "outputs": [],
   "source": [
    "full_path.fit(Hitters, Y)\n",
    "Yhat_in = full_path.predict(Hitters)\n",
    "Yhat_in.shape\n"
   ]
  },
  {
   "cell_type": "markdown",
   "id": "0b771d23",
   "metadata": {},
   "source": [
    "This gives us an array of fitted values --- 20 steps in all, including the fitted mean for the null model --- which we can use to evaluate\n",
    "in-sample MSE. As expected, the in-sample MSE improves each step we take,\n",
    "indicating we must use either the validation or cross-validation\n",
    "approach to select the number of steps. We fix the y-axis to range from\n",
    "50,000 to 250,000 to compare to the cross-validation and validation\n",
    "set MSE below, as well as other methods such as ridge regression, lasso and\n",
    "principal components regression."
   ]
  },
  {
   "cell_type": "code",
   "execution_count": null,
   "id": "387267d9",
   "metadata": {
    "lines_to_next_cell": 0
   },
   "outputs": [],
   "source": [
    "mse_fig, ax = subplots(figsize=(8,8))\n",
    "insample_mse = ((Yhat_in - Y[:,None])**2).mean(0)\n",
    "n_steps = insample_mse.shape[0]\n",
    "ax.plot(np.arange(n_steps),\n",
    "        insample_mse,\n",
    "        'k', # color black\n",
    "        label='In-sample')\n",
    "ax.set_ylabel('MSE',\n",
    "              fontsize=20)\n",
    "ax.set_xlabel('# steps of forward stepwise',\n",
    "              fontsize=20)\n",
    "ax.set_xticks(np.arange(n_steps)[::2])\n",
    "ax.legend()\n",
    "ax.set_ylim([50000,250000]);\n"
   ]
  },
  {
   "cell_type": "markdown",
   "id": "fc09acdc",
   "metadata": {},
   "source": [
    "Notice the expression `None` in `Y[:,None]` above.\n",
    "This adds an axis (dimension) to the one-dimensional array `Y`,\n",
    "which allows it to be recycled when subtracted from the two-dimensional `Yhat_in`."
   ]
  },
  {
   "cell_type": "markdown",
   "id": "2a1511cd",
   "metadata": {},
   "source": [
    "We are now ready to use cross-validation to estimate test error along\n",
    "the model path. We must use *only the training observations* to perform all aspects of model-fitting --- including\n",
    "variable selection.  Therefore, the determination of which model of a\n",
    "given size is best must be made using \\emph{only the training\n",
    "  observations} in each training fold. This point is subtle but important.  If the full data\n",
    "set is used to select the best subset at each step, then the validation\n",
    "set errors and cross-validation errors that we obtain will not be\n",
    "accurate estimates of the test error.\n",
    "\n",
    "We now compute the cross-validated predicted values using 5-fold cross-validation."
   ]
  },
  {
   "cell_type": "code",
   "execution_count": null,
   "id": "0047ba88",
   "metadata": {},
   "outputs": [],
   "source": [
    "K = 5\n",
    "kfold = skm.KFold(K,\n",
    "                  random_state=0,\n",
    "                  shuffle=True)\n",
    "Yhat_cv = skm.cross_val_predict(full_path,\n",
    "                                Hitters,\n",
    "                                Y,\n",
    "                                cv=kfold)\n",
    "Yhat_cv.shape\n"
   ]
  },
  {
   "cell_type": "markdown",
   "id": "c6df5d31",
   "metadata": {},
   "source": [
    "The prediction matrix `Yhat_cv` is the same shape as `Yhat_in`; the difference is that the predictions in each row, corresponding to a particular sample index, were made from models fit on a training fold that did not include that row.\n",
    "\n",
    "At each model along the path, we compute the MSE in each of the cross-validation folds.\n",
    "These we will average to get the  mean MSE, and can also use the individual values to compute a crude estimate of the standard error of the mean. {The estimate is crude because the five error estimates  are based on overlapping training sets, and hence are not independent.}\n",
    "Hence we must know the test indices for each cross-validation\n",
    "split. This can be found by using the `split()` method of `kfold`. Because\n",
    "we  fixed the random state above, whenever we split any array with the same\n",
    "number of rows as $Y$ we recover the same training and test indices, though we simply\n",
    "ignore the training indices below."
   ]
  },
  {
   "cell_type": "code",
   "execution_count": null,
   "id": "27b0eb63",
   "metadata": {},
   "outputs": [],
   "source": [
    "cv_mse = []\n",
    "for train_idx, test_idx in kfold.split(Y):\n",
    "    errors = (Yhat_cv[test_idx] - Y[test_idx,None])**2\n",
    "    cv_mse.append(errors.mean(0)) # column means\n",
    "cv_mse = np.array(cv_mse).T\n",
    "cv_mse.shape\n"
   ]
  },
  {
   "cell_type": "markdown",
   "id": "223556f8",
   "metadata": {},
   "source": [
    "We now add the cross-validation error estimates to our MSE plot.\n",
    "We include the mean error across the five folds, and the estimate of the standard error of the mean. "
   ]
  },
  {
   "cell_type": "code",
   "execution_count": null,
   "id": "a45fe587",
   "metadata": {},
   "outputs": [],
   "source": [
    "ax.errorbar(np.arange(n_steps), \n",
    "            cv_mse.mean(1),\n",
    "            cv_mse.std(1) / np.sqrt(K),\n",
    "            label='Cross-validated',\n",
    "            c='r') # color red\n",
    "ax.set_ylim([50000,250000])\n",
    "ax.legend()\n",
    "mse_fig\n"
   ]
  },
  {
   "cell_type": "markdown",
   "id": "fb4fa850",
   "metadata": {},
   "source": [
    "To repeat the above using the validation set approach, we simply change our\n",
    "`cv` argument to a validation set: one random split of the data into a test and training. We choose a test size\n",
    "of 20%, similar to the size of each test set in 5-fold cross-validation."
   ]
  },
  {
   "cell_type": "code",
   "execution_count": null,
   "id": "c71c2079",
   "metadata": {
    "lines_to_next_cell": 0
   },
   "outputs": [],
   "source": [
    "validation = skm.ShuffleSplit(n_splits=1, \n",
    "                              test_size=0.2,\n",
    "                              random_state=0)\n",
    "for train_idx, test_idx in validation.split(Y):\n",
    "    full_path.fit(Hitters.iloc[train_idx],\n",
    "                  Y[train_idx])\n",
    "    Yhat_val = full_path.predict(Hitters.iloc[test_idx])\n",
    "    errors = (Yhat_val - Y[test_idx,None])**2\n",
    "    validation_mse = errors.mean(0)\n"
   ]
  },
  {
   "cell_type": "markdown",
   "id": "d34bb7ab",
   "metadata": {},
   "source": [
    " As for the in-sample MSE case, the validation set approach does not provide standard errors."
   ]
  },
  {
   "cell_type": "code",
   "execution_count": null,
   "id": "2ff34edf",
   "metadata": {
    "lines_to_next_cell": 2
   },
   "outputs": [],
   "source": [
    "ax.plot(np.arange(n_steps), \n",
    "        validation_mse,\n",
    "        'b--', # color blue, broken line\n",
    "        label='Validation')\n",
    "ax.set_xticks(np.arange(n_steps)[::2])\n",
    "ax.set_ylim([50000,250000])\n",
    "ax.legend()\n",
    "mse_fig\n"
   ]
  },
  {
   "cell_type": "markdown",
   "id": "e5517334",
   "metadata": {},
   "source": [
    "### Best Subset Selection\n",
    "Forward stepwise is a *greedy* selection procedure; at each step it augments the current set by including one additional variable.  We now apply best subset selection  to the  `Hitters` \n",
    "data, which for every subset size, searches for the best set of predictors.  \n",
    "\n",
    "We will use a package called `l0bnb` to perform\n",
    "best subset selection.\n",
    "Instead of constraining the subset to be a given size,\n",
    "this package produces a path of solutions using the subset size as a\n",
    "penalty rather than a constraint. Although the distinction is subtle, the difference comes when we cross-validate. \n"
   ]
  },
  {
   "cell_type": "code",
   "execution_count": null,
   "id": "845f3fa0",
   "metadata": {
    "lines_to_next_cell": 0
   },
   "outputs": [],
   "source": [
    "D = design.fit_transform(Hitters)\n",
    "D = D.drop('intercept', axis=1)\n",
    "X = np.asarray(D)\n"
   ]
  },
  {
   "cell_type": "markdown",
   "id": "4c0d0e19",
   "metadata": {},
   "source": [
    "Here we excluded the first column corresponding to the intercept, as\n",
    "`l0bnb` will fit the intercept separately. We can find a path using the `fit_path()` function."
   ]
  },
  {
   "cell_type": "code",
   "execution_count": null,
   "id": "e9f943e7",
   "metadata": {},
   "outputs": [],
   "source": [
    "path = fit_path(X, \n",
    "                Y,\n",
    "                max_nonzeros=X.shape[1])\n"
   ]
  },
  {
   "cell_type": "markdown",
   "id": "67ef90b5",
   "metadata": {},
   "source": [
    "The function `fit_path()` returns a list whose values include the fitted coefficients as `B`, an intercept as `B0`, as well as a few other attributes related to the particular path algorithm used. Such details are beyond the scope of this book."
   ]
  },
  {
   "cell_type": "code",
   "execution_count": null,
   "id": "657ac171",
   "metadata": {
    "lines_to_next_cell": 0
   },
   "outputs": [],
   "source": [
    "path[3]\n"
   ]
  },
  {
   "cell_type": "markdown",
   "id": "2c9e040a",
   "metadata": {},
   "source": [
    "In the example above, we see that at the fourth step in the path, we have two nonzero coefficients in `'B'`, corresponding to the value $0.114$ for the penalty parameter `lambda_0`.\n",
    "We could make predictions using this sequence of fits on a validation set as a function of `lambda_0`, or with more work using cross-validation.\n",
    "\n",
    "## Ridge Regression and the Lasso\n",
    "We will use the `sklearn.linear_model` package (for which\n",
    "we use `skl` as shorthand below)\n",
    "to fit ridge and  lasso regularized linear models on the `Hitters` data.\n",
    "We start with the model matrix `X` (without an intercept) that we computed in the previous section on best subset regression.\n",
    "\n",
    "### Ridge Regression\n",
    "We will use the function `skl.ElasticNet()` to fit both  ridge and the lasso.\n",
    "To fit a *path* of ridge regressions models, we use\n",
    "`skl.ElasticNet.path()`, which can fit both ridge and lasso, as well as a hybrid mixture;  ridge regression\n",
    "corresponds to `l1_ratio=0`.\n",
    "It is good practice to standardize the columns of `X` in these applications, if the variables are measured in different units. Since `skl.ElasticNet()` does no normalization, we have to take care of that ourselves.\n",
    "Since we\n",
    "standardize first, in order to find coefficient\n",
    "estimates on the original scale, we must *unstandardize*\n",
    "the coefficient estimates. The parameter\n",
    "$\\lambda$ in (6.5) and (6.7) is called `alphas` in `sklearn`. In order to\n",
    "be consistent with the rest of this chapter, we use `lambdas`\n",
    "rather than `alphas` in what follows.  {At the time of publication, ridge fits like the one in code chunk [22] issue unwarranted convergence warning messages; we expect these to disappear as this package matures.}"
   ]
  },
  {
   "cell_type": "code",
   "execution_count": null,
   "id": "e576ad54",
   "metadata": {
    "lines_to_next_cell": 0
   },
   "outputs": [],
   "source": [
    "Xs = X - X.mean(0)[None,:]\n",
    "X_scale = X.std(0)\n",
    "Xs = Xs / X_scale[None,:]\n",
    "lambdas = 10**np.linspace(8, -2, 100) / Y.std()\n",
    "soln_array = skl.ElasticNet.path(Xs,\n",
    "                                 Y,\n",
    "                                 l1_ratio=0.,\n",
    "                                 alphas=lambdas)[1]\n",
    "soln_array.shape\n"
   ]
  },
  {
   "cell_type": "markdown",
   "id": "5ba706cd",
   "metadata": {},
   "source": [
    "Here we extract the array of coefficients corresponding to the solutions along the regularization path.\n",
    "By default the `skl.ElasticNet.path` method fits a path along\n",
    "an automatically selected range of $\\lambda$ values, except for the case when\n",
    "`l1_ratio=0`, which results in ridge regression (as is the case here). {The reason is rather technical; for all models except ridge, we can find the smallest value of $\\lambda$ for which all coefficients are zero. For ridge this value is $\\infty$.}  So here\n",
    "we have chosen to implement the function over a grid of values ranging\n",
    "from $\\lambda=10^{8}$ to $\\lambda=10^{-2}$ scaled by the standard\n",
    "deviation of $y$, essentially covering the full range of scenarios\n",
    "from the null model containing only the intercept, to the least\n",
    "squares fit.\n",
    "\n",
    "Associated with each value of $\\lambda$ is a vector of ridge\n",
    "regression coefficients,   that can be accessed by\n",
    "a column of `soln_array`. In this case, `soln_array` is a $19 \\times 100$ matrix, with\n",
    "19 rows (one for each predictor) and 100\n",
    "columns (one for each value of $\\lambda$).\n",
    "\n",
    "We transpose this matrix and turn it into a data frame to facilitate viewing and plotting."
   ]
  },
  {
   "cell_type": "code",
   "execution_count": null,
   "id": "3ef15192",
   "metadata": {},
   "outputs": [],
   "source": [
    "soln_path = pd.DataFrame(soln_array.T,\n",
    "                         columns=D.columns,\n",
    "                         index=-np.log(lambdas))\n",
    "soln_path.index.name = 'negative log(lambda)'\n",
    "soln_path\n"
   ]
  },
  {
   "cell_type": "markdown",
   "id": "f73f5191",
   "metadata": {},
   "source": [
    "We plot the paths to get a sense of how the coefficients vary with $\\lambda$.\n",
    "To control the location of the legend we first set `legend` to `False` in the\n",
    "plot method, adding it afterward with the `legend()` method of `ax`."
   ]
  },
  {
   "cell_type": "code",
   "execution_count": null,
   "id": "40b67c85",
   "metadata": {
    "lines_to_next_cell": 0
   },
   "outputs": [],
   "source": [
    "path_fig, ax = subplots(figsize=(8,8))\n",
    "soln_path.plot(ax=ax, legend=False)\n",
    "ax.set_xlabel('$-\\log(\\lambda)$', fontsize=20)\n",
    "ax.set_ylabel('Standardized coefficients', fontsize=20)\n",
    "ax.legend(loc='upper left');\n"
   ]
  },
  {
   "cell_type": "markdown",
   "id": "84e52006",
   "metadata": {},
   "source": [
    "(We have used `latex` formatting in the horizontal label, in order to format the Greek $\\lambda$ appropriately.) \n",
    "We expect the coefficient estimates to be much smaller, in terms of\n",
    "$\\ell_2$ norm, when a large value of $\\lambda$ is used, as compared to\n",
    "when a small value of $\\lambda$ is used. (Recall that the  $\\ell_2$ norm is the square root of the sum of squared coefficient values.) We display  the coefficients at the $40$th step,\n",
    "where $\\lambda$ is 25.535."
   ]
  },
  {
   "cell_type": "code",
   "execution_count": null,
   "id": "d14bd86c",
   "metadata": {},
   "outputs": [],
   "source": [
    "beta_hat = soln_path.loc[soln_path.index[39]]\n",
    "lambdas[39], beta_hat\n"
   ]
  },
  {
   "cell_type": "markdown",
   "id": "98ba8e99",
   "metadata": {},
   "source": [
    "Let’s compute the $\\ell_2$ norm of the standardized coefficients."
   ]
  },
  {
   "cell_type": "code",
   "execution_count": null,
   "id": "759e215a",
   "metadata": {},
   "outputs": [],
   "source": [
    "np.linalg.norm(beta_hat)\n"
   ]
  },
  {
   "cell_type": "markdown",
   "id": "ce79e7cb",
   "metadata": {},
   "source": [
    "In contrast, here is the $\\ell_2$ norm when $\\lambda$ is 2.44e-01.\n",
    "Note the much larger $\\ell_2$ norm of the\n",
    "coefficients associated with this smaller value of $\\lambda$."
   ]
  },
  {
   "cell_type": "code",
   "execution_count": null,
   "id": "b58d5ccb",
   "metadata": {
    "lines_to_next_cell": 0
   },
   "outputs": [],
   "source": [
    "beta_hat = soln_path.loc[soln_path.index[59]]\n",
    "lambdas[59], np.linalg.norm(beta_hat)\n"
   ]
  },
  {
   "cell_type": "markdown",
   "id": "cc9a1f70",
   "metadata": {},
   "source": [
    "Above we normalized `X` upfront, and fit the ridge model using `Xs`.\n",
    "The `Pipeline()`  object\n",
    "in `sklearn` provides a clear way to separate feature\n",
    "normalization from the fitting of the ridge model itself."
   ]
  },
  {
   "cell_type": "code",
   "execution_count": null,
   "id": "74b5cae2",
   "metadata": {},
   "outputs": [],
   "source": [
    "ridge = skl.ElasticNet(alpha=lambdas[59], l1_ratio=0)\n",
    "scaler = StandardScaler(with_mean=True,  with_std=True)\n",
    "pipe = Pipeline(steps=[('scaler', scaler), ('ridge', ridge)])\n",
    "pipe.fit(X, Y)\n"
   ]
  },
  {
   "cell_type": "markdown",
   "id": "7a69991b",
   "metadata": {},
   "source": [
    "We show that it gives the same $\\ell_2$ norm as in our previous fit on the standardized data."
   ]
  },
  {
   "cell_type": "code",
   "execution_count": null,
   "id": "a89989c3",
   "metadata": {
    "lines_to_next_cell": 0
   },
   "outputs": [],
   "source": [
    "np.linalg.norm(ridge.coef_)\n"
   ]
  },
  {
   "cell_type": "markdown",
   "id": "c86254e4",
   "metadata": {},
   "source": [
    " Notice that the operation `pipe.fit(X, Y)` above has changed the `ridge` object, and in particular has added attributes such as `coef_` that were not there before. \n",
    "### Estimating Test Error of Ridge Regression\n",
    "Choosing an *a priori* value of $\\lambda$ for ridge regression is\n",
    "difficult if not impossible. We will want to use the validation method\n",
    "or cross-validation to select the tuning parameter. The reader may not\n",
    "be surprised that the  `Pipeline()` approach can be used in\n",
    "`skm.cross_validate()` with either a validation method\n",
    "(i.e. `validation`) or $k$-fold cross-validation.\n",
    "\n",
    "We fix the random state of the splitter\n",
    "so that the results obtained will be reproducible."
   ]
  },
  {
   "cell_type": "code",
   "execution_count": null,
   "id": "3eb41945",
   "metadata": {},
   "outputs": [],
   "source": [
    "validation = skm.ShuffleSplit(n_splits=1,\n",
    "                              test_size=0.5,\n",
    "                              random_state=0)\n",
    "ridge.alpha = 0.01\n",
    "results = skm.cross_validate(ridge,\n",
    "                             X,\n",
    "                             Y,\n",
    "                             scoring='neg_mean_squared_error',\n",
    "                             cv=validation)\n",
    "-results['test_score']\n"
   ]
  },
  {
   "cell_type": "markdown",
   "id": "660f7c63",
   "metadata": {},
   "source": [
    "The test MSE is 1.342e+05.  Note\n",
    "that if we had instead simply fit a model with just an intercept, we\n",
    "would have predicted each test observation using the mean of the\n",
    "training observations. We can get the same result by fitting a ridge regression model\n",
    "with a *very* large value of $\\lambda$. Note that `1e10`\n",
    "means $10^{10}$."
   ]
  },
  {
   "cell_type": "code",
   "execution_count": null,
   "id": "635bc363",
   "metadata": {
    "lines_to_next_cell": 0
   },
   "outputs": [],
   "source": [
    "ridge.alpha = 1e10\n",
    "results = skm.cross_validate(ridge,\n",
    "                             X,\n",
    "                             Y,\n",
    "                             scoring='neg_mean_squared_error',\n",
    "                             cv=validation)\n",
    "-results['test_score']\n"
   ]
  },
  {
   "cell_type": "markdown",
   "id": "c14ad9a1",
   "metadata": {},
   "source": [
    "Obviously choosing $\\lambda=0.01$ is arbitrary,  so we will  use cross-validation or the validation-set\n",
    "approach to choose the tuning parameter $\\lambda$.\n",
    "The object `GridSearchCV()`  allows exhaustive\n",
    "grid search to choose such a parameter.\n",
    "\n",
    "We first use the validation set method\n",
    "to choose $\\lambda$."
   ]
  },
  {
   "cell_type": "code",
   "execution_count": null,
   "id": "e117267f",
   "metadata": {},
   "outputs": [],
   "source": [
    "param_grid = {'ridge__alpha': lambdas}\n",
    "grid = skm.GridSearchCV(pipe,\n",
    "                        param_grid,\n",
    "                        cv=validation,\n",
    "                        scoring='neg_mean_squared_error')\n",
    "grid.fit(X, Y)\n",
    "grid.best_params_['ridge__alpha']\n",
    "grid.best_estimator_\n"
   ]
  },
  {
   "cell_type": "markdown",
   "id": "bc09d074",
   "metadata": {},
   "source": [
    "Alternatively, we can use 5-fold cross-validation."
   ]
  },
  {
   "cell_type": "code",
   "execution_count": null,
   "id": "0037e9e4",
   "metadata": {
    "lines_to_next_cell": 0
   },
   "outputs": [],
   "source": [
    "grid = skm.GridSearchCV(pipe, \n",
    "                        param_grid,\n",
    "                        cv=kfold,\n",
    "                        scoring='neg_mean_squared_error')\n",
    "grid.fit(X, Y)\n",
    "grid.best_params_['ridge__alpha']\n",
    "grid.best_estimator_\n"
   ]
  },
  {
   "cell_type": "markdown",
   "id": "9690407d",
   "metadata": {},
   "source": [
    "Recall we set up the `kfold` object for 5-fold cross-validation on page 296. We now plot the cross-validated MSE as a function of $-\\log(\\lambda)$, which has shrinkage decreasing from left\n",
    "to right."
   ]
  },
  {
   "cell_type": "code",
   "execution_count": null,
   "id": "71f0f5c5",
   "metadata": {},
   "outputs": [],
   "source": [
    "ridge_fig, ax = subplots(figsize=(8,8))\n",
    "ax.errorbar(-np.log(lambdas),\n",
    "            -grid.cv_results_['mean_test_score'],\n",
    "            yerr=grid.cv_results_['std_test_score'] / np.sqrt(K))\n",
    "ax.set_ylim([50000,250000])\n",
    "ax.set_xlabel('$-\\log(\\lambda)$', fontsize=20)\n",
    "ax.set_ylabel('Cross-validated MSE', fontsize=20);\n"
   ]
  },
  {
   "cell_type": "markdown",
   "id": "11087e26",
   "metadata": {},
   "source": [
    "One can cross-validate different metrics to choose a parameter. The default\n",
    "metric for `skl.ElasticNet()` is test $R^2$.\n",
    "Let’s compare $R^2$ to MSE for cross-validation here."
   ]
  },
  {
   "cell_type": "code",
   "execution_count": null,
   "id": "fb265379",
   "metadata": {},
   "outputs": [],
   "source": [
    "grid_r2 = skm.GridSearchCV(pipe, \n",
    "                           param_grid,\n",
    "                           cv=kfold)\n",
    "grid_r2.fit(X, Y)\n"
   ]
  },
  {
   "cell_type": "markdown",
   "id": "9881fe49",
   "metadata": {},
   "source": [
    "Finally, let’s plot the results for cross-validated $R^2$."
   ]
  },
  {
   "cell_type": "code",
   "execution_count": null,
   "id": "79616f48",
   "metadata": {
    "lines_to_next_cell": 2
   },
   "outputs": [],
   "source": [
    "r2_fig, ax = subplots(figsize=(8,8))\n",
    "ax.errorbar(-np.log(lambdas),\n",
    "            grid_r2.cv_results_['mean_test_score'],\n",
    "            yerr=grid_r2.cv_results_['std_test_score'] / np.sqrt(K))\n",
    "ax.set_xlabel('$-\\log(\\lambda)$', fontsize=20)\n",
    "ax.set_ylabel('Cross-validated $R^2$', fontsize=20);\n"
   ]
  },
  {
   "cell_type": "markdown",
   "id": "5e700bf5",
   "metadata": {},
   "source": [
    "### Fast Cross-Validation for Solution Paths\n",
    "The ridge, lasso, and elastic net can be efficiently fit along a sequence of $\\lambda$ values, creating what is known as a *solution path* or *regularization path*. Hence there is specialized code to fit\n",
    "such paths, and to choose a suitable value of $\\lambda$ using cross-validation. Even with\n",
    "identical splits the results will not agree *exactly* with our `grid`\n",
    "above because the standardization of each feature  in `grid` is carried out on each fold,\n",
    "while in `pipeCV` below it is carried out only once.\n",
    "Nevertheless, the results are similar as the normalization\n",
    "is relatively stable across folds."
   ]
  },
  {
   "cell_type": "code",
   "execution_count": null,
   "id": "11e55883",
   "metadata": {},
   "outputs": [],
   "source": [
    "ridgeCV = skl.ElasticNetCV(alphas=lambdas, \n",
    "                           l1_ratio=0,\n",
    "                           cv=kfold)\n",
    "pipeCV = Pipeline(steps=[('scaler', scaler),\n",
    "                         ('ridge', ridgeCV)])\n",
    "pipeCV.fit(X, Y)\n"
   ]
  },
  {
   "cell_type": "markdown",
   "id": "75eb9d33",
   "metadata": {},
   "source": [
    "Let’s produce a plot again of the cross-validation error to see that\n",
    "it is similar to using `skm.GridSearchCV`."
   ]
  },
  {
   "cell_type": "code",
   "execution_count": null,
   "id": "d107f961",
   "metadata": {},
   "outputs": [],
   "source": [
    "tuned_ridge = pipeCV.named_steps['ridge']\n",
    "ridgeCV_fig, ax = subplots(figsize=(8,8))\n",
    "ax.errorbar(-np.log(lambdas),\n",
    "            tuned_ridge.mse_path_.mean(1),\n",
    "            yerr=tuned_ridge.mse_path_.std(1) / np.sqrt(K))\n",
    "ax.axvline(-np.log(tuned_ridge.alpha_), c='k', ls='--')\n",
    "ax.set_ylim([50000,250000])\n",
    "ax.set_xlabel('$-\\log(\\lambda)$', fontsize=20)\n",
    "ax.set_ylabel('Cross-validated MSE', fontsize=20);\n"
   ]
  },
  {
   "cell_type": "markdown",
   "id": "23a89187",
   "metadata": {},
   "source": [
    "We see that the value of $\\lambda$ that results in the\n",
    "smallest cross-validation error is 1.19e-02, available\n",
    "as the value `tuned_ridge.alpha_`. What is the test MSE\n",
    "associated with this value of $\\lambda$?"
   ]
  },
  {
   "cell_type": "code",
   "execution_count": null,
   "id": "21d65d1f",
   "metadata": {},
   "outputs": [],
   "source": [
    "np.min(tuned_ridge.mse_path_.mean(1))\n"
   ]
  },
  {
   "cell_type": "markdown",
   "id": "e8bb2108",
   "metadata": {},
   "source": [
    "This represents a further improvement over the test MSE that we got\n",
    "using $\\lambda=4$.  Finally, `tuned_ridge.coef_`\n",
    "has the coefficients fit on the entire data set\n",
    "at this value of  $\\lambda$."
   ]
  },
  {
   "cell_type": "code",
   "execution_count": null,
   "id": "11373de9",
   "metadata": {
    "lines_to_next_cell": 0
   },
   "outputs": [],
   "source": [
    "tuned_ridge.coef_\n"
   ]
  },
  {
   "cell_type": "markdown",
   "id": "8e7ab31e",
   "metadata": {},
   "source": [
    "As expected, none of the coefficients are zero—ridge regression does\n",
    "not perform variable selection!"
   ]
  },
  {
   "cell_type": "markdown",
   "id": "6e2cb7c4",
   "metadata": {},
   "source": [
    "### Evaluating Test Error of Cross-Validated Ridge\n",
    "Choosing $\\lambda$ using cross-validation provides a single regression\n",
    "estimator, similar to fitting a linear regression model as we saw in\n",
    "Chapter 3. It is therefore reasonable to estimate what its test error\n",
    "is. We run into a problem here in that cross-validation will have\n",
    "*touched* all of its data in choosing $\\lambda$, hence we have no\n",
    "further data to estimate test error. A compromise is to do an initial\n",
    "split of the data into two disjoint sets: a training set and a test set.\n",
    "We then fit a cross-validation\n",
    "tuned ridge regression on the training set, and evaluate its performance on the test set.\n",
    "We might call this cross-validation nested\n",
    "within the validation set approach. A priori there is no reason to use\n",
    "half of the data for each of the two sets in validation. Below, we use\n",
    "75% for training and 25% for test, with the estimator being ridge\n",
    "regression tuned using 5-fold cross-validation.  This can be achieved\n",
    "in code as follows:"
   ]
  },
  {
   "cell_type": "code",
   "execution_count": null,
   "id": "72181964",
   "metadata": {},
   "outputs": [],
   "source": [
    "outer_valid = skm.ShuffleSplit(n_splits=1, \n",
    "                               test_size=0.25,\n",
    "                               random_state=1)\n",
    "inner_cv = skm.KFold(n_splits=5,\n",
    "                     shuffle=True,\n",
    "                     random_state=2)\n",
    "ridgeCV = skl.ElasticNetCV(alphas=lambdas,\n",
    "                           l1_ratio=0,\n",
    "                           cv=inner_cv)\n",
    "pipeCV = Pipeline(steps=[('scaler', scaler),\n",
    "                         ('ridge', ridgeCV)]);\n"
   ]
  },
  {
   "cell_type": "code",
   "execution_count": null,
   "id": "4c3054b5",
   "metadata": {
    "lines_to_next_cell": 0
   },
   "outputs": [],
   "source": [
    "results = skm.cross_validate(pipeCV, \n",
    "                             X,\n",
    "                             Y,\n",
    "                             cv=outer_valid,\n",
    "                             scoring='neg_mean_squared_error')\n",
    "-results['test_score']\n"
   ]
  },
  {
   "cell_type": "markdown",
   "id": "cf2eba05",
   "metadata": {},
   "source": [
    "    "
   ]
  },
  {
   "cell_type": "markdown",
   "id": "f2f899f2",
   "metadata": {},
   "source": [
    "### The Lasso\n",
    "We saw that ridge regression with a wise choice of $\\lambda$ can\n",
    "outperform least squares as well as the null model on the\n",
    " `Hitters`  data set. We now ask whether the lasso can yield\n",
    "either a more accurate or a more interpretable model than ridge\n",
    "regression. In order to fit a lasso model, we once again use the\n",
    "`ElasticNetCV()`  function; however, this time we use the argument\n",
    "`l1_ratio=1`. Other than that change, we proceed just as we did in\n",
    "fitting a ridge model."
   ]
  },
  {
   "cell_type": "code",
   "execution_count": null,
   "id": "72bb0c1d",
   "metadata": {
    "lines_to_next_cell": 2
   },
   "outputs": [],
   "source": [
    "lassoCV = skl.ElasticNetCV(n_alphas=100, \n",
    "                           l1_ratio=1,\n",
    "                           cv=kfold)\n",
    "pipeCV = Pipeline(steps=[('scaler', scaler),\n",
    "                         ('lasso', lassoCV)])\n",
    "pipeCV.fit(X, Y)\n",
    "tuned_lasso = pipeCV.named_steps['lasso']\n",
    "tuned_lasso.alpha_\n"
   ]
  },
  {
   "cell_type": "code",
   "execution_count": null,
   "id": "69adc7ac",
   "metadata": {
    "lines_to_next_cell": 0
   },
   "outputs": [],
   "source": [
    "lambdas, soln_array = skl.Lasso.path(Xs, \n",
    "                                    Y,\n",
    "                                    l1_ratio=1,\n",
    "                                    n_alphas=100)[:2]\n",
    "soln_path = pd.DataFrame(soln_array.T,\n",
    "                         columns=D.columns,\n",
    "                         index=-np.log(lambdas))\n"
   ]
  },
  {
   "cell_type": "markdown",
   "id": "cc6d84d3",
   "metadata": {},
   "source": [
    "We can see from the coefficient plot of the standardized coefficients that depending on the choice of\n",
    "tuning parameter, some of the coefficients will be exactly equal to\n",
    "zero."
   ]
  },
  {
   "cell_type": "code",
   "execution_count": null,
   "id": "2aa75789",
   "metadata": {
    "lines_to_next_cell": 0
   },
   "outputs": [],
   "source": [
    "path_fig, ax = subplots(figsize=(8,8))\n",
    "soln_path.plot(ax=ax, legend=False)\n",
    "ax.legend(loc='upper left')\n",
    "ax.set_xlabel('$-\\log(\\lambda)$', fontsize=20)\n",
    "ax.set_ylabel('Standardized coefficiients', fontsize=20);\n"
   ]
  },
  {
   "cell_type": "markdown",
   "id": "87d43d52",
   "metadata": {},
   "source": [
    "The smallest cross-validated error is lower than the test set MSE of the null model\n",
    "and of least squares, and very similar to the test MSE of 115526.71 of ridge\n",
    "regression (page 303) with $\\lambda$ chosen by cross-validation."
   ]
  },
  {
   "cell_type": "code",
   "execution_count": null,
   "id": "e38c9bed",
   "metadata": {},
   "outputs": [],
   "source": [
    "np.min(tuned_lasso.mse_path_.mean(1))\n"
   ]
  },
  {
   "cell_type": "markdown",
   "id": "d091d74c",
   "metadata": {},
   "source": [
    "Let’s again produce a plot of the cross-validation error.\n"
   ]
  },
  {
   "cell_type": "code",
   "execution_count": null,
   "id": "53c42724",
   "metadata": {},
   "outputs": [],
   "source": [
    "lassoCV_fig, ax = subplots(figsize=(8,8))\n",
    "ax.errorbar(-np.log(tuned_lasso.alphas_),\n",
    "            tuned_lasso.mse_path_.mean(1),\n",
    "            yerr=tuned_lasso.mse_path_.std(1) / np.sqrt(K))\n",
    "ax.axvline(-np.log(tuned_lasso.alpha_), c='k', ls='--')\n",
    "ax.set_ylim([50000,250000])\n",
    "ax.set_xlabel('$-\\log(\\lambda)$', fontsize=20)\n",
    "ax.set_ylabel('Cross-validated MSE', fontsize=20);"
   ]
  },
  {
   "cell_type": "markdown",
   "id": "fad5c750",
   "metadata": {},
   "source": [
    "However, the lasso has a substantial advantage over ridge regression\n",
    "in that the resulting coefficient estimates are sparse. Here we see\n",
    "that 6 of the 19 coefficient estimates are exactly zero. So the lasso\n",
    "model with $\\lambda$ chosen by cross-validation contains only 13\n",
    "variables."
   ]
  },
  {
   "cell_type": "code",
   "execution_count": null,
   "id": "5f4942ba",
   "metadata": {},
   "outputs": [],
   "source": [
    "tuned_lasso.coef_\n"
   ]
  },
  {
   "cell_type": "markdown",
   "id": "af600bbc",
   "metadata": {},
   "source": [
    "As in ridge regression, we could evaluate the test error\n",
    "of cross-validated lasso by first splitting into\n",
    "test and training sets and internally running\n",
    "cross-validation on the training set. We leave\n",
    "this as an exercise."
   ]
  },
  {
   "cell_type": "markdown",
   "id": "8d9aeb7b",
   "metadata": {},
   "source": [
    "## PCR and PLS Regression\n",
    "\n",
    "### Principal Components Regression"
   ]
  },
  {
   "cell_type": "markdown",
   "id": "1ef4790c",
   "metadata": {},
   "source": [
    "Principal components regression (PCR) can be performed using\n",
    "`PCA()`  from the `sklearn.decomposition`\n",
    "module. We now apply PCR to the  `Hitters`  data, in order to\n",
    "predict `Salary`. Again, ensure that the missing values have\n",
    "been removed from the data, as described in Section 6.5.1.\n",
    "\n",
    "We use `LinearRegression()`  to fit the regression model\n",
    "here. Note that it fits an intercept by default, unlike\n",
    "the `OLS()` function seen earlier in Section 6.5.1."
   ]
  },
  {
   "cell_type": "code",
   "execution_count": null,
   "id": "72a876bb",
   "metadata": {},
   "outputs": [],
   "source": [
    "pca = PCA(n_components=2)\n",
    "linreg = skl.LinearRegression()\n",
    "pipe = Pipeline([('pca', pca),\n",
    "                 ('linreg', linreg)])\n",
    "pipe.fit(X, Y)\n",
    "pipe.named_steps['linreg'].coef_\n"
   ]
  },
  {
   "cell_type": "markdown",
   "id": "77d5a225",
   "metadata": {},
   "source": [
    "When performing PCA, the results vary depending\n",
    "on whether the data has been *standardized* or not.\n",
    "As in the earlier examples, this can be accomplished\n",
    "by including an additional step in the pipeline."
   ]
  },
  {
   "cell_type": "code",
   "execution_count": null,
   "id": "e0e821c6",
   "metadata": {},
   "outputs": [],
   "source": [
    "pipe = Pipeline([('scaler', scaler), \n",
    "                 ('pca', pca),\n",
    "                 ('linreg', linreg)])\n",
    "pipe.fit(X, Y)\n",
    "pipe.named_steps['linreg'].coef_\n"
   ]
  },
  {
   "cell_type": "markdown",
   "id": "0c5ebec9",
   "metadata": {},
   "source": [
    "We can of course use CV to choose the number of components, by\n",
    "using `skm.GridSearchCV`, in this\n",
    "case fixing the parameters to vary the\n",
    "`n_components`."
   ]
  },
  {
   "cell_type": "code",
   "execution_count": null,
   "id": "1ac6886c",
   "metadata": {},
   "outputs": [],
   "source": [
    "param_grid = {'pca__n_components': range(1, 20)}\n",
    "grid = skm.GridSearchCV(pipe,\n",
    "                        param_grid,\n",
    "                        cv=kfold,\n",
    "                        scoring='neg_mean_squared_error')\n",
    "grid.fit(X, Y)\n"
   ]
  },
  {
   "cell_type": "markdown",
   "id": "dc21d28d",
   "metadata": {},
   "source": [
    "Let’s plot the results as we have for other methods."
   ]
  },
  {
   "cell_type": "code",
   "execution_count": null,
   "id": "5e0c5a96",
   "metadata": {},
   "outputs": [],
   "source": [
    "pcr_fig, ax = subplots(figsize=(8,8))\n",
    "n_comp = param_grid['pca__n_components']\n",
    "ax.errorbar(n_comp,\n",
    "            -grid.cv_results_['mean_test_score'],\n",
    "            grid.cv_results_['std_test_score'] / np.sqrt(K))\n",
    "ax.set_ylabel('Cross-validated MSE', fontsize=20)\n",
    "ax.set_xlabel('# principal components', fontsize=20)\n",
    "ax.set_xticks(n_comp[::2])\n",
    "ax.set_ylim([50000,250000]);\n"
   ]
  },
  {
   "cell_type": "markdown",
   "id": "0c0aadc3",
   "metadata": {},
   "source": [
    "We see that the smallest cross-validation error occurs when\n",
    "17\n",
    "components are used. However, from the plot we also see that the\n",
    "cross-validation error is roughly the same when only one component is\n",
    "included in the model. This suggests that a model that uses just a\n",
    "small number of components might suffice.\n",
    "\n",
    "The CV score is provided for each possible number of components from\n",
    "1 to 19 inclusive. The `PCA()` method complains\n",
    "if we try to fit an intercept only with `n_components=0`\n",
    "so we also compute the MSE for just the null model with\n",
    "these splits."
   ]
  },
  {
   "cell_type": "code",
   "execution_count": null,
   "id": "9df0fb7f",
   "metadata": {
    "lines_to_next_cell": 2
   },
   "outputs": [],
   "source": [
    "Xn = np.zeros((X.shape[0], 1))\n",
    "cv_null = skm.cross_validate(linreg,\n",
    "                             Xn,\n",
    "                             Y,\n",
    "                             cv=kfold,\n",
    "                             scoring='neg_mean_squared_error')\n",
    "-cv_null['test_score'].mean()\n"
   ]
  },
  {
   "cell_type": "markdown",
   "id": "89f0e0bb",
   "metadata": {},
   "source": [
    "The `explained_variance_ratio_`\n",
    "attribute of our `PCA` object provides the *percentage of variance explained* in the predictors and in the response using\n",
    "different numbers of components. This concept is discussed in greater\n",
    "detail in Section 12.2."
   ]
  },
  {
   "cell_type": "code",
   "execution_count": null,
   "id": "458c21a4",
   "metadata": {},
   "outputs": [],
   "source": [
    "pipe.named_steps['pca'].explained_variance_ratio_\n"
   ]
  },
  {
   "cell_type": "markdown",
   "id": "bdd994d2",
   "metadata": {},
   "source": [
    "Briefly, we can think of\n",
    "this as the amount of information about the predictors\n",
    "that is captured using $M$ principal components. For example, setting\n",
    "$M=1$ only captures 38.31% of the variance, while $M=2$ captures an additional 21.84%, for a total of 60.15% of the variance.\n",
    "By  $M=6$ it increases to\n",
    "88.63%. Beyond this the increments continue to diminish, until we use all $M=p=19$ components, which captures all  100% of the variance.\n",
    "\n",
    " "
   ]
  },
  {
   "cell_type": "markdown",
   "id": "af5147dc",
   "metadata": {},
   "source": [
    "### Partial Least Squares\n",
    "Partial least squares (PLS) is implemented in the\n",
    "`PLSRegression()`  function.\n",
    "\n",
    " "
   ]
  },
  {
   "cell_type": "code",
   "execution_count": null,
   "id": "f49d464e",
   "metadata": {},
   "outputs": [],
   "source": [
    "pls = PLSRegression(n_components=2, \n",
    "                    scale=True)\n",
    "pls.fit(X, Y)\n"
   ]
  },
  {
   "cell_type": "markdown",
   "id": "7a07b988",
   "metadata": {},
   "source": [
    "As was the case in PCR, we will want to\n",
    "use CV to choose the number of components."
   ]
  },
  {
   "cell_type": "code",
   "execution_count": null,
   "id": "8e118b5b",
   "metadata": {},
   "outputs": [],
   "source": [
    "param_grid = {'n_components':range(1, 20)}\n",
    "grid = skm.GridSearchCV(pls,\n",
    "                        param_grid,\n",
    "                        cv=kfold,\n",
    "                        scoring='neg_mean_squared_error')\n",
    "grid.fit(X, Y)\n"
   ]
  },
  {
   "cell_type": "markdown",
   "id": "99dec910",
   "metadata": {},
   "source": [
    "As for our other methods, we plot the MSE."
   ]
  },
  {
   "cell_type": "code",
   "execution_count": null,
   "id": "0f98407c",
   "metadata": {},
   "outputs": [],
   "source": [
    "pls_fig, ax = subplots(figsize=(8,8))\n",
    "n_comp = param_grid['n_components']\n",
    "ax.errorbar(n_comp,\n",
    "            -grid.cv_results_['mean_test_score'],\n",
    "            grid.cv_results_['std_test_score'] / np.sqrt(K))\n",
    "ax.set_ylabel('Cross-validated MSE', fontsize=20)\n",
    "ax.set_xlabel('# principal components', fontsize=20)\n",
    "ax.set_xticks(n_comp[::2])\n",
    "ax.set_ylim([50000,250000]);\n"
   ]
  },
  {
   "cell_type": "markdown",
   "id": "59ef9b7f",
   "metadata": {},
   "source": [
    "CV error is minimized at 12,\n",
    "though there is little noticable difference between this point and a much lower number like 2 or 3 components.\n",
    "\n"
   ]
  }
 ],
 "metadata": {
  "jupytext": {
   "cell_metadata_filter": "-all",
   "main_language": "python",
   "notebook_metadata_filter": "-all"
  }
 },
 "nbformat": 4,
 "nbformat_minor": 5
}
