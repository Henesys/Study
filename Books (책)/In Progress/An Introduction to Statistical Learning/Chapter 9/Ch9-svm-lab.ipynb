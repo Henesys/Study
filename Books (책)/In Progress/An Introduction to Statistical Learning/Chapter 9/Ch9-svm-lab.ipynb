{
 "cells": [
  {
   "cell_type": "markdown",
   "id": "d45c6d2b",
   "metadata": {},
   "source": [
    "\n",
    "# Chapter 9\n",
    "\n"
   ]
  },
  {
   "cell_type": "markdown",
   "id": "94d1e03c",
   "metadata": {},
   "source": [
    "# Lab: Support Vector Machines\n",
    "In this lab, we use the `sklearn.svm` library to demonstrate the support\n",
    "vector classifier and the support vector machine.\n",
    "\n",
    "We  import some of our usual libraries."
   ]
  },
  {
   "cell_type": "code",
   "execution_count": null,
   "id": "eeaa5be0",
   "metadata": {
    "lines_to_next_cell": 0
   },
   "outputs": [],
   "source": [
    "import numpy as np\n",
    "from matplotlib.pyplot import subplots, cm\n",
    "import sklearn.model_selection as skm\n",
    "from ISLP import load_data, confusion_table\n"
   ]
  },
  {
   "cell_type": "markdown",
   "id": "26ebd377",
   "metadata": {},
   "source": [
    "We also collect the new imports\n",
    "needed for this lab."
   ]
  },
  {
   "cell_type": "code",
   "execution_count": null,
   "id": "41a59634",
   "metadata": {},
   "outputs": [],
   "source": [
    "from sklearn.svm import SVC\n",
    "from ISLP.svm import plot as plot_svm\n",
    "from sklearn.metrics import RocCurveDisplay\n"
   ]
  },
  {
   "cell_type": "markdown",
   "id": "f197b846",
   "metadata": {},
   "source": [
    "We will use the function `RocCurveDisplay.from_estimator()` to\n",
    "produce several ROC plots, using a shorthand `roc_curve`."
   ]
  },
  {
   "cell_type": "code",
   "execution_count": null,
   "id": "c9a175d7",
   "metadata": {},
   "outputs": [],
   "source": [
    "roc_curve = RocCurveDisplay.from_estimator # shorthand\n"
   ]
  },
  {
   "cell_type": "markdown",
   "id": "f666c212",
   "metadata": {},
   "source": [
    "## Support Vector Classifier\n",
    "\n",
    "We now use the `SupportVectorClassifier()` function (abbreviated `SVC()`) from `sklearn` to fit the support vector\n",
    "classifier for a given value of the parameter `C`.  The\n",
    "`C` argument allows us to specify the cost of a violation to\n",
    "the margin.  When the `cost` argument is small, then the margins\n",
    "will be wide and many support vectors will be on the margin or will\n",
    "violate the margin.  When the `C` argument is large, then the\n",
    "margins will be narrow and there will be few support vectors on the\n",
    "margin or violating the margin.\n",
    "\n",
    "Here we demonstrate\n",
    "the use of `SVC()` on a two-dimensional example, so that we can\n",
    "plot the resulting decision boundary. We begin by generating the\n",
    "observations, which belong to two classes, and checking whether the\n",
    "classes are linearly separable."
   ]
  },
  {
   "cell_type": "code",
   "execution_count": null,
   "id": "a7216b47",
   "metadata": {
    "lines_to_next_cell": 0
   },
   "outputs": [],
   "source": [
    "rng = np.random.default_rng(1)\n",
    "X = rng.standard_normal((50, 2))\n",
    "y = np.array([-1]*25+[1]*25)\n",
    "X[y==1] += 1\n",
    "fig, ax = subplots(figsize=(8,8))\n",
    "ax.scatter(X[:,0],\n",
    "           X[:,1],\n",
    "           c=y,\n",
    "           cmap=cm.coolwarm);\n"
   ]
  },
  {
   "cell_type": "markdown",
   "id": "7b4aff06",
   "metadata": {},
   "source": [
    "They are not.  We now fit the classifier."
   ]
  },
  {
   "cell_type": "code",
   "execution_count": null,
   "id": "ed329198",
   "metadata": {
    "lines_to_next_cell": 2
   },
   "outputs": [],
   "source": [
    "svm_linear = SVC(C=10, kernel='linear')\n",
    "svm_linear.fit(X, y)\n"
   ]
  },
  {
   "cell_type": "markdown",
   "id": "5e6b4c79",
   "metadata": {},
   "source": [
    "The support vector classifier with two features can\n",
    "be visualized by plotting values of its *decision function*.\n",
    "We have included a function for this in the `ISLP` package (inspired by a similar\n",
    "example in the `sklearn` docs)."
   ]
  },
  {
   "cell_type": "code",
   "execution_count": null,
   "id": "95494b8b",
   "metadata": {},
   "outputs": [],
   "source": [
    "fig, ax = subplots(figsize=(8,8))\n",
    "plot_svm(X,\n",
    "         y,\n",
    "         svm_linear,\n",
    "         ax=ax)\n"
   ]
  },
  {
   "cell_type": "markdown",
   "id": "f6ce1246",
   "metadata": {},
   "source": [
    "The decision\n",
    "boundary between the two classes is linear (because we used the\n",
    "argument `kernel='linear'`). The support vectors are marked with `+`\n",
    "and the remaining observations are plotted as circles.\n",
    "\n",
    "What if we instead used a smaller value of the cost parameter?"
   ]
  },
  {
   "cell_type": "code",
   "execution_count": null,
   "id": "98c2236f",
   "metadata": {
    "lines_to_next_cell": 0
   },
   "outputs": [],
   "source": [
    "svm_linear_small = SVC(C=0.1, kernel='linear')\n",
    "svm_linear_small.fit(X, y)\n",
    "fig, ax = subplots(figsize=(8,8))\n",
    "plot_svm(X,\n",
    "         y,\n",
    "         svm_linear_small,\n",
    "         ax=ax)\n"
   ]
  },
  {
   "cell_type": "markdown",
   "id": "906f4bb8",
   "metadata": {},
   "source": [
    "With  a smaller value of the cost parameter, we\n",
    "obtain a larger number of support vectors, because the margin is now\n",
    "wider. For linear kernels, we can extract the\n",
    "coefficients of the linear decision boundary as follows:"
   ]
  },
  {
   "cell_type": "code",
   "execution_count": null,
   "id": "b498f594",
   "metadata": {
    "lines_to_next_cell": 2
   },
   "outputs": [],
   "source": [
    "svm_linear.coef_\n"
   ]
  },
  {
   "cell_type": "markdown",
   "id": "90a0ee53",
   "metadata": {},
   "source": [
    "Since the support vector machine is an estimator in `sklearn`, we\n",
    "can use the usual machinery to tune it."
   ]
  },
  {
   "cell_type": "code",
   "execution_count": null,
   "id": "b65e80d6",
   "metadata": {
    "lines_to_next_cell": 2
   },
   "outputs": [],
   "source": [
    "kfold = skm.KFold(5, \n",
    "                  random_state=0,\n",
    "                  shuffle=True)\n",
    "grid = skm.GridSearchCV(svm_linear,\n",
    "                        {'C':[0.001,0.01,0.1,1,5,10,100]},\n",
    "                        refit=True,\n",
    "                        cv=kfold,\n",
    "                        scoring='accuracy')\n",
    "grid.fit(X, y)\n",
    "grid.best_params_\n"
   ]
  },
  {
   "cell_type": "markdown",
   "id": "d390528c",
   "metadata": {},
   "source": [
    "We can easily access the cross-validation errors for each of these models\n",
    "in  `grid.cv_results_`. This prints out a lot of detail, so we\n",
    "extract the accuracy results only."
   ]
  },
  {
   "cell_type": "code",
   "execution_count": null,
   "id": "bba8fad7",
   "metadata": {
    "lines_to_next_cell": 0
   },
   "outputs": [],
   "source": [
    "grid.cv_results_[('mean_test_score')]\n"
   ]
  },
  {
   "cell_type": "markdown",
   "id": "703e2d43",
   "metadata": {},
   "source": [
    "We see that  `C=1` results in the highest cross-validation\n",
    "accuracy of 0.74, though\n",
    "the accuracy is the same for several values of `C`.\n",
    "The classifier `grid.best_estimator_` can be used to predict the class\n",
    "label on a set of test observations. Let’s generate a test data set."
   ]
  },
  {
   "cell_type": "code",
   "execution_count": null,
   "id": "ad64269d",
   "metadata": {},
   "outputs": [],
   "source": [
    "X_test = rng.standard_normal((20, 2))\n",
    "y_test = np.array([-1]*10+[1]*10)\n",
    "X_test[y_test==1] += 1\n"
   ]
  },
  {
   "cell_type": "markdown",
   "id": "db41f5e2",
   "metadata": {},
   "source": [
    "Now we predict the class labels of these test observations. Here we\n",
    "use the best model selected by cross-validation in order to make the\n",
    "predictions."
   ]
  },
  {
   "cell_type": "code",
   "execution_count": null,
   "id": "5107fca1",
   "metadata": {},
   "outputs": [],
   "source": [
    "best_ = grid.best_estimator_\n",
    "y_test_hat = best_.predict(X_test)\n",
    "confusion_table(y_test_hat, y_test)\n"
   ]
  },
  {
   "cell_type": "markdown",
   "id": "bbfc8005",
   "metadata": {},
   "source": [
    "Thus, with this value of `C`,\n",
    "70% of the test\n",
    "observations are correctly classified.  What if we had instead used\n",
    "`C=0.001`?"
   ]
  },
  {
   "cell_type": "code",
   "execution_count": null,
   "id": "0320d9e0",
   "metadata": {},
   "outputs": [],
   "source": [
    "svm_ = SVC(C=0.001,\n",
    "           kernel='linear').fit(X, y)\n",
    "y_test_hat = svm_.predict(X_test)\n",
    "confusion_table(y_test_hat, y_test)\n"
   ]
  },
  {
   "cell_type": "markdown",
   "id": "427d775f",
   "metadata": {},
   "source": [
    "In this case 60% of test observations are correctly classified.\n",
    "\n",
    "We now consider a situation in which the two classes are linearly\n",
    "separable. Then we can find an optimal separating hyperplane using the\n",
    "`SVC()` estimator.  We first\n",
    "further separate the two classes in our simulated data so that they\n",
    "are linearly separable:"
   ]
  },
  {
   "cell_type": "code",
   "execution_count": null,
   "id": "84d7e778",
   "metadata": {},
   "outputs": [],
   "source": [
    "X[y==1] += 1.9;\n",
    "fig, ax = subplots(figsize=(8,8))\n",
    "ax.scatter(X[:,0], X[:,1], c=y, cmap=cm.coolwarm);\n"
   ]
  },
  {
   "cell_type": "markdown",
   "id": "ff7bdad1",
   "metadata": {},
   "source": [
    "Now the observations are just barely linearly separable."
   ]
  },
  {
   "cell_type": "code",
   "execution_count": null,
   "id": "abb1f8be",
   "metadata": {},
   "outputs": [],
   "source": [
    "svm_ = SVC(C=1e5, kernel='linear').fit(X, y)\n",
    "y_hat = svm_.predict(X)\n",
    "confusion_table(y_hat, y)\n"
   ]
  },
  {
   "cell_type": "markdown",
   "id": "c44297cc",
   "metadata": {},
   "source": [
    "We fit the\n",
    "support vector classifier and plot the resulting hyperplane, using a\n",
    "very large value of `C` so that no observations are\n",
    "misclassified. "
   ]
  },
  {
   "cell_type": "code",
   "execution_count": null,
   "id": "2e4ed2f5",
   "metadata": {
    "lines_to_next_cell": 0
   },
   "outputs": [],
   "source": [
    "fig, ax = subplots(figsize=(8,8))\n",
    "plot_svm(X,\n",
    "         y,\n",
    "         svm_,\n",
    "         ax=ax)\n"
   ]
  },
  {
   "cell_type": "markdown",
   "id": "2836d70d",
   "metadata": {},
   "source": [
    "Indeed no training errors were made and only three support vectors were used.\n",
    "In fact, the large value of `C` also means that these three support points are *on the margin*, and define it.\n",
    "One may wonder how good the classifier could be on test data that depends on only three data points!\n",
    " We now try a smaller\n",
    "value of `C`."
   ]
  },
  {
   "cell_type": "code",
   "execution_count": null,
   "id": "164a611c",
   "metadata": {},
   "outputs": [],
   "source": [
    "svm_ = SVC(C=0.1, kernel='linear').fit(X, y)\n",
    "y_hat = svm_.predict(X)\n",
    "confusion_table(y_hat, y)\n"
   ]
  },
  {
   "cell_type": "markdown",
   "id": "39a432d1",
   "metadata": {},
   "source": [
    "Using `C=0.1`, we again do not misclassify any training observations, but we\n",
    "also obtain a much wider margin and make use of twelve support\n",
    "vectors. These jointly define the orientation of the decision boundary, and since there are more of them, it is more stable. It seems possible that this model will perform better on test\n",
    "data than the model with `C=1e5` (and indeed, a simple experiment with a large test set would bear this out)."
   ]
  },
  {
   "cell_type": "code",
   "execution_count": null,
   "id": "c67591a1",
   "metadata": {
    "lines_to_next_cell": 2
   },
   "outputs": [],
   "source": [
    "fig, ax = subplots(figsize=(8,8))\n",
    "plot_svm(X,\n",
    "         y,\n",
    "         svm_,\n",
    "         ax=ax)\n"
   ]
  },
  {
   "cell_type": "markdown",
   "id": "25e61f65",
   "metadata": {},
   "source": [
    "## Support Vector Machine\n",
    "In order to fit an SVM using a non-linear kernel, we once again use\n",
    "the `SVC()`  estimator. However, now we use a different value\n",
    "of the parameter `kernel`. To fit an SVM with a polynomial\n",
    "kernel we use `kernel=\"poly\"`, and to fit an SVM with a\n",
    "radial kernel  we use\n",
    "`kernel=\"rbf\"`.  In the former case we also use the\n",
    "`degree` argument to specify a degree for the polynomial kernel\n",
    "(this is $d$ in (9.22)), and in the latter case we use\n",
    "`gamma` to specify a value of $\\gamma$ for the radial basis\n",
    "kernel  (9.24).\n",
    "\n",
    "We first generate some data with a non-linear class boundary, as follows:"
   ]
  },
  {
   "cell_type": "code",
   "execution_count": null,
   "id": "322be574",
   "metadata": {},
   "outputs": [],
   "source": [
    "X = rng.standard_normal((200, 2))\n",
    "X[:100] += 2\n",
    "X[100:150] -= 2\n",
    "y = np.array([1]*150+[2]*50)\n"
   ]
  },
  {
   "cell_type": "markdown",
   "id": "22fe2182",
   "metadata": {},
   "source": [
    "Plotting the data makes it clear that the class boundary is indeed non-linear."
   ]
  },
  {
   "cell_type": "code",
   "execution_count": null,
   "id": "04fda182",
   "metadata": {
    "lines_to_next_cell": 2
   },
   "outputs": [],
   "source": [
    "fig, ax = subplots(figsize=(8,8))\n",
    "ax.scatter(X[:,0],\n",
    "           X[:,1],\n",
    "           c=y,\n",
    "           cmap=cm.coolwarm)\n"
   ]
  },
  {
   "cell_type": "markdown",
   "id": "64913fe3",
   "metadata": {},
   "source": [
    "The data is randomly split into training and testing groups. We then\n",
    "fit the training data using the `SVC()`  estimator with a\n",
    "radial kernel and $\\gamma=1$:"
   ]
  },
  {
   "cell_type": "code",
   "execution_count": null,
   "id": "0c2690d1",
   "metadata": {},
   "outputs": [],
   "source": [
    "(X_train, \n",
    " X_test,\n",
    " y_train,\n",
    " y_test) = skm.train_test_split(X,\n",
    "                                y,\n",
    "                                test_size=0.5,\n",
    "                                random_state=0)\n",
    "svm_rbf = SVC(kernel=\"rbf\", gamma=1, C=1)\n",
    "svm_rbf.fit(X_train, y_train)\n"
   ]
  },
  {
   "cell_type": "markdown",
   "id": "5da9efdb",
   "metadata": {},
   "source": [
    "The plot shows that the resulting SVM has a decidedly non-linear\n",
    "boundary. "
   ]
  },
  {
   "cell_type": "code",
   "execution_count": null,
   "id": "3eb171e8",
   "metadata": {},
   "outputs": [],
   "source": [
    "fig, ax = subplots(figsize=(8,8))\n",
    "plot_svm(X_train,\n",
    "         y_train,\n",
    "         svm_rbf,\n",
    "         ax=ax)\n"
   ]
  },
  {
   "cell_type": "markdown",
   "id": "ab5b1446",
   "metadata": {},
   "source": [
    "We can see from the figure that there are a fair number of training\n",
    "errors in this SVM fit.  If we increase the value of `C`, we\n",
    "can reduce the number of training errors. However, this comes at the\n",
    "price of a more irregular decision boundary that seems to be at risk\n",
    "of overfitting the data."
   ]
  },
  {
   "cell_type": "code",
   "execution_count": null,
   "id": "9a6b905b",
   "metadata": {},
   "outputs": [],
   "source": [
    "svm_rbf = SVC(kernel=\"rbf\", gamma=1, C=1e5)\n",
    "svm_rbf.fit(X_train, y_train)\n",
    "fig, ax = subplots(figsize=(8,8))\n",
    "plot_svm(X_train,\n",
    "         y_train,\n",
    "         svm_rbf,\n",
    "         ax=ax)\n"
   ]
  },
  {
   "cell_type": "markdown",
   "id": "300c1b8b",
   "metadata": {},
   "source": [
    "We can perform cross-validation using `skm.GridSearchCV()`  to select the\n",
    "best choice of $\\gamma$ and `C` for an SVM with a radial\n",
    "kernel:"
   ]
  },
  {
   "cell_type": "code",
   "execution_count": null,
   "id": "5ab01d6c",
   "metadata": {},
   "outputs": [],
   "source": [
    "kfold = skm.KFold(5, \n",
    "                  random_state=0,\n",
    "                  shuffle=True)\n",
    "grid = skm.GridSearchCV(svm_rbf,\n",
    "                        {'C':[0.1,1,10,100,1000],\n",
    "                         'gamma':[0.5,1,2,3,4]},\n",
    "                        refit=True,\n",
    "                        cv=kfold,\n",
    "                        scoring='accuracy');\n",
    "grid.fit(X_train, y_train)\n",
    "grid.best_params_\n"
   ]
  },
  {
   "cell_type": "markdown",
   "id": "1bb987ae",
   "metadata": {},
   "source": [
    "The best choice of parameters under five-fold CV is achieved at `C=1`\n",
    "and `gamma=0.5`, though several other values also achieve the same\n",
    "value."
   ]
  },
  {
   "cell_type": "code",
   "execution_count": null,
   "id": "166a6acb",
   "metadata": {},
   "outputs": [],
   "source": [
    "best_svm = grid.best_estimator_\n",
    "fig, ax = subplots(figsize=(8,8))\n",
    "plot_svm(X_train,\n",
    "         y_train,\n",
    "         best_svm,\n",
    "         ax=ax)\n",
    "\n",
    "y_hat_test = best_svm.predict(X_test)\n",
    "confusion_table(y_hat_test, y_test)\n"
   ]
  },
  {
   "cell_type": "markdown",
   "id": "39ee6f32",
   "metadata": {},
   "source": [
    "With these parameters, 12% of test\n",
    "observations are misclassified by this SVM."
   ]
  },
  {
   "cell_type": "markdown",
   "id": "f0ea699d",
   "metadata": {},
   "source": [
    "## ROC Curves\n",
    "\n",
    "SVMs and support vector classifiers output class labels for each\n",
    "observation. However, it is also possible to obtain *fitted values*\n",
    "for each observation, which are the numerical scores used to\n",
    "obtain the class labels. For instance, in the case of a support vector\n",
    "classifier, the fitted value for an observation $X= (X_1, X_2, \\ldots,\n",
    "X_p)^T$ takes the form $\\hat{\\beta}_0 + \\hat{\\beta}_1 X_1 +\n",
    "\\hat{\\beta}_2 X_2 + \\ldots + \\hat{\\beta}_p X_p$. For an SVM with a\n",
    "non-linear kernel, the equation that yields the fitted value is given\n",
    "in  (9.23). The sign of the fitted value\n",
    "determines on which side of the decision boundary the observation\n",
    "lies. Therefore, the relationship between the fitted value and the\n",
    "class prediction for a given observation is simple: if the fitted\n",
    "value exceeds zero then the observation is assigned to one class, and\n",
    "if it is less than zero then it is assigned to the other.\n",
    "By changing this threshold from zero to some positive value,\n",
    "we skew the classifications in favor of one class versus the other.\n",
    "By considering a range of these thresholds, positive and negative, we produce the ingredients for a ROC plot.\n",
    "We can access these values by calling the `decision_function()`\n",
    "method of a fitted SVM estimator.\n",
    "\n",
    "The function `ROCCurveDisplay.from_estimator()` (which we have abbreviated to `roc_curve()`) will produce a plot of a ROC curve. It takes a fitted estimator as its first argument, followed\n",
    "by a model matrix $X$ and labels $y$. The argument `name` is used in the legend,\n",
    "while `color` is used for the color of the line. Results are plotted\n",
    "on our axis object `ax`."
   ]
  },
  {
   "cell_type": "code",
   "execution_count": null,
   "id": "0607fc41",
   "metadata": {
    "lines_to_next_cell": 0
   },
   "outputs": [],
   "source": [
    "fig, ax = subplots(figsize=(8,8))\n",
    "roc_curve(best_svm,\n",
    "          X_train,\n",
    "          y_train,\n",
    "          name='Training',\n",
    "          color='r',\n",
    "          ax=ax);\n"
   ]
  },
  {
   "cell_type": "markdown",
   "id": "54446e71",
   "metadata": {},
   "source": [
    " In this example, the SVM appears to provide accurate predictions. By increasing\n",
    "$\\gamma$ we can produce a more flexible fit and generate further\n",
    "improvements in accuracy."
   ]
  },
  {
   "cell_type": "code",
   "execution_count": null,
   "id": "5211a882",
   "metadata": {},
   "outputs": [],
   "source": [
    "svm_flex = SVC(kernel=\"rbf\", \n",
    "              gamma=50,\n",
    "              C=1)\n",
    "svm_flex.fit(X_train, y_train)\n",
    "fig, ax = subplots(figsize=(8,8))\n",
    "roc_curve(svm_flex,\n",
    "          X_train,\n",
    "          y_train,\n",
    "          name='Training $\\gamma=50$',\n",
    "          color='r',\n",
    "          ax=ax);\n"
   ]
  },
  {
   "cell_type": "markdown",
   "id": "de7e4be8",
   "metadata": {},
   "source": [
    "However, these ROC curves are all on the training data. We are really\n",
    "more interested in the level of prediction accuracy on the test\n",
    "data. When we compute the ROC curves on the test data, the model with\n",
    "$\\gamma=0.5$ appears to provide the most accurate results."
   ]
  },
  {
   "cell_type": "code",
   "execution_count": null,
   "id": "12acc4ff",
   "metadata": {},
   "outputs": [],
   "source": [
    "roc_curve(svm_flex,\n",
    "          X_test,\n",
    "          y_test,\n",
    "          name='Test $\\gamma=50$',\n",
    "          color='b',\n",
    "          ax=ax)\n",
    "fig;\n"
   ]
  },
  {
   "cell_type": "markdown",
   "id": "eb5c8aeb",
   "metadata": {},
   "source": [
    "Let’s look at our tuned SVM."
   ]
  },
  {
   "cell_type": "code",
   "execution_count": null,
   "id": "21c81913",
   "metadata": {},
   "outputs": [],
   "source": [
    "fig, ax = subplots(figsize=(8,8))\n",
    "for (X_, y_, c, name) in zip(\n",
    "     (X_train, X_test),\n",
    "     (y_train, y_test),\n",
    "     ('r', 'b'),\n",
    "     ('CV tuned on training',\n",
    "      'CV tuned on test')):\n",
    "    roc_curve(best_svm,\n",
    "              X_,\n",
    "              y_,\n",
    "              name=name,\n",
    "              ax=ax,\n",
    "              color=c)\n"
   ]
  },
  {
   "cell_type": "markdown",
   "id": "b9fefe9f",
   "metadata": {},
   "source": [
    "## SVM with Multiple Classes\n",
    "\n",
    "If the response is a factor containing more than two levels, then the\n",
    "`SVC()`  function will perform multi-class classification using\n",
    "either the one-versus-one approach (when `decision_function_shape=='ovo'`)\n",
    "or one-versus-rest {One-versus-rest is also known as one-versus-all.} (when `decision_function_shape=='ovr'`).\n",
    "We explore that setting briefly here by\n",
    "generating a third class of observations."
   ]
  },
  {
   "cell_type": "code",
   "execution_count": null,
   "id": "2fff4fa8",
   "metadata": {},
   "outputs": [],
   "source": [
    "rng = np.random.default_rng(123)\n",
    "X = np.vstack([X, rng.standard_normal((50, 2))])\n",
    "y = np.hstack([y, [0]*50])\n",
    "X[y==0,1] += 2\n",
    "fig, ax = subplots(figsize=(8,8))\n",
    "ax.scatter(X[:,0], X[:,1], c=y, cmap=cm.coolwarm);\n"
   ]
  },
  {
   "cell_type": "markdown",
   "id": "b7adc87d",
   "metadata": {},
   "source": [
    "We now fit an SVM to the data:"
   ]
  },
  {
   "cell_type": "code",
   "execution_count": null,
   "id": "5396f2df",
   "metadata": {
    "lines_to_next_cell": 0
   },
   "outputs": [],
   "source": [
    "svm_rbf_3 = SVC(kernel=\"rbf\",\n",
    "                C=10,\n",
    "                gamma=1,\n",
    "                decision_function_shape='ovo');\n",
    "svm_rbf_3.fit(X, y)\n",
    "fig, ax = subplots(figsize=(8,8))\n",
    "plot_svm(X,\n",
    "         y,\n",
    "         svm_rbf_3,\n",
    "         scatter_cmap=cm.tab10,\n",
    "         ax=ax)\n"
   ]
  },
  {
   "cell_type": "markdown",
   "id": "837644f5",
   "metadata": {},
   "source": [
    "The `sklearn.svm` library can also be used to perform support vector\n",
    "regression with a numerical response using the  estimator `SupportVectorRegression()`."
   ]
  },
  {
   "cell_type": "markdown",
   "id": "a6bc0cbc",
   "metadata": {},
   "source": [
    "## Application to Gene Expression Data\n",
    "\n",
    "We now examine the `Khan` data set, which consists of a number of\n",
    "tissue samples corresponding to four distinct types of small round\n",
    "blue cell tumors. For each tissue sample, gene expression measurements\n",
    "are available.  The data set consists of training data, `xtrain`\n",
    "and `ytrain`, and testing data, `xtest` and `ytest`.\n",
    "\n",
    "We examine the dimension of the data:"
   ]
  },
  {
   "cell_type": "code",
   "execution_count": null,
   "id": "f63c575e",
   "metadata": {},
   "outputs": [],
   "source": [
    "Khan = load_data('Khan')\n",
    "Khan['xtrain'].shape, Khan['xtest'].shape\n"
   ]
  },
  {
   "cell_type": "markdown",
   "id": "bfd6492c",
   "metadata": {},
   "source": [
    "This data set consists of expression measurements for 2,308\n",
    "genes. The training and test sets consist of 63 and 20\n",
    "observations, respectively.\n",
    "\n",
    "We will use a support vector approach to predict cancer subtype using\n",
    "gene expression measurements.  In this data set, there is a very\n",
    "large number of features relative to the number of observations. This\n",
    "suggests that we should use a linear kernel, because the additional\n",
    "flexibility that will result from using a polynomial or radial kernel \n",
    "is unnecessary. "
   ]
  },
  {
   "cell_type": "code",
   "execution_count": null,
   "id": "32091338",
   "metadata": {},
   "outputs": [],
   "source": [
    "khan_linear = SVC(kernel='linear', C=10)\n",
    "khan_linear.fit(Khan['xtrain'], Khan['ytrain'])\n",
    "confusion_table(khan_linear.predict(Khan['xtrain']),\n",
    "                Khan['ytrain'])\n"
   ]
  },
  {
   "cell_type": "markdown",
   "id": "23043ab0",
   "metadata": {},
   "source": [
    "We  see that there are *no* training\n",
    "errors. In fact, this is not surprising, because the large number of\n",
    "variables relative to the number of observations implies that it is\n",
    "easy to find hyperplanes that fully separate the classes. We are more\n",
    "interested in the support vector classifier’s performance on the\n",
    "test observations."
   ]
  },
  {
   "cell_type": "code",
   "execution_count": null,
   "id": "d9058023",
   "metadata": {},
   "outputs": [],
   "source": [
    "confusion_table(khan_linear.predict(Khan['xtest']),\n",
    "                Khan['ytest'])\n"
   ]
  },
  {
   "cell_type": "markdown",
   "id": "d0d5aba4",
   "metadata": {},
   "source": [
    "We see that using `C=10` yields two test set errors on these data.\n",
    "\n"
   ]
  }
 ],
 "metadata": {
  "jupytext": {
   "cell_metadata_filter": "-all",
   "main_language": "python",
   "notebook_metadata_filter": "-all"
  }
 },
 "nbformat": 4,
 "nbformat_minor": 5
}
