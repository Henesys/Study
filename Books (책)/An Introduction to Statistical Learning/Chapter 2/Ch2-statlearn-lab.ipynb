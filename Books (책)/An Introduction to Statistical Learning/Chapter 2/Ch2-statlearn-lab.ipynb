{
 "cells": [
  {
   "cell_type": "markdown",
   "id": "46456e09",
   "metadata": {},
   "source": [
    "\n",
    "# Chapter 2\n",
    "\n",
    "# Lab: Introduction to Python\n",
    "\n"
   ]
  },
  {
   "cell_type": "markdown",
   "id": "e9222139",
   "metadata": {},
   "source": [
    "## Getting Started"
   ]
  },
  {
   "cell_type": "markdown",
   "id": "a84726ab",
   "metadata": {},
   "source": [
    "To run the labs in this book, you will need two things:\n",
    "\n",
    "* An installation of `Python3`, which is the specific version of `Python`  used in the labs. \n",
    "* Access to  `Jupyter`, a very popular `Python` interface that runs code through a file called a *notebook*. "
   ]
  },
  {
   "cell_type": "markdown",
   "id": "f922cc9e",
   "metadata": {},
   "source": [
    "You can download and install  `Python3`   by following the instructions available at [anaconda.com](http://anaconda.com). "
   ]
  },
  {
   "cell_type": "markdown",
   "id": "baaeada6",
   "metadata": {},
   "source": [
    " There are a number of ways to get access to `Jupyter`. Here are just a few:\n",
    " \n",
    " * Using Google's `Colaboratory` service: [colab.research.google.com/](https://colab.research.google.com/). \n",
    " * Using `JupyterHub`, available at [jupyter.org/hub](https://jupyter.org/hub). \n",
    " * Using your own `jupyter` installation. Installation instructions are available at [jupyter.org/install](https://jupyter.org/install). \n",
    " \n",
    "Please see the `Python` resources page on the book website [statlearning.com](https://www.statlearning.com) for up-to-date information about getting `Python` and `Jupyter` working on your computer. \n",
    "\n",
    "You will need to install the `ISLP` package, which provides access to the datasets and custom-built functions that we provide.\n",
    "Inside a macOS or Linux terminal type `pip install ISLP`; this also installs most other packages needed in the labs. The `Python` resources page has a link to the `ISLP` documentation website.\n",
    "\n",
    "To run this lab, download the file `Ch2-statlearn-lab.ipynb` from the `Python` resources page. \n",
    "Now run the following code at the command line: `jupyter lab Ch2-statlearn-lab.ipynb`.\n",
    "\n",
    "If you're using Windows, you can use the `start menu` to access `anaconda`, and follow the links. For example, to install `ISLP` and run this lab, you can run the same code above in an `anaconda` shell.\n"
   ]
  },
  {
   "cell_type": "markdown",
   "id": "7a44fbd9",
   "metadata": {},
   "source": [
    "## Basic Commands\n"
   ]
  },
  {
   "cell_type": "markdown",
   "id": "3831ff0d",
   "metadata": {},
   "source": [
    "In this lab, we will introduce some simple `Python` commands. \n",
    " For more resources about `Python` in general, readers may want to consult the tutorial at [docs.python.org/3/tutorial/](https://docs.python.org/3/tutorial/). \n",
    "\n",
    "\n",
    " \n"
   ]
  },
  {
   "cell_type": "markdown",
   "id": "b5460488",
   "metadata": {},
   "source": [
    "Like most programming languages, `Python` uses *functions*\n",
    "to perform operations.   To run a\n",
    "function called `fun`, we type\n",
    "`fun(input1,input2)`, where the inputs (or *arguments*)\n",
    "`input1` and `input2` tell\n",
    "`Python` how to run the function.  A function can have any number of\n",
    "inputs. For example, the\n",
    "`print()`  function outputs a text representation of all of its arguments to the console."
   ]
  },
  {
   "cell_type": "code",
   "execution_count": null,
   "id": "88d0bfff",
   "metadata": {},
   "outputs": [],
   "source": [
    "print('fit a model with', 11, 'variables')\n"
   ]
  },
  {
   "cell_type": "markdown",
   "id": "9c07629a",
   "metadata": {},
   "source": [
    " The following command will provide information about the `print()` function."
   ]
  },
  {
   "cell_type": "code",
   "execution_count": null,
   "id": "ebe7aca8",
   "metadata": {},
   "outputs": [],
   "source": [
    "print?\n"
   ]
  },
  {
   "cell_type": "markdown",
   "id": "b0c41d18",
   "metadata": {},
   "source": [
    "Adding two integers in `Python` is pretty intuitive."
   ]
  },
  {
   "cell_type": "code",
   "execution_count": null,
   "id": "df2f8168",
   "metadata": {},
   "outputs": [],
   "source": [
    "3 + 5\n"
   ]
  },
  {
   "cell_type": "markdown",
   "id": "7e7b4195",
   "metadata": {},
   "source": [
    "In `Python`, textual data is handled using\n",
    "*strings*. For instance, `\"hello\"` and\n",
    "`'hello'`\n",
    "are strings. \n",
    "We can concatenate them using the addition `+` symbol."
   ]
  },
  {
   "cell_type": "code",
   "execution_count": null,
   "id": "4cc5c2c1",
   "metadata": {},
   "outputs": [],
   "source": [
    "\"hello\" + \" \" + \"world\"\n"
   ]
  },
  {
   "cell_type": "markdown",
   "id": "cfda314a",
   "metadata": {},
   "source": [
    " A string is actually a type of *sequence*: this is a generic term for an ordered list. \n",
    " The three most important types of sequences are lists, tuples, and strings.  \n",
    "We introduce lists now. "
   ]
  },
  {
   "cell_type": "markdown",
   "id": "764ca7ea",
   "metadata": {},
   "source": [
    "The following command instructs `Python` to join together\n",
    "the numbers 3, 4, and 5, and to save them as a\n",
    "*list* named `x`. When we\n",
    "type `x`, it gives us back the list."
   ]
  },
  {
   "cell_type": "code",
   "execution_count": null,
   "id": "e5d81180",
   "metadata": {},
   "outputs": [],
   "source": [
    "x = [3, 4, 5]\n",
    "x\n"
   ]
  },
  {
   "cell_type": "markdown",
   "id": "a2e75dce",
   "metadata": {},
   "source": [
    "Note that we used the brackets\n",
    "`[]` to construct this list. \n",
    "\n",
    "We will often want to add two sets of numbers together. It is reasonable to try the following code,\n",
    "though it will not produce the desired results."
   ]
  },
  {
   "cell_type": "code",
   "execution_count": null,
   "id": "425a714c",
   "metadata": {},
   "outputs": [],
   "source": [
    "y = [4, 9, 7]\n",
    "x + y\n"
   ]
  },
  {
   "cell_type": "markdown",
   "id": "245f069e",
   "metadata": {},
   "source": [
    "The result may appear slightly counterintuitive: why did `Python` not add the entries of the lists\n",
    "element-by-element? \n",
    " In `Python`, lists hold *arbitrary* objects, and  are added using  *concatenation*. \n",
    " In fact, concatenation is the behavior that we saw earlier when we entered `\"hello\" + \" \" + \"world\"`. \n",
    " "
   ]
  },
  {
   "cell_type": "markdown",
   "id": "071caddd",
   "metadata": {},
   "source": [
    "This example reflects the fact that \n",
    " `Python` is a general-purpose programming language. Much of `Python`'s  data-specific\n",
    "functionality comes from other packages, notably `numpy`\n",
    "and `pandas`. \n",
    "In the next section, we will introduce the  `numpy` package. More information about `numpy` can be found  at \n",
    "[docs.scipy.org/doc/numpy/user/quickstart.html](https://docs.scipy.org/doc/numpy/user/quickstart.html).\n"
   ]
  },
  {
   "cell_type": "markdown",
   "id": "25581a8e",
   "metadata": {},
   "source": [
    "## Introduction to Numerical Python\n",
    "\n",
    "As mentioned earlier, this book makes use of functionality   that is contained in the `numpy` \n",
    " *library*, or *package*. A package is a collection of modules that are not necessarily included in \n",
    " the base `Python` distribution. The name `numpy` is an abbreviation for *numerical Python*. "
   ]
  },
  {
   "cell_type": "markdown",
   "id": "851a40d6",
   "metadata": {},
   "source": [
    "  To access `numpy`, we must first `import` it."
   ]
  },
  {
   "cell_type": "code",
   "execution_count": null,
   "id": "2f88669a",
   "metadata": {
    "lines_to_next_cell": 0
   },
   "outputs": [],
   "source": [
    "import numpy as np "
   ]
  },
  {
   "cell_type": "markdown",
   "id": "5bdc55d1",
   "metadata": {},
   "source": [
    "In the previous line, we named the `numpy` *module* `np`; an abbreviation for easier referencing."
   ]
  },
  {
   "cell_type": "markdown",
   "id": "7b2cbe8b",
   "metadata": {},
   "source": [
    "In `numpy`, an *array* is  a generic term for a multidimensional\n",
    "set of numbers.\n",
    "We use the `np.array()` function to define   `x` and `y`, which are one-dimensional arrays, i.e. vectors."
   ]
  },
  {
   "cell_type": "code",
   "execution_count": null,
   "id": "e8ec382a",
   "metadata": {
    "lines_to_next_cell": 0
   },
   "outputs": [],
   "source": [
    "x = np.array([3, 4, 5])\n",
    "y = np.array([4, 9, 7])"
   ]
  },
  {
   "cell_type": "markdown",
   "id": "3a5ce193",
   "metadata": {},
   "source": [
    "Note that if you forgot to run the `import numpy as np` command earlier, then\n",
    "you will encounter an error in calling the `np.array()` function in the previous line. \n",
    " The syntax `np.array()` indicates that the function being called\n",
    "is part of the `numpy` package, which we have abbreviated as `np`. "
   ]
  },
  {
   "cell_type": "markdown",
   "id": "b21e6ebd",
   "metadata": {},
   "source": [
    "Since `x` and `y` have been defined using `np.array()`, we get a sensible result when we add them together. Compare this to our results in the previous section,\n",
    " when we tried to add two lists without using `numpy`. "
   ]
  },
  {
   "cell_type": "code",
   "execution_count": null,
   "id": "04de39ad",
   "metadata": {
    "lines_to_next_cell": 0
   },
   "outputs": [],
   "source": [
    "x + y"
   ]
  },
  {
   "cell_type": "markdown",
   "id": "06a14452",
   "metadata": {},
   "source": [
    "    \n",
    " \n"
   ]
  },
  {
   "cell_type": "markdown",
   "id": "33df3775",
   "metadata": {},
   "source": [
    "In `numpy`, matrices are typically represented as two-dimensional arrays, and vectors as one-dimensional arrays. {While it is also possible to create matrices using  `np.matrix()`, we will use `np.array()` throughout the labs in this book.}\n",
    "We can create a two-dimensional array as follows. "
   ]
  },
  {
   "cell_type": "code",
   "execution_count": null,
   "id": "fee5d798",
   "metadata": {
    "lines_to_next_cell": 0
   },
   "outputs": [],
   "source": [
    "x = np.array([[1, 2], [3, 4]])\n",
    "x"
   ]
  },
  {
   "cell_type": "markdown",
   "id": "c04d19a8",
   "metadata": {},
   "source": [
    "    \n",
    "\n"
   ]
  },
  {
   "cell_type": "markdown",
   "id": "86de84a5",
   "metadata": {},
   "source": [
    "The object `x` has several \n",
    "*attributes*, or associated objects. To access an attribute of `x`, we type `x.attribute`, where we replace `attribute`\n",
    "with the name of the attribute. \n",
    "For instance, we can access the `ndim` attribute of  `x` as follows. "
   ]
  },
  {
   "cell_type": "code",
   "execution_count": null,
   "id": "5871ca00",
   "metadata": {},
   "outputs": [],
   "source": [
    "x.ndim"
   ]
  },
  {
   "cell_type": "markdown",
   "id": "71a44f8e",
   "metadata": {},
   "source": [
    "The output indicates that `x` is a two-dimensional array.  \n",
    "Similarly, `x.dtype` is the *data type* attribute of the object `x`. This indicates that `x` is \n",
    "comprised of 64-bit integers:"
   ]
  },
  {
   "cell_type": "code",
   "execution_count": null,
   "id": "5a32759c",
   "metadata": {
    "lines_to_next_cell": 0
   },
   "outputs": [],
   "source": [
    "x.dtype"
   ]
  },
  {
   "cell_type": "markdown",
   "id": "e770da51",
   "metadata": {},
   "source": [
    "Why is `x` comprised of integers? This is because we created `x` by passing in exclusively integers to the `np.array()` function.\n",
    "  If\n",
    "we had passed in any decimals, then we would have obtained an array of\n",
    "*floating point numbers* (i.e. real-valued numbers). "
   ]
  },
  {
   "cell_type": "code",
   "execution_count": null,
   "id": "55f01b16",
   "metadata": {
    "lines_to_next_cell": 2
   },
   "outputs": [],
   "source": [
    "np.array([[1, 2], [3.0, 4]]).dtype\n"
   ]
  },
  {
   "cell_type": "markdown",
   "id": "4595300f",
   "metadata": {},
   "source": [
    "Typing `fun?` will cause `Python` to display \n",
    "documentation associated with the function `fun`, if it exists.\n",
    "We can try this for `np.array()`. "
   ]
  },
  {
   "cell_type": "code",
   "execution_count": null,
   "id": "2a9de618",
   "metadata": {
    "lines_to_next_cell": 0
   },
   "outputs": [],
   "source": [
    "np.array?\n"
   ]
  },
  {
   "cell_type": "markdown",
   "id": "9640f3fe",
   "metadata": {},
   "source": [
    "This documentation indicates that we could create a floating point array by passing a `dtype` argument into `np.array()`."
   ]
  },
  {
   "cell_type": "code",
   "execution_count": null,
   "id": "33e3e6ea",
   "metadata": {
    "lines_to_next_cell": 2
   },
   "outputs": [],
   "source": [
    "np.array([[1, 2], [3, 4]], float).dtype\n"
   ]
  },
  {
   "cell_type": "markdown",
   "id": "fbf59c0e",
   "metadata": {},
   "source": [
    "The array `x` is two-dimensional. We can find out the number of rows and columns by looking\n",
    "at its `shape` attribute."
   ]
  },
  {
   "cell_type": "code",
   "execution_count": null,
   "id": "623f8434",
   "metadata": {
    "lines_to_next_cell": 2
   },
   "outputs": [],
   "source": [
    "x.shape\n"
   ]
  },
  {
   "cell_type": "markdown",
   "id": "81f0bbae",
   "metadata": {},
   "source": [
    "A *method* is a function that is associated with an\n",
    "object. \n",
    "For instance, given an array `x`, the expression\n",
    "`x.sum()` sums all of its elements, using the `sum()`\n",
    "method for arrays. \n",
    "The call `x.sum()` automatically provides `x` as the\n",
    "first argument to its `sum()` method."
   ]
  },
  {
   "cell_type": "code",
   "execution_count": null,
   "id": "235738a7",
   "metadata": {
    "lines_to_next_cell": 0
   },
   "outputs": [],
   "source": [
    "x = np.array([1, 2, 3, 4])\n",
    "x.sum()"
   ]
  },
  {
   "cell_type": "markdown",
   "id": "72373ccf",
   "metadata": {},
   "source": [
    "We could also sum the elements of `x` by passing in `x` as an argument to the `np.sum()` function. "
   ]
  },
  {
   "cell_type": "code",
   "execution_count": null,
   "id": "7f3494e1",
   "metadata": {
    "lines_to_next_cell": 0
   },
   "outputs": [],
   "source": [
    "x = np.array([1, 2, 3, 4])\n",
    "np.sum(x)"
   ]
  },
  {
   "cell_type": "markdown",
   "id": "69967e23",
   "metadata": {},
   "source": [
    " As another example, the\n",
    "`reshape()` method returns a new array with the same elements as\n",
    "`x`, but a different shape.\n",
    " We do this by passing in a `tuple` in our call to\n",
    " `reshape()`, in this case `(2, 3)`.  This tuple specifies that we would like to create a two-dimensional array with \n",
    "$2$ rows and $3$ columns. {Like lists, tuples represent a sequence of objects. Why do we need more than one way to create a sequence? There are a few differences between tuples and lists, but perhaps the most important is that elements of a tuple cannot be modified, whereas elements of a list can be.}\n",
    " \n",
    "In what follows, the\n",
    "`\\n` character creates a *new line*."
   ]
  },
  {
   "cell_type": "code",
   "execution_count": null,
   "id": "0ca8f936",
   "metadata": {},
   "outputs": [],
   "source": [
    "x = np.array([1, 2, 3, 4, 5, 6])\n",
    "print('beginning x:\\n', x)\n",
    "x_reshape = x.reshape((2, 3))\n",
    "print('reshaped x:\\n', x_reshape)\n"
   ]
  },
  {
   "cell_type": "markdown",
   "id": "0c1e36ab",
   "metadata": {},
   "source": [
    "The previous output reveals that `numpy` arrays are specified as a sequence\n",
    "of *rows*. This is  called *row-major ordering*, as opposed to *column-major ordering*. "
   ]
  },
  {
   "cell_type": "markdown",
   "id": "45263db2",
   "metadata": {},
   "source": [
    "`Python` (and hence `numpy`) uses 0-based\n",
    "indexing. This means that to access the top left element of `x_reshape`, \n",
    "we type in `x_reshape[0,0]`."
   ]
  },
  {
   "cell_type": "code",
   "execution_count": null,
   "id": "23fba624",
   "metadata": {
    "lines_to_next_cell": 0
   },
   "outputs": [],
   "source": [
    "x_reshape[0, 0] "
   ]
  },
  {
   "cell_type": "markdown",
   "id": "26f1717c",
   "metadata": {},
   "source": [
    "Similarly, `x_reshape[1,2]` yields the element in the second row and the third column \n",
    "of `x_reshape`. "
   ]
  },
  {
   "cell_type": "code",
   "execution_count": null,
   "id": "1a1df926",
   "metadata": {
    "lines_to_next_cell": 0
   },
   "outputs": [],
   "source": [
    "x_reshape[1, 2] "
   ]
  },
  {
   "cell_type": "markdown",
   "id": "c6d6d359",
   "metadata": {},
   "source": [
    "Similarly, `x[2]` yields the\n",
    "third entry of `x`. \n",
    "\n",
    "Now, let's modify the top left element of `x_reshape`.  To our surprise, we discover that the first element of `x` has been modified as well!\n",
    "\n"
   ]
  },
  {
   "cell_type": "code",
   "execution_count": null,
   "id": "4bfcc1e1",
   "metadata": {},
   "outputs": [],
   "source": [
    "print('x before we modify x_reshape:\\n', x)\n",
    "print('x_reshape before we modify x_reshape:\\n', x_reshape)\n",
    "x_reshape[0, 0] = 5\n",
    "print('x_reshape after we modify its top left element:\\n', x_reshape)\n",
    "print('x after we modify top left element of x_reshape:\\n', x)\n"
   ]
  },
  {
   "cell_type": "markdown",
   "id": "10ff8c21",
   "metadata": {},
   "source": [
    "Modifying `x_reshape` also modified `x` because the two objects occupy the same space in memory.\n",
    " \n",
    "\n",
    "    "
   ]
  },
  {
   "cell_type": "markdown",
   "id": "ff267ecb",
   "metadata": {},
   "source": [
    "We just saw that we can modify an element of an array. Can we also modify a tuple? It turns out that we cannot --- and trying to do so introduces\n",
    "an *exception*, or error."
   ]
  },
  {
   "cell_type": "code",
   "execution_count": null,
   "id": "973c562a",
   "metadata": {
    "lines_to_next_cell": 2
   },
   "outputs": [],
   "source": [
    "my_tuple = (3, 4, 5)\n",
    "my_tuple[0] = 2\n"
   ]
  },
  {
   "cell_type": "markdown",
   "id": "56393fe3",
   "metadata": {},
   "source": [
    "We now briefly mention some attributes of arrays that will come in handy. An array's `shape` attribute contains its dimension; this is always a tuple.\n",
    "The  `ndim` attribute yields the number of dimensions, and `T` provides its transpose. "
   ]
  },
  {
   "cell_type": "code",
   "execution_count": null,
   "id": "56b5c382",
   "metadata": {},
   "outputs": [],
   "source": [
    "x_reshape.shape, x_reshape.ndim, x_reshape.T\n"
   ]
  },
  {
   "cell_type": "markdown",
   "id": "22408350",
   "metadata": {},
   "source": [
    "Notice that the three individual outputs `(2,3)`, `2`, and `array([[5, 4],[2, 5], [3,6]])` are themselves output as a tuple. \n",
    " \n",
    "We will often want to apply functions to arrays. \n",
    "For instance, we can compute the\n",
    "square root of the entries using the `np.sqrt()` function: "
   ]
  },
  {
   "cell_type": "code",
   "execution_count": null,
   "id": "2e624622",
   "metadata": {},
   "outputs": [],
   "source": [
    "np.sqrt(x)\n"
   ]
  },
  {
   "cell_type": "markdown",
   "id": "6c3e074d",
   "metadata": {},
   "source": [
    "We can also square the elements:"
   ]
  },
  {
   "cell_type": "code",
   "execution_count": null,
   "id": "6f45bd25",
   "metadata": {},
   "outputs": [],
   "source": [
    "x**2\n"
   ]
  },
  {
   "cell_type": "markdown",
   "id": "481ca03c",
   "metadata": {},
   "source": [
    "We can compute the square roots using the same notation, raising to the power of $1/2$ instead of 2."
   ]
  },
  {
   "cell_type": "code",
   "execution_count": null,
   "id": "6980f628",
   "metadata": {
    "lines_to_next_cell": 2
   },
   "outputs": [],
   "source": [
    "x**0.5\n"
   ]
  },
  {
   "cell_type": "markdown",
   "id": "bc357745",
   "metadata": {},
   "source": [
    "Throughout this book, we will often want to generate random data. \n",
    "The `np.random.normal()`  function generates a vector of random\n",
    "normal variables. We can learn more about this function by looking at the help page, via a call to `np.random.normal?`.\n",
    "The first line of the help page  reads `normal(loc=0.0, scale=1.0, size=None)`. \n",
    " This  *signature* line tells us that the function's arguments are  `loc`, `scale`, and `size`. These are *keyword* arguments, which means that when they are passed into\n",
    " the function, they can be referred to by name (in any order). {`Python` also uses *positional* arguments. Positional arguments do not need to use a keyword. To see an example, type in `np.sum?`. We see that `a` is a positional argument, i.e. this function assumes that the first unnamed argument that it receives is the array to be summed. By contrast, `axis` and `dtype` are keyword arguments: the position in which these arguments are entered into `np.sum()` does not matter.}\n",
    " By default, this function will generate random normal variable(s) with mean (`loc`) $0$ and standard deviation (`scale`) $1$; furthermore, \n",
    " a single random variable will be generated unless the argument to `size` is changed. \n",
    "\n",
    "We now generate 50 independent random variables from a $N(0,1)$ distribution. "
   ]
  },
  {
   "cell_type": "code",
   "execution_count": null,
   "id": "89e32100",
   "metadata": {},
   "outputs": [],
   "source": [
    "x = np.random.normal(size=50)\n",
    "x\n"
   ]
  },
  {
   "cell_type": "markdown",
   "id": "80939b41",
   "metadata": {},
   "source": [
    "We create an array `y` by adding an independent $N(50,1)$ random variable to each element of `x`."
   ]
  },
  {
   "cell_type": "code",
   "execution_count": null,
   "id": "e3428155",
   "metadata": {
    "lines_to_next_cell": 0
   },
   "outputs": [],
   "source": [
    "y = x + np.random.normal(loc=50, scale=1, size=50)"
   ]
  },
  {
   "cell_type": "markdown",
   "id": "17f93000",
   "metadata": {},
   "source": [
    "The `np.corrcoef()` function computes the correlation matrix between `x` and `y`. The off-diagonal elements give the \n",
    "correlation between `x` and `y`. "
   ]
  },
  {
   "cell_type": "code",
   "execution_count": null,
   "id": "df70172e",
   "metadata": {},
   "outputs": [],
   "source": [
    "np.corrcoef(x, y)"
   ]
  },
  {
   "cell_type": "markdown",
   "id": "8fb44ec4",
   "metadata": {},
   "source": [
    "If you're following along in your own `Jupyter` notebook, then you probably noticed that you got a different set of results when you ran the past few \n",
    "commands. In particular, \n",
    " each\n",
    "time we call `np.random.normal()`, we will get a different answer, as shown in the following example."
   ]
  },
  {
   "cell_type": "code",
   "execution_count": null,
   "id": "1d996956",
   "metadata": {
    "lines_to_next_cell": 0
   },
   "outputs": [],
   "source": [
    "print(np.random.normal(scale=5, size=2))\n",
    "print(np.random.normal(scale=5, size=2)) \n"
   ]
  },
  {
   "cell_type": "markdown",
   "id": "477c992d",
   "metadata": {},
   "source": [
    "    "
   ]
  },
  {
   "cell_type": "markdown",
   "id": "988ca34a",
   "metadata": {},
   "source": [
    "In order to ensure that our code provides exactly the same results\n",
    "each time it is run, we can set a *random seed* \n",
    "using the \n",
    "`np.random.default_rng()` function.\n",
    "This function takes an arbitrary, user-specified integer argument. If we set a random seed before \n",
    "generating random data, then re-running our code will yield the same results. The\n",
    "object `rng` has essentially all the random number generating methods found in `np.random`. Hence, to\n",
    "generate normal data we use `rng.normal()`."
   ]
  },
  {
   "cell_type": "code",
   "execution_count": null,
   "id": "37b3a30b",
   "metadata": {},
   "outputs": [],
   "source": [
    "rng = np.random.default_rng(1303)\n",
    "print(rng.normal(scale=5, size=2))\n",
    "rng2 = np.random.default_rng(1303)\n",
    "print(rng2.normal(scale=5, size=2)) "
   ]
  },
  {
   "cell_type": "markdown",
   "id": "039e7f65",
   "metadata": {},
   "source": [
    "Throughout the labs in this book, we use `np.random.default_rng()`  whenever we\n",
    "perform calculations involving random quantities within `numpy`.  In principle, this\n",
    "should enable the reader to exactly reproduce the stated results. However, as new versions of `numpy` become available, it is possible\n",
    "that some small discrepancies may occur between the output\n",
    "in the labs and the output\n",
    "from `numpy`.\n",
    "\n",
    "The `np.mean()`,  `np.var()`, and `np.std()`  functions can be used\n",
    "to compute the mean, variance, and standard deviation of arrays.  These functions are also\n",
    "available as methods on the arrays."
   ]
  },
  {
   "cell_type": "code",
   "execution_count": null,
   "id": "b4f99e0e",
   "metadata": {
    "lines_to_next_cell": 0
   },
   "outputs": [],
   "source": [
    "rng = np.random.default_rng(3)\n",
    "y = rng.standard_normal(10)\n",
    "np.mean(y), y.mean()"
   ]
  },
  {
   "cell_type": "markdown",
   "id": "d3d0e0fb",
   "metadata": {},
   "source": [
    "    \n"
   ]
  },
  {
   "cell_type": "code",
   "execution_count": null,
   "id": "dbd70319",
   "metadata": {
    "lines_to_next_cell": 2
   },
   "outputs": [],
   "source": [
    "np.var(y), y.var(), np.mean((y - y.mean())**2)"
   ]
  },
  {
   "cell_type": "markdown",
   "id": "ba51f245",
   "metadata": {},
   "source": [
    "Notice that by default `np.var()` divides by the sample size $n$ rather\n",
    "than $n-1$; see the `ddof` argument in `np.var?`.\n"
   ]
  },
  {
   "cell_type": "code",
   "execution_count": null,
   "id": "bf281844",
   "metadata": {},
   "outputs": [],
   "source": [
    "np.sqrt(np.var(y)), np.std(y)"
   ]
  },
  {
   "cell_type": "markdown",
   "id": "877ca8e0",
   "metadata": {},
   "source": [
    "The `np.mean()`,  `np.var()`, and `np.std()` functions can also be applied to the rows and columns of a matrix. \n",
    "To see this, we construct a $10 \\times 3$ matrix of $N(0,1)$ random variables, and consider computing its row sums. "
   ]
  },
  {
   "cell_type": "code",
   "execution_count": null,
   "id": "f751b1dd",
   "metadata": {},
   "outputs": [],
   "source": [
    "X = rng.standard_normal((10, 3))\n",
    "X"
   ]
  },
  {
   "cell_type": "markdown",
   "id": "f9028e1a",
   "metadata": {},
   "source": [
    "Since arrays are row-major ordered, the first axis, i.e. `axis=0`, refers to its rows. We pass this argument into the `mean()` method for the object `X`. "
   ]
  },
  {
   "cell_type": "code",
   "execution_count": null,
   "id": "cbf92de5",
   "metadata": {},
   "outputs": [],
   "source": [
    "X.mean(axis=0)"
   ]
  },
  {
   "cell_type": "markdown",
   "id": "009195d4",
   "metadata": {},
   "source": [
    "The following yields the same result."
   ]
  },
  {
   "cell_type": "code",
   "execution_count": null,
   "id": "efacc213",
   "metadata": {
    "lines_to_next_cell": 0
   },
   "outputs": [],
   "source": [
    "X.mean(0)"
   ]
  },
  {
   "cell_type": "markdown",
   "id": "3b42d9c6",
   "metadata": {},
   "source": [
    "    "
   ]
  },
  {
   "cell_type": "markdown",
   "id": "e33fa3fc",
   "metadata": {},
   "source": [
    "## Graphics\n",
    "In `Python`, common practice is to use  the library\n",
    "`matplotlib` for graphics.\n",
    "However, since `Python` was not written with data analysis in mind,\n",
    "  the notion of plotting is not intrinsic to the language. \n",
    "We will use the `subplots()` function\n",
    "from `matplotlib.pyplot` to create a figure and the\n",
    "axes onto which we plot our data.\n",
    "For many more examples of how to make plots in `Python`,\n",
    "readers are encouraged to visit [matplotlib.org/stable/gallery/](https://matplotlib.org/stable/gallery/index.html).\n",
    "\n",
    "In `matplotlib`, a plot consists of a *figure* and one or more *axes*. You can think of the figure as the blank canvas upon which \n",
    "one or more plots will be displayed: it is the entire plotting window. \n",
    "The *axes* contain important information about each plot, such as its $x$- and $y$-axis labels,\n",
    "title,  and more. (Note that in `matplotlib`, the word *axes* is not the plural of *axis*: a plot's *axes* contains much more information \n",
    "than just the $x$-axis and  the $y$-axis.)\n",
    "\n",
    "We begin by importing the `subplots()` function\n",
    "from `matplotlib`. We use this function\n",
    "throughout when creating figures.\n",
    "The function returns a tuple of length two: a figure\n",
    "object as well as the relevant axes object. We will typically\n",
    "pass `figsize` as a keyword argument.\n",
    "Having created our axes, we attempt our first plot using its  `plot()` method.\n",
    "To learn more about it, \n",
    "type `ax.plot?`."
   ]
  },
  {
   "cell_type": "code",
   "execution_count": null,
   "id": "637fb67d",
   "metadata": {},
   "outputs": [],
   "source": [
    "from matplotlib.pyplot import subplots\n",
    "fig, ax = subplots(figsize=(8, 8))\n",
    "x = rng.standard_normal(100)\n",
    "y = rng.standard_normal(100)\n",
    "ax.plot(x, y);\n"
   ]
  },
  {
   "cell_type": "markdown",
   "id": "ca04f15f",
   "metadata": {},
   "source": [
    "We pause here to note that we have *unpacked* the tuple of length two returned by `subplots()` into the two distinct\n",
    "variables `fig` and `ax`. Unpacking\n",
    "is typically preferred to the following equivalent but slightly more verbose code:"
   ]
  },
  {
   "cell_type": "code",
   "execution_count": null,
   "id": "109d681d",
   "metadata": {},
   "outputs": [],
   "source": [
    "output = subplots(figsize=(8, 8))\n",
    "fig = output[0]\n",
    "ax = output[1]"
   ]
  },
  {
   "cell_type": "markdown",
   "id": "5509508c",
   "metadata": {},
   "source": [
    "We see that our earlier cell produced a line plot, which is the default. To create a scatterplot, we provide an additional argument to `ax.plot()`, indicating that circles should be displayed."
   ]
  },
  {
   "cell_type": "code",
   "execution_count": null,
   "id": "e905982c",
   "metadata": {
    "lines_to_next_cell": 0
   },
   "outputs": [],
   "source": [
    "fig, ax = subplots(figsize=(8, 8))\n",
    "ax.plot(x, y, 'o');"
   ]
  },
  {
   "cell_type": "markdown",
   "id": "42166016",
   "metadata": {},
   "source": [
    "Different values\n",
    "of this additional argument can be used to produce different colored lines\n",
    "as well as different linestyles. \n"
   ]
  },
  {
   "cell_type": "markdown",
   "id": "a99dac78",
   "metadata": {},
   "source": [
    "As an alternative, we could use the  `ax.scatter()` function to create a scatterplot."
   ]
  },
  {
   "cell_type": "code",
   "execution_count": null,
   "id": "27133a4e",
   "metadata": {},
   "outputs": [],
   "source": [
    "fig, ax = subplots(figsize=(8, 8))\n",
    "ax.scatter(x, y, marker='o');"
   ]
  },
  {
   "cell_type": "markdown",
   "id": "000c125e",
   "metadata": {},
   "source": [
    "Notice that in the code blocks above, we have ended\n",
    "the last line with a semicolon. This prevents `ax.plot(x, y)` from printing\n",
    "text  to the notebook. However, it does not prevent a plot from being produced. \n",
    " If we omit the trailing semi-colon, then we obtain the following output:  "
   ]
  },
  {
   "cell_type": "code",
   "execution_count": null,
   "id": "ef41f90d",
   "metadata": {
    "lines_to_next_cell": 0
   },
   "outputs": [],
   "source": [
    "fig, ax = subplots(figsize=(8, 8))\n",
    "ax.scatter(x, y, marker='o')\n"
   ]
  },
  {
   "cell_type": "markdown",
   "id": "014f66e5",
   "metadata": {},
   "source": [
    "In what follows, we will use\n",
    " trailing semicolons whenever the text that would be output is not\n",
    "germane to the discussion at hand.\n",
    "\n",
    "\n",
    "\n"
   ]
  },
  {
   "cell_type": "markdown",
   "id": "98a1db4a",
   "metadata": {},
   "source": [
    "To label our plot, we  make use of the `set_xlabel()`,  `set_ylabel()`, and  `set_title()` methods\n",
    "of `ax`.\n",
    "  "
   ]
  },
  {
   "cell_type": "code",
   "execution_count": null,
   "id": "16a9cb99",
   "metadata": {},
   "outputs": [],
   "source": [
    "fig, ax = subplots(figsize=(8, 8))\n",
    "ax.scatter(x, y, marker='o')\n",
    "ax.set_xlabel(\"this is the x-axis\")\n",
    "ax.set_ylabel(\"this is the y-axis\")\n",
    "ax.set_title(\"Plot of X vs Y\");"
   ]
  },
  {
   "cell_type": "markdown",
   "id": "7f0af2d9",
   "metadata": {},
   "source": [
    " Having access to the figure object `fig` itself means that we can go in and change some aspects and then redisplay it. Here, we change\n",
    "  the size from `(8, 8)` to `(12, 3)`.\n"
   ]
  },
  {
   "cell_type": "code",
   "execution_count": null,
   "id": "6707420e",
   "metadata": {
    "lines_to_next_cell": 0
   },
   "outputs": [],
   "source": [
    "fig.set_size_inches(12,3)\n",
    "fig"
   ]
  },
  {
   "cell_type": "markdown",
   "id": "4b70cd2e",
   "metadata": {},
   "source": [
    " "
   ]
  },
  {
   "cell_type": "markdown",
   "id": "3cf4ed3f",
   "metadata": {},
   "source": [
    "Occasionally we will want to create several plots within a figure. This can be\n",
    "achieved by passing additional arguments to `subplots()`. \n",
    "Below, we create a  $2 \\times 3$ grid of plots\n",
    "in a figure of size determined by the `figsize` argument. In such\n",
    "situations, there is often a relationship between the axes in the plots. For example,\n",
    "all plots may have a common $x$-axis. The `subplots()` function can automatically handle\n",
    "this situation when passed the keyword argument `sharex=True`.\n",
    "The `axes` object below is an array pointing to different plots in the figure. "
   ]
  },
  {
   "cell_type": "code",
   "execution_count": null,
   "id": "6c78ef8b",
   "metadata": {
    "lines_to_next_cell": 0
   },
   "outputs": [],
   "source": [
    "fig, axes = subplots(nrows=2,\n",
    "                     ncols=3,\n",
    "                     figsize=(15, 5))"
   ]
  },
  {
   "cell_type": "markdown",
   "id": "40d89b7c",
   "metadata": {},
   "source": [
    "We now produce a scatter plot with `'o'` in the second column of the first row and\n",
    "a scatter plot with `'+'` in the third column of the second row."
   ]
  },
  {
   "cell_type": "code",
   "execution_count": null,
   "id": "a18402fb",
   "metadata": {
    "lines_to_next_cell": 0
   },
   "outputs": [],
   "source": [
    "axes[0,1].plot(x, y, 'o')\n",
    "axes[1,2].scatter(x, y, marker='+')\n",
    "fig"
   ]
  },
  {
   "cell_type": "markdown",
   "id": "d29648ec",
   "metadata": {},
   "source": [
    "Type  `subplots?` to learn more about \n",
    "`subplots()`. \n",
    "\n",
    "\n"
   ]
  },
  {
   "cell_type": "markdown",
   "id": "2a6a0c9e",
   "metadata": {},
   "source": [
    "To save the output of `fig`, we call its `savefig()`\n",
    "method. The argument `dpi` is the dots per inch, used\n",
    "to determine how large the figure will be in pixels."
   ]
  },
  {
   "cell_type": "code",
   "execution_count": null,
   "id": "80e18950",
   "metadata": {
    "lines_to_next_cell": 2
   },
   "outputs": [],
   "source": [
    "fig.savefig(\"Figure.png\", dpi=400)\n",
    "fig.savefig(\"Figure.pdf\", dpi=200);\n"
   ]
  },
  {
   "cell_type": "markdown",
   "id": "b8e17a71",
   "metadata": {},
   "source": [
    "We can continue to modify `fig` using step-by-step updates; for example, we can modify the range of the $x$-axis, re-save the figure, and even re-display it. "
   ]
  },
  {
   "cell_type": "code",
   "execution_count": null,
   "id": "fe8c404d",
   "metadata": {},
   "outputs": [],
   "source": [
    "axes[0,1].set_xlim([-1,1])\n",
    "fig.savefig(\"Figure_updated.jpg\")\n",
    "fig"
   ]
  },
  {
   "cell_type": "markdown",
   "id": "55bff84e",
   "metadata": {},
   "source": [
    "We now create some more sophisticated plots. The \n",
    "`ax.contour()` method  produces a  *contour plot* \n",
    "in order to represent three-dimensional data, similar to a\n",
    "topographical map.  It takes three arguments:\n",
    "\n",
    "* A vector of `x` values (the first dimension),\n",
    "* A vector of `y` values (the second dimension), and\n",
    "* A matrix whose elements correspond to the `z` value (the third\n",
    "dimension) for each pair of `(x,y)` coordinates.\n",
    "\n",
    "To create `x` and `y`, we’ll use the function `np.linspace()`. The command  `np.linspace(a, b, n)` \n",
    "returns a vector of `n` numbers starting at  `a` and  ending at `b`."
   ]
  },
  {
   "cell_type": "code",
   "execution_count": null,
   "id": "a99034cb",
   "metadata": {
    "lines_to_next_cell": 0
   },
   "outputs": [],
   "source": [
    "fig, ax = subplots(figsize=(8, 8))\n",
    "x = np.linspace(-np.pi, np.pi, 50)\n",
    "y = x\n",
    "f = np.multiply.outer(np.cos(y), 1 / (1 + x**2))\n",
    "ax.contour(x, y, f);\n"
   ]
  },
  {
   "cell_type": "markdown",
   "id": "fd6d00e6",
   "metadata": {},
   "source": [
    "We can increase the resolution by adding more levels to the image."
   ]
  },
  {
   "cell_type": "code",
   "execution_count": null,
   "id": "c613a5df",
   "metadata": {
    "lines_to_next_cell": 0
   },
   "outputs": [],
   "source": [
    "fig, ax = subplots(figsize=(8, 8))\n",
    "ax.contour(x, y, f, levels=45);"
   ]
  },
  {
   "cell_type": "markdown",
   "id": "c1f2c4bd",
   "metadata": {},
   "source": [
    "To fine-tune the output of the\n",
    "`ax.contour()`  function, take a\n",
    "look at the help file by typing `?plt.contour`.\n",
    " \n",
    "The `ax.imshow()`  method is similar to \n",
    "`ax.contour()`, except that it produces a color-coded plot\n",
    "whose colors depend on the `z` value. This is known as a\n",
    "*heatmap*, and is sometimes used to plot temperature in\n",
    "weather forecasts."
   ]
  },
  {
   "cell_type": "code",
   "execution_count": null,
   "id": "bef21527",
   "metadata": {
    "lines_to_next_cell": 2
   },
   "outputs": [],
   "source": [
    "fig, ax = subplots(figsize=(8, 8))\n",
    "ax.imshow(f);\n"
   ]
  },
  {
   "cell_type": "markdown",
   "id": "35ed7b29",
   "metadata": {},
   "source": [
    "## Sequences and Slice Notation"
   ]
  },
  {
   "cell_type": "markdown",
   "id": "bb0cee76",
   "metadata": {},
   "source": [
    "As seen above, the\n",
    "function `np.linspace()`  can be used to create a sequence\n",
    "of numbers."
   ]
  },
  {
   "cell_type": "code",
   "execution_count": null,
   "id": "4435ed50",
   "metadata": {
    "lines_to_next_cell": 2
   },
   "outputs": [],
   "source": [
    "seq1 = np.linspace(0, 10, 11)\n",
    "seq1\n"
   ]
  },
  {
   "cell_type": "markdown",
   "id": "f1495e1b",
   "metadata": {},
   "source": [
    "The function `np.arange()`\n",
    " returns a sequence of numbers spaced out by `step`. If `step` is not specified, then a default value of $1$ is used. Let's create a sequence\n",
    " that starts at $0$ and ends at $10$."
   ]
  },
  {
   "cell_type": "code",
   "execution_count": null,
   "id": "7a2c664a",
   "metadata": {},
   "outputs": [],
   "source": [
    "seq2 = np.arange(0, 10)\n",
    "seq2\n"
   ]
  },
  {
   "cell_type": "markdown",
   "id": "7b0e1b2f",
   "metadata": {},
   "source": [
    "Why isn't $10$ output above? This has to do with *slice* notation in `Python`. \n",
    "Slice notation  \n",
    "is used to index sequences such as lists, tuples and arrays.\n",
    "Suppose we want to retrieve the fourth through sixth (inclusive) entries\n",
    "of a string. We obtain a slice of the string using the indexing  notation  `[3:6]`."
   ]
  },
  {
   "cell_type": "code",
   "execution_count": null,
   "id": "810eafdf",
   "metadata": {
    "lines_to_next_cell": 0
   },
   "outputs": [],
   "source": [
    "\"hello world\"[3:6]"
   ]
  },
  {
   "cell_type": "markdown",
   "id": "d73d0b54",
   "metadata": {},
   "source": [
    "In the code block above, the notation `3:6` is shorthand for  `slice(3,6)` when used inside\n",
    "`[]`. "
   ]
  },
  {
   "cell_type": "code",
   "execution_count": null,
   "id": "f7a9f652",
   "metadata": {},
   "outputs": [],
   "source": [
    "\"hello world\"[slice(3,6)]\n"
   ]
  },
  {
   "cell_type": "markdown",
   "id": "be578cf4",
   "metadata": {},
   "source": [
    "You might have expected  `slice(3,6)` to output the fourth through seventh characters in the text string (recalling that  `Python` begins its indexing at zero),  but instead it output  the fourth through sixth. \n",
    " This also explains why the earlier `np.arange(0, 10)` command output only the integers from $0$ to $9$. \n",
    "See the documentation `slice?` for useful options in creating slices. \n",
    "\n",
    "    \n",
    "\n",
    "\n",
    "\n",
    "    \n",
    "\n",
    "\n",
    "    \n",
    "\n",
    " \n",
    "\n",
    "    \n",
    "\n",
    " \n",
    "\n",
    "    \n",
    "\n",
    "\n",
    "    \n"
   ]
  },
  {
   "cell_type": "markdown",
   "id": "7a9c183a",
   "metadata": {},
   "source": [
    "## Indexing Data\n",
    "To begin, we  create a two-dimensional `numpy` array."
   ]
  },
  {
   "cell_type": "code",
   "execution_count": null,
   "id": "24427538",
   "metadata": {},
   "outputs": [],
   "source": [
    "A = np.array(np.arange(16)).reshape((4, 4))\n",
    "A\n"
   ]
  },
  {
   "cell_type": "markdown",
   "id": "d2c583a0",
   "metadata": {},
   "source": [
    "Typing `A[1,2]` retrieves the element corresponding to the second row and third\n",
    "column. (As usual, `Python` indexes from $0.$)"
   ]
  },
  {
   "cell_type": "code",
   "execution_count": null,
   "id": "18684ed5",
   "metadata": {},
   "outputs": [],
   "source": [
    "A[1,2]\n"
   ]
  },
  {
   "cell_type": "markdown",
   "id": "b25734ec",
   "metadata": {},
   "source": [
    "The first number after the open-bracket symbol `[`\n",
    " refers to the row, and the second number refers to the column. \n",
    "\n",
    "### Indexing Rows, Columns, and Submatrices\n",
    " To select multiple rows at a time, we can pass in a list\n",
    "  specifying our selection. For instance, `[1,3]` will retrieve the second and fourth rows:"
   ]
  },
  {
   "cell_type": "code",
   "execution_count": null,
   "id": "34d27b73",
   "metadata": {},
   "outputs": [],
   "source": [
    "A[[1,3]]\n"
   ]
  },
  {
   "cell_type": "markdown",
   "id": "97149703",
   "metadata": {},
   "source": [
    "To select the first and third columns, we pass in  `[0,2]` as the second argument in the square brackets.\n",
    "In this case we need to supply the first argument `:` \n",
    "which selects all rows."
   ]
  },
  {
   "cell_type": "code",
   "execution_count": null,
   "id": "1bb799c5",
   "metadata": {},
   "outputs": [],
   "source": [
    "A[:,[0,2]]\n"
   ]
  },
  {
   "cell_type": "markdown",
   "id": "2b9ce4a3",
   "metadata": {},
   "source": [
    "Now, suppose that we want to select the submatrix made up of the second and fourth \n",
    "rows as well as the first and third columns. This is where\n",
    "indexing gets slightly tricky. It is natural to try  to use lists to retrieve the rows and columns:"
   ]
  },
  {
   "cell_type": "code",
   "execution_count": null,
   "id": "de853e7c",
   "metadata": {},
   "outputs": [],
   "source": [
    "A[[1,3],[0,2]]\n"
   ]
  },
  {
   "cell_type": "markdown",
   "id": "dd57a0bf",
   "metadata": {},
   "source": [
    " Oops --- what happened? We got a one-dimensional array of length 2 identical to"
   ]
  },
  {
   "cell_type": "code",
   "execution_count": null,
   "id": "e71bf672",
   "metadata": {},
   "outputs": [],
   "source": [
    "np.array([A[1,0],A[3,2]])\n"
   ]
  },
  {
   "cell_type": "markdown",
   "id": "9cd50d44",
   "metadata": {},
   "source": [
    " Similarly,  the following code fails to extract the submatrix comprised of the second and fourth rows and the first, third, and fourth columns:"
   ]
  },
  {
   "cell_type": "code",
   "execution_count": null,
   "id": "458fe5c9",
   "metadata": {},
   "outputs": [],
   "source": [
    "A[[1,3],[0,2,3]]\n"
   ]
  },
  {
   "cell_type": "markdown",
   "id": "67657309",
   "metadata": {},
   "source": [
    "We can see what has gone wrong here. When supplied with two indexing lists, the `numpy` interpretation is that these provide pairs of $i,j$ indices for a series of entries. That is why the pair of lists must have the same length. However, that was not our intent, since we are looking for a submatrix.\n",
    "\n",
    "One easy way to do this is as follows. We first create a submatrix by subsetting the rows of `A`, and then on the fly we make a further submatrix by subsetting its columns.\n"
   ]
  },
  {
   "cell_type": "code",
   "execution_count": null,
   "id": "703832ac",
   "metadata": {
    "lines_to_next_cell": 0
   },
   "outputs": [],
   "source": [
    "A[[1,3]][:,[0,2]]\n"
   ]
  },
  {
   "cell_type": "markdown",
   "id": "00c8816e",
   "metadata": {},
   "source": [
    "    "
   ]
  },
  {
   "cell_type": "markdown",
   "id": "25c3a988",
   "metadata": {},
   "source": [
    "There are more efficient ways of achieving the same result.\n",
    "\n",
    "The *convenience function* `np.ix_()` allows us  to extract a submatrix\n",
    "using lists, by creating an intermediate *mesh* object."
   ]
  },
  {
   "cell_type": "code",
   "execution_count": null,
   "id": "dbf328b7",
   "metadata": {
    "lines_to_next_cell": 2
   },
   "outputs": [],
   "source": [
    "idx = np.ix_([1,3],[0,2,3])\n",
    "A[idx]\n"
   ]
  },
  {
   "cell_type": "markdown",
   "id": "13f73d32",
   "metadata": {},
   "source": [
    "Alternatively, we can subset matrices efficiently using slices.\n",
    "  \n",
    "The slice\n",
    "`1:4:2` captures the second and fourth items of a sequence, while the slice `0:3:2` captures\n",
    "the first and third items (the third element in a slice sequence is the step size)."
   ]
  },
  {
   "cell_type": "code",
   "execution_count": null,
   "id": "65784eb0",
   "metadata": {
    "lines_to_next_cell": 0
   },
   "outputs": [],
   "source": [
    "A[1:4:2,0:3:2]\n"
   ]
  },
  {
   "cell_type": "markdown",
   "id": "63980dff",
   "metadata": {},
   "source": [
    "    "
   ]
  },
  {
   "cell_type": "markdown",
   "id": "481bc57a",
   "metadata": {},
   "source": [
    "Why are we able to retrieve a submatrix directly using slices but not using lists?\n",
    "Its because they are different `Python` types, and\n",
    "are treated differently by `numpy`.\n",
    "Slices can be used to extract objects from arbitrary sequences, such as strings, lists, and tuples, while the use of lists for indexing is more limited.\n",
    "\n",
    "\n",
    "\n",
    "\n",
    "    \n",
    "\n",
    " \n",
    "\n",
    "    \n",
    "\n",
    " "
   ]
  },
  {
   "cell_type": "markdown",
   "id": "f1c55b8a",
   "metadata": {},
   "source": [
    "### Boolean Indexing\n",
    "In `numpy`, a *Boolean* is a type  that equals either   `True` or  `False` (also represented as $1$ and $0$, respectively).\n",
    "The next line creates a vector of $0$'s, represented as Booleans, of length equal to the first dimension of `A`. "
   ]
  },
  {
   "cell_type": "code",
   "execution_count": null,
   "id": "3ddb0d83",
   "metadata": {
    "lines_to_next_cell": 0
   },
   "outputs": [],
   "source": [
    "keep_rows = np.zeros(A.shape[0], bool)\n",
    "keep_rows"
   ]
  },
  {
   "cell_type": "markdown",
   "id": "f3007c8d",
   "metadata": {},
   "source": [
    "We now set two of the elements to `True`. "
   ]
  },
  {
   "cell_type": "code",
   "execution_count": null,
   "id": "90e72009",
   "metadata": {},
   "outputs": [],
   "source": [
    "keep_rows[[1,3]] = True\n",
    "keep_rows\n"
   ]
  },
  {
   "cell_type": "markdown",
   "id": "932dac22",
   "metadata": {},
   "source": [
    "Note that the elements of `keep_rows`, when viewed as integers, are the same as the\n",
    "values of `np.array([0,1,0,1])`. Below, we use  `==` to verify their equality. When\n",
    "applied to two arrays, the `==`   operation is applied elementwise."
   ]
  },
  {
   "cell_type": "code",
   "execution_count": null,
   "id": "fb3b6534",
   "metadata": {},
   "outputs": [],
   "source": [
    "np.all(keep_rows == np.array([0,1,0,1]))\n"
   ]
  },
  {
   "cell_type": "markdown",
   "id": "a8cb48c0",
   "metadata": {},
   "source": [
    "(Here, the function `np.all()` has checked whether\n",
    "all entries of an array are `True`. A similar function, `np.any()`, can be used to check whether any entries of an array are `True`.)"
   ]
  },
  {
   "cell_type": "markdown",
   "id": "ac824821",
   "metadata": {},
   "source": [
    "   However, even though `np.array([0,1,0,1])`  and `keep_rows` are equal according to `==`, they index different sets of rows!\n",
    "The former retrieves the first, second, first, and second rows of `A`. "
   ]
  },
  {
   "cell_type": "code",
   "execution_count": null,
   "id": "b146db22",
   "metadata": {},
   "outputs": [],
   "source": [
    "A[np.array([0,1,0,1])]\n"
   ]
  },
  {
   "cell_type": "markdown",
   "id": "c0b18644",
   "metadata": {},
   "source": [
    " By contrast, `keep_rows` retrieves only the second and fourth rows  of `A` --- i.e. the rows for which the Boolean equals `TRUE`. "
   ]
  },
  {
   "cell_type": "code",
   "execution_count": null,
   "id": "6bf7b4a3",
   "metadata": {},
   "outputs": [],
   "source": [
    "A[keep_rows]\n"
   ]
  },
  {
   "cell_type": "markdown",
   "id": "80686b74",
   "metadata": {},
   "source": [
    "This example shows that Booleans and integers are treated differently by `numpy`."
   ]
  },
  {
   "cell_type": "markdown",
   "id": "d7905166",
   "metadata": {},
   "source": [
    "We again make use of the `np.ix_()` function\n",
    " to create a mesh containing the second and fourth rows, and the first,  third, and fourth columns. This time, we apply the function to Booleans,\n",
    " rather than lists."
   ]
  },
  {
   "cell_type": "code",
   "execution_count": null,
   "id": "288011d9",
   "metadata": {},
   "outputs": [],
   "source": [
    "keep_cols = np.zeros(A.shape[1], bool)\n",
    "keep_cols[[0, 2, 3]] = True\n",
    "idx_bool = np.ix_(keep_rows, keep_cols)\n",
    "A[idx_bool]\n"
   ]
  },
  {
   "cell_type": "markdown",
   "id": "37900313",
   "metadata": {},
   "source": [
    "We can also mix a list with an array of Booleans in the arguments to `np.ix_()`:"
   ]
  },
  {
   "cell_type": "code",
   "execution_count": null,
   "id": "3e3b1954",
   "metadata": {
    "lines_to_next_cell": 0
   },
   "outputs": [],
   "source": [
    "idx_mixed = np.ix_([1,3], keep_cols)\n",
    "A[idx_mixed]\n"
   ]
  },
  {
   "cell_type": "markdown",
   "id": "0c679e7b",
   "metadata": {},
   "source": [
    "    "
   ]
  },
  {
   "cell_type": "markdown",
   "id": "2f4d70f3",
   "metadata": {},
   "source": [
    "For more details on indexing in `numpy`, readers are referred\n",
    "to the `numpy` tutorial mentioned earlier.\n"
   ]
  },
  {
   "cell_type": "markdown",
   "id": "3c59c8fb",
   "metadata": {},
   "source": [
    "## Loading Data\n",
    "\n",
    "Data sets often contain different types of data, and may have names associated with the rows or columns. \n",
    "For these reasons, they typically are best accommodated using a\n",
    " *data frame*. \n",
    " We can think of a data frame  as a sequence\n",
    "of arrays of identical length; these are the columns. Entries in the\n",
    "different arrays can be combined to form a row.\n",
    " The `pandas`\n",
    "library can be used to create and work with data frame objects."
   ]
  },
  {
   "cell_type": "markdown",
   "id": "95297c29",
   "metadata": {},
   "source": [
    "### Reading in a Data Set\n",
    "\n",
    "The first step of most analyses involves importing a data set into\n",
    "`Python`.  \n",
    " Before attempting to load\n",
    "a data set, we must make sure that `Python` knows where to find the file containing it. \n",
    "If the\n",
    "file is in the same location\n",
    "as this notebook file, then we are all set. \n",
    "Otherwise, \n",
    "the command\n",
    "`os.chdir()`  can be used to *change directory*. (You will need to call `import os` before calling `os.chdir()`.) "
   ]
  },
  {
   "cell_type": "markdown",
   "id": "42760180",
   "metadata": {},
   "source": [
    "We will begin by reading in `Auto.csv`, available on the book website. This is a comma-separated file, and can be read in using `pd.read_csv()`: "
   ]
  },
  {
   "cell_type": "code",
   "execution_count": null,
   "id": "d02bfb28",
   "metadata": {},
   "outputs": [],
   "source": [
    "import pandas as pd\n",
    "Auto = pd.read_csv('Auto.csv')\n",
    "Auto\n"
   ]
  },
  {
   "cell_type": "markdown",
   "id": "5acc3596",
   "metadata": {},
   "source": [
    "The book website also has a whitespace-delimited version of this data, called `Auto.data`. This can be read in as follows:"
   ]
  },
  {
   "cell_type": "code",
   "execution_count": null,
   "id": "ca6090af",
   "metadata": {
    "lines_to_next_cell": 0
   },
   "outputs": [],
   "source": [
    "Auto = pd.read_csv('Auto.data', delim_whitespace=True)\n"
   ]
  },
  {
   "cell_type": "markdown",
   "id": "350f1f42",
   "metadata": {},
   "source": [
    " Both `Auto.csv` and `Auto.data` are simply text\n",
    "files. Before loading data into `Python`, it is a good idea to view it using\n",
    "a text editor or other software, such as Microsoft Excel.\n",
    "\n"
   ]
  },
  {
   "cell_type": "markdown",
   "id": "1cae3ad2",
   "metadata": {},
   "source": [
    "We now take a look at the column of `Auto` corresponding to the variable `horsepower`: "
   ]
  },
  {
   "cell_type": "code",
   "execution_count": null,
   "id": "7220aa87",
   "metadata": {
    "lines_to_next_cell": 0
   },
   "outputs": [],
   "source": [
    "Auto['horsepower']\n"
   ]
  },
  {
   "cell_type": "markdown",
   "id": "c0adabf1",
   "metadata": {},
   "source": [
    "We see that the `dtype` of this column is `object`. \n",
    "It turns out that all values of the `horsepower` column were interpreted as strings when reading\n",
    "in the data. \n",
    "We can find out why by looking at the unique values."
   ]
  },
  {
   "cell_type": "code",
   "execution_count": null,
   "id": "ca1939f0",
   "metadata": {
    "lines_to_next_cell": 0
   },
   "outputs": [],
   "source": [
    "np.unique(Auto['horsepower'])\n"
   ]
  },
  {
   "cell_type": "markdown",
   "id": "c35e48dc",
   "metadata": {},
   "source": [
    "We see the culprit is the value `?`, which is being used to encode missing values.\n",
    "\n"
   ]
  },
  {
   "cell_type": "markdown",
   "id": "ccf8e5de",
   "metadata": {},
   "source": [
    "To fix the problem, we must provide `pd.read_csv()` with an argument called `na_values`.\n",
    "Now,  each instance of  `?` in the file is replaced with the\n",
    "value `np.nan`, which means *not a number*:"
   ]
  },
  {
   "cell_type": "code",
   "execution_count": null,
   "id": "cfb084e7",
   "metadata": {
    "lines_to_next_cell": 2
   },
   "outputs": [],
   "source": [
    "Auto = pd.read_csv('Auto.data',\n",
    "                   na_values=['?'],\n",
    "                   delim_whitespace=True)\n",
    "Auto['horsepower'].sum()\n"
   ]
  },
  {
   "cell_type": "markdown",
   "id": "2e8e504f",
   "metadata": {},
   "source": [
    "The `Auto.shape`  attribute tells us that the data has 397\n",
    "observations, or rows, and nine variables, or columns."
   ]
  },
  {
   "cell_type": "code",
   "execution_count": null,
   "id": "2e02b6a5",
   "metadata": {},
   "outputs": [],
   "source": [
    "Auto.shape\n"
   ]
  },
  {
   "cell_type": "markdown",
   "id": "df109192",
   "metadata": {},
   "source": [
    "There are\n",
    "various ways to deal with  missing data. \n",
    "In this case, since only five of the rows contain missing\n",
    "observations,  we choose to use the `Auto.dropna()` method to simply remove these rows."
   ]
  },
  {
   "cell_type": "code",
   "execution_count": null,
   "id": "d391f8d0",
   "metadata": {
    "lines_to_next_cell": 2
   },
   "outputs": [],
   "source": [
    "Auto_new = Auto.dropna()\n",
    "Auto_new.shape\n"
   ]
  },
  {
   "cell_type": "markdown",
   "id": "e1ddfb53",
   "metadata": {},
   "source": [
    "### Basics of Selecting Rows and Columns\n",
    " \n",
    "We can use `Auto.columns`  to check the variable names."
   ]
  },
  {
   "cell_type": "code",
   "execution_count": null,
   "id": "a222ca60",
   "metadata": {
    "lines_to_next_cell": 2
   },
   "outputs": [],
   "source": [
    "Auto = Auto_new # overwrite the previous value\n",
    "Auto.columns\n"
   ]
  },
  {
   "cell_type": "markdown",
   "id": "be6f2daf",
   "metadata": {},
   "source": [
    "Accessing the rows and columns of a data frame is similar, but not identical, to accessing the rows and columns of an array. \n",
    "Recall that the first argument to the `[]` method\n",
    "is always applied to the rows of the array.  \n",
    "Similarly, \n",
    "passing in a slice to the `[]` method creates a data frame whose *rows* are determined by the slice:"
   ]
  },
  {
   "cell_type": "code",
   "execution_count": null,
   "id": "a75921ac",
   "metadata": {
    "lines_to_next_cell": 0
   },
   "outputs": [],
   "source": [
    "Auto[:3]\n"
   ]
  },
  {
   "cell_type": "markdown",
   "id": "17c02ad7",
   "metadata": {},
   "source": [
    "Similarly, an array of Booleans can be used to subset the rows:"
   ]
  },
  {
   "cell_type": "code",
   "execution_count": null,
   "id": "7469ff2b",
   "metadata": {
    "lines_to_next_cell": 0
   },
   "outputs": [],
   "source": [
    "idx_80 = Auto['year'] > 80\n",
    "Auto[idx_80]\n"
   ]
  },
  {
   "cell_type": "markdown",
   "id": "27eb1780",
   "metadata": {},
   "source": [
    "However, if we pass  in a list of strings to the `[]` method, then we obtain a data frame containing the corresponding set of *columns*. "
   ]
  },
  {
   "cell_type": "code",
   "execution_count": null,
   "id": "ac455404",
   "metadata": {
    "lines_to_next_cell": 0
   },
   "outputs": [],
   "source": [
    "Auto[['mpg', 'horsepower']]\n"
   ]
  },
  {
   "cell_type": "markdown",
   "id": "1629d302",
   "metadata": {},
   "source": [
    "Since we did not specify an *index* column when we loaded our data frame, the rows are labeled using integers\n",
    "0 to 396."
   ]
  },
  {
   "cell_type": "code",
   "execution_count": null,
   "id": "f41235d4",
   "metadata": {
    "lines_to_next_cell": 0
   },
   "outputs": [],
   "source": [
    "Auto.index\n"
   ]
  },
  {
   "cell_type": "markdown",
   "id": "79d3cebb",
   "metadata": {},
   "source": [
    "We can use the\n",
    "`set_index()` method to re-name the rows using the contents of `Auto['name']`. "
   ]
  },
  {
   "cell_type": "code",
   "execution_count": null,
   "id": "31caba24",
   "metadata": {},
   "outputs": [],
   "source": [
    "Auto_re = Auto.set_index('name')\n",
    "Auto_re\n"
   ]
  },
  {
   "cell_type": "code",
   "execution_count": null,
   "id": "594bedfa",
   "metadata": {
    "lines_to_next_cell": 0
   },
   "outputs": [],
   "source": [
    "Auto_re.columns\n"
   ]
  },
  {
   "cell_type": "markdown",
   "id": "184977f2",
   "metadata": {},
   "source": [
    "We see that the column `'name'` is no longer there.\n",
    " \n",
    "Now that the index has been set to `name`, we can  access rows of the data \n",
    "frame by `name` using the `{loc[]`} method of\n",
    "`Auto`:"
   ]
  },
  {
   "cell_type": "code",
   "execution_count": null,
   "id": "9a59b083",
   "metadata": {
    "lines_to_next_cell": 0
   },
   "outputs": [],
   "source": [
    "rows = ['amc rebel sst', 'ford torino']\n",
    "Auto_re.loc[rows]\n"
   ]
  },
  {
   "cell_type": "markdown",
   "id": "066af73b",
   "metadata": {},
   "source": [
    "As an alternative to using the index name, we could retrieve the 4th and 5th rows of `Auto` using the `{iloc[]`} method:"
   ]
  },
  {
   "cell_type": "code",
   "execution_count": null,
   "id": "54457a11",
   "metadata": {
    "lines_to_next_cell": 0
   },
   "outputs": [],
   "source": [
    "Auto_re.iloc[[3,4]]\n"
   ]
  },
  {
   "cell_type": "markdown",
   "id": "069ca71e",
   "metadata": {},
   "source": [
    "We can also use it to retrieve the 1st, 3rd and and 4th columns of `Auto_re`:"
   ]
  },
  {
   "cell_type": "code",
   "execution_count": null,
   "id": "8a4f3faf",
   "metadata": {
    "lines_to_next_cell": 0
   },
   "outputs": [],
   "source": [
    "Auto_re.iloc[:,[0,2,3]]\n"
   ]
  },
  {
   "cell_type": "markdown",
   "id": "c6f4f9a2",
   "metadata": {},
   "source": [
    "We can extract the 4th and 5th rows, as well as the 1st, 3rd and 4th columns, using\n",
    "a single call to `iloc[]`:"
   ]
  },
  {
   "cell_type": "code",
   "execution_count": null,
   "id": "8f1e6e56",
   "metadata": {
    "lines_to_next_cell": 0
   },
   "outputs": [],
   "source": [
    "Auto_re.iloc[[3,4],[0,2,3]]\n"
   ]
  },
  {
   "cell_type": "markdown",
   "id": "6e4b778c",
   "metadata": {},
   "source": [
    "Index entries need not be unique: there are several cars  in the data frame named `ford galaxie 500`."
   ]
  },
  {
   "cell_type": "code",
   "execution_count": null,
   "id": "f1d0e795",
   "metadata": {
    "lines_to_next_cell": 0
   },
   "outputs": [],
   "source": [
    "Auto_re.loc['ford galaxie 500', ['mpg', 'origin']]\n"
   ]
  },
  {
   "cell_type": "markdown",
   "id": "b10eabb7",
   "metadata": {},
   "source": [
    "### More on Selecting Rows and Columns\n",
    "Suppose now that we want to create a data frame consisting of the  `weight` and `origin`  of the subset of cars with \n",
    "`year` greater than 80 --- i.e. those built after 1980.\n",
    "To do this, we first create a Boolean array that indexes the rows.\n",
    "The `loc[]` method allows for Boolean entries as well as strings:"
   ]
  },
  {
   "cell_type": "code",
   "execution_count": null,
   "id": "392f10a1",
   "metadata": {
    "lines_to_next_cell": 2
   },
   "outputs": [],
   "source": [
    "idx_80 = Auto_re['year'] > 80\n",
    "Auto_re.loc[idx_80, ['weight', 'origin']]\n"
   ]
  },
  {
   "cell_type": "markdown",
   "id": "d3f85975",
   "metadata": {},
   "source": [
    "To do this more concisely, we can use an anonymous function called a `lambda`: "
   ]
  },
  {
   "cell_type": "code",
   "execution_count": null,
   "id": "5f5b7906",
   "metadata": {
    "lines_to_next_cell": 0
   },
   "outputs": [],
   "source": [
    "Auto_re.loc[lambda df: df['year'] > 80, ['weight', 'origin']]\n"
   ]
  },
  {
   "cell_type": "markdown",
   "id": "cc67849e",
   "metadata": {},
   "source": [
    "The `lambda` call creates a function that takes a single\n",
    "argument, here `df`, and returns `df['year']>80`.\n",
    "Since it is created inside the `loc[]` method for the\n",
    "dataframe `Auto_re`, that dataframe will be the argument supplied.\n",
    "As another example of using a `lambda`, suppose that\n",
    "we want all cars built after 1980 that achieve greater than 30 miles per gallon:"
   ]
  },
  {
   "cell_type": "code",
   "execution_count": null,
   "id": "b13c5728",
   "metadata": {
    "lines_to_next_cell": 0
   },
   "outputs": [],
   "source": [
    "Auto_re.loc[lambda df: (df['year'] > 80) & (df['mpg'] > 30),\n",
    "            ['weight', 'origin']\n",
    "           ]\n"
   ]
  },
  {
   "cell_type": "markdown",
   "id": "7885bba9",
   "metadata": {},
   "source": [
    "The symbol `&` computes an element-wise *and* operation.\n",
    "As another example, suppose that we want to retrieve all `Ford` and `Datsun`\n",
    "cars with `displacement` less than 300. We check whether each `name` entry contains either the string `ford` or `datsun` using the  `str.contains()` method of the `index` attribute of \n",
    "of the dataframe:"
   ]
  },
  {
   "cell_type": "code",
   "execution_count": null,
   "id": "d5a2c3be",
   "metadata": {
    "lines_to_next_cell": 0
   },
   "outputs": [],
   "source": [
    "Auto_re.loc[lambda df: (df['displacement'] < 300)\n",
    "                       & (df.index.str.contains('ford')\n",
    "                       | df.index.str.contains('datsun')),\n",
    "            ['weight', 'origin']\n",
    "           ]\n"
   ]
  },
  {
   "cell_type": "markdown",
   "id": "8a7a6c62",
   "metadata": {},
   "source": [
    "Here, the symbol `|` computes an element-wise *or* operation.\n",
    " \n",
    "In summary, a powerful set of operations is available to index the rows and columns of data frames. For integer based queries, use the `iloc[]` method. For string and Boolean\n",
    "selections, use the `loc[]` method. For functional queries that filter rows, use the `loc[]` method\n",
    "with a function (typically a `lambda`) in the rows argument.\n",
    "\n",
    "## For Loops\n",
    "A `for` loop is a standard tool in many languages that\n",
    "repeatedly evaluates some chunk of code while\n",
    "varying different values inside the code.\n",
    "For example, suppose we loop over elements of a list and compute their sum."
   ]
  },
  {
   "cell_type": "code",
   "execution_count": null,
   "id": "a6278441",
   "metadata": {
    "lines_to_next_cell": 0
   },
   "outputs": [],
   "source": [
    "total = 0\n",
    "for value in [3,2,19]:\n",
    "    total += value\n",
    "print('Total is: {0}'.format(total))\n"
   ]
  },
  {
   "cell_type": "markdown",
   "id": "92948288",
   "metadata": {},
   "source": [
    "The indented code beneath the line with the `for` statement is run\n",
    "for each value in the sequence\n",
    "specified in the `for` statement. The loop ends either\n",
    "when the cell ends or when code is indented at the same level\n",
    "as the original `for` statement.\n",
    "We see that the final line above which prints the total is executed\n",
    "only once after the for loop has terminated. Loops\n",
    "can be nested by additional indentation."
   ]
  },
  {
   "cell_type": "code",
   "execution_count": null,
   "id": "2aa065a8",
   "metadata": {
    "lines_to_next_cell": 0
   },
   "outputs": [],
   "source": [
    "total = 0\n",
    "for value in [2,3,19]:\n",
    "    for weight in [3, 2, 1]:\n",
    "        total += value * weight\n",
    "print('Total is: {0}'.format(total))"
   ]
  },
  {
   "cell_type": "markdown",
   "id": "aaeb60c5",
   "metadata": {},
   "source": [
    "Above, we summed over each combination of `value` and `weight`.\n",
    "We also took advantage of the *increment* notation\n",
    "in `Python`: the expression `a += b` is equivalent\n",
    "to `a = a + b`. Besides\n",
    "being a convenient notation, this can save time in computationally\n",
    "heavy tasks in which the intermediate value of `a+b` need not\n",
    "be explicitly created.\n",
    "\n",
    "Perhaps a more\n",
    "common task would be to sum over `(value, weight)` pairs. For instance,\n",
    "to compute the average value of a random variable that takes on\n",
    "possible values 2, 3 or 19 with probability 0.2, 0.3, 0.5 respectively\n",
    "we would compute the weighted sum. Tasks such as this\n",
    "can often be accomplished using the `zip()`  function that\n",
    "loops over a sequence of tuples."
   ]
  },
  {
   "cell_type": "code",
   "execution_count": null,
   "id": "832c1b7d",
   "metadata": {},
   "outputs": [],
   "source": [
    "total = 0\n",
    "for value, weight in zip([2,3,19],\n",
    "                         [0.2,0.3,0.5]):\n",
    "    total += weight * value\n",
    "print('Weighted average is: {0}'.format(total))\n"
   ]
  },
  {
   "cell_type": "markdown",
   "id": "ac163d59",
   "metadata": {},
   "source": [
    "### String Formatting\n",
    "In the code chunk above we also printed a string\n",
    "displaying the total. However, the object `total`\n",
    "is an  integer and not a string.\n",
    "Inserting the value of something into\n",
    "a string is a common task, made\n",
    "simple using\n",
    "some of the powerful string formatting\n",
    "tools in `Python`.\n",
    "Many data cleaning tasks involve\n",
    "manipulating and programmatically\n",
    "producing strings.\n",
    "\n",
    "For example we may want to loop over the columns of a data frame and\n",
    "print the percent missing in each column.\n",
    "Let’s create a data frame `D` with columns in which 20% of the entries are missing i.e. set\n",
    "to `np.nan`.  We’ll create the\n",
    "values in `D` from a normal distribution with mean 0 and variance 1 using `rng.standard_normal()`\n",
    "and then overwrite some random entries using `rng.choice()`."
   ]
  },
  {
   "cell_type": "code",
   "execution_count": null,
   "id": "2ca2e7cd",
   "metadata": {
    "lines_to_next_cell": 2
   },
   "outputs": [],
   "source": [
    "rng = np.random.default_rng(1)\n",
    "A = rng.standard_normal((127, 5))\n",
    "M = rng.choice([0, np.nan], p=[0.8,0.2], size=A.shape)\n",
    "A += M\n",
    "D = pd.DataFrame(A, columns=['food',\n",
    "                             'bar',\n",
    "                             'pickle',\n",
    "                             'snack',\n",
    "                             'popcorn'])\n",
    "D[:3]\n"
   ]
  },
  {
   "cell_type": "code",
   "execution_count": null,
   "id": "d8ae1dcc",
   "metadata": {
    "lines_to_next_cell": 0
   },
   "outputs": [],
   "source": [
    "for col in D.columns:\n",
    "    template = 'Column \"{0}\" has {1:.2%} missing values'\n",
    "    print(template.format(col,\n",
    "          np.isnan(D[col]).mean()))\n"
   ]
  },
  {
   "cell_type": "markdown",
   "id": "e4687a4a",
   "metadata": {},
   "source": [
    "We see that the `template.format()` method expects two arguments `{0}`\n",
    "and `{1:.2%}`, and the latter includes some formatting\n",
    "information. In particular, it specifies that the second argument should be expressed as a percent with two decimal digits.\n",
    "\n",
    "The reference\n",
    "[docs.python.org/3/library/string.html](https://docs.python.org/3/library/string.html)\n",
    "includes many helpful and more complex examples."
   ]
  },
  {
   "cell_type": "markdown",
   "id": "22226024",
   "metadata": {},
   "source": [
    "## Additional Graphical and Numerical Summaries\n",
    "We can use the `ax.plot()` or  `ax.scatter()`  functions to display the quantitative variables. However, simply typing the variable names will produce an error message,\n",
    "because `Python` does not know to look in the  `Auto`  data set for those variables."
   ]
  },
  {
   "cell_type": "code",
   "execution_count": null,
   "id": "30a8a663",
   "metadata": {
    "lines_to_next_cell": 0
   },
   "outputs": [],
   "source": [
    "fig, ax = subplots(figsize=(8, 8))\n",
    "ax.plot(horsepower, mpg, 'o');"
   ]
  },
  {
   "cell_type": "markdown",
   "id": "f09f4e10",
   "metadata": {},
   "source": [
    "We can address this by accessing the columns directly:"
   ]
  },
  {
   "cell_type": "code",
   "execution_count": null,
   "id": "81fdedb1",
   "metadata": {
    "lines_to_next_cell": 0
   },
   "outputs": [],
   "source": [
    "fig, ax = subplots(figsize=(8, 8))\n",
    "ax.plot(Auto['horsepower'], Auto['mpg'], 'o');\n"
   ]
  },
  {
   "cell_type": "markdown",
   "id": "a64455fa",
   "metadata": {},
   "source": [
    "Alternatively, we can use the `plot()` method with the call `Auto.plot()`.\n",
    "Using this method,\n",
    "the variables  can be accessed by name.\n",
    "The plot methods of a data frame return a familiar object:\n",
    "an axes. We can use it to update the plot as we did previously: "
   ]
  },
  {
   "cell_type": "code",
   "execution_count": null,
   "id": "61850515",
   "metadata": {
    "lines_to_next_cell": 0
   },
   "outputs": [],
   "source": [
    "ax = Auto.plot.scatter('horsepower', 'mpg');\n",
    "ax.set_title('Horsepower vs. MPG')"
   ]
  },
  {
   "cell_type": "markdown",
   "id": "7c73790f",
   "metadata": {},
   "source": [
    "If we want to save\n",
    "the figure that contains a given axes, we can find the relevant figure\n",
    "by accessing the `figure` attribute:"
   ]
  },
  {
   "cell_type": "code",
   "execution_count": null,
   "id": "f2e0c165",
   "metadata": {},
   "outputs": [],
   "source": [
    "fig = ax.figure\n",
    "fig.savefig('horsepower_mpg.png');"
   ]
  },
  {
   "cell_type": "markdown",
   "id": "2378a5bb",
   "metadata": {},
   "source": [
    "We can further instruct the data frame to plot to a particular axes object. In this\n",
    "case the corresponding `plot()` method will return the\n",
    "modified axes we passed in as an argument. Note that\n",
    "when we request a one-dimensional grid of plots, the object `axes` is similarly\n",
    "one-dimensional. We place our scatter plot in the middle plot of a row of three plots\n",
    "within a figure."
   ]
  },
  {
   "cell_type": "code",
   "execution_count": null,
   "id": "35c72e77",
   "metadata": {},
   "outputs": [],
   "source": [
    "fig, axes = subplots(ncols=3, figsize=(15, 5))\n",
    "Auto.plot.scatter('horsepower', 'mpg', ax=axes[1]);\n"
   ]
  },
  {
   "cell_type": "markdown",
   "id": "95b0f3de",
   "metadata": {},
   "source": [
    "Note also that the columns of a data frame can be accessed as attributes: try typing in `Auto.horsepower`. "
   ]
  },
  {
   "cell_type": "markdown",
   "id": "5c6c4fa2",
   "metadata": {},
   "source": [
    "We now consider the `cylinders` variable. Typing in `Auto.cylinders.dtype` reveals that it is being treated as a quantitative variable. \n",
    "However, since there is only a small number of possible values for this variable, we may wish to treat it as \n",
    " qualitative.  Below, we replace\n",
    "the `cylinders` column with a categorical version of `Auto.cylinders`. The function `pd.Series()`  owes its name to the fact that `pandas` is often used in time series applications."
   ]
  },
  {
   "cell_type": "code",
   "execution_count": null,
   "id": "2b6fb1ad",
   "metadata": {
    "lines_to_next_cell": 0
   },
   "outputs": [],
   "source": [
    "Auto.cylinders = pd.Series(Auto.cylinders, dtype='category')\n",
    "Auto.cylinders.dtype\n"
   ]
  },
  {
   "cell_type": "markdown",
   "id": "2038c16d",
   "metadata": {},
   "source": [
    " Now that `cylinders` is qualitative, we can display it using\n",
    " the `boxplot()` method."
   ]
  },
  {
   "cell_type": "code",
   "execution_count": null,
   "id": "1f19f48c",
   "metadata": {},
   "outputs": [],
   "source": [
    "fig, ax = subplots(figsize=(8, 8))\n",
    "Auto.boxplot('mpg', by='cylinders', ax=ax);\n"
   ]
  },
  {
   "cell_type": "markdown",
   "id": "4ae72e1b",
   "metadata": {},
   "source": [
    "The `hist()`  method can be used to plot a *histogram*."
   ]
  },
  {
   "cell_type": "code",
   "execution_count": null,
   "id": "929b6901",
   "metadata": {
    "lines_to_next_cell": 0
   },
   "outputs": [],
   "source": [
    "fig, ax = subplots(figsize=(8, 8))\n",
    "Auto.hist('mpg', ax=ax);\n"
   ]
  },
  {
   "cell_type": "markdown",
   "id": "db7f6e7c",
   "metadata": {},
   "source": [
    "The color of the bars and the number of bins can be changed:"
   ]
  },
  {
   "cell_type": "code",
   "execution_count": null,
   "id": "8d48f1e9",
   "metadata": {
    "lines_to_next_cell": 0
   },
   "outputs": [],
   "source": [
    "fig, ax = subplots(figsize=(8, 8))\n",
    "Auto.hist('mpg', color='red', bins=12, ax=ax);\n"
   ]
  },
  {
   "cell_type": "markdown",
   "id": "0e53b8b6",
   "metadata": {},
   "source": [
    " See `Auto.hist?` for more plotting\n",
    "options.\n",
    " \n",
    "We can use the `pd.plotting.scatter_matrix()`   function to create a *scatterplot matrix* to visualize all of the pairwise relationships between the columns in\n",
    "a data frame."
   ]
  },
  {
   "cell_type": "code",
   "execution_count": null,
   "id": "400690e6",
   "metadata": {
    "lines_to_next_cell": 0
   },
   "outputs": [],
   "source": [
    "pd.plotting.scatter_matrix(Auto);\n"
   ]
  },
  {
   "cell_type": "markdown",
   "id": "48a9a4f5",
   "metadata": {},
   "source": [
    " We can also produce scatterplots\n",
    "for a subset of the variables."
   ]
  },
  {
   "cell_type": "code",
   "execution_count": null,
   "id": "6bbeca8b",
   "metadata": {
    "lines_to_next_cell": 0
   },
   "outputs": [],
   "source": [
    "pd.plotting.scatter_matrix(Auto[['mpg',\n",
    "                                 'displacement',\n",
    "                                 'weight']]);\n"
   ]
  },
  {
   "cell_type": "markdown",
   "id": "d3bb4736",
   "metadata": {},
   "source": [
    "The `describe()`  method produces a numerical summary of each column in a data frame."
   ]
  },
  {
   "cell_type": "code",
   "execution_count": null,
   "id": "1727f604",
   "metadata": {
    "lines_to_next_cell": 0
   },
   "outputs": [],
   "source": [
    "Auto[['mpg', 'weight']].describe()\n"
   ]
  },
  {
   "cell_type": "markdown",
   "id": "1b508635",
   "metadata": {},
   "source": [
    "We can also produce a summary of just a single column."
   ]
  },
  {
   "cell_type": "code",
   "execution_count": null,
   "id": "39bf4091",
   "metadata": {
    "lines_to_next_cell": 0
   },
   "outputs": [],
   "source": [
    "Auto['cylinders'].describe()\n",
    "Auto['mpg'].describe()\n"
   ]
  },
  {
   "cell_type": "markdown",
   "id": "22ecf5c3",
   "metadata": {},
   "source": [
    "To exit `Jupyter`,  select `File / Close and Halt`.\n",
    "\n",
    "\n",
    "\n"
   ]
  }
 ],
 "metadata": {
  "jupytext": {
   "cell_metadata_filter": "-all",
   "main_language": "python",
   "notebook_metadata_filter": "-all"
  }
 },
 "nbformat": 4,
 "nbformat_minor": 5
}
